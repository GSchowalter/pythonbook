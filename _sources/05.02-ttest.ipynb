{
 "cells": [
  {
   "attachments": {},
   "cell_type": "markdown",
   "id": "thousand-temperature",
   "metadata": {},
   "source": [
    "(ttest)=\n",
    "# Comparing Two Means"
   ]
  },
  {
   "attachments": {},
   "cell_type": "markdown",
   "id": "distant-trunk",
   "metadata": {},
   "source": [
    "\n",
    "In the previous chapter we covered the situation when your outcome variable is nominal scale and your predictor variable[^note1] is also nominal scale. Lots of real world situations have that character, and so you'll find that chi-square tests in particular are quite widely used. However, you're much more likely to find yourself in a situation where your outcome variable is interval scale or higher, and what you're interested in is whether the average value of the outcome variable is higher in one group or another. For instance, a psychologist might want to know if anxiety levels are higher among parents than non-parents, or if working memory capacity is reduced by listening to music (relative to not listening to music). In a medical context, we might want to know if a new drug increases or decreases blood pressure. An agricultural scientist might want to know whether adding phosphorus to Australian native plants will kill them.[^note2] In all these situations, our outcome variable is a fairly continuous, interval or ratio scale variable; and our predictor is a binary \"grouping\" variable. In other words, we want to compare the means of the two groups. \n",
    "\n",
    "The standard answer to the problem of comparing means is to use a $t$-test, of which there are several varieties depending on exactly what question you want to solve. As a consequence, the majority of this chapter focuses on different types of $t$-test: [one sample $t$-tests](onesamplettest), [student's](studentttest) and [welch's](welchttest), and [paired samples $t$-tests](pairedsamplesttest). After that, we'll talk a bit about [Cohen's $d$](cohensd), which is the standard measure of effect size for a $t$-test. The later sections of the chapter focus on the assumptions of the $t$-tests, and possible remedies if they are violated. However, before discussing any of these useful things, we'll start with a discussion of the $z$-test. \n",
    "\n"
   ]
  },
  {
   "attachments": {},
   "cell_type": "markdown",
   "id": "subjective-damages",
   "metadata": {},
   "source": [
    "## The one-sample $z$-test\n",
    "\n",
    "In this section I'll describe one of the most useless tests in all of statistics: the **_$z$-test_**. Seriously -- this test is almost never used in real life. Its only real purpose is that, when teaching statistics, it's a very convenient stepping stone along the way towards the $t$-test, which is probably the most (over)used tool in all statistics.\n",
    "\n",
    "### The inference problem that the test addresses\n",
    "\n",
    "To introduce the idea behind the $z$-test, let's use a simple example. A friend of mine, Dr Zeppo, grades his introductory statistics class on a curve. Let's suppose that the average grade in his class is 67.5, and the standard deviation is 9.5. Of his many hundreds of students, it turns out that 20 of them also take psychology classes. Out of curiosity, I find myself wondering: do the psychology students tend to get the same grades as everyone else (i.e., mean 67.5) or do they tend to score higher or lower? He emails me the `zeppo.csv` file, which I use to pull up the `grades` of those students, "
   ]
  },
  {
   "cell_type": "code",
   "execution_count": 2,
   "id": "widespread-crisis",
   "metadata": {},
   "outputs": [
    {
     "data": {
      "text/html": [
       "<div>\n",
       "<style scoped>\n",
       "    .dataframe tbody tr th:only-of-type {\n",
       "        vertical-align: middle;\n",
       "    }\n",
       "\n",
       "    .dataframe tbody tr th {\n",
       "        vertical-align: top;\n",
       "    }\n",
       "\n",
       "    .dataframe thead th {\n",
       "        text-align: right;\n",
       "    }\n",
       "</style>\n",
       "<table border=\"1\" class=\"dataframe\">\n",
       "  <thead>\n",
       "    <tr style=\"text-align: right;\">\n",
       "      <th></th>\n",
       "      <th>grades</th>\n",
       "    </tr>\n",
       "  </thead>\n",
       "  <tbody>\n",
       "    <tr>\n",
       "      <th>0</th>\n",
       "      <td>50</td>\n",
       "    </tr>\n",
       "    <tr>\n",
       "      <th>1</th>\n",
       "      <td>60</td>\n",
       "    </tr>\n",
       "    <tr>\n",
       "      <th>2</th>\n",
       "      <td>60</td>\n",
       "    </tr>\n",
       "    <tr>\n",
       "      <th>3</th>\n",
       "      <td>64</td>\n",
       "    </tr>\n",
       "    <tr>\n",
       "      <th>4</th>\n",
       "      <td>66</td>\n",
       "    </tr>\n",
       "  </tbody>\n",
       "</table>\n",
       "</div>"
      ],
      "text/plain": [
       "   grades\n",
       "0      50\n",
       "1      60\n",
       "2      60\n",
       "3      64\n",
       "4      66"
      ]
     },
     "execution_count": 2,
     "metadata": {},
     "output_type": "execute_result"
    }
   ],
   "source": [
    "import pandas as pd\n",
    "df = pd.read_csv(\"https://raw.githubusercontent.com/ethanweed/pythonbook/main/Data/zeppo.csv\")\n",
    "df.head()"
   ]
  },
  {
   "attachments": {},
   "cell_type": "markdown",
   "id": "indonesian-entrance",
   "metadata": {},
   "source": [
    "and calculate the mean:"
   ]
  },
  {
   "cell_type": "code",
   "execution_count": 3,
   "id": "0a014792",
   "metadata": {},
   "outputs": [
    {
     "data": {
      "text/plain": [
       "72.3"
      ]
     },
     "execution_count": 3,
     "metadata": {},
     "output_type": "execute_result"
    }
   ],
   "source": [
    "df['grades'].mean()"
   ]
  },
  {
   "attachments": {},
   "cell_type": "markdown",
   "id": "43557fb9",
   "metadata": {},
   "source": [
    "Hm. It *might* be that the psychology students are scoring a bit higher than normal: that sample mean of $\\bar{X} = 72.3$ is a fair bit higher than the hypothesised population mean of $\\mu = 67.5$, but on the other hand, a sample size of $N = 20$ isn't all that big. Maybe it's pure chance. \n",
    "\n",
    "To answer the question, it helps to be able to write down what it is that I think I know. Firstly, I know that the sample mean is $\\bar{X} = 72.3$. If I'm willing to assume that the psychology students have the same standard deviation as the rest of the class, then I can say that the population standard deviation is $\\sigma = 9.5$. I'll also assume that since Dr Zeppo is grading to a curve, the psychology student grades are normally distributed. \n",
    "\n",
    "Next, it helps to be clear about what I want to learn from the data. In this case, my research hypothesis relates to the *population* mean $\\mu$ for the psychology student grades, which is unknown. Specifically, I want to know if $\\mu = 67.5$ or not. Given that this is what I know, can we devise a hypothesis test to solve our problem? The data, along with the hypothesised distribution from which they are thought to arise, are shown in {numref}`fig-zeppo`. Not entirely obvious what the right answer is, is it? For this, we are going to need some statistics."
   ]
  },
  {
   "cell_type": "code",
   "execution_count": 4,
   "id": "3c76df7a",
   "metadata": {
    "tags": [
     "hide-input"
    ]
   },
   "outputs": [
    {
     "data": {
      "application/papermill.record/image/png": "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",
      "application/papermill.record/text/plain": "<Figure size 640x480 with 1 Axes>"
     },
     "metadata": {
      "scrapbook": {
       "mime_prefix": "application/papermill.record/",
       "name": "zeppo-fig"
      }
     },
     "output_type": "display_data"
    }
   ],
   "source": [
    "import matplotlib.pyplot as plt\n",
    "import numpy as np\n",
    "import seaborn as sns\n",
    "import scipy.stats as stats\n",
    "\n",
    "mu = 67.5\n",
    "sigma = 9.5\n",
    "x = np.linspace(mu - 3*sigma, mu + 3*sigma, 100)\n",
    "y = 100* stats.norm.pdf(x, mu, sigma)\n",
    "\n",
    "fig, ax = plt.subplots()\n",
    "ax1 = sns.histplot(df['grades'])\n",
    "\n",
    "ax2 = sns.lineplot(x=x,y=y, color='black')\n",
    "\n",
    "plt.ylim(bottom=-1)\n",
    "\n",
    "ax1.set_frame_on(False)\n",
    "ax1.axes.get_yaxis().set_visible(False)\n",
    "\n",
    "plt.close()\n",
    "from myst_nb import glue\n",
    "glue(\"zeppo-fig\", fig, display=False)"
   ]
  },
  {
   "attachments": {},
   "cell_type": "markdown",
   "id": "37263680",
   "metadata": {},
   "source": [
    "```{glue:figure} zeppo-fig\n",
    ":figwidth: 600px\n",
    ":name: fig-zeppo\n",
    "\n",
    "\n",
    "The theoretical distribution (solid line) from which the psychology student grades (blue bars) are supposed to have been generated.\n",
    "\n",
    "```"
   ]
  },
  {
   "attachments": {},
   "cell_type": "markdown",
   "id": "typical-finder",
   "metadata": {},
   "source": [
    "### Constructing the hypothesis test\n",
    "\n",
    "The first step in constructing a hypothesis test is to be clear about what the null and alternative hypotheses are. This isn't too hard to do. Our null hypothesis, $H_0$, is that the true population mean $\\mu$ for psychology student grades is 67.5\\%; and our alternative hypothesis is that the population mean *isn't* 67.5\\%. If we write this in mathematical notation, these hypotheses become,\n",
    "\n",
    "$$\n",
    "\\begin{array}{ll}\n",
    "H_0: & \\mu = 67.5 \\\\\n",
    "H_1: & \\mu \\neq 67.5\n",
    "\\end{array}\n",
    "$$\n",
    "\n",
    "though to be honest this notation doesn't add much to our understanding of the problem, it's just a compact way of writing down what we're trying to learn from the data. The null hypotheses $H_0$ and the alternative hypothesis $H_1$ for our test are both illustrated in {numref}`fig-ztesthyp`. In addition to providing us with these hypotheses, the scenario outlined above provides us with a fair amount of background knowledge that might be useful. Specifically, there are two special pieces of information that we can add:\n",
    "\n",
    "1. The psychology grades are normally distributed.\n",
    "1. The true standard deviation of these scores $\\sigma$ is known to be 9.5.\n",
    "\n",
    "For the moment, we'll act as if these are absolutely trustworthy facts. In real life, this kind of absolutely trustworthy background knowledge doesn't exist, and so if we want to rely on these facts we'll just have make the *assumption* that these things are true. However, since these assumptions may or may not be warranted, we might need to check them. For now though, we'll keep things simple."
   ]
  },
  {
   "cell_type": "code",
   "execution_count": 5,
   "id": "fifty-grenada",
   "metadata": {
    "tags": [
     "hide-input"
    ]
   },
   "outputs": [
    {
     "data": {
      "application/papermill.record/image/png": "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",
      "application/papermill.record/text/plain": "<Figure size 1500x500 with 2 Axes>"
     },
     "metadata": {
      "scrapbook": {
       "mime_prefix": "application/papermill.record/",
       "name": "ztesthyp-fig"
      }
     },
     "output_type": "display_data"
    }
   ],
   "source": [
    "import numpy as np\n",
    "import seaborn as sns\n",
    "from scipy import stats\n",
    "from matplotlib import pyplot as plt\n",
    "\n",
    "mu = 0\n",
    "sigma = 1\n",
    "x = np.linspace(mu - 3*sigma, mu + 3*sigma, 100)\n",
    "y = 100* stats.norm.pdf(x, mu, sigma)\n",
    "\n",
    "fig, axes = plt.subplots(1, 2, figsize=(15, 5))\n",
    "\n",
    "sns.lineplot(x=x,y=y, color='black', ax=axes[0])\n",
    "sns.lineplot(x=x,y=y, color='black', ax=axes[1])\n",
    "\n",
    "axes[0].set_frame_on(False)\n",
    "axes[1].set_frame_on(False)\n",
    "axes[0].get_yaxis().set_visible(False)\n",
    "axes[1].get_yaxis().set_visible(False)\n",
    "axes[0].get_xaxis().set_visible(False)\n",
    "axes[1].get_xaxis().set_visible(False)\n",
    "\n",
    "axes[0].axhline(y=0, color='black')\n",
    "axes[0].axvline(x=mu, color='black', linestyle='--')\n",
    "\n",
    "axes[1].axhline(y=0, color='black')\n",
    "axes[1].axvline(x=mu + sigma, color='black', linestyle='--')\n",
    "\n",
    "axes[0].hlines(y=23.6, xmin = mu-sigma, xmax = mu, color='black')\n",
    "axes[1].hlines(y=23.6, xmin = mu-sigma, xmax = mu, color='black')\n",
    "\n",
    "\n",
    "axes[0].text(mu,42, r'$\\mu = \\mu_0$', size=20, ha=\"center\")\n",
    "axes[1].text(mu + sigma, 42, r'$\\mu \\neq \\mu_0$', size=20, ha=\"center\")\n",
    "\n",
    "axes[0].text(mu-sigma - 0.2, 23.6, r'$\\sigma = \\sigma_0$', size=20, ha=\"right\")\n",
    "axes[1].text(mu-sigma - 0.2, 23.6, r'$\\sigma = \\sigma_0$', size=20, ha=\"right\")\n",
    "\n",
    "\n",
    "# show the figure in the book with caption\n",
    "plt.close()\n",
    "from myst_nb import glue\n",
    "glue(\"ztesthyp-fig\", fig, display=False)"
   ]
  },
  {
   "attachments": {},
   "cell_type": "markdown",
   "id": "horizontal-scientist",
   "metadata": {},
   "source": [
    "```{glue:figure} ztesthyp-fig\n",
    ":figwidth: 600px\n",
    ":name: fig-ztesthyp\n",
    "\n",
    "\n",
    "Graphical illustration of the null and alternative hypotheses assumed by the one sample $z$-test (the two sided version, that is). The null and alternative hypotheses both assume that the population distribution is normal, and additionally assumes that the population standard deviation is known (fixed at some value $\\sigma_0$). The null hypothesis (left) is that the population mean $\\mu$ is equal to some specified value $\\mu_0$. The alternative hypothesis is that the population mean differs from this value, $\\mu \\neq \\mu_0$.\n",
    "\n",
    "```\n",
    "\n",
    "\n"
   ]
  },
  {
   "attachments": {},
   "cell_type": "markdown",
   "id": "loving-christopher",
   "metadata": {},
   "source": [
    "The next step is to figure out what we would be a good choice for a diagnostic test statistic; something that would help us discriminate between $H_0$ and $H_1$. Given that the hypotheses all refer to the population mean $\\mu$, you'd feel pretty confident that the sample mean $\\bar{X}$ would be a pretty useful place to start. What we could do, is look at the difference between the sample mean $\\bar{X}$ and the value that the null hypothesis predicts for the population mean. In our example, that would mean we calculate $\\bar{X} - 67.5$. More generally, if we let $\\mu_0$ refer to the value that the null hypothesis claims is our population mean, then we'd want to calculate\n",
    "\n",
    "$$\n",
    "\\bar{X} - \\mu_0\n",
    "$$\n",
    "\n",
    "If this quantity equals or is very close to 0, things are looking good for the null hypothesis. If this quantity is a long way away from 0, then it's looking less likely that the null hypothesis is worth retaining. But how far away from zero should it be for us to reject $H_0$? \n",
    "\n",
    "To figure that out, we need to be a bit more sneaky, and we'll need to rely on those two pieces of background knowledge that I wrote down previously, namely that the raw data are normally distributed, and we know the value of the population standard deviation $\\sigma$. If the null hypothesis is actually true, and the true mean is $\\mu_0$, then these facts together mean that we know the complete population distribution of the data: a normal distribution with mean $\\mu_0$ and standard deviation $\\sigma$. Adopting the notation from Section \\@ref(normal), a statistician might write this as:\n",
    "\n",
    "$$\n",
    "X \\sim \\mbox{Normal}(\\mu_0,\\sigma^2)\n",
    "$$\n",
    "\n",
    "\n",
    "\n",
    "Okay, if that's true, then what can we say about the distribution of $\\bar{X}$? Well, as we discussed earlier, the sampling distribution of the mean $\\bar{X}$ is also normal, and has mean $\\mu$. But the standard deviation of this sampling distribution $\\mbox{SE}({\\bar{X}})$, which is called the *standard error of the mean*, is\n",
    "\n",
    "$$\n",
    "\\mbox{SE}({\\bar{X}}) = \\frac{\\sigma}{\\sqrt{N}}\n",
    "$$\n",
    "\n",
    "In other words, if the null hypothesis is true then the sampling distribution of the mean can be written as follows:\n",
    "\n",
    "$$\n",
    "\\bar{X} \\sim \\mbox{Normal}(\\mu_0,\\mbox{SE}({\\bar{X}}))\n",
    "$$\n",
    "\n",
    "Now comes the trick. What we can do is convert the sample mean $\\bar{X}$ into a [standard score](zcores). This is conventionally written as $z$, but for now I'm going to refer to it as $z_{\\bar{X}}$. (The reason for using this expanded notation is to help you remember that we're calculating standardised version of a sample mean, *not* a standardised version of a single observation, which is what a $z$-score usually refers to). When we do so, the $z$-score for our sample mean is \n",
    "\n",
    "$$\n",
    "z_{\\bar{X}} = \\frac{\\bar{X} - \\mu_0}{\\mbox{SE}({\\bar{X}})}\n",
    "$$\n",
    "\n",
    "or, equivalently\n",
    "\n",
    "$$\n",
    "z_{\\bar{X}} =  \\frac{\\bar{X} - \\mu_0}{\\sigma / \\sqrt{N}}\n",
    "$$\n",
    "\n",
    "This $z$-score is our test statistic. The nice thing about using this as our test statistic is that like all $z$-scores, it has a standard normal distribution:\n",
    "\n",
    "$$\n",
    "z_{\\bar{X}} \\sim \\mbox{Normal}(0,1)\n",
    "$$\n",
    "\n",
    "(again, see the section on [z-scores](zcores)) if you've forgotten why this is true). In other words, regardless of what scale the original data are on, the $z$-statistic iteself always has the same interpretation: it's equal to the number of standard errors that separate the observed sample mean $\\bar{X}$ from the population mean $\\mu_0$ predicted by the null hypothesis. Better yet, regardless of what the population parameters for the raw scores actually are, the 5\\% critical regions for $z$-test are always the same, as illustrated in Figures \\@ref(fig:ztest1) and \\@ref(fig:ztest2). "
   ]
  },
  {
   "cell_type": "code",
   "execution_count": 6,
   "id": "standard-shoulder",
   "metadata": {
    "tags": [
     "hide-input"
    ]
   },
   "outputs": [
    {
     "data": {
      "application/papermill.record/image/png": "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",
      "application/papermill.record/text/plain": "<Figure size 1500x500 with 2 Axes>"
     },
     "metadata": {
      "scrapbook": {
       "mime_prefix": "application/papermill.record/",
       "name": "ztest-fig"
      }
     },
     "output_type": "display_data"
    }
   ],
   "source": [
    "mu = 0\n",
    "sigma = 1\n",
    "\n",
    "x = np.arange(-3,3,0.001)\n",
    "y = stats.norm.pdf(x, mu, sigma)\n",
    "\n",
    "\n",
    "fig, (ax0, ax1) = plt.subplots(1, 2, sharey = True, figsize=(15, 5))\n",
    "\n",
    "\n",
    "# Two-sided test\n",
    "crit = 1.96\n",
    "p_lower = x[x<crit*-1]\n",
    "p_upper = x[x>crit]\n",
    "\n",
    "ax0.plot(x, y)\n",
    "\n",
    "ax0.fill_between(p_lower, 0, stats.norm.pdf(p_lower, mu, sigma),color=\"none\",hatch=\"///\",edgecolor=\"b\")\n",
    "ax0.fill_between(p_upper, 0, stats.norm.pdf(p_upper, mu, sigma), color=\"none\",hatch=\"///\",edgecolor=\"b\")\n",
    "ax0.set_title(\"Two sided test\", size = 20)\n",
    "ax0.text(-1.96,-.03, '-1.96', size=18, ha=\"right\")\n",
    "ax0.text(1.96,-.03, '1.96', size=18, ha=\"left\")\n",
    "\n",
    "# One-sided test\n",
    "crit = 1.64\n",
    "p_upper = x[x>crit]\n",
    "\n",
    "ax1.plot(x, y)\n",
    "ax1.set_title(\"One sided test\", size = 20)\n",
    "ax1.text(1.64,-.03, '1.64', size=18, ha=\"left\")\n",
    "ax1.fill_between(p_upper, 0, stats.norm.pdf(p_upper, mu, sigma), color=\"none\",hatch=\"///\",edgecolor=\"b\")\n",
    "\n",
    "ax0.set_frame_on(False)\n",
    "ax1.set_frame_on(False)\n",
    "\n",
    "ax0.get_yaxis().set_visible(False)\n",
    "ax1.get_yaxis().set_visible(False)\n",
    "ax0.get_xaxis().set_visible(False)\n",
    "ax1.get_xaxis().set_visible(False)\n",
    "\n",
    "# show the figure in the book with caption\n",
    "plt.close()\n",
    "from myst_nb import glue\n",
    "glue(\"ztest-fig\", fig, display=False)"
   ]
  },
  {
   "attachments": {},
   "cell_type": "markdown",
   "id": "vital-coach",
   "metadata": {},
   "source": [
    "```{glue:figure} ztest-fig\n",
    ":figwidth: 600px\n",
    ":name: fig-ztest\n",
    "\n",
    "\n",
    "Rejection regions for the two-sided z-test (left) and the one-sided z-test (right).\n",
    "\n",
    "```\n",
    "\n",
    "\n"
   ]
  },
  {
   "attachments": {},
   "cell_type": "markdown",
   "id": "governmental-organic",
   "metadata": {},
   "source": [
    "And what this meant, way back in the days where people did all their statistics by hand, is that someone could publish a table like this:"
   ]
  },
  {
   "attachments": {},
   "cell_type": "markdown",
   "id": "numerical-childhood",
   "metadata": {},
   "source": [
    "|                   || critical z value             |\n",
    "| :-------------: | :------------: | :------------: |\n",
    "| desired a level | two-sided test | one-sided test |\n",
    "|       .1        |    1.644854    |    1.281552    |\n",
    "|       .05       |    1.959964    |    1.644854    |\n",
    "|       .01       |    2.575829    |    2.326348    |\n",
    "|      .001       |    3.290527    |    3.090232    |\n"
   ]
  },
  {
   "attachments": {},
   "cell_type": "markdown",
   "id": "metropolitan-principal",
   "metadata": {},
   "source": [
    "which in turn meant that researchers could calculate their $z$-statistic by hand, and then look up the critical value in a text book.  That was an incredibly handy thing to be able to do back then, but it's kind of unnecessary these days, since it's trivially easy to do it with software like Python."
   ]
  },
  {
   "attachments": {},
   "cell_type": "markdown",
   "id": "valuable-authority",
   "metadata": {},
   "source": [
    "### A worked example using Python\n",
    "\n",
    "Now, as I mentioned earlier, the $z$-test is almost never used in practice. However, the test is so incredibly simple that it's really easy to do one manually. Let's go back to the data from Dr Zeppo's class. Having loaded the `grades` data, the first thing I need to do is calculate the sample mean:"
   ]
  },
  {
   "cell_type": "code",
   "execution_count": 7,
   "id": "recovered-tuition",
   "metadata": {},
   "outputs": [
    {
     "data": {
      "text/plain": [
       "72.3"
      ]
     },
     "execution_count": 7,
     "metadata": {},
     "output_type": "execute_result"
    }
   ],
   "source": [
    "\n",
    "sample_mean = df['grades'].mean()\n",
    "sample_mean"
   ]
  },
  {
   "attachments": {},
   "cell_type": "markdown",
   "id": "annual-calendar",
   "metadata": {},
   "source": [
    "Then, I create variables corresponding to known population standard deviation ($\\sigma = 9.5$), and the value of the population mean that the null hypothesis specifies ($\\mu_0 = 67.5$):"
   ]
  },
  {
   "cell_type": "code",
   "execution_count": 8,
   "id": "decimal-painting",
   "metadata": {},
   "outputs": [],
   "source": [
    "sd_true = 9.5\n",
    "mu_null = 67.5"
   ]
  },
  {
   "attachments": {},
   "cell_type": "markdown",
   "id": "sexual-debate",
   "metadata": {},
   "source": [
    "Let's also create a variable for the sample size. We could count up the number of observations ourselves, and type `N = 20` at the command prompt, but counting is tedious and repetitive. Let's get Python to do the tedious repetitive bit by using the `len()` function, which tells us how many elements there are in a vector:"
   ]
  },
  {
   "cell_type": "code",
   "execution_count": 9,
   "id": "remarkable-convert",
   "metadata": {},
   "outputs": [
    {
     "data": {
      "text/plain": [
       "20"
      ]
     },
     "execution_count": 9,
     "metadata": {},
     "output_type": "execute_result"
    }
   ],
   "source": [
    "N = len(df['grades'])\n",
    "N"
   ]
  },
  {
   "attachments": {},
   "cell_type": "markdown",
   "id": "literary-sandwich",
   "metadata": {},
   "source": [
    "Next, let's calculate the (true) standard error of the mean:"
   ]
  },
  {
   "cell_type": "code",
   "execution_count": 10,
   "id": "universal-poland",
   "metadata": {},
   "outputs": [
    {
     "data": {
      "text/plain": [
       "2.1242645786248002"
      ]
     },
     "execution_count": 10,
     "metadata": {},
     "output_type": "execute_result"
    }
   ],
   "source": [
    "import math\n",
    "sem_true = sd_true / math.sqrt(N)\n",
    "sem_true"
   ]
  },
  {
   "attachments": {},
   "cell_type": "markdown",
   "id": "included-terrain",
   "metadata": {},
   "source": [
    "And finally, we calculate our $z$-score:"
   ]
  },
  {
   "cell_type": "code",
   "execution_count": 11,
   "id": "changed-drilling",
   "metadata": {},
   "outputs": [
    {
     "data": {
      "text/plain": [
       "2.259605535157681"
      ]
     },
     "execution_count": 11,
     "metadata": {},
     "output_type": "execute_result"
    }
   ],
   "source": [
    "z_score = (sample_mean - mu_null) / sem_true\n",
    "z_score"
   ]
  },
  {
   "attachments": {},
   "cell_type": "markdown",
   "id": "electric-ticket",
   "metadata": {},
   "source": [
    "At this point, we would traditionally look up the value 2.26 in our table of critical values. Our original hypothesis was two-sided (we didn't really have any theory about whether psych students would be better or worse at statistics than other students) so our hypothesis test is two-sided (or two-tailed) also. Looking at the little table that I showed earlier, we can see that 2.26 is bigger than the critical value of 1.96 that would be required to be significant at $\\alpha = .05$, but smaller than the value of 2.58 that would be required to be significant at a level of $\\alpha = .01$. Therefore, we can conclude that we have a significant effect, which we might write up by saying something like this:\n",
    "\n",
    "> With a mean grade of 73.2 in the sample of psychology students, and assuming a true population standard deviation of 9.5, we can conclude that the psychology students have significantly different statistics scores to the class average ($z = 2.26$, $N=20$, $p<.05$). \n",
    "\n",
    "However, what if want an exact $p$-value? Well, back in the day, the tables of critical values were huge, and so you could look up your actual $z$-value, and find the smallest value of $\\alpha$ for which your data would be significant (which, as discussed earlier, is the very definition of a $p$-value). However, looking things up in books is tedious, and typing things into computers is awesome. So let's do it using Python instead. Now, notice that the $\\alpha$ level of a $z$-test (or any other test, for that matter) defines the total area \"under the curve\" for the critical region, right? That is, if we set $\\alpha = .05$ for a two-sided test, then the critical region is set up such that the area under the curve for the critical region is $.05$. And, for the $z$-test, the critical value of 1.96 is chosen that way because the area in the lower tail (i.e., below $-1.96$) is exactly $.025$ and the area under the upper tail (i.e., above $1.96$) is exactly $.025$. So, since our observed $z$-statistic is $2.26$, why not calculate the area under the curve below $-2.26$ or above $2.26$? In Python we can calculate this using the `NormalDist().cdf()` method. For the lower tail:"
   ]
  },
  {
   "cell_type": "code",
   "execution_count": 12,
   "id": "responsible-count",
   "metadata": {},
   "outputs": [
    {
     "data": {
      "text/plain": [
       "0.011922871882469877"
      ]
     },
     "execution_count": 12,
     "metadata": {},
     "output_type": "execute_result"
    }
   ],
   "source": [
    "from statistics import NormalDist\n",
    "lower_area = NormalDist().cdf(-z_score)\n",
    "lower_area"
   ]
  },
  {
   "attachments": {},
   "cell_type": "markdown",
   "id": "amino-linux",
   "metadata": {},
   "source": [
    "`NormalDist().cdf()` calculates the \"cumulative density function\" for a normal distribution. Translated to something slightly less opaque, this means that  `NormalDist().cdf()` gives us the probability that a random variable X will be less than or equal to a given value. In our case, the given value for the lower tail of the distribution was our z-score, $2.259$. So `NormalDist().cdf(-z_score)` gives us the probability that a random value draw from a normal distribution would be less than or equal to $-2.259$.\n",
    "\n",
    "Of course, becauwe we didn't have any particular theory about whether psychology students would do better worse than other students, our test should be two-tailed, that is, we are interested not only in the probability that a random value would be less than or equal to $-2.259$, but also whether it might fall in the upper tail, that is be greater than or equal to $-2.259$.\n",
    "\n",
    "Since the normal distribution is symmetrical, the upper area under the curve is identical to the lower area, and we can simply add them together to find our exact $p$-value:"
   ]
  },
  {
   "cell_type": "code",
   "execution_count": 13,
   "id": "spatial-interpretation",
   "metadata": {},
   "outputs": [
    {
     "data": {
      "text/plain": [
       "0.023845743764939753"
      ]
     },
     "execution_count": 13,
     "metadata": {},
     "output_type": "execute_result"
    }
   ],
   "source": [
    "lower_area = NormalDist().cdf(-z_score)\n",
    "upper_area = lower_area\n",
    "p_value = lower_area + upper_area\n",
    "p_value"
   ]
  },
  {
   "attachments": {},
   "cell_type": "markdown",
   "id": "social-tuesday",
   "metadata": {},
   "source": [
    "(zassumptions)=\n",
    "### Assumptions of the $z$-test\n",
    "\n",
    "As I've said before, all statistical tests make assumptions. Some tests make reasonable assumptions, while other tests do not. The test I've just described -- the one sample $z$-test -- makes three basic assumptions.  These are:\n",
    "\n",
    "- *Normality*. As usually described, the $z$-test assumes that the true population distribution is normal.[^note3] is often pretty reasonable, and not only that, it's an assumption that [we can check](shapiro-wilk) if we feel worried about it. \n",
    "- *Independence*. The second assumption of the test is that the observations in your data set are not correlated with each other, or related to each other in some funny way. This isn't as easy to check statistically: it relies a bit on good experimetal design. An obvious (and stupid) example of something that violates this assumption is a data set where you \"copy\" the same observation over and over again in your data file: so you end up with a massive \"sample size\", consisting of only one genuine observation. More realistically, you have to ask yourself if it's really plausible to imagine that each observation is a completely random sample from the population that you're interested in. In practice, this assumption is never met; but we try our best to design studies that minimise the problems of correlated data. \n",
    "- *Known standard deviation*. The third assumption of the $z$-test is that the true standard deviation of the population is known to the researcher. This is just stupid. In no real world data analysis problem do you know the standard deviation $\\sigma$ of some population, but are completely ignorant about the mean $\\mu$. In other words, this assumption is *always* wrong. \n",
    "\n",
    "In view of the stupidity of assuming that $\\sigma$ is known, let's see if we can live without it. This takes us out of the dreary domain of the $z$-test, and into the magical kingdom of the $t$-test, with unicorns and fairies and leprechauns, and um..."
   ]
  },
  {
   "attachments": {},
   "cell_type": "markdown",
   "id": "loving-thunder",
   "metadata": {},
   "source": [
    "(onesamplettest)=\n",
    "## The one-sample $t$-test\n",
    "\n",
    "After some thought, I decided that it might not be safe to assume that the psychology student grades necessarily have the same standard deviation as the other students in Dr Zeppo's class. After all, if I'm entertaining the hypothesis that they don't have the same mean, then why should I believe that they absolutely have the same standard deviation? In view of this, I should really stop assuming that I know the true value of $\\sigma$. This violates the assumptions of my $z$-test, so in one sense I'm back to square one. However, it's not like I'm completely bereft of options. After all, I've still got my raw data, and those raw data give me an *estimate* of the population standard deviation: "
   ]
  },
  {
   "cell_type": "code",
   "execution_count": 14,
   "id": "daily-artwork",
   "metadata": {},
   "outputs": [
    {
     "data": {
      "text/plain": [
       "9.520614752375916"
      ]
     },
     "execution_count": 14,
     "metadata": {},
     "output_type": "execute_result"
    }
   ],
   "source": [
    "df['grades'].std()"
   ]
  },
  {
   "attachments": {},
   "cell_type": "markdown",
   "id": "fifth-allergy",
   "metadata": {},
   "source": [
    "In other words, while I can't say that I know that $\\sigma = 9.5$, I *can* say that $\\hat\\sigma = 9.52$. \n",
    "\n",
    "Okay, cool. The obvious thing that you might think to do is run a $z$-test, but using the estimated standard deviation of 9.52 instead of relying on my assumption that the true standard deviation is 9.5. So, we could just type this new number into Python and out would come the answer. And you probably wouldn't be surprised to hear that this would still give us a significant result. This approach is close, but it's not *quite* correct. Because we are now relying on an *estimate* of the population standard deviation, we need to make some adjustment for the fact that we have some uncertainty about what the true population standard deviation actually is. Maybe our data are just a fluke ... maybe the true population standard deviation is 11, for instance. But if that were actually true, and we ran the $z$-test assuming $\\sigma=11$, then the result would end up being *non-significant*. That's a problem, and it's one we're going to have to address."
   ]
  },
  {
   "cell_type": "code",
   "execution_count": 15,
   "id": "trained-costume",
   "metadata": {
    "tags": [
     "hide-input"
    ]
   },
   "outputs": [
    {
     "data": {
      "application/papermill.record/image/png": "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",
      "application/papermill.record/text/plain": "<Figure size 1500x500 with 2 Axes>"
     },
     "metadata": {
      "scrapbook": {
       "mime_prefix": "application/papermill.record/",
       "name": "ttesthyp_onesample-fig"
      }
     },
     "output_type": "display_data"
    }
   ],
   "source": [
    "mu = 0\n",
    "sigma = 1\n",
    "x = np.linspace(mu - 3*sigma, mu + 3*sigma, 100)\n",
    "y = 100* stats.norm.pdf(x, mu, sigma)\n",
    "\n",
    "fig, axes = plt.subplots(1, 2, figsize=(15, 5))\n",
    "\n",
    "sns.lineplot(x=x,y=y, color='black', ax=axes[0])\n",
    "sns.lineplot(x=x,y=y, color='black', ax=axes[1])\n",
    "\n",
    "axes[0].set_frame_on(False)\n",
    "axes[1].set_frame_on(False)\n",
    "axes[0].get_yaxis().set_visible(False)\n",
    "axes[1].get_yaxis().set_visible(False)\n",
    "axes[0].get_xaxis().set_visible(False)\n",
    "axes[1].get_xaxis().set_visible(False)\n",
    "\n",
    "\n",
    "axes[0].axhline(y=0, color='black')\n",
    "axes[0].axvline(x=mu, color='black', linestyle='--')\n",
    "\n",
    "axes[1].axhline(y=0, color='black')\n",
    "axes[1].axvline(x=mu + sigma, color='black', linestyle='--')\n",
    "\n",
    "axes[0].hlines(y=23.6, xmin = mu-sigma, xmax = mu, color='black')\n",
    "axes[1].hlines(y=23.6, xmin = mu-sigma, xmax = mu, color='black')\n",
    "\n",
    "\n",
    "axes[0].text(mu,42, r'$\\mu = \\mu_0$', size=20, ha=\"center\")\n",
    "axes[1].text(mu + sigma, 42, r'$\\mu \\neq \\mu_0$', size=20, ha=\"center\")\n",
    "\n",
    "axes[0].text(mu-sigma - 0.2, 23.6, r'$\\sigma = ??$', size=20, ha=\"right\")\n",
    "axes[1].text(mu-sigma - 0.2, 23.6, r'$\\sigma = ??$', size=20, ha=\"right\")\n",
    "\n",
    "# show the figure in the book with caption\n",
    "plt.close()\n",
    "from myst_nb import glue\n",
    "glue(\"ttesthyp_onesample-fig\", fig, display=False)"
   ]
  },
  {
   "attachments": {},
   "cell_type": "markdown",
   "id": "norwegian-programming",
   "metadata": {},
   "source": [
    "\n",
    "```{glue:figure} ttesthyp_onesample-fig\n",
    ":figwidth: 600px\n",
    ":name: fig-ttesthyp_onesample\n",
    "\n",
    "\n",
    "Graphical illustration of the null and alternative hypotheses assumed by the (two sided) one sample $t$-test. Note the similarity to the $z$-test. The null hypothesis is that the population mean $\\mu$ is equal to some specified value $\\mu_0$, and the alternative hypothesis is that it is not. Like the $z$-test, we assume that the data are normally distributed; but we do not assume that the population standard deviation $\\sigma$ is known in advance.\n",
    "\n",
    "```\n",
    "\n",
    "\n",
    "\n",
    "\n"
   ]
  },
  {
   "attachments": {},
   "cell_type": "markdown",
   "id": "cooperative-agent",
   "metadata": {},
   "source": [
    "### Introducing the $t$-test\n",
    "\n",
    "This ambiguity is annoying, and it was resolved in 1908 by a guy called William Sealy Gosset {cite}`Student1908`, who was working as a chemist for the Guinness brewery at the time. Because Guinness took a dim view of its employees publishing statistical analysis (apparently they felt it was a trade secret), he published the work under the pseudonym \"A Student\", and to this day, the full name of the $t$-test is actually **_Student's $t$-test_**. The key thing that Gosset figured out is how we should accommodate the fact that we aren't completely sure what the true standard deviation is.[^note4] The answer is that it subtly changes the sampling distribution. In the $t$-test, our test statistic (now called a $t$-statistic) is calculated in exactly the same way I mentioned above. If our null hypothesis is that the true mean is $\\mu$, but our sample has mean $\\bar{X}$ and our estimate of the population standard deviation is $\\hat{\\sigma}$, then our $t$ statistic is:\n",
    "\n",
    "$$\n",
    "t = \\frac{\\bar{X} - \\mu}{\\hat{\\sigma}/\\sqrt{N} }\n",
    "$$\n",
    "\n",
    "The only thing that has changed in the equation is that instead of using the known true value $\\sigma$, we use the estimate $\\hat{\\sigma}$. And if this estimate has been constructed from $N$ observations, then the sampling distribution turns into a $t$-distribution with $N-1$ **_degrees of freedom_** (df). The $t$ distribution is very similar to the normal distribution, but has \"heavier\" tails, as [discussed earlier](otherdists)  and illustrated in {numref}`fig-ttestdist`. Notice, though, that as df gets larger, the $t$-distribution starts to look identical to the standard normal distribution. This is as it should be: if you have a sample size of $N = 70,000,000$ then your \"estimate\" of the standard deviation would be pretty much perfect, right? So, you should expect that for large $N$, the $t$-test would behave exactly the same way as a $z$-test. And that's exactly what happens!  "
   ]
  },
  {
   "cell_type": "code",
   "execution_count": 16,
   "id": "virgin-standing",
   "metadata": {
    "tags": [
     "hide-input"
    ]
   },
   "outputs": [
    {
     "data": {
      "application/papermill.record/image/png": "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",
      "application/papermill.record/text/plain": "<Figure size 1500x500 with 2 Axes>"
     },
     "metadata": {
      "scrapbook": {
       "mime_prefix": "application/papermill.record/",
       "name": "ttestdist-fig"
      }
     },
     "output_type": "display_data"
    }
   ],
   "source": [
    "mu = 0\n",
    "variance = 1\n",
    "sigma = np.sqrt(variance)\n",
    "\n",
    "\n",
    "x = np.linspace(-4, 4, 100)\n",
    "y_norm = stats.norm.pdf(x, mu, sigma)\n",
    "\n",
    "\n",
    "fig, axes = plt.subplots(1, 2, figsize=(15, 5))\n",
    "\n",
    "\n",
    "# t-distribution with 2 degrees of freedom\n",
    "y_t = stats.t.pdf(x, 2)\n",
    "sns.lineplot(x = x, y = y_norm, color = 'black', linestyle='--', ax = axes[0])\n",
    "sns.lineplot(x = x, y = y_t, color = 'black', ax = axes[0])\n",
    "\n",
    "# t-distribution with 10 degrees of freedom\n",
    "y_t = stats.t.pdf(x, 10)\n",
    "sns.lineplot(x = x, y = y_norm, color = 'black', linestyle='--', ax = axes[1])\n",
    "sns.lineplot(x = x, y = y_t, color = 'black', ax = axes[1])\n",
    "\n",
    "axes[0].text(0, 0.42, r'$df = 2$', size=20, ha=\"center\")\n",
    "axes[1].text(0, 0.42, r'$df = 10$', size=20, ha=\"center\")\n",
    "\n",
    "\n",
    "#sns.despine()\n",
    "axes[0].get_yaxis().set_visible(False)\n",
    "axes[1].get_yaxis().set_visible(False)\n",
    "axes[0].set_frame_on(False)\n",
    "axes[1].set_frame_on(False)\n",
    "\n",
    "plt.close()\n",
    "\n",
    "# show the figure in the book with caption\n",
    "plt.close()\n",
    "from myst_nb import glue\n",
    "glue(\"ttestdist-fig\", fig, display=False)"
   ]
  },
  {
   "attachments": {},
   "cell_type": "markdown",
   "id": "involved-disclaimer",
   "metadata": {},
   "source": [
    "\n",
    "```{glue:figure} ttestdist-fig\n",
    ":figwidth: 600px\n",
    ":name: fig-ttestdist\n",
    "\n",
    "The $t$ distribution with 2 degrees of freedom (left) and 10 degrees of freedom (right), with a standard normal distribution (i.e., mean 0 and std dev 1) plotted as dotted lines for comparison purposes. Notice that the $t$ distribution has heavier tails (higher kurtosis) than the normal distribution; this effect is quite exaggerated when the degrees of freedom are very small, but negligible for larger values. In other words, for large $df$ the $t$ distribution is essentially identical to a normal distribution.\n",
    "\n",
    "\n",
    "```\n"
   ]
  },
  {
   "attachments": {},
   "cell_type": "markdown",
   "id": "federal-teddy",
   "metadata": {},
   "source": [
    "### Doing the test in Python\n",
    "\n",
    "As you might expect, the mechanics of the $t$-test are almost identical to the mechanics of the $z$-test. So there's not much point in going through the tedious exercise of showing you how to do the calculations using low level commands: it's pretty much identical to the calculations that we did earlier, except that we use the estimated standard deviation (i.e., something like `se_est = statistics.stdev(grades)`), and then we test our hypothesis using the $t$ distribution rather than the normal distribution. And so instead of going through the calculations in tedious detail for a second time, I'll jump straight to showing you how $t$-tests are actually done in practice. \n",
    "\n",
    "The situation with $t$-tests is very similar to the one we encountered with [chi-squared tests](chisquare). `scipy.stats` includes a variety of methods for running different kinds of  $t$-tests, but the `pingouin` package makes wraps these up and makes them easier (to my mind) to deal with. We'll start with the `scipy` version for the one-sample $t$-test, so you can get a flavor for how `scipy` deals with $t$-tests, and then use the `pingouin` alternatives for the rest.\n",
    "\n",
    "To run a one-sample $t$-test with `scipy`, use the `ttest_1samp` method. It's pretty straightforward to use: all you need to do is specify `a`, the variable containing the data, and `popmean`, the true population mean according to the null hypothesis. All you need to type is this:"
   ]
  },
  {
   "cell_type": "code",
   "execution_count": 17,
   "id": "focused-connection",
   "metadata": {},
   "outputs": [
    {
     "data": {
      "text/plain": [
       "(2.25471286700693, 0.03614521878144544)"
      ]
     },
     "execution_count": 17,
     "metadata": {},
     "output_type": "execute_result"
    }
   ],
   "source": [
    "from scipy.stats import ttest_1samp\n",
    "t, p = ttest_1samp(a = df['grades'], popmean = 67.5)\n",
    "t, p"
   ]
  },
  {
   "attachments": {},
   "cell_type": "markdown",
   "id": "amazing-destiny",
   "metadata": {},
   "source": [
    "So that seems straightforward enough. Our calculation resulted in a $t$-statistic of 2.54, and a $p$-value of 0.36. Now what do we *do* with this output? Well, since we're pretending that we actually care about my toy example, we're overjoyed to discover that the result is statistically significant (i.e. $p$ value below .05), and we will probably want to report our result. We could report the result by saying something like this:\n",
    "\n",
    "> With a mean grade of 72.3, the psychology students scored slightly higher than the average grade of 67.5 ($t(19) = 2.25$, $p<.05$); the 95\\% confidence interval is [67.8, 76.8].\n",
    "\n",
    "where $t(19)$ is shorthand notation for a $t$-statistic that has 19 degrees of freedom.\n",
    "\n",
    "As you will have already noticed, `ttest_1samp()` does not give us all the information included in the report above. A $t$-statistic, yes, and a $p$-value as well. But what about 95% confidence intervals? Where can we find those, and what about the degrees of freedom? In a better, simpler, kinder world, `ttest_1samp()` would provide all this information for us, and it's honestly a bit shocking that it doesn't. But sadly that is not the world we live in, and we have a bit more work to do.\n",
    "\n",
    "First, off: degrees of freedom. In this case, that is not so difficult, because the degrees of freedom for a one-sample t-test is just $N-1$, so we can easily find that ourselves. We also already know how to find the sample mean of our data:"
   ]
  },
  {
   "cell_type": "code",
   "execution_count": 18,
   "id": "confident-content",
   "metadata": {},
   "outputs": [
    {
     "name": "stdout",
     "output_type": "stream",
     "text": [
      "Sample mean: 72.3\n",
      "Degrees of freedom: 19\n"
     ]
    }
   ],
   "source": [
    "N = len(df['grades'])\n",
    "degfree = N-1\n",
    "sample_mean = df['grades'].mean()\n",
    "print('Sample mean:', sample_mean)\n",
    "print('Degrees of freedom:', degfree)"
   ]
  },
  {
   "attachments": {},
   "cell_type": "markdown",
   "id": "amino-youth",
   "metadata": {},
   "source": [
    "Now at least we have the bare minimum of what is necessary to report our results. Still, it would be sweet if we could get those confidence intervals as well. `scipy` actually has all the tools we need, and why these are not just built into the `ttest_1samp()` method is beyond me. To find the confidence interval, we need to:\n",
    "\n",
    "1. To set a confidence level\n",
    "1. To know the sample mean\n",
    "1. To know the degrees of freedom for the test\n",
    "1. To know the standard error of the sample\n",
    "\n",
    "We discussed confidence intervals [earlier](ci), and now is not the time to go into detail on this, so for now I'm just going to give you some code that you can use to find 95% confidence intervals for a one-sample t-test, so that we can get on with reporting our data:"
   ]
  },
  {
   "cell_type": "code",
   "execution_count": 19,
   "id": "related-marijuana",
   "metadata": {},
   "outputs": [
    {
     "data": {
      "text/plain": [
       "(67.84421513791415, 76.75578486208585)"
      ]
     },
     "execution_count": 19,
     "metadata": {},
     "output_type": "execute_result"
    }
   ],
   "source": [
    "from scipy import stats\n",
    "\n",
    "confidence_level = 0.95\n",
    "degrees_freedom = len(df['grades'])-1\n",
    "sample_mean = df['grades'].mean()\n",
    "sample_standard_error = df['grades'].sem()\n",
    "\n",
    "confidence_interval = stats.t.interval(confidence_level, degrees_freedom, sample_mean, sample_standard_error)\n",
    "confidence_interval"
   ]
  },
  {
   "attachments": {},
   "cell_type": "markdown",
   "id": "actual-county",
   "metadata": {},
   "source": [
    "Whew. Now at least we have everything we need for a full report of our results.\n",
    "\n",
    "That said, it's often the case that people don't report the confidence interval, or do so using a much more compressed form than I've done here. For instance, it's not uncommon to see the confidence interval included as part of the stat block, like this:\n",
    "\n",
    "> $t(19) = 2.25$, $p<.05$, CI$_{95} = [67.8, 76.8]$\n",
    "\n",
    "With that much jargon crammed into half a line, you know it must be really smart. [^note5]"
   ]
  },
  {
   "attachments": {},
   "cell_type": "markdown",
   "id": "c1014d22",
   "metadata": {},
   "source": [
    "Having gone through all that, let's take a look at the `pingouin` command to achieve the same thing."
   ]
  },
  {
   "cell_type": "code",
   "execution_count": 20,
   "id": "126b3305",
   "metadata": {
    "tags": [
     "remove-cell"
    ]
   },
   "outputs": [
    {
     "data": {
      "text/plain": [
       "{'divide': 'warn', 'over': 'warn', 'under': 'ignore', 'invalid': 'warn'}"
      ]
     },
     "execution_count": 20,
     "metadata": {},
     "output_type": "execute_result"
    }
   ],
   "source": [
    "# hopefully temporary code to silence pointless numpy warnings on macOS\n",
    "np.seterr(all=\"ignore\")\n"
   ]
  },
  {
   "cell_type": "code",
   "execution_count": 21,
   "id": "85e0ebb3",
   "metadata": {},
   "outputs": [
    {
     "data": {
      "text/html": [
       "<div>\n",
       "<style scoped>\n",
       "    .dataframe tbody tr th:only-of-type {\n",
       "        vertical-align: middle;\n",
       "    }\n",
       "\n",
       "    .dataframe tbody tr th {\n",
       "        vertical-align: top;\n",
       "    }\n",
       "\n",
       "    .dataframe thead th {\n",
       "        text-align: right;\n",
       "    }\n",
       "</style>\n",
       "<table border=\"1\" class=\"dataframe\">\n",
       "  <thead>\n",
       "    <tr style=\"text-align: right;\">\n",
       "      <th></th>\n",
       "      <th>T</th>\n",
       "      <th>dof</th>\n",
       "      <th>alternative</th>\n",
       "      <th>p-val</th>\n",
       "      <th>CI95%</th>\n",
       "      <th>cohen-d</th>\n",
       "      <th>BF10</th>\n",
       "      <th>power</th>\n",
       "    </tr>\n",
       "  </thead>\n",
       "  <tbody>\n",
       "    <tr>\n",
       "      <th>T-test</th>\n",
       "      <td>2.25</td>\n",
       "      <td>19</td>\n",
       "      <td>two-sided</td>\n",
       "      <td>0.04</td>\n",
       "      <td>[67.84, 76.76]</td>\n",
       "      <td>0.5</td>\n",
       "      <td>1.795</td>\n",
       "      <td>0.57</td>\n",
       "    </tr>\n",
       "  </tbody>\n",
       "</table>\n",
       "</div>"
      ],
      "text/plain": [
       "           T  dof alternative  p-val           CI95%  cohen-d   BF10  power\n",
       "T-test  2.25   19   two-sided   0.04  [67.84, 76.76]      0.5  1.795   0.57"
      ]
     },
     "execution_count": 21,
     "metadata": {},
     "output_type": "execute_result"
    }
   ],
   "source": [
    "\n",
    "from pingouin import ttest\n",
    "ttest(df['grades'], 67.5).round(2)"
   ]
  },
  {
   "attachments": {},
   "cell_type": "markdown",
   "id": "d36be179",
   "metadata": {},
   "source": [
    "Well. That was easy! All we need to do is feed the `ttest()` function from `pingouin` with the data and the population mean under the null hypothesis, and `pinguoin` does the rest. We get a nice table with the $t$-value, the degrees of freedom, the $p$-value, 95% confidence interval, effect size (Cohen's $d$), and a power estimate. BF10 refers to the \"bayes factor\", which we will meet (briefly) in the section on [Bayesian statistics](bayes)."
   ]
  },
  {
   "attachments": {},
   "cell_type": "markdown",
   "id": "protecting-better",
   "metadata": {},
   "source": [
    "(ttestoneassumptions)=\n",
    "### Assumptions of the one sample $t$-test\n",
    "\n",
    "Okay, so what assumptions does the one-sample $t$-test make? Well, since the $t$-test is basically a $z$-test with the assumption of known standard deviation removed, you shouldn't be surprised to see that it makes the same assumptions as the $z$-test, minus the one about the known standard deviation. That is\n",
    "\n",
    "- *Normality*. We're still assuming that the the population distribution is normal[^note_normality].\n",
    "- *Independence*. Once again, we have to assume that the observations in our sample are generated independently of one another. See the [earlier discussion](zassumptions) about the $z$-test for specifics.\n",
    "\n",
    "Overall, these two assumptions aren't terribly unreasonable, and as a consequence the one-sample $t$-test is pretty widely used in practice as a way of comparing a sample mean against a hypothesised population mean.\n",
    "\n",
    "[^note_normality]: A technical comment... in the same way that we can weaken the assumptions of the $z$-test so that we're only talking about the sampling distribution, we *can* weaken the $t$ test assumptions so that we don't have to assume normality of the population. However, for the $t$-test, it's trickier to do this. As before, we can replace the assumption of population normality with an assumption that the sampling distribution of $\\bar{X}$ is normal. However, remember that we're also relying on a sample estimate of the standard deviation; and so we also require the sampling distribution of $\\hat{\\sigma}$ to be chi-square. That makes things nastier, and this version is rarely used in practice: fortunately, if the population is normal, then both of these two assumptions are met., and as noted earlier, there are [standard tools](shapiro) that you can use to check to see if this assumption is met, and [other tests](wilcox) you can do in it's place if this assumption is violated."
   ]
  },
  {
   "attachments": {},
   "cell_type": "markdown",
   "id": "stuffed-retail",
   "metadata": {},
   "source": [
    "(studentttest)=\n",
    "## The independent samples $t$-test (Student test)\n",
    "\n",
    "Although the one sample $t$-test has its uses, it's not the most typical example of a $t$-test[^note6]. A much more common situation arises when you've got two different groups of observations. In psychology, this tends to correspond to two different groups of participants, where each group corresponds to a different condition in your study. For each person in the study, you measure some outcome variable of interest, and the research question that you're asking is whether or not the two groups have the same population mean. This is the situation that the independent samples $t$-test is designed for. "
   ]
  },
  {
   "attachments": {},
   "cell_type": "markdown",
   "id": "corrected-victim",
   "metadata": {},
   "source": [
    "### The data\n",
    "\n",
    "Suppose we have 33 students taking Dr Harpo's statistics lectures, and Dr Harpo doesn't grade to a curve. Actually, Dr Harpo's grading is a bit of a mystery, so we don't really know anything about what the average grade is for the class as a whole. There are two tutors for the class, Anastasia and Bernadette. There are $N_1 = 15$ students in Anastasia's tutorials, and $N_2 = 18$ in Bernadette's tutorials. The research question I'm interested in is whether Anastasia or Bernadette is a better tutor, or if it doesn't make much of a difference. Dr Harpo emails me the course grades, in the `harpo.csv` file. As usual, I'll load the file and have a look at what variables it contains:"
   ]
  },
  {
   "cell_type": "code",
   "execution_count": 22,
   "id": "specific-direction",
   "metadata": {},
   "outputs": [
    {
     "data": {
      "text/html": [
       "<div>\n",
       "<style scoped>\n",
       "    .dataframe tbody tr th:only-of-type {\n",
       "        vertical-align: middle;\n",
       "    }\n",
       "\n",
       "    .dataframe tbody tr th {\n",
       "        vertical-align: top;\n",
       "    }\n",
       "\n",
       "    .dataframe thead th {\n",
       "        text-align: right;\n",
       "    }\n",
       "</style>\n",
       "<table border=\"1\" class=\"dataframe\">\n",
       "  <thead>\n",
       "    <tr style=\"text-align: right;\">\n",
       "      <th></th>\n",
       "      <th>grade</th>\n",
       "      <th>tutor</th>\n",
       "    </tr>\n",
       "  </thead>\n",
       "  <tbody>\n",
       "    <tr>\n",
       "      <th>0</th>\n",
       "      <td>65</td>\n",
       "      <td>Anastasia</td>\n",
       "    </tr>\n",
       "    <tr>\n",
       "      <th>1</th>\n",
       "      <td>72</td>\n",
       "      <td>Bernadette</td>\n",
       "    </tr>\n",
       "    <tr>\n",
       "      <th>2</th>\n",
       "      <td>66</td>\n",
       "      <td>Bernadette</td>\n",
       "    </tr>\n",
       "    <tr>\n",
       "      <th>3</th>\n",
       "      <td>74</td>\n",
       "      <td>Anastasia</td>\n",
       "    </tr>\n",
       "    <tr>\n",
       "      <th>4</th>\n",
       "      <td>73</td>\n",
       "      <td>Anastasia</td>\n",
       "    </tr>\n",
       "  </tbody>\n",
       "</table>\n",
       "</div>"
      ],
      "text/plain": [
       "   grade       tutor\n",
       "0     65   Anastasia\n",
       "1     72  Bernadette\n",
       "2     66  Bernadette\n",
       "3     74   Anastasia\n",
       "4     73   Anastasia"
      ]
     },
     "execution_count": 22,
     "metadata": {},
     "output_type": "execute_result"
    }
   ],
   "source": [
    "import pandas as pd\n",
    "\n",
    "df = pd.read_csv(\"https://raw.githubusercontent.com/ethanweed/pythonbook/main/Data/harpo.csv\")\n",
    "df.head()"
   ]
  },
  {
   "attachments": {},
   "cell_type": "markdown",
   "id": "annual-correction",
   "metadata": {},
   "source": [
    "As we can see, there's a single data frame with two variables, `grade` and `tutor`. The `grade` variable is a numeric vector, containing the grades for all $N = 33$ students taking Dr Harpo's class; the `tutor` variable is a factor that indicates who each student's tutor was. The first five observations in this data set are shown above, and below is a nice little table with some summary statistics:"
   ]
  },
  {
   "cell_type": "code",
   "execution_count": 23,
   "id": "2306c570",
   "metadata": {},
   "outputs": [
    {
     "data": {
      "text/html": [
       "<div>\n",
       "<style scoped>\n",
       "    .dataframe tbody tr th:only-of-type {\n",
       "        vertical-align: middle;\n",
       "    }\n",
       "\n",
       "    .dataframe tbody tr th {\n",
       "        vertical-align: top;\n",
       "    }\n",
       "\n",
       "    .dataframe thead th {\n",
       "        text-align: right;\n",
       "    }\n",
       "</style>\n",
       "<table border=\"1\" class=\"dataframe\">\n",
       "  <thead>\n",
       "    <tr style=\"text-align: right;\">\n",
       "      <th></th>\n",
       "      <th>students</th>\n",
       "      <th>mean</th>\n",
       "      <th>std dev</th>\n",
       "      <th>N</th>\n",
       "    </tr>\n",
       "  </thead>\n",
       "  <tbody>\n",
       "    <tr>\n",
       "      <th>0</th>\n",
       "      <td>Anastasia's students</td>\n",
       "      <td>74.53</td>\n",
       "      <td>8.998942</td>\n",
       "      <td>15</td>\n",
       "    </tr>\n",
       "    <tr>\n",
       "      <th>1</th>\n",
       "      <td>Bernadette's students</td>\n",
       "      <td>69.06</td>\n",
       "      <td>5.774918</td>\n",
       "      <td>18</td>\n",
       "    </tr>\n",
       "  </tbody>\n",
       "</table>\n",
       "</div>"
      ],
      "text/plain": [
       "                students   mean   std dev   N\n",
       "0   Anastasia's students  74.53  8.998942  15\n",
       "1  Bernadette's students  69.06  5.774918  18"
      ]
     },
     "execution_count": 23,
     "metadata": {},
     "output_type": "execute_result"
    }
   ],
   "source": [
    "harpo_summary = pd.DataFrame(\n",
    "    {'students': ['Anastasia\\'s students','Bernadette\\'s students'],\n",
    "     'mean': [df.loc[df['tutor'] == 'Anastasia']['grade'].mean().round(2), \n",
    "             df.loc[df['tutor'] == 'Bernadette']['grade'].mean().round(2)],\n",
    "     'std dev': [df.loc[df['tutor'] == 'Anastasia']['grade'].std(), \n",
    "                df.loc[df['tutor'] == 'Bernadette']['grade'].std()],\n",
    "     'N': [len(df.loc[df['tutor'] == 'Anastasia']),\n",
    "           len(df.loc[df['tutor'] == 'Bernadette'])]\n",
    "    })\n",
    "harpo_summary"
   ]
  },
  {
   "attachments": {},
   "cell_type": "markdown",
   "id": "pediatric-island",
   "metadata": {},
   "source": [
    "To give you a more detailed sense of what's going on here, I've plotted histograms showing the distribution of grades for both tutors {numref}`fig-harpohist`. Inspection of these histograms suggests that the students in Anastasia's class may be getting slightly better grades on average, though they also seem a little more variable."
   ]
  },
  {
   "cell_type": "code",
   "execution_count": 24,
   "id": "narrow-expansion",
   "metadata": {
    "tags": [
     "hide-input"
    ]
   },
   "outputs": [
    {
     "data": {
      "application/papermill.record/image/png": "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",
      "application/papermill.record/text/plain": "<Figure size 1500x500 with 2 Axes>"
     },
     "metadata": {
      "scrapbook": {
       "mime_prefix": "application/papermill.record/",
       "name": "harpohist_fig"
      }
     },
     "output_type": "display_data"
    }
   ],
   "source": [
    "fig, axes = plt.subplots(1, 2, figsize=(15, 5))\n",
    "Anastasia = pd.DataFrame(df.loc[df['tutor'] == 'Anastasia']['grade'])\n",
    "Bernadette = pd.DataFrame(df.loc[df['tutor'] == 'Bernadette']['grade'])\n",
    "\n",
    "sns.histplot(Anastasia['grade'], ax = axes[0], binwidth = 5)\n",
    "sns.histplot(Bernadette['grade'], ax = axes[1], binwidth = 5)\n",
    "\n",
    "axes[0].set_xlim(50,100)\n",
    "axes[1].set_xlim(50,100)\n",
    "\n",
    "axes[0].set_ylim(0,7)\n",
    "axes[1].set_ylim(0,7)\n",
    "\n",
    "axes[0].set_title('Anastasia')\n",
    "axes[1].set_title('Bernadette')\n",
    "\n",
    "sns.despine()\n",
    "\n",
    "# show the figure in the book with caption\n",
    "plt.close()\n",
    "from myst_nb import glue\n",
    "glue(\"harpohist_fig\", fig, display=False)\n"
   ]
  },
  {
   "attachments": {},
   "cell_type": "markdown",
   "id": "subject-withdrawal",
   "metadata": {},
   "source": [
    " ```{glue:figure} harpohist_fig\n",
    ":figwidth: 600px\n",
    ":name: fig-harpohist\n",
    "\n",
    "Histogram showing the overall distribution of grades for students in Anastasia and Bernadette's classes\n",
    "```"
   ]
  },
  {
   "attachments": {},
   "cell_type": "markdown",
   "id": "fabulous-community",
   "metadata": {},
   "source": [
    "{numref}`fig-ttestci` is a simpler plot showing the means and corresponding confidence intervals for both groups of students."
   ]
  },
  {
   "cell_type": "code",
   "execution_count": 25,
   "id": "expensive-session",
   "metadata": {
    "tags": [
     "hide-input"
    ]
   },
   "outputs": [
    {
     "data": {
      "application/papermill.record/image/png": "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",
      "application/papermill.record/text/plain": "<Figure size 640x480 with 1 Axes>"
     },
     "metadata": {
      "scrapbook": {
       "mime_prefix": "application/papermill.record/",
       "name": "ttestci-fig"
      }
     },
     "output_type": "display_data"
    }
   ],
   "source": [
    "fig, axes = plt.subplots(1, 1)\n",
    "sns.pointplot(x = 'tutor', y = 'grade', data = df)\n",
    "sns.despine()\n",
    "\n",
    "# show the figure in the book with caption\n",
    "plt.close()\n",
    "from myst_nb import glue\n",
    "glue(\"ttestci-fig\", fig, display=False)\n"
   ]
  },
  {
   "attachments": {},
   "cell_type": "markdown",
   "id": "painted-running",
   "metadata": {},
   "source": [
    " ```{glue:figure} ttestci-fig\n",
    ":figwidth: 600px\n",
    ":name: fig-ttestci\n",
    "\n",
    "Plot showing the mean grade for the students in Anastasia's and Bernadette's tutorials. Error bars depict 95% confidence intervals around the mean. On the basis of visual inspection, it does look like there's a real difference between the groups, though it's hard to say for sure.\n",
    "\n",
    "```"
   ]
  },
  {
   "attachments": {},
   "cell_type": "markdown",
   "id": "outer-victim",
   "metadata": {},
   "source": [
    "### Introducing the test\n",
    "\n",
    "The **_independent samples $t$-test_** comes in two different forms, Student's and Welch's. The original Student $t$-test -- which is the one I'll describe in this section -- is the simpler of the two, but relies on much more restrictive assumptions than the Welch $t$-test. Assuming for the moment that you want to run a two-sided test, the goal is to determine whether two \"independent samples\" of data are drawn from populations with the same mean (the null hypothesis) or different means (the alternative hypothesis). When we say \"independent\" samples, what we really mean here is that there's no special relationship between observations in the two samples. This probably doesn't make a lot of sense right now, but it will be clearer when we come to talk about the paired samples $t$-test later on. For now, let's just point out that if we have an experimental design where participants are randomly allocated to one of two groups, and we want to compare the two groups' mean performance on some outcome measure, then an independent samples $t$-test (rather than a paired samples $t$-test) is what we're after.\n",
    "\n",
    "Okay, so let's let $\\mu_1$ denote the true population mean for group 1 (e.g., Anastasia's students), and $\\mu_2$ will be the true population mean for group 2 (e.g., Bernadette's students),[^note7] and as usual we'll let $\\bar{X}_1$ and $\\bar{X}_2$ denote the observed sample means for both of these groups. Our null hypothesis states that the two population means are identical ($\\mu_1 = \\mu_2$) and the alternative to this is that they are not ($\\mu_1 \\neq \\mu_2$). Written in mathematical-ese, this is...\n",
    "\n",
    "$$\n",
    "\\begin{array}{ll}\n",
    "H_0: & \\mu_1 = \\mu_2  \\\\\n",
    "H_1: & \\mu_1 \\neq \\mu_2\n",
    "\\end{array}\n",
    "$$"
   ]
  },
  {
   "cell_type": "code",
   "execution_count": 26,
   "id": "turkish-olive",
   "metadata": {
    "tags": [
     "hide-input"
    ]
   },
   "outputs": [
    {
     "data": {
      "application/papermill.record/image/png": "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",
      "application/papermill.record/text/plain": "<Figure size 1500x500 with 2 Axes>"
     },
     "metadata": {
      "scrapbook": {
       "mime_prefix": "application/papermill.record/",
       "name": "ttesthyp_fig"
      }
     },
     "output_type": "display_data"
    }
   ],
   "source": [
    "mu1 = 0\n",
    "sigma1 = 1\n",
    "mu2 = 2\n",
    "\n",
    "x1 = np.linspace(mu1 - 4*sigma, mu1 + 4*sigma, 100)\n",
    "y1 = 100* stats.norm.pdf(x1, mu1, sigma)\n",
    "x2 = np.linspace(mu2 - 4*sigma, mu2 + 4*sigma, 100)\n",
    "y2 = 100* stats.norm.pdf(x2, mu2, sigma)\n",
    "\n",
    "\n",
    "fig, (ax1, ax2) = plt.subplots(1, 2, figsize=(15, 5))\n",
    "\n",
    "\n",
    "sns.lineplot(x=x1,y=y, color='black', ax = ax1)\n",
    "\n",
    "sns.lineplot(x=x1,y=y, color='black', ax = ax2)\n",
    "sns.lineplot(x=x2,y=y2, color='black', ax = ax2)\n",
    "\n",
    "ax1.text(0, 43, 'null hypothesis', size=20, ha=\"center\")\n",
    "ax2.text(0, 43, 'alternative hypothesis', size=20, ha=\"center\")\n",
    "\n",
    "ax1.set_frame_on(False)\n",
    "ax2.set_frame_on(False)\n",
    "ax1.get_yaxis().set_visible(False)\n",
    "ax2.get_yaxis().set_visible(False)\n",
    "ax1.get_xaxis().set_visible(False)\n",
    "ax2.get_xaxis().set_visible(False)\n",
    "ax1.axhline(y=0, color='black')\n",
    "ax2.axhline(y=0, color='black')\n",
    "\n",
    "# show the figure in the book with caption\n",
    "plt.close()\n",
    "from myst_nb import glue\n",
    "glue(\"ttesthyp_fig\", fig, display=False)"
   ]
  },
  {
   "attachments": {},
   "cell_type": "markdown",
   "id": "complete-backup",
   "metadata": {},
   "source": [
    " ```{glue:figure} ttesthyp_fig\n",
    ":figwidth: 600px\n",
    ":name: fig-ttesthyp\n",
    "\n",
    "Graphical illustration of the null and alternative hypotheses assumed by the Student $t$-test. The null hypothesis assumes that both groups have the same mean $\\\\mu$, whereas the alternative assumes that they have different means $\\mu_1$ and $\\mu_2$. Notice that it is assumed that the population distributions are normal, and that, although the alternative hypothesis allows the group to have different means, it assumes they have the same standard deviation\n",
    "```\n"
   ]
  },
  {
   "attachments": {},
   "cell_type": "markdown",
   "id": "chubby-allen",
   "metadata": {},
   "source": [
    "To construct a hypothesis test that handles this scenario, we start by noting that if the null hypothesis is true, then the difference between the population means is *exactly* zero, \n",
    "$\\mu_1 - \\mu_2 = 0$\n",
    "As a consequence, a diagnostic test statistic will be based on the difference between the two sample means. Because if the null hypothesis is true, then we'd expect \n",
    "\n",
    "$$\n",
    "\\bar{X}_1 - \\bar{X}_2\n",
    "$$\n",
    "\n",
    "to be *pretty close* to zero. However, just like we saw with our one-sample tests (i.e., the one-sample $z$-test and the one-sample $t$-test) we have to be precise about exactly *how close* to zero this difference should be. And the solution to the problem is more or less the same one: we calculate a standard error estimate (SE), just like last time, and then divide the difference between means by this estimate. So our **_$t$-statistic_** will be of the form\n",
    "\n",
    "$$\n",
    "t = \\frac{\\bar{X}_1 - \\bar{X}_2}{\\mbox{SE}}\n",
    "$$\n",
    "\n",
    "We just need to figure out what this standard error estimate actually is. This is a bit trickier than was the case for either of the two tests we've looked at so far, so we need to go through it a lot more carefully to understand how it works."
   ]
  },
  {
   "attachments": {},
   "cell_type": "markdown",
   "id": "opponent-yugoslavia",
   "metadata": {},
   "source": [
    "### A \"pooled estimate\" of the standard deviation\n",
    "\n",
    "In the original \"Student $t$-test\", we make the assumption that the two groups have the same population standard deviation: that is, regardless of whether the population means are the same, we assume that the population standard deviations are identical, $\\sigma_1 = \\sigma_2$. Since we're assuming that the two standard deviations are the same, we drop the subscripts and refer to both of them as $\\sigma$. How should we estimate this? How should we construct a single estimate of a standard deviation when we have two samples? The answer is, basically, we average them. Well, sort of. Actually, what we do is take a *weighed* average of the *variance* estimates, which we use as our **_pooled estimate of the variance_**. The weight assigned to each sample is equal to the number of observations in that sample, minus 1. Mathematically, we can write this as\n",
    "\n",
    "$$\n",
    "\\begin{array}{rcl}\n",
    "w_1 &=& N_1 - 1\\\\\n",
    "w_2 &=& N_2 - 1\n",
    "\\end{array}\n",
    "$$\n",
    "\n",
    "Now that we've assigned weights to each sample, we calculate the pooled estimate of the variance by taking the weighted average of the two variance estimates, ${\\hat\\sigma_1}^2$ and ${\\hat\\sigma_2}^2$ \n",
    "\n",
    "$$\n",
    "\\hat\\sigma^2_p = \\frac{w_1 {\\hat\\sigma_1}^2 + w_2 {\\hat\\sigma_2}^2}{w_1 + w_2}\n",
    "$$\n",
    "\n",
    "Finally, we convert the pooled variance estimate to a pooled standard deviation estimate, by taking the square root. This gives us the following formula for $\\hat\\sigma_p$,\n",
    "\n",
    "$$\n",
    "\\hat\\sigma_p = \\sqrt{\\frac{w_1 {\\hat\\sigma_1}^2 + w_2 {\\hat\\sigma_2}^2}{w_1 + w_2}}\n",
    "$$\n",
    "\n",
    "And if you mentally substitute $w_1 = N_1 -1$ and $w_2 = N_2 -1$ into this equation you get a very ugly looking formula; a very ugly formula that actually seems to be the \"standard\" way of describing the pooled standard deviation estimate. It's not my favourite way of thinking about pooled standard deviations, however.[^note8]"
   ]
  },
  {
   "attachments": {},
   "cell_type": "markdown",
   "id": "excited-soccer",
   "metadata": {},
   "source": [
    "### The same pooled estimate, described differently\n",
    "\n",
    "I prefer to think about it like this. Our data set actually corresponds to a set of $N$ observations, which are sorted into two groups. So let's use the notation $X_{ik}$ to refer to the grade received by the $i$-th student in the $k$-th tutorial group: that is, $X_{11}$ is the grade received by the first student in Anastasia's class, $X_{21}$ is her second student, and so on. And we have two separate group means $\\bar{X}_1$ and $\\bar{X}_2$, which we could \"generically\" refer to using the notation $\\bar{X}_k$, i.e., the mean grade for the $k$-th tutorial group. So far, so good. Now, since every single student falls into one of the two tutorials, then we can describe their deviation from the group mean as the difference\n",
    "\n",
    "$$\n",
    "X_{ik} - \\bar{X}_k\n",
    "$$\n",
    "\n",
    "So why not just use these deviations (i.e., the extent to which each student's grade differs from the mean grade in their tutorial?) Remember, a variance is just the average of a bunch of squared deviations, so let's do that. Mathematically, we could write it like this:\n",
    "\n",
    "$$\n",
    "\\frac{\\sum_{ik} \\left( X_{ik} - \\bar{X}_k \\right)^2}{N}\n",
    "$$\n",
    "\n",
    "where the notation \"$\\sum_{ik}$\" is a lazy way of saying \"calculate a sum by looking at all students in all tutorials\", since each \"$ik$\" corresponds to one student.^[A more correct notation will be introduced in chapter on ANOVA(anova).] But, as we saw in the chapter on [estimation](estimation), calculating the variance by dividing by $N$ produces a biased estimate of the population variance. And previously, we needed to divide by $N-1$ to fix this. However, as I mentioned at the time, the reason why this bias exists is because the variance estimate relies on the sample mean; and to the extent that the sample mean isn't equal to the population mean, it can systematically bias our estimate of the variance. But this time we're relying on *two* sample means! Does this mean that we've got more bias? Yes, yes it does. And does this mean we now need to divide by $N-2$ instead of $N-1$, in order to calculate our pooled variance estimate? Why, yes...\n",
    "\n",
    "$$\n",
    "\\hat\\sigma^2_p = \\frac{\\sum_{ik} \\left( X_{ik} - \\bar{X}_k \\right)^2}{N -2}\n",
    "$$\n",
    "\n",
    "Oh, and if you take the square root of this then you get $\\hat{\\sigma}_p$, the pooled standard deviation estimate. In other words, the pooled standard deviation calculation is nothing special: it's not terribly different to the regular standard deviation calculation. "
   ]
  },
  {
   "attachments": {},
   "cell_type": "markdown",
   "id": "rocky-funds",
   "metadata": {},
   "source": [
    "(indsamplesttest_formula)=\n",
    "### Completing the test\n",
    "\n",
    "Regardless of which way you want to think about it, we now have our pooled estimate of the standard deviation. From now on, I'll drop the silly $p$ subscript, and just refer to this estimate as $\\hat\\sigma$. Great. Let's now go back to thinking about the bloody hypothesis test, shall we? Our whole reason for calculating this pooled estimate was that we knew it would be helpful when calculating our *standard error* estimate. But, standard error of *what*? In the one-sample $t$-test, it was the standard error of the sample mean, $\\mbox{SE}({\\bar{X}})$, and since $\\mbox{SE}({\\bar{X}}) = \\sigma / \\sqrt{N}$ that's what the denominator of our $t$-statistic looked like. This time around, however, we have *two* sample means. And what we're interested in, specifically, is the the difference between the two $\\bar{X}_1 - \\bar{X}_2$. As a consequence, the standard error that we need to divide by is in fact the **_standard error of the difference_** between means. As long as the two variables really do have the same standard deviation, then our estimate for the standard error is\n",
    "\n",
    "$$\n",
    "\\mbox{SE}({\\bar{X}_1 - \\bar{X}_2}) = \\hat\\sigma \\sqrt{\\frac{1}{N_1} + \\frac{1}{N_2}}\n",
    "$$\n",
    "\n",
    "and our $t$-statistic is therefore \n",
    "\n",
    "$$\n",
    "t = \\frac{\\bar{X}_1 - \\bar{X}_2}{\\mbox{SE}({\\bar{X}_1 - \\bar{X}_2})}\n",
    "$$\n",
    "\n",
    "Just as we saw with our one-sample test, the sampling distribution of this $t$-statistic is a $t$-distribution (shocking, isn't it?) as long as the null hypothesis is true, and all of the assumptions of the test are met. The degrees of freedom, however, is slightly different. As usual, we can think of the degrees of freedom to be equal to the number of data points minus the number of constraints. In this case, we have $N$ observations ($N_1$ in sample 1, and $N_2$ in sample 2), and 2 constraints (the sample means). So the total degrees of freedom for this test are $N-2$. "
   ]
  },
  {
   "attachments": {},
   "cell_type": "markdown",
   "id": "competent-eating",
   "metadata": {},
   "source": [
    "### Doing the test in Python\n",
    "\n",
    "Now, you can run an independent samples $t$-test with a method from `scipy`, and since the method for a one-sample $t$-test was `ttest_1samp`, it may come as no big surprise to you that the method for an independent-samples $t$-test is called `ttest_ind`. But from here on out, I think it will be easier for everyone (certainly easier for me!) if we use `pingouin` to ease the process of running these tests. How will it make it easier, you ask? Well, for one thing, remember how we just used the `ttest()` function from `pingouin` to run a one-sample $t$-test? Well we can use _the exact same function_ to run _all_ of the $t$-tests in this chapter. How's that for making things easier? Also, `pingouin` unifies the output format, so we get the same familiar table for each one of the tests.\n",
    "\n",
    "So let's give it a try. An important point here, and one that can cause a lot of frustration if you don't realize what is going on, is that `ttest()` wants the data from the two groups served up as two separate variables (this is true of the `scipy` version as well, by the way). Since Dr Harpo sent the data to us in _long format_, that is, with all the grades in one column, and a second column telling us who the tutor was for each student, we will need to do something to break the grade data into two. So step one will be creating a new dataframe, with one column per tutor (\"wide\" format):"
   ]
  },
  {
   "cell_type": "code",
   "execution_count": 27,
   "id": "graphic-settlement",
   "metadata": {},
   "outputs": [
    {
     "data": {
      "text/html": [
       "<div>\n",
       "<style scoped>\n",
       "    .dataframe tbody tr th:only-of-type {\n",
       "        vertical-align: middle;\n",
       "    }\n",
       "\n",
       "    .dataframe tbody tr th {\n",
       "        vertical-align: top;\n",
       "    }\n",
       "\n",
       "    .dataframe thead th {\n",
       "        text-align: right;\n",
       "    }\n",
       "</style>\n",
       "<table border=\"1\" class=\"dataframe\">\n",
       "  <thead>\n",
       "    <tr style=\"text-align: right;\">\n",
       "      <th></th>\n",
       "      <th>Anastasia</th>\n",
       "      <th>Bernadette</th>\n",
       "    </tr>\n",
       "  </thead>\n",
       "  <tbody>\n",
       "    <tr>\n",
       "      <th>0</th>\n",
       "      <td>65.0</td>\n",
       "      <td>NaN</td>\n",
       "    </tr>\n",
       "    <tr>\n",
       "      <th>1</th>\n",
       "      <td>NaN</td>\n",
       "      <td>72.0</td>\n",
       "    </tr>\n",
       "    <tr>\n",
       "      <th>2</th>\n",
       "      <td>NaN</td>\n",
       "      <td>66.0</td>\n",
       "    </tr>\n",
       "    <tr>\n",
       "      <th>3</th>\n",
       "      <td>74.0</td>\n",
       "      <td>NaN</td>\n",
       "    </tr>\n",
       "    <tr>\n",
       "      <th>4</th>\n",
       "      <td>73.0</td>\n",
       "      <td>NaN</td>\n",
       "    </tr>\n",
       "  </tbody>\n",
       "</table>\n",
       "</div>"
      ],
      "text/plain": [
       "   Anastasia  Bernadette\n",
       "0       65.0         NaN\n",
       "1        NaN        72.0\n",
       "2        NaN        66.0\n",
       "3       74.0         NaN\n",
       "4       73.0         NaN"
      ]
     },
     "execution_count": 27,
     "metadata": {},
     "output_type": "execute_result"
    }
   ],
   "source": [
    "\n",
    "Harpo_wide = pd.DataFrame(\n",
    "                {'Anastasia': df.loc[df['tutor'] == 'Anastasia']['grade'],\n",
    "                 'Bernadette': df.loc[df['tutor'] == 'Bernadette']['grade']})\n",
    "\n",
    "Harpo_wide.head()\n"
   ]
  },
  {
   "attachments": {},
   "cell_type": "markdown",
   "id": "5d490fe6",
   "metadata": {},
   "source": [
    "Now, you will have noticed right away that this new dataframe has a bunch of things that aren't numbers in it. In fact, \"NaN\" stands for \"Not a Number\". But after a moment's reflection, this makes perfect sense: the students were divided up between Anastasia and Bernadette, and so of course now that we have a row for each student, if a student has Anastasia as a tutor, they can't _also_ have Bernadette as a tutor. Luckily, `ttest()` is smart enough to see what is going on, and deal with it appropriately. So, now that we have all of our ducks in order, let's do the test:"
   ]
  },
  {
   "cell_type": "code",
   "execution_count": 28,
   "id": "short-wages",
   "metadata": {},
   "outputs": [
    {
     "data": {
      "text/html": [
       "<div>\n",
       "<style scoped>\n",
       "    .dataframe tbody tr th:only-of-type {\n",
       "        vertical-align: middle;\n",
       "    }\n",
       "\n",
       "    .dataframe tbody tr th {\n",
       "        vertical-align: top;\n",
       "    }\n",
       "\n",
       "    .dataframe thead th {\n",
       "        text-align: right;\n",
       "    }\n",
       "</style>\n",
       "<table border=\"1\" class=\"dataframe\">\n",
       "  <thead>\n",
       "    <tr style=\"text-align: right;\">\n",
       "      <th></th>\n",
       "      <th>T</th>\n",
       "      <th>dof</th>\n",
       "      <th>alternative</th>\n",
       "      <th>p-val</th>\n",
       "      <th>CI95%</th>\n",
       "      <th>cohen-d</th>\n",
       "      <th>BF10</th>\n",
       "      <th>power</th>\n",
       "    </tr>\n",
       "  </thead>\n",
       "  <tbody>\n",
       "    <tr>\n",
       "      <th>T-test</th>\n",
       "      <td>2.115432</td>\n",
       "      <td>31</td>\n",
       "      <td>two-sided</td>\n",
       "      <td>0.042529</td>\n",
       "      <td>[0.2, 10.76]</td>\n",
       "      <td>0.739561</td>\n",
       "      <td>1.755</td>\n",
       "      <td>0.53577</td>\n",
       "    </tr>\n",
       "  </tbody>\n",
       "</table>\n",
       "</div>"
      ],
      "text/plain": [
       "               T  dof alternative     p-val         CI95%   cohen-d   BF10  \\\n",
       "T-test  2.115432   31   two-sided  0.042529  [0.2, 10.76]  0.739561  1.755   \n",
       "\n",
       "          power  \n",
       "T-test  0.53577  "
      ]
     },
     "execution_count": 28,
     "metadata": {},
     "output_type": "execute_result"
    }
   ],
   "source": [
    "from pingouin import ttest\n",
    "\n",
    "ttest(Harpo_wide['Anastasia'], Harpo_wide['Bernadette'], correction = False)\n"
   ]
  },
  {
   "attachments": {},
   "cell_type": "markdown",
   "id": "operational-packaging",
   "metadata": {},
   "source": [
    "You probably noticed that in addition to telling `ttest()` which means I wanted to compare, I also added the argument `correction = False` to the command. This wasn't strictly necessary in this case, because by default this argument is set to `True`. By saying `correction = False`, what we're really doing is telling Python to use the *Student* independent samples $t$-test, and not the *Welch* independent samples $t$-test. More on this later, when we get to [Welch](welchttest). For now, let's just get the descriptive statistics for Anastasia and Bernadette's students so we can report our results:"
   ]
  },
  {
   "cell_type": "code",
   "execution_count": 29,
   "id": "6f6a0f60",
   "metadata": {},
   "outputs": [
    {
     "data": {
      "text/html": [
       "<div>\n",
       "<style scoped>\n",
       "    .dataframe tbody tr th:only-of-type {\n",
       "        vertical-align: middle;\n",
       "    }\n",
       "\n",
       "    .dataframe tbody tr th {\n",
       "        vertical-align: top;\n",
       "    }\n",
       "\n",
       "    .dataframe thead th {\n",
       "        text-align: right;\n",
       "    }\n",
       "</style>\n",
       "<table border=\"1\" class=\"dataframe\">\n",
       "  <thead>\n",
       "    <tr style=\"text-align: right;\">\n",
       "      <th></th>\n",
       "      <th>Anastasia</th>\n",
       "      <th>Bernadette</th>\n",
       "    </tr>\n",
       "  </thead>\n",
       "  <tbody>\n",
       "    <tr>\n",
       "      <th>count</th>\n",
       "      <td>15.000000</td>\n",
       "      <td>18.000000</td>\n",
       "    </tr>\n",
       "    <tr>\n",
       "      <th>mean</th>\n",
       "      <td>74.533333</td>\n",
       "      <td>69.055556</td>\n",
       "    </tr>\n",
       "    <tr>\n",
       "      <th>std</th>\n",
       "      <td>8.998942</td>\n",
       "      <td>5.774918</td>\n",
       "    </tr>\n",
       "    <tr>\n",
       "      <th>min</th>\n",
       "      <td>55.000000</td>\n",
       "      <td>56.000000</td>\n",
       "    </tr>\n",
       "    <tr>\n",
       "      <th>25%</th>\n",
       "      <td>69.000000</td>\n",
       "      <td>66.250000</td>\n",
       "    </tr>\n",
       "    <tr>\n",
       "      <th>50%</th>\n",
       "      <td>76.000000</td>\n",
       "      <td>69.000000</td>\n",
       "    </tr>\n",
       "    <tr>\n",
       "      <th>75%</th>\n",
       "      <td>79.000000</td>\n",
       "      <td>73.000000</td>\n",
       "    </tr>\n",
       "    <tr>\n",
       "      <th>max</th>\n",
       "      <td>90.000000</td>\n",
       "      <td>79.000000</td>\n",
       "    </tr>\n",
       "  </tbody>\n",
       "</table>\n",
       "</div>"
      ],
      "text/plain": [
       "       Anastasia  Bernadette\n",
       "count  15.000000   18.000000\n",
       "mean   74.533333   69.055556\n",
       "std     8.998942    5.774918\n",
       "min    55.000000   56.000000\n",
       "25%    69.000000   66.250000\n",
       "50%    76.000000   69.000000\n",
       "75%    79.000000   73.000000\n",
       "max    90.000000   79.000000"
      ]
     },
     "execution_count": 29,
     "metadata": {},
     "output_type": "execute_result"
    }
   ],
   "source": [
    "\n",
    "Harpo_wide.describe()"
   ]
  },
  {
   "attachments": {},
   "cell_type": "markdown",
   "id": "amino-overhead",
   "metadata": {},
   "source": [
    "The difference between the two groups is significant (just barely), so we might write up the result using text like this:\n",
    "\n",
    "> The mean grade in Anastasia's class was 74.5\\% (std dev = 9.0), whereas the mean in Bernadette's class was 69.1\\% (std dev = 5.8). A Student's independent samples $t$-test showed that this 5.4\\% difference was significant ($t(31) = 2.1$, $p<.05$), suggesting that a genuine difference in learning outcomes has occurred.\n"
   ]
  },
  {
   "attachments": {},
   "cell_type": "markdown",
   "id": "unable-providence",
   "metadata": {},
   "source": [
    " \n",
    "### Positive and negative $t$ values\n",
    "\n",
    "Before moving on to talk about the assumptions of the $t$-test, there's one additional point I want to make about the use of $t$-tests in practice. The first one relates to the sign of the $t$-statistic (that is, whether it is a positive number or a negative one).  One very common worry that students have when they start running their first $t$-test is that they often end up with negative values for the $t$-statistic, and don't know how to interpret it. In fact, it's not at all uncommon for two  people working independently to end up with Python outputs that are almost identical, except that one person has a negative $t$ values and the other one has a positive $t$ value. Assuming that  you're running a two-sided test, then the $p$-values will be identical. On closer inspection, the students will notice that the confidence intervals also have the opposite signs. This is perfectly okay: whenever this happens, what you'll find is that the two versions of the Python output arise from slightly different ways of running the $t$-test. What's happening here is very simple. The $t$-statistic that Python is calculating here is always of the form \n",
    "\n",
    "$$\n",
    "t = \\frac{\\mbox{(mean 1)} -\\mbox{(mean 2)}}{ \\mbox{(SE)}}\n",
    "$$\n",
    "\n",
    "If \"mean 1\" is larger than \"mean 2\" the $t$ statistic will be positive, whereas if \"mean 2\" is larger then the $t$ statistic will be negative. Similarly, the confidence interval that R reports is the confidence interval for the difference \"(mean 1) minus (mean 2)\", which will be the reverse of what you'd get if you were calculating the confidence interval for the difference \"(mean 2) minus (mean 1)\".\n",
    "\n",
    "Okay, that's pretty straightforward when you think about it, but now consider our $t$-test comparing Anastasia's class to Bernadette's class. Which one should we call \"mean 1\" and which one should we call \"mean 2\". It's arbitrary. However, you really do need to designate one of them as \"mean 1\" and the other one as \"mean 2\". Not surprisingly, the way that Python handles this is also pretty arbitrary. In earlier versions of the book I used to try to explain it, but after a while I gave up, because it's not really all that important, and to be honest I can never remember myself. Whenever I get a significant $t$-test result, and I want to figure out which mean is the larger one, I don't try to figure it out by looking at the $t$-statistic. Why would I bother doing that? It's foolish. It's easier just look at the actual group means!\n",
    "\n",
    "\n",
    "Here's the important thing. Because it really doesn't matter what Python printed out, I usually try to *report* the $t$-statistic in such a way that the numbers match up with the text. Here's what I mean... suppose that what I want to write in my report is \"Anastasia's class had higher  grades than Bernadette's class\". The phrasing here implies that Anastasia's group comes first, so it makes sense to report the $t$-statistic as if Anastasia's class corresponded to group 1. If so, I would write \n",
    "\n",
    ">Anastasia's class had *higher* grades than Bernadette's class ($t(31)= 2.1, p=.04$). \n",
    "\n",
    "(I wouldn't actually emphasise the word \"higher\" in real life, I'm just doing it to emphasise the point that \"higher\" corresponds to positive $t$ values). On the other hand, suppose the phrasing I wanted to use has Bernadette's class listed first. If so, it makes more sense to treat her class as group 1, and if so, the write up looks like this:\n",
    "\n",
    "> Bernadette's class had *lower* grades than Anastasia's class ($t(31)= -2.1, p=.04$). \n",
    "\n",
    "Because I'm talking about one group having \"lower\" scores this time around, it is more sensible to use the negative form of the $t$-statistic. It just makes it read more cleanly.\n",
    "\n",
    "One last thing: please note that you *can't* do this for other types of test statistics. It works for $t$-tests, but it wouldn't be meaningful for  chi-square testsm $F$-tests or indeed for most of the tests I talk about in this book. So don't overgeneralise this advice! I'm really just talking about $t$-tests here and nothing else!"
   ]
  },
  {
   "attachments": {},
   "cell_type": "markdown",
   "id": "younger-monitor",
   "metadata": {},
   "source": [
    "(studentassumptions)= \n",
    "### Assumptions of the test\n",
    "\n",
    "As always, our hypothesis test relies on some assumptions. So what are they? For the Student t-test there are three assumptions, some of which we saw previously in the context of the one sample $t$-test (see Section \\@ref(ttestoneassumptions)):\n",
    "\n",
    "\n",
    "- *Normality*. Like the one-sample $t$-test, it is assumed that the data are normally distributed. Specifically, we assume that both groups are normally distributed. In Section \\@ref(shapiro) we'll discuss how to test for normality, and in Section \\@ref(wilcox) we'll discuss possible solutions.\n",
    "- *Independence*. Once again, it is assumed that the observations are independently sampled. In the context of the Student test this has two aspects to it. Firstly, we assume that the observations within each sample are independent of one another (exactly the same as for the one-sample test). However, we also assume that there are no cross-sample dependencies. If, for instance, it turns out that you included some participants in both experimental conditions of your study (e.g., by accidentally allowing the same person to sign up to different conditions), then there are some cross sample dependencies that you'd need to take into account.\n",
    "- *Homogeneity of variance* (also called \"homoscedasticity\"). The third assumption is that the population standard deviation is the same in both groups. You can test this assumption using the Levene test, which I'll talk about later on in the book (Section \\@ref(levene)). However, there's a very simple remedy for this assumption, which I'll talk about in the next section."
   ]
  },
  {
   "attachments": {},
   "cell_type": "markdown",
   "id": "demographic-roommate",
   "metadata": {},
   "source": [
    "(welchttest)=\n",
    "## The independent samples $t$-test (Welch test)\n",
    "\n",
    "The biggest problem with using the Student test in practice is the third assumption listed in the previous section: it assumes that both groups have the same standard deviation. This is rarely true in real life: if two samples don't have the same means, why should we expect them to have the same standard deviation? There's really no reason to expect this assumption to be true. We'll talk a little bit about how you can check this assumption later on because it does crop up in a few different places, not just the $t$-test. But right now I'll talk about a different form of the $t$-test {cite}`Welch1947` that does not rely on this assumption. A graphical illustration of what the **_Welch $t$ test_** assumes about the data is shown in Figure {numref}`fig-ttesthyp2`, to provide a contrast with the Student test version in {numref}`fig-ttesthyp`. I'll admit it's a bit odd to talk about the cure before talking about the diagnosis, but as it happens the Welch test is often the default $t$-test, so this is probably the best place to discuss it. \n",
    "\n",
    "The Welch test is very similar to the Student test. For example, the $t$-statistic that we use in the Welch test is calculated in much the same way as it is for the Student test. That is, we take the difference between the sample means, and then divide it by some estimate of the standard error of that difference:\n",
    "\n",
    "$$\n",
    "t = \\frac{\\bar{X}_1 - \\bar{X}_2}{\\mbox{SE}({\\bar{X}_1 - \\bar{X}_2})}\n",
    "$$\n",
    "\n",
    "The main difference is that the standard error calculations are different. If the two populations have different standard deviations, then it's a complete nonsense to try to calculate a pooled standard deviation estimate, because you're averaging apples and oranges.[^note9] But you can still estimate the standard error of the difference between sample means; it just ends up looking different:\n",
    "\n",
    "$$\n",
    "\\mbox{SE}({\\bar{X}_1 - \\bar{X}_2}) = \\sqrt{ \\frac{{\\hat{\\sigma}_1}^2}{N_1} + \\frac{{\\hat{\\sigma}_2}^2}{N_2} }\n",
    "$$\n",
    "\n",
    "The reason why it's calculated this way is beyond the scope of this book. What matters for our purposes is that the $t$-statistic that comes out of the Welch test is actually somewhat different to the one that comes from the Student test. \n",
    "\n",
    "The second difference between Welch and Student is that the degrees of freedom are calculated in a very different way. In the Welch test, the \"degrees of freedom \" doesn't have to be a whole number any more, and it doesn't correspond all that closely to the \"number of data points minus the number of constraints\" heuristic that I've been using up to this point. The degrees of freedom are, in fact...\n",
    "\n",
    "$$\n",
    "\\mbox{df} = \\frac{ ({\\hat{\\sigma}_1}^2 / N_1 + {\\hat{\\sigma}_2}^2 / N_2)^2 }{  ({\\hat{\\sigma}_1}^2 / N_1)^2 / (N_1 -1 )  + ({\\hat{\\sigma}_2}^2 / N_2)^2 / (N_2 -1 ) } \n",
    "$$\n",
    "\n",
    "... which is all pretty straightforward and obvious, right? Well, perhaps not. It doesn't really matter for our purposes. What matters is that you'll see that the \"df\" value that pops out of a Welch test tends to be a little bit smaller than the one used for the Student test, and it doesn't have to be a whole number. "
   ]
  },
  {
   "cell_type": "code",
   "execution_count": 30,
   "id": "suspected-defendant",
   "metadata": {
    "tags": [
     "hide-input"
    ]
   },
   "outputs": [
    {
     "data": {
      "application/papermill.record/image/png": "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",
      "application/papermill.record/text/plain": "<Figure size 1500x500 with 2 Axes>"
     },
     "metadata": {
      "scrapbook": {
       "mime_prefix": "application/papermill.record/",
       "name": "ttesthyp2_fig"
      }
     },
     "output_type": "display_data"
    }
   ],
   "source": [
    "\n",
    "\n",
    "mu1 = 0\n",
    "sigma1 = 1\n",
    "mu2 = 2\n",
    "sigma2 = 1.45\n",
    "\n",
    "x1 = np.linspace(mu1 - 4*sigma, mu1 + 4*sigma1, 100)\n",
    "y1 = 100* stats.norm.pdf(x1, mu1, sigma1)\n",
    "x2 = np.linspace(mu2 - 4*sigma, mu2 + 4*sigma2, 100)\n",
    "y2 = 100* stats.norm.pdf(x2, mu2, sigma2)\n",
    "\n",
    "\n",
    "fig, (ax1, ax2) = plt.subplots(1, 2, figsize=(15, 5))\n",
    "\n",
    "\n",
    "sns.lineplot(x=x,y=y, color='black', ax = ax1)\n",
    "\n",
    "sns.lineplot(x=x,y=y, color='black', ax = ax2)\n",
    "sns.lineplot(x=x2,y=y2, color='black', ax = ax2)\n",
    "\n",
    "ax1.text(0, 47, 'null hypothesis', size=20, ha=\"center\")\n",
    "ax2.text(0, 47, 'alternative hypothesis', size=20, ha=\"center\")\n",
    "\n",
    "ax1.text(0, 41, r'$\\mu$', size=20, ha=\"center\")\n",
    "ax2.text(0, 41, r'$\\mu_1$', size=20, ha=\"center\")\n",
    "ax2.text(1.50, 30, r'$\\mu_2$', size=20, ha=\"left\")\n",
    "\n",
    "ax1.set_frame_on(False)\n",
    "ax2.set_frame_on(False)\n",
    "ax1.get_yaxis().set_visible(False)\n",
    "ax2.get_yaxis().set_visible(False)\n",
    "ax1.get_xaxis().set_visible(False)\n",
    "ax2.get_xaxis().set_visible(False)\n",
    "ax1.axhline(y=0, color='black')\n",
    "ax2.axhline(y=0, color='black')\n",
    "\n",
    "# show the figure in the book with caption\n",
    "plt.close()\n",
    "from myst_nb import glue\n",
    "glue(\"ttesthyp2_fig\", fig, display=False)\n"
   ]
  },
  {
   "attachments": {},
   "cell_type": "markdown",
   "id": "streaming-logan",
   "metadata": {},
   "source": [
    " ```{glue:figure} ttesthyp2_fig\n",
    ":figwidth: 600px\n",
    ":name: fig-ttesthyp2\n",
    "\n",
    "Graphical illustration of the null and alternative hypotheses assumed by the Welch $t$-test. Like the Student test we assume that both samples are drawn from a normal population; but the alternative hypothesis no longer requires the two populations to have equal variance.\n",
    "```"
   ]
  },
  {
   "attachments": {},
   "cell_type": "markdown",
   "id": "phantom-purchase",
   "metadata": {},
   "source": [
    "### Doing the test in Python\n",
    "\n",
    "To run a Welch test in Python is pretty easy. All you have to do is not bother telling Python to assume equal variances. That is, the command is exactly the same as for the Student test, but where `correction = True`. In fact, in this case, you could just leave the `correction` argument off entirely, because Anasatasia and Bernadette had different numbers of students, and in cases where the $t$-test is comparing two unequal-sized samples, `pingouin` assumes unequal variance and does a Welch test by default, which is why we had to force it to do a Student test above by setting `correction` to `False`."
   ]
  },
  {
   "cell_type": "code",
   "execution_count": 31,
   "id": "homeless-insight",
   "metadata": {},
   "outputs": [
    {
     "data": {
      "text/html": [
       "<div>\n",
       "<style scoped>\n",
       "    .dataframe tbody tr th:only-of-type {\n",
       "        vertical-align: middle;\n",
       "    }\n",
       "\n",
       "    .dataframe tbody tr th {\n",
       "        vertical-align: top;\n",
       "    }\n",
       "\n",
       "    .dataframe thead th {\n",
       "        text-align: right;\n",
       "    }\n",
       "</style>\n",
       "<table border=\"1\" class=\"dataframe\">\n",
       "  <thead>\n",
       "    <tr style=\"text-align: right;\">\n",
       "      <th></th>\n",
       "      <th>T</th>\n",
       "      <th>dof</th>\n",
       "      <th>alternative</th>\n",
       "      <th>p-val</th>\n",
       "      <th>CI95%</th>\n",
       "      <th>cohen-d</th>\n",
       "      <th>BF10</th>\n",
       "      <th>power</th>\n",
       "    </tr>\n",
       "  </thead>\n",
       "  <tbody>\n",
       "    <tr>\n",
       "      <th>T-test</th>\n",
       "      <td>2.034187</td>\n",
       "      <td>23.024806</td>\n",
       "      <td>two-sided</td>\n",
       "      <td>0.05361</td>\n",
       "      <td>[-0.09, 11.05]</td>\n",
       "      <td>0.739561</td>\n",
       "      <td>1.556</td>\n",
       "      <td>0.53577</td>\n",
       "    </tr>\n",
       "  </tbody>\n",
       "</table>\n",
       "</div>"
      ],
      "text/plain": [
       "               T        dof alternative    p-val           CI95%   cohen-d  \\\n",
       "T-test  2.034187  23.024806   two-sided  0.05361  [-0.09, 11.05]  0.739561   \n",
       "\n",
       "         BF10    power  \n",
       "T-test  1.556  0.53577  "
      ]
     },
     "execution_count": 31,
     "metadata": {},
     "output_type": "execute_result"
    }
   ],
   "source": [
    "from pingouin import ttest\n",
    "\n",
    "ttest(Harpo_wide['Anastasia'], Harpo_wide['Bernadette'], correction = True)"
   ]
  },
  {
   "attachments": {},
   "cell_type": "markdown",
   "id": "precious-essex",
   "metadata": {},
   "source": [
    "Not too difficult, right? Not surprisingly, the output has exactly the same format as it did last time too: a test statistic $t$, and a $p$-value. So that's all pretty easy. \n",
    "\n",
    "Except, except... our result isn't significant anymore. When we ran the Student test, we did get a significant effect; but the Welch test on the same data set is not ($t(23.03) = 2.03$, $p = .054$). What does this mean? Should we panic? Is the sky burning? Probably not. The fact that one test is significant and the other isn't doesn't itself mean very much, especially since I kind of rigged the data so that this would happen. As a general rule, it's not a good idea to go out of your way to try to interpret or explain the difference between a $p$-value of .049 and a $p$-value of .051. If this sort of thing happens in real life, the *difference* in these $p$-values is almost certainly due to chance. What does matter is that you take a little bit of care in thinking about what test you use. The Student test and the Welch test have different strengths and weaknesses. If the two populations really do have equal variances, then the Student test is slightly more powerful (lower Type II error rate) than the Welch test. However, if they *don't* have the same variances, then the assumptions of the Student test are violated and you may not be able to trust it: you might end up with a higher Type I error rate. So it's a trade off. However, in real life, I tend to prefer the Welch test; because almost no-one *actually* believes that the population variances are identical.\n",
    "\n",
    "\n",
    "### Assumptions of the test\n",
    "\n",
    "The assumptions of the Welch test are very similar to those made by the [Student $t$-test](studentassumptions), except that the Welch test does not assume homogeneity of variance. This leaves only the assumption of normality, and the assumption of independence. The specifics of these assumptions are the same for the Welch test as for the Student test. "
   ]
  },
  {
   "attachments": {},
   "cell_type": "markdown",
   "id": "liable-execution",
   "metadata": {},
   "source": [
    "(pairedsamplesttest)=\n",
    "## The paired-samples $t$-test\n",
    "\n",
    "Regardless of whether we're talking about the Student test or the Welch test, an independent samples $t$-test is intended to be used in a situation where you have two samples that are, well, independent of one another. This situation arises naturally when participants are assigned randomly to one of two experimental conditions, but it provides a very poor approximation to other sorts of research designs. In particular, a repeated measures design -- in which each participant is measured (with respect to the same outcome variable) in both experimental conditions -- is not suited for analysis using independent samples $t$-tests. For example, we might be interested in whether listening to music reduces people's working memory capacity. To that end, we could measure each person's working memory capacity in two conditions: with music, and without music. In an experimental design such as this one,[^note10] each participant appears in *both* groups. This requires us to approach the problem in a different way; by using the **_paired samples $t$-test_**. "
   ]
  },
  {
   "attachments": {},
   "cell_type": "markdown",
   "id": "pharmaceutical-creator",
   "metadata": {},
   "source": [
    "### The data\n",
    "\n",
    "The data set that we'll use this time comes from Dr Chico's class.[^note11] In her class, students take two major tests, one early in the semester and one later in the semester. To hear her tell it, she runs a very hard class, one that most students find very challenging; but she argues that by setting hard assessments, students are encouraged to work harder. Her theory is that the first test is a bit of a \"wake up call\" for students: when they realise how hard her class really is, they'll work harder for the second test and get a better mark. Is she right? To test this, let's have a look at the `chico.csv` file: "
   ]
  },
  {
   "cell_type": "code",
   "execution_count": 32,
   "id": "correct-hospital",
   "metadata": {},
   "outputs": [],
   "source": [
    "import pandas as pd\n",
    "df = pd.read_csv(\"https://raw.githubusercontent.com/ethanweed/pythonbook/main/Data/chico.csv\")"
   ]
  },
  {
   "attachments": {},
   "cell_type": "markdown",
   "id": "romantic-laptop",
   "metadata": {},
   "source": [
    "The data frame `chico` contains three variables: an `id` variable that identifies each student in the class, the `grade_test1` variable that records the student grade for the first test, and the `grade_test2` variable that has the grades for the second test. Here's the first five students:"
   ]
  },
  {
   "cell_type": "code",
   "execution_count": 33,
   "id": "bulgarian-botswana",
   "metadata": {},
   "outputs": [
    {
     "data": {
      "text/html": [
       "<div>\n",
       "<style scoped>\n",
       "    .dataframe tbody tr th:only-of-type {\n",
       "        vertical-align: middle;\n",
       "    }\n",
       "\n",
       "    .dataframe tbody tr th {\n",
       "        vertical-align: top;\n",
       "    }\n",
       "\n",
       "    .dataframe thead th {\n",
       "        text-align: right;\n",
       "    }\n",
       "</style>\n",
       "<table border=\"1\" class=\"dataframe\">\n",
       "  <thead>\n",
       "    <tr style=\"text-align: right;\">\n",
       "      <th></th>\n",
       "      <th>id</th>\n",
       "      <th>grade_test1</th>\n",
       "      <th>grade_test2</th>\n",
       "    </tr>\n",
       "  </thead>\n",
       "  <tbody>\n",
       "    <tr>\n",
       "      <th>0</th>\n",
       "      <td>student1</td>\n",
       "      <td>42.9</td>\n",
       "      <td>44.6</td>\n",
       "    </tr>\n",
       "    <tr>\n",
       "      <th>1</th>\n",
       "      <td>student2</td>\n",
       "      <td>51.8</td>\n",
       "      <td>54.0</td>\n",
       "    </tr>\n",
       "    <tr>\n",
       "      <th>2</th>\n",
       "      <td>student3</td>\n",
       "      <td>71.7</td>\n",
       "      <td>72.3</td>\n",
       "    </tr>\n",
       "    <tr>\n",
       "      <th>3</th>\n",
       "      <td>student4</td>\n",
       "      <td>51.6</td>\n",
       "      <td>53.4</td>\n",
       "    </tr>\n",
       "    <tr>\n",
       "      <th>4</th>\n",
       "      <td>student5</td>\n",
       "      <td>63.5</td>\n",
       "      <td>63.8</td>\n",
       "    </tr>\n",
       "  </tbody>\n",
       "</table>\n",
       "</div>"
      ],
      "text/plain": [
       "         id  grade_test1  grade_test2\n",
       "0  student1         42.9         44.6\n",
       "1  student2         51.8         54.0\n",
       "2  student3         71.7         72.3\n",
       "3  student4         51.6         53.4\n",
       "4  student5         63.5         63.8"
      ]
     },
     "execution_count": 33,
     "metadata": {},
     "output_type": "execute_result"
    }
   ],
   "source": [
    "df.head()"
   ]
  },
  {
   "attachments": {},
   "cell_type": "markdown",
   "id": "neutral-maine",
   "metadata": {},
   "source": [
    "At a glance, it does seem like the class is a hard one (most grades are between 50\\% and 60\\%), but it does look like there's an improvement from the first test to the second one. If we take a quick look at the descriptive statistics"
   ]
  },
  {
   "cell_type": "code",
   "execution_count": 34,
   "id": "residential-criterion",
   "metadata": {},
   "outputs": [
    {
     "data": {
      "text/html": [
       "<div>\n",
       "<style scoped>\n",
       "    .dataframe tbody tr th:only-of-type {\n",
       "        vertical-align: middle;\n",
       "    }\n",
       "\n",
       "    .dataframe tbody tr th {\n",
       "        vertical-align: top;\n",
       "    }\n",
       "\n",
       "    .dataframe thead th {\n",
       "        text-align: right;\n",
       "    }\n",
       "</style>\n",
       "<table border=\"1\" class=\"dataframe\">\n",
       "  <thead>\n",
       "    <tr style=\"text-align: right;\">\n",
       "      <th></th>\n",
       "      <th>grade_test1</th>\n",
       "      <th>grade_test2</th>\n",
       "    </tr>\n",
       "  </thead>\n",
       "  <tbody>\n",
       "    <tr>\n",
       "      <th>count</th>\n",
       "      <td>20.000000</td>\n",
       "      <td>20.000000</td>\n",
       "    </tr>\n",
       "    <tr>\n",
       "      <th>mean</th>\n",
       "      <td>56.980000</td>\n",
       "      <td>58.385000</td>\n",
       "    </tr>\n",
       "    <tr>\n",
       "      <th>std</th>\n",
       "      <td>6.616137</td>\n",
       "      <td>6.405612</td>\n",
       "    </tr>\n",
       "    <tr>\n",
       "      <th>min</th>\n",
       "      <td>42.900000</td>\n",
       "      <td>44.600000</td>\n",
       "    </tr>\n",
       "    <tr>\n",
       "      <th>25%</th>\n",
       "      <td>51.750000</td>\n",
       "      <td>53.100000</td>\n",
       "    </tr>\n",
       "    <tr>\n",
       "      <th>50%</th>\n",
       "      <td>57.700000</td>\n",
       "      <td>59.700000</td>\n",
       "    </tr>\n",
       "    <tr>\n",
       "      <th>75%</th>\n",
       "      <td>62.050000</td>\n",
       "      <td>63.050000</td>\n",
       "    </tr>\n",
       "    <tr>\n",
       "      <th>max</th>\n",
       "      <td>71.700000</td>\n",
       "      <td>72.300000</td>\n",
       "    </tr>\n",
       "  </tbody>\n",
       "</table>\n",
       "</div>"
      ],
      "text/plain": [
       "       grade_test1  grade_test2\n",
       "count    20.000000    20.000000\n",
       "mean     56.980000    58.385000\n",
       "std       6.616137     6.405612\n",
       "min      42.900000    44.600000\n",
       "25%      51.750000    53.100000\n",
       "50%      57.700000    59.700000\n",
       "75%      62.050000    63.050000\n",
       "max      71.700000    72.300000"
      ]
     },
     "execution_count": 34,
     "metadata": {},
     "output_type": "execute_result"
    }
   ],
   "source": [
    "df.describe()"
   ]
  },
  {
   "attachments": {},
   "cell_type": "markdown",
   "id": "placed-feeding",
   "metadata": {},
   "source": [
    "we see that this impression seems to be supported. Across all 20 students[^note12] the mean grade for the first test is 57\\%, but this rises to 58\\% for the second test. Although, given that the standard deviations are 6.6\\% and 6.4\\% respectively, it's starting to feel like maybe the improvement is just illusory; maybe just random variation. This impression is reinforced when you see the means and confidence intervals plotted in {numref}`pairedta` panel A. If we were to rely on this plot alone, we'd come to the same conclusion that we got from looking at the descriptive statistics that the `describe()` method produced. Looking at how wide those confidence intervals are, we'd be tempted to think that the apparent improvement in student performance is pure chance."
   ]
  },
  {
   "cell_type": "code",
   "execution_count": 35,
   "id": "casual-valve",
   "metadata": {
    "tags": [
     "hide-input"
    ]
   },
   "outputs": [
    {
     "data": {
      "application/papermill.record/image/png": "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",
      "application/papermill.record/text/plain": "<Figure size 1500x500 with 3 Axes>"
     },
     "metadata": {
      "scrapbook": {
       "mime_prefix": "application/papermill.record/",
       "name": "pairedta_fig"
      }
     },
     "output_type": "display_data"
    }
   ],
   "source": [
    "fig, (ax1, ax2, ax3) = plt.subplots(1, 3, figsize=(15, 5))\n",
    "\n",
    "df = pd.read_csv(\"https://raw.githubusercontent.com/ethanweed/pythonbook/main/Data/chico.csv\")\n",
    "\n",
    "sns.pointplot(data=df, ax = ax1)\n",
    "sns.scatterplot(data = df, x='grade_test1', y='grade_test2', ax = ax2)\n",
    "\n",
    "ax2.plot(ax2.get_xlim(), ax2.get_ylim(), ls=\"--\", c=\".3\")\n",
    "\n",
    "#ax1.set_ylim(40,80)\n",
    "#ax1.set_xlim(40,80)\n",
    "#ax1.set_ylim(40,80)\n",
    "\n",
    "\n",
    "df2 = df\n",
    "df2['improvement'] = df2['grade_test2']-df2['grade_test1']\n",
    "\n",
    "sns.histplot(data = df2, x='improvement')\n",
    "\n",
    "ax1.title.set_text('A')\n",
    "ax2.title.set_text('B')\n",
    "ax3.title.set_text('C')\n",
    "\n",
    "sns.despine()\n",
    "\n",
    "# show the figure in the book with caption\n",
    "plt.close()\n",
    "from myst_nb import glue\n",
    "glue(\"pairedta_fig\", fig, display=False)"
   ]
  },
  {
   "attachments": {},
   "cell_type": "markdown",
   "id": "legislative-accessory",
   "metadata": {},
   "source": [
    "```{glue:figure} pairedta_fig\n",
    ":figwidth: 600px\n",
    ":name: fig-pairedta\n",
    "\n",
    "Mean grade for test 1 and test 2, with associated 95% confidence intervals (panel a). Scat- terplot showing the individual grades for test 1 and test 2 (panel b). Histogram showing the improvement made by each student in Dr Chico’s class (panel c). In panel c, notice that almost the entire distribution is above zero: the vast majority of students did improve their performance from the first test to the second one\n",
    "\n",
    "```"
   ]
  },
  {
   "attachments": {},
   "cell_type": "markdown",
   "id": "inner-pathology",
   "metadata": {},
   "source": [
    "Nevertheless, this impression is wrong. To see why, take a look at the scatterplot of the grades for test 1 against the grades for test 2.  shown in {numref}`fig-pairedta` panel B. \n",
    "\n",
    "\n",
    "\n",
    "In this plot, each dot corresponds to the two grades for a given student: if their grade for test 1 ($x$ co-ordinate) equals their grade for test 2 ($y$ co-ordinate), then the dot falls on the line. Points falling above the line are the students that performed better on the second test. Critically, almost all of the data points fall above the diagonal line: almost all of the students *do* seem to have improved their grade, if only by a small amount. This suggests that we should be looking at the *improvement* made by each student from one test to the next, and treating that as our raw data. To do this, we'll need to create a new variable for the `improvement` that each student makes, and add it to the data frame containing the `chico.csv` data. The easiest way to do this is as follows: "
   ]
  },
  {
   "cell_type": "code",
   "execution_count": 36,
   "id": "silver-occasions",
   "metadata": {},
   "outputs": [],
   "source": [
    "df['improvement'] = df['grade_test2']-df['grade_test1']"
   ]
  },
  {
   "attachments": {},
   "cell_type": "markdown",
   "id": "orange-filter",
   "metadata": {},
   "source": [
    "Notice that I assigned the output to a variable called `df['improvement]`. That has the effect of creating a new column called `improvement` inside the `chico` data frame. Now that we've created and stored this `improvement` variable, we can draw a histogram showing the distribution of these improvement scores, shown in {numref}`fig-pairedta` panel C. \n",
    "\n",
    "\n",
    "When we look at histogram, it's very clear that there *is* a real improvement here. The vast majority of the students scored higher on the test 2 than on test 1, reflected in the fact that almost the entire histogram is above zero. In fact, if we use `scipy.stats.t.interval()` to compute a confidence interval for the population mean of this new variable, "
   ]
  },
  {
   "cell_type": "code",
   "execution_count": 37,
   "id": "accessible-words",
   "metadata": {},
   "outputs": [
    {
     "data": {
      "text/plain": [
       "(0.9508686092602991, 1.8591313907397005)"
      ]
     },
     "execution_count": 37,
     "metadata": {},
     "output_type": "execute_result"
    }
   ],
   "source": [
    "import numpy as np\n",
    "from scipy import stats\n",
    "\n",
    "data = df['improvement']\n",
    "\n",
    "stats.t.interval(confidence=0.95, df=len(data)-1, loc=np.mean(data), scale=stats.sem(data))\n"
   ]
  },
  {
   "attachments": {},
   "cell_type": "markdown",
   "id": "interstate-bermuda",
   "metadata": {},
   "source": [
    "we see that it is 95\\% certain that the true (population-wide) average improvement would lie between 0.95\\% and 1.86\\%. So you can see, qualitatively, what's going on: there is a real \"within student\" improvement (everyone improves by about 1\\%), but it is very small when set against the quite large \"between student\" differences (student grades vary by about 20\\% or so). "
   ]
  },
  {
   "attachments": {},
   "cell_type": "markdown",
   "id": "selective-jungle",
   "metadata": {},
   "source": [
    "### What is the paired samples $t$-test?\n",
    "\n",
    "In light of the previous exploration, let's think about how to construct an appropriate $t$ test. One possibility would be to try to run an independent samples $t$-test using `grade_test1` and `grade_test2` as the variables of interest. However, this is clearly the wrong thing to do: the independent samples $t$-test assumes that there is no particular relationship between the two samples. Yet clearly that's not true in this case, because of the repeated measures structure to the data. To use the language that I introduced in the last section, if we were to try to do an independent samples $t$-test, we would be conflating the **_within subject_** differences (which is what we're interested in testing) with the **_between subject_** variability (which we are not). \n",
    "\n",
    "The solution to the problem is obvious, I hope, since we already did all the hard work in the previous section. Instead of running an independent samples $t$-test on `grade_test1` and `grade_test2`, we run a *one-sample* $t$-test on the within-subject difference variable, `improvement`. To formalise this slightly, if $X_{i1}$ is the score that the $i$-th participant obtained on the first variable, and $X_{i2}$ is the score that the same person obtained on the second one, then the difference score is:\n",
    "\n",
    "$$\n",
    "D_{i} = X_{i1} - X_{i2} \n",
    "$$\n",
    "\n",
    "Notice that the difference scores is *variable 1 minus variable 2* and not the other way around, so if we want improvement to correspond to a positive valued difference, we actually want \"test 2\" to be our \"variable 1\". Equally, we would say that $\\mu_D = \\mu_1 - \\mu_2$ is the population mean for this difference variable. So, to convert this to a hypothesis test, our null hypothesis is that this mean difference is zero; the alternative hypothesis is that it is not:\n",
    "\n",
    "$$\n",
    "\\begin{array}{ll}\n",
    "H_0: & \\mu_D = 0  \\\\\n",
    "H_1: & \\mu_D \\neq 0\n",
    "\\end{array}\n",
    "$$\n",
    "\n",
    "(this is assuming we're talking about a two-sided test here). This is more or less identical to the way we described the hypotheses for the one-sample $t$-test: the only difference is that the specific value that the null hypothesis predicts is 0. And so our $t$-statistic is defined in more or less the same way too. If we let $\\bar{D}$ denote the mean of the difference scores, then \n",
    "\n",
    "$$\n",
    "t = \\frac{\\bar{D}}{\\mbox{SE}({\\bar{D}})}\n",
    "$$\n",
    "\n",
    "which is \n",
    "\n",
    "$$\n",
    "t = \\frac{\\bar{D}}{\\hat\\sigma_D / \\sqrt{N}}\n",
    "$$\n",
    "\n",
    "where $\\hat\\sigma_D$ is the standard deviation of the difference scores. Since this is just an ordinary, one-sample $t$-test, with nothing special about it, the degrees of freedom are still $N-1$. And that's it: the paired samples $t$-test really isn't a new test at all: it's a one-sample $t$-test, but applied to the difference between two variables. It's actually very simple; the only reason it merits a discussion as long as the one we've just gone through is that you need to be able to recognise *when* a paired samples test is appropriate, and to understand *why* it's better than an independent samples $t$ test. "
   ]
  },
  {
   "attachments": {},
   "cell_type": "markdown",
   "id": "cross-married",
   "metadata": {},
   "source": [
    "### Doing the test in Python \n",
    "\n",
    "How do you do a paired samples $t$-test in Python? One possibility is to follow the process I outlined above: create a \"difference\" variable and then run a one sample $t$-test on that, setting the population mean argument `popmean` to zero. Since we've already created a variable called `improvement`, let's do that:"
   ]
  },
  {
   "cell_type": "code",
   "execution_count": 38,
   "id": "brazilian-raising",
   "metadata": {},
   "outputs": [
    {
     "data": {
      "text/html": [
       "<div>\n",
       "<style scoped>\n",
       "    .dataframe tbody tr th:only-of-type {\n",
       "        vertical-align: middle;\n",
       "    }\n",
       "\n",
       "    .dataframe tbody tr th {\n",
       "        vertical-align: top;\n",
       "    }\n",
       "\n",
       "    .dataframe thead th {\n",
       "        text-align: right;\n",
       "    }\n",
       "</style>\n",
       "<table border=\"1\" class=\"dataframe\">\n",
       "  <thead>\n",
       "    <tr style=\"text-align: right;\">\n",
       "      <th></th>\n",
       "      <th>T</th>\n",
       "      <th>dof</th>\n",
       "      <th>alternative</th>\n",
       "      <th>p-val</th>\n",
       "      <th>CI95%</th>\n",
       "      <th>cohen-d</th>\n",
       "      <th>BF10</th>\n",
       "      <th>power</th>\n",
       "    </tr>\n",
       "  </thead>\n",
       "  <tbody>\n",
       "    <tr>\n",
       "      <th>T-test</th>\n",
       "      <td>6.475436</td>\n",
       "      <td>19</td>\n",
       "      <td>two-sided</td>\n",
       "      <td>0.000003</td>\n",
       "      <td>[0.95, 1.86]</td>\n",
       "      <td>1.447952</td>\n",
       "      <td>5991.577</td>\n",
       "      <td>0.999984</td>\n",
       "    </tr>\n",
       "  </tbody>\n",
       "</table>\n",
       "</div>"
      ],
      "text/plain": [
       "               T  dof alternative     p-val         CI95%   cohen-d      BF10  \\\n",
       "T-test  6.475436   19   two-sided  0.000003  [0.95, 1.86]  1.447952  5991.577   \n",
       "\n",
       "           power  \n",
       "T-test  0.999984  "
      ]
     },
     "execution_count": 38,
     "metadata": {},
     "output_type": "execute_result"
    }
   ],
   "source": [
    "from pingouin import ttest\n",
    "\n",
    "ttest(df['improvement'], 0)"
   ]
  },
  {
   "attachments": {},
   "cell_type": "markdown",
   "id": "literary-parish",
   "metadata": {},
   "source": [
    "However, suppose you're lazy and you don't want to go to all the effort of creating a new variable. Or perhaps you just want to keep the difference between one-sample and paired-samples tests clear in your head. In that case, you can do:"
   ]
  },
  {
   "cell_type": "code",
   "execution_count": 39,
   "id": "basic-cheat",
   "metadata": {},
   "outputs": [
    {
     "data": {
      "text/html": [
       "<div>\n",
       "<style scoped>\n",
       "    .dataframe tbody tr th:only-of-type {\n",
       "        vertical-align: middle;\n",
       "    }\n",
       "\n",
       "    .dataframe tbody tr th {\n",
       "        vertical-align: top;\n",
       "    }\n",
       "\n",
       "    .dataframe thead th {\n",
       "        text-align: right;\n",
       "    }\n",
       "</style>\n",
       "<table border=\"1\" class=\"dataframe\">\n",
       "  <thead>\n",
       "    <tr style=\"text-align: right;\">\n",
       "      <th></th>\n",
       "      <th>T</th>\n",
       "      <th>dof</th>\n",
       "      <th>alternative</th>\n",
       "      <th>p-val</th>\n",
       "      <th>CI95%</th>\n",
       "      <th>cohen-d</th>\n",
       "      <th>BF10</th>\n",
       "      <th>power</th>\n",
       "    </tr>\n",
       "  </thead>\n",
       "  <tbody>\n",
       "    <tr>\n",
       "      <th>T-test</th>\n",
       "      <td>6.475436</td>\n",
       "      <td>19</td>\n",
       "      <td>two-sided</td>\n",
       "      <td>0.000003</td>\n",
       "      <td>[0.95, 1.86]</td>\n",
       "      <td>0.215765</td>\n",
       "      <td>5991.577</td>\n",
       "      <td>0.150446</td>\n",
       "    </tr>\n",
       "  </tbody>\n",
       "</table>\n",
       "</div>"
      ],
      "text/plain": [
       "               T  dof alternative     p-val         CI95%   cohen-d      BF10  \\\n",
       "T-test  6.475436   19   two-sided  0.000003  [0.95, 1.86]  0.215765  5991.577   \n",
       "\n",
       "           power  \n",
       "T-test  0.150446  "
      ]
     },
     "execution_count": 39,
     "metadata": {},
     "output_type": "execute_result"
    }
   ],
   "source": [
    "from pingouin import ttest\n",
    "\n",
    "ttest(df['grade_test2'], df['grade_test1'], paired=True)\n"
   ]
  },
  {
   "attachments": {},
   "cell_type": "markdown",
   "id": "decreased-circumstances",
   "metadata": {},
   "source": [
    "Either way, you'll get the same $t$-value, and the same $p$-value, which is strangely comforting, actually.  Not only that, but the result confirms our intuition. There’s an average improvement of 1.4% from test 1 to test 2, and this is significantly different from 0 ($t$(19) = 6.48, $p$ < .001). In fact, $p$ is quite a bit less than one, since the $p$-value has been given in scientific notation. The exact $p$-value is $3.32^{-06}$, that is, $p$ = 0.0000032."
   ]
  },
  {
   "attachments": {},
   "cell_type": "markdown",
   "id": "alive-variance",
   "metadata": {},
   "source": [
    "## One sided tests\n",
    "\n",
    "When introducing the theory of null hypothesis tests, I mentioned that there are some situations [when it's appropriate to specify a *one-sided* test](one-two-sided). So far, all of the $t$-tests have been two-sided tests. For instance, when we specified a one sample $t$-test for the grades in Dr Zeppo's class, the null hypothesis was that the true mean was 67.5\\%. The alternative hypothesis was that the true mean was greater than *or* less than 67.5\\%. Suppose we were only interested in finding out if the true mean is greater than 67.5\\%, and have no interest whatsoever in testing to find out if the true mean is lower than 67.5\\%. If so, our null hypothesis would be that the true mean is 67.5\\% or less, and the alternative hypothesis would be that the true mean is greater than 67.5\\%. The `ttest()` function lets you do this, by specifying the `alternative` argument. If you set `alternative = 'greater'`, it means that you're testing to see if the true mean is larger than `mu`. If you set `alternative = 'less'`, then you're testing to see if the true mean is smaller than `mu`. To see how it would work for Dr Zeppo's class, let's compare the results of the two-sided test we did before with the results of a one-sided test, where the alternative hypothesis is set to \"greater\":"
   ]
  },
  {
   "cell_type": "code",
   "execution_count": 43,
   "id": "038d891c",
   "metadata": {},
   "outputs": [
    {
     "data": {
      "text/html": [
       "<div>\n",
       "<style scoped>\n",
       "    .dataframe tbody tr th:only-of-type {\n",
       "        vertical-align: middle;\n",
       "    }\n",
       "\n",
       "    .dataframe tbody tr th {\n",
       "        vertical-align: top;\n",
       "    }\n",
       "\n",
       "    .dataframe thead th {\n",
       "        text-align: right;\n",
       "    }\n",
       "</style>\n",
       "<table border=\"1\" class=\"dataframe\">\n",
       "  <thead>\n",
       "    <tr style=\"text-align: right;\">\n",
       "      <th></th>\n",
       "      <th>T</th>\n",
       "      <th>dof</th>\n",
       "      <th>alternative</th>\n",
       "      <th>p-val</th>\n",
       "      <th>CI95%</th>\n",
       "      <th>cohen-d</th>\n",
       "      <th>BF10</th>\n",
       "      <th>power</th>\n",
       "    </tr>\n",
       "  </thead>\n",
       "  <tbody>\n",
       "    <tr>\n",
       "      <th>T-test</th>\n",
       "      <td>2.254713</td>\n",
       "      <td>19</td>\n",
       "      <td>two-sided</td>\n",
       "      <td>0.036145</td>\n",
       "      <td>[67.84, 76.76]</td>\n",
       "      <td>0.504169</td>\n",
       "      <td>1.795</td>\n",
       "      <td>0.571446</td>\n",
       "    </tr>\n",
       "  </tbody>\n",
       "</table>\n",
       "</div>"
      ],
      "text/plain": [
       "               T  dof alternative     p-val           CI95%   cohen-d   BF10  \\\n",
       "T-test  2.254713   19   two-sided  0.036145  [67.84, 76.76]  0.504169  1.795   \n",
       "\n",
       "           power  \n",
       "T-test  0.571446  "
      ]
     },
     "execution_count": 43,
     "metadata": {},
     "output_type": "execute_result"
    }
   ],
   "source": [
    "from pingouin import ttest\n",
    "\n",
    "df = pd.read_csv(\"https://raw.githubusercontent.com/ethanweed/pythonbook/main/Data/zeppo.csv\")\n",
    "\n",
    "# two-sided test\n",
    "ttest(df['grades'], 67.5, alternative = 'two-sided')\n"
   ]
  },
  {
   "cell_type": "code",
   "execution_count": 41,
   "id": "e71ad881",
   "metadata": {},
   "outputs": [
    {
     "data": {
      "text/html": [
       "<div>\n",
       "<style scoped>\n",
       "    .dataframe tbody tr th:only-of-type {\n",
       "        vertical-align: middle;\n",
       "    }\n",
       "\n",
       "    .dataframe tbody tr th {\n",
       "        vertical-align: top;\n",
       "    }\n",
       "\n",
       "    .dataframe thead th {\n",
       "        text-align: right;\n",
       "    }\n",
       "</style>\n",
       "<table border=\"1\" class=\"dataframe\">\n",
       "  <thead>\n",
       "    <tr style=\"text-align: right;\">\n",
       "      <th></th>\n",
       "      <th>T</th>\n",
       "      <th>dof</th>\n",
       "      <th>alternative</th>\n",
       "      <th>p-val</th>\n",
       "      <th>CI95%</th>\n",
       "      <th>cohen-d</th>\n",
       "      <th>BF10</th>\n",
       "      <th>power</th>\n",
       "    </tr>\n",
       "  </thead>\n",
       "  <tbody>\n",
       "    <tr>\n",
       "      <th>T-test</th>\n",
       "      <td>2.254713</td>\n",
       "      <td>19</td>\n",
       "      <td>greater</td>\n",
       "      <td>0.018073</td>\n",
       "      <td>[68.62, inf]</td>\n",
       "      <td>0.504169</td>\n",
       "      <td>3.59</td>\n",
       "      <td>0.701407</td>\n",
       "    </tr>\n",
       "  </tbody>\n",
       "</table>\n",
       "</div>"
      ],
      "text/plain": [
       "               T  dof alternative     p-val         CI95%   cohen-d  BF10  \\\n",
       "T-test  2.254713   19     greater  0.018073  [68.62, inf]  0.504169  3.59   \n",
       "\n",
       "           power  \n",
       "T-test  0.701407  "
      ]
     },
     "execution_count": 41,
     "metadata": {},
     "output_type": "execute_result"
    }
   ],
   "source": [
    "# one-sided test\n",
    "ttest(df['grades'], 67.5, alternative = 'greater')"
   ]
  },
  {
   "attachments": {},
   "cell_type": "markdown",
   "id": "aware-tomato",
   "metadata": {},
   "source": [
    "The $t$-statistics are exactly the same, which makes sense, if you think about it, because the calculation of the $t$ is based on the mean and standard deviation, and these do not change. The $p$-value, on the other hand, is lower for the one-sided test. The only thing that changes between the two tests is the _expectation_ that we bring to data. The way that the $p$-value is calculated depends on those expectations, and they are the reason for choosing one test over the other. It should go without saying, but maybe is worth saying anyway, that our reasons for choosing one test over the other should be theoretical, and not based on which test is more likely to give us the $p$-value we want!\n",
    "\n",
    "\n",
    "So that's how to do a one-sided one sample $t$-test. However, all versions of the $t$-test can be one-sided. For an independent samples $t$ test, you could have a one-sided test if you're only interestd in testing to see if group A has *higher* scores than group B, but have no interest in finding out if group B has higher scores than group A. Let's suppose that, for Dr Harpo's class, you wanted to see if Anastasia's students had higher grades than Bernadette's. The `ttest_ind` function lets you do this, again by specifying the `alternative` argument. However, this time around the order that we enter the variables in the test makes a difference. If we expect that Anastasia's students have higher grades, and we want to conduct a one-sided test, we need to the data for Anastasia's students _first_. Otherwise, we end up testing the hypothesis that _Bernadette's_ students had the higher grade, which is the opposite of what we intended:"
   ]
  },
  {
   "cell_type": "code",
   "execution_count": null,
   "id": "stretch-disclosure",
   "metadata": {},
   "outputs": [
    {
     "name": "stdout",
     "output_type": "stream",
     "text": [
      "Two-sided: Ttest_indResult(statistic=array([2.11543239]), pvalue=array([0.04252949]))\n",
      "\n",
      "One-sided, Anastasia first: Ttest_indResult(statistic=array([2.11543239]), pvalue=array([0.02126474]))\n",
      "\n",
      "One-sided, Bernadette first: Ttest_indResult(statistic=array([-2.11543239]), pvalue=array([0.97873526]))\n"
     ]
    }
   ],
   "source": [
    "df = pd.read_csv(\"https://raw.githubusercontent.com/ethanweed/pythonbook/main/Data/harpo.csv\")\n",
    "\n",
    "# create two new variables for the grades from each tutor's students\n",
    "Anastasia = pd.DataFrame(df.loc[df['tutor'] == 'Anastasia']['grade'])\n",
    "Bernadette = pd.DataFrame(df.loc[df['tutor'] == 'Bernadette']['grade'])\n",
    "\n",
    "# run an independent samples t-test\n",
    "from scipy import stats\n",
    "\n",
    "print('Two-sided:', stats.ttest_ind(Anastasia, Bernadette, equal_var = True))\n",
    "print('')\n",
    "print('One-sided, Anastasia first:', stats.ttest_ind(Anastasia, Bernadette, equal_var = True, alternative = 'greater'))\n",
    "print('')\n",
    "print('One-sided, Bernadette first:', stats.ttest_ind(Bernadette, Anastasia, equal_var = True, alternative = 'greater'))"
   ]
  },
  {
   "attachments": {},
   "cell_type": "markdown",
   "id": "timely-suite",
   "metadata": {},
   "source": [
    "What about the paired samples $t$-test? Suppose we wanted to test the hypothesis that grades go *up* from test 1 to test 2 in Dr. Chico's class, and are not prepared to consider the idea that the grades go down. Again, we can use the `alternative` argument to specify the one-sided test, and it works the same way it does for the independent samples $t$-test. Since we are comparing test 1 to test 2 by substracting one from the other, it makes a difference whether we subract test 1 from test 2, or test 2 from test 1. So, to test the hypothesis that grades for test 2 are higher than test 2, we will need to enter the grades from test 2 first; otherwise we are testing the opposite hypothesis: "
   ]
  },
  {
   "cell_type": "code",
   "execution_count": null,
   "id": "understood-arabic",
   "metadata": {},
   "outputs": [
    {
     "name": "stdout",
     "output_type": "stream",
     "text": [
      "test 2 - test 1: Ttest_relResult(statistic=6.475436088339379, pvalue=1.660335028063474e-06)\n",
      "\n",
      "test 1 - test 2: Ttest_relResult(statistic=-6.475436088339379, pvalue=0.9999983396649719)\n"
     ]
    }
   ],
   "source": [
    "import pandas as pd\n",
    "from scipy.stats import ttest_rel\n",
    "\n",
    "df = pd.read_csv(\"https://raw.githubusercontent.com/ethanweed/pythonbook/main/Data/chico.csv\")\n",
    "\n",
    "print('test 2 - test 1:', ttest_rel(df['grade_test2'], df['grade_test1'], alternative = 'greater'))\n",
    "print('')\n",
    "print('test 1 - test 2:', ttest_rel(df['grade_test1'], df['grade_test2'], alternative = 'greater'))      "
   ]
  },
  {
   "attachments": {},
   "cell_type": "markdown",
   "id": "driven-basketball",
   "metadata": {},
   "source": [
    "(cohensd)=\n",
    "## Effect size\n",
    "\n",
    "The most commonly used measure of effect size for a $t$-test is **_Cohen's $d$_** [@Cohen1988]. It's a very simple measure in principle, with quite a few wrinkles when you start digging into the details. Cohen himself defined it primarily in the context of an independent samples $t$-test, specifically the Student test. In that context, a natural way of defining the effect size is to divide the difference between the means by an estimate of the standard deviation. In other words, we're looking to calculate *something* along the lines of this:\n",
    "\n",
    "$$\n",
    "d = \\frac{\\mbox{(mean 1)} - \\mbox{(mean 2)}}{\\mbox{std dev}}\n",
    "$$\n",
    "\n",
    "and he suggested a rough guide for interpreting $d$ in the table below. You'd think that this would be pretty unambiguous, but it's not; largely because Cohen wasn't too specific on what he thought should be used as the measure of the standard deviation (in his defence, he was trying to make a broader point in his book, not nitpick about tiny details). As discussed by @McGrath2006, there are several different version in common usage, and each author tends to adopt slightly different notation. For the sake of simplicity (as opposed to accuracy) I'll use $d$ to refer to any statistic that you calculate from the sample, and  use $\\delta$ to refer to a theoretical population effect. Obviously, that does mean that there are several different things all called $d$.\n",
    "\n",
    "Although Cohen's $d$ is a very commonly-reported measure of effect size, there are not currently any modules that provide built-in tools to calculate it. At least, not any that I am aware of. Luckily, it isn't too hard to calculate \"by hand\"."
   ]
  },
  {
   "attachments": {},
   "cell_type": "markdown",
   "id": "instructional-climb",
   "metadata": {},
   "source": [
    "(dinterpretation)=\n",
    "\n",
    "The table below gives a (very) rough guide to interpreting Cohen's $d$. My personal recommendation is to not use these blindly. The $d$ statistic has a natural interpretation in and of itself: it redescribes the different in means as the number of standard deviations that separates those means. So it's generally a good idea to think about what that means in practical terms. In some contexts a \\\"small\\\" effect could be of big practical importance. In other situations a \\\"large\\\" effect may not be all that interesting."
   ]
  },
  {
   "attachments": {},
   "cell_type": "markdown",
   "id": "experimental-bailey",
   "metadata": {},
   "source": [
    "| d-value   | rough interpretation |\n",
    "| :-------- | :------------------- |\n",
    "| about 0.2 | \"small\" effect       |\n",
    "| about 0.5 | \"moderate\" effect    |\n",
    "| about 0.8 | \"large\" effect       |"
   ]
  },
  {
   "attachments": {},
   "cell_type": "markdown",
   "id": "proof-xerox",
   "metadata": {},
   "source": [
    "### Cohen's $d$ from one sample\n",
    "\n",
    "The simplest situation to consider is the one corresponding to a one-sample $t$-test. In this case, the one sample mean $\\bar{X}$ and one (hypothesised) population mean $\\mu_o$ to compare it to. Not only that, there's really only one sensible way to estimate the population standard deviation: we just use our usual estimate $\\hat{\\sigma}$. Therefore, we end up with the following as the only way to calculate $d$, \n",
    "\n",
    "$$\n",
    "d = \\frac{\\bar{X} - \\mu_0}{\\hat{\\sigma}}\n",
    "$$"
   ]
  },
  {
   "cell_type": "code",
   "execution_count": null,
   "id": "packed-mystery",
   "metadata": {},
   "outputs": [
    {
     "name": "stdout",
     "output_type": "stream",
     "text": [
      "Cohen's d: 0.5041691240370938\n"
     ]
    }
   ],
   "source": [
    "import pandas as pd\n",
    "import statistics\n",
    "\n",
    "# load Zeppo data\n",
    "df = pd.read_csv(\"https://raw.githubusercontent.com/ethanweed/pythonbook/main/Data/zeppo.csv\")\n",
    "\n",
    "# subract the population mean from the sample mean, and divide by \n",
    "#the estimated population standard deviation\n",
    "\n",
    "d = (statistics.mean(df['grades']) - 67.5) / statistics.stdev(df['grades'])\n",
    "print('Cohen\\'s d:', d)"
   ]
  },
  {
   "attachments": {},
   "cell_type": "markdown",
   "id": "normal-import",
   "metadata": {},
   "source": [
    "What does this effect size mean? Overall, then, the psychology students in Dr Zeppo's class are achieving grades (mean = 72.3\\%) that are about .5 standard deviations higher than the level that you'd expect (67.5\\%) if they were performing at the same level as other students. Judged against Cohen's rough guide, this is a moderate effect size."
   ]
  },
  {
   "attachments": {},
   "cell_type": "markdown",
   "id": "intense-lithuania",
   "metadata": {},
   "source": [
    "### Cohen's $d$ from a Student $t$ test\n",
    "\n",
    "The majority of discussions of Cohen's $d$ focus on a situation that is analogous to Student's independent samples $t$ test, and it's in this context that the story becomes messier, since there are several different versions of $d$ that you might want to use in this situation. To understand why there are multiple versions of $d$, it helps to take the time to write down a formula that corresponds to the true population effect size $\\delta$. It's pretty straightforward, \n",
    "\n",
    "$$\n",
    "\\delta = \\frac{\\mu_1 - \\mu_2}{\\sigma}\n",
    "$$\n",
    "\n",
    "where, as usual, $\\mu_1$ and $\\mu_2$ are the population means corresponding to group 1 and group 2 respectively, and $\\sigma$ is the standard deviation (the same for both populations). The obvious way to estimate $\\delta$ is to do exactly the same thing that we did in the $t$-test itself: use the sample means as the top line, and a pooled standard deviation estimate for the bottom line:\n",
    "\n",
    "$$\n",
    "d = \\frac{\\bar{X}_1 - \\bar{X}_2}{\\hat{\\sigma}_p}\n",
    "$$\n",
    "\n",
    "where $\\hat\\sigma_p$ is the exact same pooled standard deviation measure that appears in the $t$-test. This is the most commonly used version of Cohen's $d$ when applied to the outcome of a Student $t$-test ,and is sometimes referred to as Hedges' $g$ statistic [@Hedges1981]."
   ]
  },
  {
   "attachments": {},
   "cell_type": "markdown",
   "id": "greek-quantum",
   "metadata": {},
   "source": [
    "However, there are other possibilities, which I'll briefly describe. Firstly, you may have reason to want to use only one of the two groups as the basis for calculating the standard deviation. This approach (often called Glass' $\\Delta$) only makes most sense when you have good reason to treat one of the two groups as a purer reflection of \"natural variation\" than the other. This can happen if, for instance, one of the two groups is a control group. Secondly, recall that in the usual calculation of the pooled standard deviation we divide by $N-2$ to correct for the bias in the sample variance; in one version of Cohen's $d$ this correction is omitted. Instead, we divide by $N$. This version makes sense primarily when you're trying to calculate the effect size in the sample; rather than estimating an effect size in the population. Finally, there is a version based on @Hedges1985, who point out there is a small bias in the usual (pooled) estimation for Cohen's $d$. Thus they introduce a small correction, by multiplying the usual value of $d$ by $(N-3)/(N-2.25)$. \n",
    "\n",
    "In any case, ignoring all those variations that you could make use of if you wanted, let's have a look at how to calculate the default version. In particular, suppose we look at the data from Dr Harpo's class."
   ]
  },
  {
   "cell_type": "code",
   "execution_count": null,
   "id": "brazilian-lightning",
   "metadata": {},
   "outputs": [
    {
     "data": {
      "text/plain": [
       "0.7395614040382655"
      ]
     },
     "execution_count": 654,
     "metadata": {},
     "output_type": "execute_result"
    }
   ],
   "source": [
    "import pandas as pd\n",
    "import statistics\n",
    "from numpy import sqrt, mean, std\n",
    "\n",
    "df = pd.read_csv(\"https://raw.githubusercontent.com/ethanweed/pythonbook/main/Data/harpo.csv\")\n",
    "\n",
    "# create two new variables for the grades from each tutor's students\n",
    "tutor1 = pd.DataFrame(df.loc[df['tutor'] == 'Anastasia']['grade'])\n",
    "tutor2 = pd.DataFrame(df.loc[df['tutor'] == 'Bernadette']['grade'])\n",
    "\n",
    "# find number of student grades for each tutor\n",
    "n1 = len(tutor1)\n",
    "n2 = len(tutor2)\n",
    "\n",
    "# find mean student grade for each tutor\n",
    "u1 = mean(tutor1['grade'])\n",
    "u2 = mean(tutor2['grade'])\n",
    "\n",
    "# find variance in students' grades for each tutor\n",
    "s1 = var(tutor1['grade'])\n",
    "s2 = var(tutor2['grade'])\n",
    "\n",
    "\n",
    "# find pooled standard deviation (square root of weighted variation, \n",
    "# divided by total N, with a correction for bias of -2)\n",
    "\n",
    "s = sqrt(((n1) * s1 + (n2) * s2) / (n1 + n2 - 2))\n",
    "\n",
    "# calculate Cohen's d\n",
    "d = (u1 - u2) / s\n",
    "d"
   ]
  },
  {
   "attachments": {},
   "cell_type": "markdown",
   "id": "breathing-version",
   "metadata": {},
   "source": [
    "### Cohen's $d$ from a Welch test\n",
    "\n",
    "Suppose the situation you're in is more like the Welch test: you still have two independent samples, but you no longer believe that the corresponding populations have equal variances. When this happens, we have to redefine what we mean by the population effect size. I'll refer to this new measure as $\\delta^\\prime$, so as to keep it distinct from the measure $\\delta$ which we defined previously. What @Cohen1988 suggests is that we could define our new population effect size by averaging the two population variances. What this means is that we get:\n",
    "\n",
    "$$\n",
    "\\delta^\\prime = \\frac{\\mu_1 - \\mu_2}{\\sigma^\\prime}\n",
    "$$\n",
    "\n",
    "where\n",
    "\n",
    "$$\n",
    "\\sigma^\\prime = \\sqrt{\\displaystyle{\\frac{ {\\sigma_1}^2 + {\\sigma_2}^2}{2}}}\n",
    "$$\n",
    "\n",
    "This seems quite reasonable, but notice that none of the measures that we've discussed so far are attempting to estimate this new quantity. It might just be my own ignorance of the topic, but I'm only aware of one version of Cohen's $d$ that actually estimates the unequal-variance effect size $\\delta^\\prime$ rather than the equal-variance effect size $\\delta$.\n",
    "All we do to calculate $d$ for this version is substitute the sample means $\\bar{X}_1$ and $\\bar{X}_2$ and the corrected sample standard deviations $\\hat{\\sigma}_1$ and $\\hat{\\sigma}_2$ into the equation for $\\delta^\\prime$. This gives us the following equation for $d$, \n",
    "\n",
    "$$\n",
    "d = \\frac{\\bar{X}_1 - \\bar{X}_2}{\\sqrt{\\displaystyle{\\frac{ {\\hat\\sigma_1}^2 + {\\hat\\sigma_2}^2}{2}}}}\n",
    "$$\n",
    "\n",
    "as our estimate of the effect size. "
   ]
  },
  {
   "cell_type": "code",
   "execution_count": null,
   "id": "satisfactory-directive",
   "metadata": {},
   "outputs": [
    {
     "data": {
      "text/plain": [
       "0.7486295728919304"
      ]
     },
     "execution_count": 657,
     "metadata": {},
     "output_type": "execute_result"
    }
   ],
   "source": [
    "\n",
    "# find mean student grade for each tutor\n",
    "u1 = mean(tutor1['grade'])\n",
    "u2 = mean(tutor2['grade'])\n",
    "\n",
    "# find variance in students' grades for each tutor\n",
    "s1 = var(tutor1['grade'])\n",
    "s2 = var(tutor2['grade'])\n",
    "\n",
    "\n",
    "# find the mean variance of the two samples\n",
    "s = sqrt((s1 + s2)/2)\n",
    "\n",
    "# calculate Cohen's d\n",
    "d = (u1 - u2) / s\n",
    "d"
   ]
  },
  {
   "attachments": {},
   "cell_type": "markdown",
   "id": "entire-pressure",
   "metadata": {},
   "source": [
    "### Cohen's $d$ from a paired-samples test\n",
    "\n",
    "\n",
    "Finally, what should we do for a paired samples $t$-test? In this case, the answer depends on what it is you're trying to do. *If* you want to measure your effect sizes relative to the distribution of difference scores, the measure of $d$ that you calculate is just \n",
    "\n",
    "$$\n",
    "d = \\frac{\\bar{D}}{\\hat{\\sigma}_D}\n",
    "$$\n",
    "\n",
    "where $\\hat{\\sigma}_D$ is the estimate of the standard deviation of the differences. The calculation here is pretty straightforward"
   ]
  },
  {
   "cell_type": "code",
   "execution_count": null,
   "id": "hispanic-level",
   "metadata": {},
   "outputs": [
    {
     "data": {
      "text/plain": [
       "1.4855669223382983"
      ]
     },
     "execution_count": 663,
     "metadata": {},
     "output_type": "execute_result"
    }
   ],
   "source": [
    "from numpy import mean, std\n",
    "\n",
    "df = pd.read_csv(\"https://raw.githubusercontent.com/ethanweed/pythonbook/main/Data/chico.csv\")\n",
    "\n",
    "difference = df['grade_test2'] - df['grade_test1']\n",
    "mean_diff = mean(difference)\n",
    "sd_diff = std(difference)\n",
    "\n",
    "d = mean_diff/sd_diff\n",
    "d"
   ]
  },
  {
   "attachments": {},
   "cell_type": "markdown",
   "id": "fewer-complex",
   "metadata": {},
   "source": [
    "The only wrinkle is figuring out whether this is the measure you want or not. To the extent that you care about the practical consequences of your research, you often want to measure the effect size relative to the *original* variables, not the *difference* scores (e.g., the 1\\% improvement in Dr Chico's class is pretty small when measured against the amount of between-student variation in grades), in which case you use the same versions of Cohen's $d$ that you would use for a Student or Welch test. For instance, when we do that for Dr Chico's class, "
   ]
  },
  {
   "cell_type": "code",
   "execution_count": null,
   "id": "complex-antenna",
   "metadata": {},
   "outputs": [
    {
     "data": {
      "text/plain": [
       "0.2213698410715347"
      ]
     },
     "execution_count": 666,
     "metadata": {},
     "output_type": "execute_result"
    }
   ],
   "source": [
    "# find mean student grade for each tutor\n",
    "u1 = mean(df['grade_test1'])\n",
    "u2 = mean(df['grade_test2'])\n",
    "\n",
    "# find variance in students' grades for each tutor\n",
    "s1 = var(df['grade_test1'])\n",
    "s2 = var(df['grade_test2'])\n",
    "\n",
    "\n",
    "# find the mean variance of the two samples\n",
    "s = sqrt((s1 + s2)/2)\n",
    "\n",
    "# calculate Cohen's d\n",
    "d = (u2 - u1) / s\n",
    "d"
   ]
  },
  {
   "attachments": {},
   "cell_type": "markdown",
   "id": "dietary-illustration",
   "metadata": {},
   "source": [
    "what we see is that the overall effect size is quite small, when assessed on the scale of the original variables."
   ]
  },
  {
   "attachments": {},
   "cell_type": "markdown",
   "id": "painted-blend",
   "metadata": {},
   "source": [
    "(shapiro)=\n",
    "## Checking the normality of a sample\n",
    "\n",
    "All of the tests that we have discussed so far in this chapter have assumed that the data are normally distributed. This assumption is often quite reasonable, because the central limit theorem (Section \\@ref(clt)) does tend to ensure that many real world quantities are normally distributed: any time that you suspect that your variable is *actually* an average of lots of different things, there's a pretty good chance that it will be normally distributed; or at least close enough to normal that you can get away with using $t$-tests. However, life doesn't come with guarantees; and besides, there are lots of ways in which you can end up with variables that are highly non-normal. For example, any time you think that your variable is actually the minimum of lots of different things, there's a very good chance it will end up quite skewed. In psychology, response time (RT) data is a good example of this. If you suppose that there are lots of things that could trigger a response from a human participant, then the actual response will occur the first time one of these trigger events occurs.[^note13] This means that RT data are systematically non-normal.  Okay, so if normality is assumed by all the tests, and is mostly but not always satisfied (at least approximately) by real world data, how can we check the normality of a sample? In this section I discuss two methods: QQ plots, and the Shapiro-Wilk test."
   ]
  },
  {
   "attachments": {},
   "cell_type": "markdown",
   "id": "light-speed",
   "metadata": {},
   "source": [
    "### QQ plots\n",
    "\n",
    "One way to check whether a sample violates the normality assumption is to draw a **_\"quantile-quantile\" plot_** (QQ plot). This allows you to visually check whether you're seeing any systematic violations. In a QQ plot, each observation is plotted as a single dot. The x co-ordinate is the theoretical quantile that the observation should fall in, if the data were normally distributed (with mean and variance estimated from the sample) and on the y co-ordinate is the actual quantile of the data within the sample. If the data are normal, the dots should form a straight line. For instance, lets see what happens if we generate data by sampling from a normal distribution, and then drawing a QQ plot, using `probplot` from `scipy`. We can compare this with a histogram of the data as well:"
   ]
  },
  {
   "cell_type": "code",
   "execution_count": null,
   "id": "opposite-bachelor",
   "metadata": {
    "tags": [
     "hide-input"
    ]
   },
   "outputs": [
    {
     "data": {
      "application/papermill.record/text/plain": "<AxesSubplot:xlabel='grades', ylabel='Count'>"
     },
     "metadata": {
      "scrapbook": {
       "mime_prefix": "application/papermill.record/",
       "name": "qq_fig"
      }
     },
     "output_type": "display_data"
    },
    {
     "data": {
      "image/png": "[encoded data removed]",
      "text/plain": [
       "<Figure size 1080x360 with 2 Axes>"
      ]
     },
     "metadata": {
      "needs_background": "light"
     },
     "output_type": "display_data"
    }
   ],
   "source": [
    "import numpy as np\n",
    "import seaborn as sns\n",
    "from scipy.stats import probplot\n",
    "\n",
    "np.random.seed(42)\n",
    "normal_data = np.random.normal(size=100)\n",
    "\n",
    "fig, (ax1, ax2) = plt.subplots(1, 2, figsize=(15, 5))\n",
    "\n",
    "qq = probplot(normal_data, dist=\"norm\", plot = ax1)\n",
    "hist = sns.histplot(normal_data, axes=ax2)\n",
    "\n",
    "glue(\"qq_fig\", ax, display=False)"
   ]
  },
  {
   "attachments": {},
   "cell_type": "markdown",
   "id": "helpful-positive",
   "metadata": {},
   "source": [
    " ```{glue:figure} qq_fig\n",
    ":figwidth: 600px\n",
    ":name: fig-qq\n",
    "\n",
    "QQ plot (left) and histogram (right) of `normal_data`, a normally distributed sample with 100 observations. The Shapiro-Wilk statistic associated with these data is $W = .99$, indicating that no significant departures from normality were detected ($p = .73$).\n",
    "```"
   ]
  },
  {
   "attachments": {},
   "cell_type": "markdown",
   "id": "muslim-adoption",
   "metadata": {},
   "source": [
    "And the results are shown in {numref}(`fig-qq`), above.\n",
    "\n",
    "As you can see, these data form a pretty straight line; which is no surprise given that we sampled them from a normal distribution! In contrast, have a look at the data shown in {numref}(qqskew) and {numref}(qqheavy), which show the histogram and a QQ plot for a data sets that are highly skewed and have a heavy tail (i.e., high kurtosis), respectively."
   ]
  },
  {
   "cell_type": "code",
   "execution_count": null,
   "id": "limited-renaissance",
   "metadata": {
    "tags": [
     "hide-input"
    ]
   },
   "outputs": [
    {
     "data": {
      "image/png": "[encoded data removed]",
      "text/plain": [
       "<Figure size 1080x360 with 2 Axes>"
      ]
     },
     "metadata": {
      "needs_background": "light"
     },
     "output_type": "display_data"
    }
   ],
   "source": [
    "df = pd.read_csv(\"https://raw.githubusercontent.com/ethanweed/pythonbook/main/Data/skewed_data.csv\")\n",
    "\n",
    "fig, (ax1, ax2) = plt.subplots(1, 2, figsize=(15, 5))\n",
    "\n",
    "qq = probplot(df['data'], dist=\"norm\", plot = ax1)\n",
    "hist = sns.histplot(df['data'], axes=ax2)\n",
    "\n",
    "glue(\"qqskew_fig\", ax, display=False)"
   ]
  },
  {
   "attachments": {},
   "cell_type": "markdown",
   "id": "addressed-residence",
   "metadata": {},
   "source": [
    " ```{glue:figure} qqskew_fig\n",
    ":figwidth: 600px\n",
    ":name: fig-qqskew\n",
    "\n",
    "The skewness of these data of 100 observations is 1.94, and is reflected in a QQ plot that curves upwards. As a consequence, the Shapiro-Wilk statistic is $W=.80$, reflecting a significant departure from normality ($p<.001$). \n",
    "\n",
    "```"
   ]
  },
  {
   "cell_type": "code",
   "execution_count": null,
   "id": "hundred-pharmaceutical",
   "metadata": {
    "tags": [
     "hide-input"
    ]
   },
   "outputs": [
    {
     "data": {
      "application/papermill.record/text/plain": "<AxesSubplot:xlabel='grades', ylabel='Count'>"
     },
     "metadata": {
      "scrapbook": {
       "mime_prefix": "application/papermill.record/",
       "name": "qqheavy_fig"
      }
     },
     "output_type": "display_data"
    },
    {
     "data": {
      "image/png": "[encoded data removed]",
      "text/plain": [
       "<Figure size 1080x360 with 2 Axes>"
      ]
     },
     "metadata": {
      "needs_background": "light"
     },
     "output_type": "display_data"
    }
   ],
   "source": [
    "df = pd.read_csv(\"https://raw.githubusercontent.com/ethanweed/pythonbook/main/Data/heavy_tailed_data.csv\")\n",
    "\n",
    "fig, (ax1, ax2) = plt.subplots(1, 2, figsize=(15, 5))\n",
    "\n",
    "qq = probplot(df['data'], dist=\"norm\", plot = ax1)\n",
    "hist = sns.histplot(df['data'], axes=ax2)\n",
    "\n",
    "glue(\"qqheavy_fig\", ax, display=False)"
   ]
  },
  {
   "attachments": {},
   "cell_type": "markdown",
   "id": "complete-bacon",
   "metadata": {},
   "source": [
    " ```{glue:figure} qqheavy_fig\n",
    ":figwidth: 600px\n",
    ":name: fig-qqheavy\n",
    "\n",
    "Plots for a heavy tailed data set, again consisting of 100 observations. In this case, the heavy tails in the data produce a high kurtosis (2.80), and cause the QQ plot to flatten in the middle, and curve away sharply on either side. The resulting Shapiro-Wilk statistic is $W = .93$, again reflecting significant non-normality ($p < .001$).\n",
    "\n",
    "```"
   ]
  },
  {
   "attachments": {},
   "cell_type": "markdown",
   "id": "tribal-diary",
   "metadata": {},
   "source": [
    "(shapiro-wilk)=\n",
    "\n",
    "### Shapiro-Wilk tests\n",
    "\n",
    "Although QQ plots provide a nice way to informally check the normality of your data, sometimes you'll want to do something a bit more formal. And when that moment comes, the **_Shapiro-Wilk test_** [@Shapiro1965] is probably what you're looking for.[^note14] As you'd expect, the null hypothesis being tested is that a set of $N$ observations is normally distributed. The test statistic that it calculates is conventionally denoted as $W$, and it's calculated as follows. First, we sort the observations in order of increasing size, and let $X_1$ be the smallest value in the sample, $X_2$ be the second smallest and so on. Then the value of $W$ is given by\n",
    "\n",
    "$$\n",
    "W = \\frac{ \\left( \\sum_{i = 1}^N a_i X_i \\right)^2 }{ \\sum_{i = 1}^N (X_i - \\bar{X})^2}\n",
    "$$\n",
    "\n",
    "where $\\bar{X}$ is the mean of the observations, and the $a_i$ values are ... mumble, mumble ... something complicated that is a bit beyond the scope of an introductory text. \n",
    "\n",
    "Because it's a little hard to explain the maths behind the $W$ statistic, a better idea is to give a broad brush description of how it behaves. Unlike most of the test statistics that we'll encounter in this book, it's actually *small* values of $W$ that indicated departure from normality. The $W$ statistic has a maximum value of 1, which arises when the data look \"perfectly normal\". The smaller the value of $W$, the less normal the data are. However, the sampling distribution for $W$  -- which is not one of the standard ones that I discussed in Chapter \\@ref(probability) and is in fact a complete pain in the arse to work with -- does depend on the sample size $N$. To give you a feel for what these sampling distributions look like, I've plotted three of them in Figure \\@ref(fig:swdist). Notice that, as the sample size starts to get large, the sampling distribution becomes very tightly clumped up near $W=1$, and as a consequence, for larger samples $W$ doesn't have to be very much smaller than 1 in order for the test to be significant. "
   ]
  },
  {
   "attachments": {},
   "cell_type": "markdown",
   "id": "sought-highlight",
   "metadata": {},
   "source": [
    "```{figure} ../img/ttest2/shapirowilkdist.png\n",
    ":name: fig-shapirowilk\n",
    ":width: 600px\n",
    ":align: center\n",
    "\n",
    "Sampling distribution of the Shapiro-Wilk $W$ statistic, under the null hypothesis that the data are normally distributed, for samples of size 10, 20 and 50. Note that *small* values of $W$ indicate departure from normality.\n",
    "\n",
    "```"
   ]
  },
  {
   "attachments": {},
   "cell_type": "markdown",
   "id": "demonstrated-wholesale",
   "metadata": {},
   "source": [
    "To run the test in Python, we use the `scipy.stats.shapiro` method. It has only a single argument `x`, which is a numeric vector containing the data whose normality needs to be tested. For example, when we apply this function to  our `normal_data`, we get the following:"
   ]
  },
  {
   "cell_type": "code",
   "execution_count": null,
   "id": "raised-suspect",
   "metadata": {},
   "outputs": [
    {
     "data": {
      "text/plain": [
       "ShapiroResult(statistic=0.9898834228515625, pvalue=0.6551706790924072)"
      ]
     },
     "execution_count": 708,
     "metadata": {},
     "output_type": "execute_result"
    }
   ],
   "source": [
    "from scipy.stats import shapiro\n",
    "\n",
    "shapiro(normal_data)"
   ]
  },
  {
   "attachments": {},
   "cell_type": "markdown",
   "id": "liquid-departure",
   "metadata": {},
   "source": [
    "So, not surprisingly, we have no evidence that these data depart from normality. When reporting the results for a Shapiro-Wilk test, you should (as usual) make sure to include the test statistic $W$ and the $p$ value, though given that the sampling distribution depends so heavily on $N$ it would probably be a politeness to include $N$ as well."
   ]
  },
  {
   "attachments": {},
   "cell_type": "markdown",
   "id": "direct-theorem",
   "metadata": {},
   "source": [
    "(wilcox)=\n",
    "## Testing non-normal data with Wilcoxon tests\n",
    "\n",
    "Okay, suppose your data turn out to be pretty substantially non-normal, but you still want to run something like a $t$-test? This situation occurs a lot in real life: for the AFL winning margins data, for instance, the Shapiro-Wilk test made it very clear that the normality assumption is violated. This is the situation where you want to use Wilcoxon tests. \n",
    "\n",
    "Like the $t$-test, the Wilcoxon test comes in two forms, one-sample and two-sample, and they're used in more or less the exact same situations as the corresponding $t$-tests. Unlike the $t$-test, the Wilcoxon test doesn't assume normality, which is nice. In fact, they don't make any assumptions about what kind of distribution is involved: in statistical jargon, this makes them **_nonparametric tests_**. While avoiding the normality assumption is nice, there's a drawback: the Wilcoxon test is usually less powerful than the $t$-test (i.e., higher Type II error rate). I won't discuss the Wilcoxon tests in as much detail as the $t$-tests, but I'll give you a brief overview."
   ]
  },
  {
   "attachments": {},
   "cell_type": "markdown",
   "id": "conservative-freeze",
   "metadata": {},
   "source": [
    "### Two sample Wilcoxon test\n",
    "\n",
    "I'll start by describing the **_two sample Wilcoxon test_** (also known as the Mann-Whitney test), since it's actually simpler than the one sample version. Suppose we're looking at the scores of 10 people on some test. Since my imagination has now failed me completely, let's pretend it's a \"test of awesomeness\", and there are two groups of people, \"A\" and \"B\". I'm curious to know which group is more awesome. The data are included in the file `awesome.Rdata`, and like many of the data sets I've been using, it contains only a single data frame, in this case called `awesome`. Here's the data:"
   ]
  },
  {
   "cell_type": "code",
   "execution_count": null,
   "id": "broken-picking",
   "metadata": {},
   "outputs": [
    {
     "data": {
      "text/html": [
       "<div>\n",
       "<style scoped>\n",
       "    .dataframe tbody tr th:only-of-type {\n",
       "        vertical-align: middle;\n",
       "    }\n",
       "\n",
       "    .dataframe tbody tr th {\n",
       "        vertical-align: top;\n",
       "    }\n",
       "\n",
       "    .dataframe thead th {\n",
       "        text-align: right;\n",
       "    }\n",
       "</style>\n",
       "<table border=\"1\" class=\"dataframe\">\n",
       "  <thead>\n",
       "    <tr style=\"text-align: right;\">\n",
       "      <th></th>\n",
       "      <th>score_A</th>\n",
       "      <th>score_B</th>\n",
       "    </tr>\n",
       "  </thead>\n",
       "  <tbody>\n",
       "    <tr>\n",
       "      <th>0</th>\n",
       "      <td>6.4</td>\n",
       "      <td>14.5</td>\n",
       "    </tr>\n",
       "    <tr>\n",
       "      <th>1</th>\n",
       "      <td>10.7</td>\n",
       "      <td>10.4</td>\n",
       "    </tr>\n",
       "    <tr>\n",
       "      <th>2</th>\n",
       "      <td>11.9</td>\n",
       "      <td>12.9</td>\n",
       "    </tr>\n",
       "    <tr>\n",
       "      <th>3</th>\n",
       "      <td>7.3</td>\n",
       "      <td>11.7</td>\n",
       "    </tr>\n",
       "    <tr>\n",
       "      <th>4</th>\n",
       "      <td>10.0</td>\n",
       "      <td>13.0</td>\n",
       "    </tr>\n",
       "  </tbody>\n",
       "</table>\n",
       "</div>"
      ],
      "text/plain": [
       "   score_A  score_B\n",
       "0      6.4     14.5\n",
       "1     10.7     10.4\n",
       "2     11.9     12.9\n",
       "3      7.3     11.7\n",
       "4     10.0     13.0"
      ]
     },
     "execution_count": 740,
     "metadata": {},
     "output_type": "execute_result"
    }
   ],
   "source": [
    "df = pd.read_csv(\"https://raw.githubusercontent.com/ethanweed/pythonbook/main/Data/awesome2.csv\")\n",
    "df"
   ]
  },
  {
   "attachments": {},
   "cell_type": "markdown",
   "id": "healthy-lancaster",
   "metadata": {},
   "source": [
    "As long as there are no ties (i.e., people with the exact same awesomeness score), then the test that we want to do is surprisingly simple. All we have to do is construct a table that compares every observation in group $A$ against every observation in group $B$. Whenever the group $A$ datum is larger, we place a check mark in the table:"
   ]
  },
  {
   "attachments": {},
   "cell_type": "markdown",
   "id": "likely-jaguar",
   "metadata": {},
   "source": [
    "\n",
    "|         |      |      | group B |      |      |    |\n",
    "|---------|------|------|---------|------|------|----|\n",
    "|         |      | 14.5 | 10.4    | 12.4 | 11.7 | 13 |\n",
    "|         | 6.4  | .    | .       | .    | .    | .  |\n",
    "| group A | 10.7 | .    | ✓       | .    | .    | .  |\n",
    "|         | 11.9 | .    | ✓       | .    | ✓    | .  |\n",
    "|         | 7.3  | .    | .       | .    | .    | .  |\n",
    "|         | 10   | .    | .       | .    | .    | .  |"
   ]
  },
  {
   "attachments": {},
   "cell_type": "markdown",
   "id": "perceived-cross",
   "metadata": {},
   "source": [
    "We then count up the number of checkmarks. This is our test statistic, $W$.[^note15] The actual sampling distribution for $W$ is somewhat complicated, and I'll skip the details. For our purposes, it's sufficient to note that the interpretation of $W$ is qualitatively the same as the interpretation of $t$ or $z$. That is, if we want a two-sided test, then we reject the null hypothesis when $W$ is very large or very small; but if we have a directional (i.e., one-sided) hypothesis, then we only use one or the other. "
   ]
  },
  {
   "cell_type": "code",
   "execution_count": null,
   "id": "romantic-algebra",
   "metadata": {},
   "outputs": [
    {
     "data": {
      "text/plain": [
       "(1.0, 0.125)"
      ]
     },
     "execution_count": 741,
     "metadata": {},
     "output_type": "execute_result"
    }
   ],
   "source": [
    "from scipy.stats import wilcoxon\n",
    " \n",
    "w,p = wilcoxon(df['score_A'], df['score_B'] )\n",
    "w,p"
   ]
  },
  {
   "attachments": {},
   "cell_type": "markdown",
   "id": "soviet-alloy",
   "metadata": {},
   "source": [
    "### One sample Wilcoxon test\n",
    "\n",
    "\n",
    "What about the **_one sample Wilcoxon test_** (or equivalently, the paired samples Wilcoxon test)? Suppose I'm interested in finding out whether taking a statistics class has any effect on the happiness of students. Here's my data:"
   ]
  },
  {
   "cell_type": "code",
   "execution_count": null,
   "id": "closing-conspiracy",
   "metadata": {},
   "outputs": [
    {
     "data": {
      "text/html": [
       "<div>\n",
       "<style scoped>\n",
       "    .dataframe tbody tr th:only-of-type {\n",
       "        vertical-align: middle;\n",
       "    }\n",
       "\n",
       "    .dataframe tbody tr th {\n",
       "        vertical-align: top;\n",
       "    }\n",
       "\n",
       "    .dataframe thead th {\n",
       "        text-align: right;\n",
       "    }\n",
       "</style>\n",
       "<table border=\"1\" class=\"dataframe\">\n",
       "  <thead>\n",
       "    <tr style=\"text-align: right;\">\n",
       "      <th></th>\n",
       "      <th>before</th>\n",
       "      <th>after</th>\n",
       "      <th>change</th>\n",
       "    </tr>\n",
       "  </thead>\n",
       "  <tbody>\n",
       "    <tr>\n",
       "      <th>0</th>\n",
       "      <td>30</td>\n",
       "      <td>6</td>\n",
       "      <td>-24</td>\n",
       "    </tr>\n",
       "    <tr>\n",
       "      <th>1</th>\n",
       "      <td>43</td>\n",
       "      <td>29</td>\n",
       "      <td>-14</td>\n",
       "    </tr>\n",
       "    <tr>\n",
       "      <th>2</th>\n",
       "      <td>21</td>\n",
       "      <td>11</td>\n",
       "      <td>-10</td>\n",
       "    </tr>\n",
       "    <tr>\n",
       "      <th>3</th>\n",
       "      <td>24</td>\n",
       "      <td>31</td>\n",
       "      <td>7</td>\n",
       "    </tr>\n",
       "    <tr>\n",
       "      <th>4</th>\n",
       "      <td>23</td>\n",
       "      <td>17</td>\n",
       "      <td>-6</td>\n",
       "    </tr>\n",
       "    <tr>\n",
       "      <th>5</th>\n",
       "      <td>40</td>\n",
       "      <td>2</td>\n",
       "      <td>-38</td>\n",
       "    </tr>\n",
       "    <tr>\n",
       "      <th>6</th>\n",
       "      <td>29</td>\n",
       "      <td>31</td>\n",
       "      <td>2</td>\n",
       "    </tr>\n",
       "    <tr>\n",
       "      <th>7</th>\n",
       "      <td>56</td>\n",
       "      <td>21</td>\n",
       "      <td>-35</td>\n",
       "    </tr>\n",
       "    <tr>\n",
       "      <th>8</th>\n",
       "      <td>38</td>\n",
       "      <td>8</td>\n",
       "      <td>-30</td>\n",
       "    </tr>\n",
       "    <tr>\n",
       "      <th>9</th>\n",
       "      <td>16</td>\n",
       "      <td>21</td>\n",
       "      <td>5</td>\n",
       "    </tr>\n",
       "  </tbody>\n",
       "</table>\n",
       "</div>"
      ],
      "text/plain": [
       "   before  after  change\n",
       "0      30      6     -24\n",
       "1      43     29     -14\n",
       "2      21     11     -10\n",
       "3      24     31       7\n",
       "4      23     17      -6\n",
       "5      40      2     -38\n",
       "6      29     31       2\n",
       "7      56     21     -35\n",
       "8      38      8     -30\n",
       "9      16     21       5"
      ]
     },
     "execution_count": 743,
     "metadata": {},
     "output_type": "execute_result"
    }
   ],
   "source": [
    "df = pd.read_csv(\"https://raw.githubusercontent.com/ethanweed/pythonbook/main/Data/happiness.csv\")\n",
    "df"
   ]
  },
  {
   "attachments": {},
   "cell_type": "markdown",
   "id": "interpreted-remove",
   "metadata": {},
   "source": [
    "What I've measured here is the happiness of each student `before` taking the class and `after` taking the class; the `change` score is the difference between the two. Just like we saw with the $t$-test, there's no fundamental difference between doing a paired-samples test using `before` and `after`, versus doing a one-sample test using the `change` scores. As before, the simplest way to think about the test is to construct a tabulation. The way to do it this time is to take those change scores that are positive valued, and tabulate them against all the complete sample. What you end up with is a table that looks like this:"
   ]
  },
  {
   "attachments": {},
   "cell_type": "markdown",
   "id": "athletic-obligation",
   "metadata": {},
   "source": [
    "|                      | all differences  |     |     |     |   |  |     |   |     |     |   |\n",
    "|----------------------|---|-----|-----|-----|---|-----------------|-----|---|-----|-----|---|\n",
    "|                      |   | -24 | -14 | -10 | 7 | -6              | -38 | 2 | -35 | -30 | 5 |\n",
    "| positive differences | 7 | .   | .   | .   | ✓ | ✓               | .   | ✓ | .   |     | ✓ |\n",
    "|                      | 2 | .   | .   | .   | . | .               | .   | ✓ | .   | .   |   |\n",
    "|                      | 5 | .   | .   | .   | . | .               | .   | ✓ | .   | .   | ✓ |"
   ]
  },
  {
   "attachments": {},
   "cell_type": "markdown",
   "id": "loaded-foundation",
   "metadata": {},
   "source": [
    "Counting up the tick marks this time, we get a test statistic of $V = 7$. As before, if our test is two sided, then we reject the null hypothesis when $V$ is very large or very small. As far of running it with Python goes, it's pretty much what you'd expect. For the one-sample version, the command you would use is"
   ]
  },
  {
   "cell_type": "code",
   "execution_count": null,
   "id": "streaming-tuition",
   "metadata": {},
   "outputs": [
    {
     "data": {
      "text/plain": [
       "(7.0, 0.037109375)"
      ]
     },
     "execution_count": 745,
     "metadata": {},
     "output_type": "execute_result"
    }
   ],
   "source": [
    "w,p = wilcoxon(df['change'])\n",
    "w,p"
   ]
  },
  {
   "attachments": {},
   "cell_type": "markdown",
   "id": "indoor-governor",
   "metadata": {},
   "source": [
    "As this shows, we have a significant effect. Evidently, taking a statistics class does have an effect on your happiness.\n",
    "\n",
    "## Summary\n",
    "\n",
    "- A one sample $t$-test is used to compare a single sample mean against a hypothesised value for the population mean.\n",
    "- An independent samples $t$-test is used to compare the means of two groups, and tests the null hypothesis that they have the same mean. It comes in two forms: the Student test (Section \\@ref(studentttest) assumes that the groups have the same standard deviation, the Welch test does not.\n",
    "- A paired samples $t$-test is used when you have two scores from each person, and you want to test the null hypothesis that the two scores have the same mean. It is equivalent to taking the difference between the two scores for each person, and then running a one sample $t$-test on the difference scores.\n",
    "- Effect size calculations for the difference between means can be calculated via the Cohen's $d$ statistic..\n",
    "- You can check the normality of a sample using QQ plots and the Shapiro-Wilk test.\n",
    "- If your data are non-normal, you can use Wilcoxon tests instead of $t$-tests."
   ]
  },
  {
   "attachments": {},
   "cell_type": "markdown",
   "id": "former-token",
   "metadata": {},
   "source": [
    "[^note1]: We won't cover multiple predictors until the chapter on [regression](regression).\n",
    "\n",
    "[^note2]: Informal experimentation in my garden suggests that yes, it does. Australian natives are adapted to low phosphorus levels relative to everywhere else on Earth, apparently, so if you've bought a house with a bunch of exotics and you want to plant natives, don't follow my example: keep them separate. Nutrients to European plants are poison to Australian ones. There's probably a joke in that, but I can't figure out what it is.\n",
    "\n",
    "[^note3]: Actually this is too strong. Strictly speaking the $z$ test only requires that the sampling distribution of the mean be normally distributed; if the population is normal then it necessarily follows that the sampling distribution of the mean is also normal. However, as we saw when talking about the central limit theorem, it's quite possible (even commonplace) for the sampling distribution to be normal even if the population distribution itself is non-normal. However, in light of the sheer ridiculousness of the assumption that the true standard deviation is known, there really isn't much point in going into details on this front!\n",
    "\n",
    "[^note4]: Well, sort of. As I understand the history, Gosset only provided a partial solution: the general solution to the problem was provided by Sir Ronald Fisher.\n",
    "\n",
    "[^note5]: More seriously, I tend to think the reverse is true: I get very suspicious of technical reports that fill their results sections with nothing except the numbers. It might just be that I'm an arrogant jerk, but I often feel like an author that makes no attempt to explain and interpret their analysis to the reader either doesn't understand it themselves, or is being a bit lazy. Your readers are smart, but not infinitely patient. Don't annoy them if you can help it.\n",
    "\n",
    "[^note6]: Although it is the simplest, which is why I started with it.\n",
    "\n",
    "[^note7]: A funny question almost always pops up at this point: what the heck *is* the population being referred to in this case? Is it the set of students actually taking Dr Harpo's class (all 33 of them)? The set of people who might take the class (an unknown number) of them? Or something else? Does it matter which of these we pick? It's traditional in an introductory behavioural stats class to mumble a lot at this point, but since I get asked this question every year by my students, I'll give a brief answer. Technically yes, it does matter: if you change your definition of what the \"real world\" population actually is, then the sampling distribution of your observed mean $\\bar{X}$ changes too. The $t$-test relies on an assumption that the observations are sampled at random from an infinitely large population; and to the extent that real life isn't like that, then the $t$-test can be wrong. In practice, however, this isn't usually a big deal: even though the assumption is almost always wrong, it doesn't lead to a lot of pathological behaviour from the test, so we tend to just ignore it.\n",
    "\n",
    "[^note8]: Yes, I  have a \"favourite\" way of thinking about pooled standard deviation estimates. So what?\n",
    "\n",
    "[^note9]: Well, I guess you can average apples and oranges, and what you end up with is a delicious fruit smoothie. But no one really thinks that a fruit smoothie is a very good way to describe the original fruits, do they?\n",
    "\n",
    "[^note10]: This design is very similar to the one in [](chisquare) that motivated the McNemar test. This should be no surprise. Both are standard repeated measures designs involving two measurements. The only difference is that this time our outcome variable is interval scale (working memory capacity) rather than a binary, nominal scale variable (a yes-or-no question).\n",
    "\n",
    "[^note11]: At this point we have Drs Harpo, Chico and Zeppo. No prizes for guessing who Dr Groucho is.\n",
    "\n",
    "[^note12]: This is obviously a class being taught at a very small or very expensive university, or else is a postgraduate class. *I've* never taught an intro stats class with less than 350 students.\n",
    "\n",
    "[^note13]: This is a massive oversimplification.\n",
    "\n",
    "[^note14]: Either that, or the Kolmogorov-Smirnov test, which is probably more traditional than the Shapiro-Wilk, though most things I've read seem to suggest Shapiro-Wilk is the better test of normality, although Kolomogorov-Smirnov is a general purpose test of distributional equivalence, so it can be adapted to handle other kinds of distribution tests.\n",
    "\n",
    "[^note15]: Actually, there are two different versions of the test statistic; they differ from each other by a constant value. I'll just describe one of them here."
   ]
  }
 ],
 "metadata": {
  "celltoolbar": "Tags",
  "kernelspec": {
   "display_name": "Python 3",
   "language": "python",
   "name": "python3"
  },
  "language_info": {
   "codemirror_mode": {
    "name": "ipython",
    "version": 3
   },
   "file_extension": ".py",
   "mimetype": "text/x-python",
   "name": "python",
   "nbconvert_exporter": "python",
   "pygments_lexer": "ipython3",
   "version": "3.11.3"
  }
 },
 "nbformat": 4,
 "nbformat_minor": 5
}
