{
 "cells": [
  {
   "cell_type": "markdown",
   "id": "4b3a0580",
   "metadata": {},
   "source": [
    "(programming)=\n",
    "\n",
    "# Basic Programming"
   ]
  },
  {
   "cell_type": "markdown",
   "id": "5ce78e2b",
   "metadata": {},
   "source": [
    ">*Machine dreams hold a special vertigo.*\n",
    ">\n",
    ">--William Gibson[^note1] \n",
    "\n",
    "[^note1]: The quote comes from *Count Zero* (1986)"
   ]
  },
  {
   "cell_type": "markdown",
   "id": "f6826f95",
   "metadata": {},
   "source": [
    "Up to this point in the book I've tried hard to avoid using the word \"programming\" too much because -- at least in my experience -- it's a word that can cause a lot of fear. For one reason or another, programming (like mathematics and statistics) is often perceived by people on the \"outside\" as a black art, a magical skill that can be learned only by some kind of super-nerd. I think this is a shame. It's certainly true that advanced programming is a very specialised skill: several different skills actually, since there's quite a lot of different kinds of programming out there. However, the *basics* of programming aren't all that hard, and you can accomplish a lot of very impressive things just using those basics. \n",
    "\n",
    "With that in mind, the goal of this chapter is to discuss a few basic programming concepts and how to apply them in Python. However, before I do, I want to make one further attempt to point out just how non-magical programming really is, via one very simple observation: *you already know how to do it*. Stripped to its essentials, programming is nothing more (and nothing less) than the process of writing out a bunch of instructions that a computer can understand. To phrase this slightly differently, when you write a computer program, you need to write it in a **_programming language_** that the computer knows how to interpret. Python is one such language. Although I've been having you type all your commands at the command prompt, and all the commands in this book so far have been shown as if that's what I were doing, it's also quite possible (and as you'll see shortly, shockingly easy) to write a program using these Python commands. In other words, if this is the first time reading this book, then you're only one short chapter away from being able to legitimately claim that you can program in Python, albeit at a beginner's level.    "
   ]
  },
  {
   "cell_type": "markdown",
   "id": "980bcd36",
   "metadata": {},
   "source": [
    "(scripts)=\n",
    "\n",
    "## Scripts\n",
    "\n",
    "\n",
    "Computer programs come in quite a few different forms: the kind of program that we're mostly interested in from the perspective of everyday data analysis using Python is known as a **_script_**. The idea behind a script is that, instead of typing your commands into the Python console one at a time, instead you write them all in a text file, or in a \"notebook\", if you are using Jupyter Notebooks. Then, once you've finished writing them and saved the file, you can get Python to execute all the commands at once. In a moment I'll show you exactly how this is done, but first I'd better explain why you should care.\n",
    "\n",
    "\n",
    "### Why use scripts?\n",
    "\n",
    "Before discussing scripting and programming concepts in any more detail, it's worth stopping to ask why you should bother. After all, if you look at the Python commands that I've used everywhere else this book, you'll notice that they're all formatted as if I were typing them at the command line. Outside this chapter you won't actually see any scripts. Do not be fooled by this. The reason that I've done it that way is purely for pedagogical reasons. My goal in this book is to teach statistics and to teach Python. To that end, what *I've* needed to do is chop everything up into tiny little slices: each section tends to focus on one kind of statistical concept, and only a smallish number of Python functions. As much as possible, I want you to see what each function does in isolation, one command at a time. By forcing myself to write everything as if it were being typed at the command line, it imposes a kind of discipline on me: it *prevents* me from piecing together lots of commands into one big script. From a teaching (and learning) perspective I think that's the right thing to do... but from a *data analysis* perspective, it is not. When you start analysing real world data sets, you will rapidly find yourself needing to write scripts.\n",
    "\n",
    "\n",
    "To understand why scripts are so very useful, it may be helpful to consider the drawbacks to typing commands directly at the command prompt. The approach that we've been adopting so far, in which you type commands one at a time, and Python sits there patiently in between commands, is referred to as the **_interactive_** style. Doing your data analysis this way is rather like having a conversation ... a very annoying conversation between you and your data set, in which you and the data aren't directly speaking to each other, and so you have to rely on Python to pass messages back and forth. This approach makes a lot of sense when you're just trying out a few ideas: maybe you're trying to figure out what analyses are sensible for your data, or maybe just you're trying to remember how the various Python functions work, so you're just typing in a few commands until you get the one you want. In other words, the interactive style is very useful as a tool for exploring your data. However, it has a number of drawbacks:\n",
    "\n",
    "- *It's hard to save your work effectively*. You can save the workspace, so that later on you can load any variables you created.  You can save your plots as images. And you can even save the history or copy the contents of the Python console to a file. Taken together, all these things let you create a reasonably decent record of what you did. But it does leave a lot to be desired. It seems like you ought to be able to save a single file that Python could use (in conjunction with your raw data files) and reproduce everything (or at least, everything interesting) that you did during your data analysis.\n",
    "\n",
    "- *It's annoying to have to go back to the beginning when you make a mistake.* Suppose you've just spent the last two hours typing in commands. Over the course of this time you've created lots of new variables and run lots of analyses. Then suddenly you realise that there was a nasty typo in the first command you typed, so all of your later numbers are wrong. Now you have to fix that first command, and then spend another hour or so combing through the Python history to try and recreate what you did.\n",
    "\n",
    "\n",
    "- *You can't leave notes for yourself*. Sure, you can scribble down some notes on a piece of paper, or even save a Word document that summarises what you did. But what you really want to be able to do is write down an English translation of your Python commands, preferably right \"next to\" the commands themselves. That way, you can look back at what you've done and actually remember what you were doing. In the simple exercises we've engaged in so far, it hasn't been all that hard to remember what you were doing or why you were doing it, but only because everything we've done could be done using only a few commands, and you've never been asked to reproduce your analysis six months after you originally did it! When your data analysis starts involving hundreds of variables, and requires quite complicated commands to work, then you really, really need to leave yourself some notes to explain your analysis to, well, yourself. \n",
    "\n",
    "- *It's nearly impossible to reuse your analyses later, or adapt them to similar problems*. Suppose that, sometime in January, you are handed a difficult data analysis problem. After working on it for ages, you figure out some really clever tricks that can be used to solve it. Then, in September, you get handed a really similar problem. You can sort of remember what you did, but not very well. You'd like to have a clean record of what you did last time, how you did it, and why you did it the way you did. Something like that would really help you solve this new problem.\n",
    "\n",
    "- *It's hard to do anything except the basics.* There's a nasty side effect of these problems. Typos are inevitable. Even the best data analyst in the world makes a lot of mistakes. So the chance that you'll be able to string together dozens of correct Python commands in a row are very small. So unless you have some way around this problem, you'll never really be able to do anything other than simple analyses. \n",
    "\n",
    "- *It's difficult to share your work other people.* Because you don't have this nice clean record of what Python commands were involved in your analysis, it's not easy to share your work with other people. Sure, you can send them all the data files you've saved, and your history and console logs, and even the little notes you wrote to yourself, but odds are pretty good that no-one else will really understand what's going on (trust me on this: I've been handed lots of random bits of output from people who've been analysing their data, and it makes very little sense unless you've got the original person who did the work sitting right next to you explaining what you're looking at)\n",
    "\n",
    "\n",
    "Ideally, what you'd like to be able to do is something like this... Suppose you start out with a data set `myrawdata.csv`. What you want is a single document -- let's call it `mydataanalysis.py` -- that stores all of the commands that you've used in order to do your data analysis. It would only include the commands that you want to keep for later. Then, later on, instead of typing in all those commands again, you'd just tell Python to run all of the commands that are stored in `mydataanalysis.py`. Also, in order to help you make sense of all those commands, what you'd want is the ability to add some notes or *comments* within the file, so that anyone reading the document for themselves would be able to understand what each of the commands actually does. But these comments wouldn't get in the way: when you try to get Python to run `mydataanalysis.py` it would be smart enough would recognise that these comments are for the benefit of humans, and so it would ignore them. Later on you could tweak a few of the commands inside the file (maybe in a new file called `mynewdatanalaysis.py`) so that you can adapt an old analysis to be able to handle a new problem. And you could email your friends and colleagues a copy of this file so that they can reproduce your analysis themselves. \n",
    "\n",
    "In other words, what you want is a *script*. The mechanics of exactly where you write your script, and how you run it are a bit beyond what I can cover here. You could write your script in a text file, save it with a file name that ends in .py, and then run it with a terminal command. You could use a so-called IDE (Integrated Development Environment), basically a program for writing programs. At the time I am writing this, a very popular IDE which can support many different programming languages is Visual Studio Code, but there are many other good ones out there. I'm not even going to try to list them, because I would be leaving too many good options out.\n",
    "\n",
    "Another very popular way to write scripts is to use something called Jupyter Notebooks. Jupyter Notebooks are a way to write your code in little cells, rather than in one long text document. This allows you to run individual parts of your script seperately, rather than running the whole thing at once, and this can be very useful for figuring stuff out. You can work on one cell until you get it to do what you want, then work on the next cell. Later, you may start combining cells so that you can run bigger and bigger chunks of code at once. Eventually you may find you want to simply copy all the code out of your Jupyter Notebook and paste it into a text document with a .py file extenstion, so you can just run it all at once. For learning coding, and for developing new ideas and analyses, Jupyter Notebooks are a very good option. Some programs, like Visual Studio Code, allow you to run Jupyter Notebooks inside an IDE. That's what I'm doing as I type these words.\n",
    "\n",
    "But I digress. There are 101 different ways to write, save, and run Python scripts. The key message here is to find a way that works for you, with the resources you have available to you. Let's leave the question of _where_ you will write your code behind, and turn to something more exciting: some of the basic concepts of programming."
   ]
  },
  {
   "cell_type": "markdown",
   "id": "9205b9ab",
   "metadata": {},
   "source": [
    "(loops)=\n",
    "\n",
    "## Loops\n",
    "\n",
    "Oh boy, loops. For some reason, the concept of loops is often very difficult for people to grasp when they are first exposed to it. I'm not sure why, because we use loops constantly in our daily life. \n",
    "\n",
    "Imagine you are putting sugar in your tea or coffee. Let's say you like it very sweet. So you dip your spoon in the sugar bowl, and pour the sugar in the tea. Then you dip you spoon in the sugar bowl, and then you pour the sugar into the tea. And then you do it one more time. After three spoonfulls, you're done.\n",
    "\n",
    "Here's another example. You're baking a cake, and the recipe calls for four eggs. You line the eggs up on the counter, and then, one by one, you crack each one and pour the yoke and egg white into the mixing bowl, and throw away the shell. You do the same thing for each egg.\n",
    "\n",
    "Both of these are examples of loops: you perform the same action over and over, until you're done. In programming terms, the sugar-in-the-tea loop is an example of a _while_ loop. You could put as many or as few spoonfulls of sugar in, but you keep going until the tea is sweet enough for you. Put differently, _while_ the tea is _not_ sweet enough, you keep doing the sugar loop. As soon as the condition has been met (the tea is no longer not swee enough), you stop. The eggs are an example of a _for_ loop. There is a finite number of eggs (in this case four), and you keep performing the same action until you have made it through all of them. That is, _for_ each egg, you do the same thing (crack, pour, dispose) until there are no more eggs.\n",
    "\n",
    "Programming loops work exactly the same way. Let's take a look."
   ]
  },
  {
   "cell_type": "markdown",
   "id": "7cb3a6ea",
   "metadata": {},
   "source": [
    "### While loops\n",
    "\n",
    "I'll stick with the tea example for demonstrating the syntax for while loops, because I'm not very imaginative. Also, I could totally go for a cup of tea right now, but I have to stay here and type this instead.\n",
    "\n",
    "Take a look at the code below. Python needs to know when to stop doing the same thing again and again, so we start by defining an end point. Here, I have declared that my tea will be sweet enough when Python has put 3 spoonfulls of sugar in: I have set the variable `sweet_enough` to 0. In the next line, I have set a starting point. Before the loop starts, there is no sugar in my tea, so I have set the variable `num_sugar_spoons` to 0. The comes the loop: as long as (while) the value of `num_sugar_spoons` is less than the stopping point `sweet_enough`, the loop continues adding 1 to `num_sugar_spoons`. Just to keep track of the progress of the loop, I have thrown a `print` statement in as well."
   ]
  },
  {
   "cell_type": "code",
   "execution_count": 1,
   "id": "fa29bb89",
   "metadata": {},
   "outputs": [
    {
     "name": "stdout",
     "output_type": "stream",
     "text": [
      "I have added 1 spoons of sugar\n",
      "I have added 2 spoons of sugar\n",
      "I have added 3 spoons of sugar\n"
     ]
    }
   ],
   "source": [
    "sweet_enough = 3\n",
    "num_sugar_spoons = 0\n",
    "while num_sugar_spoons < sweet_enough:\n",
    "    num_sugar_spoons = num_sugar_spoons + 1\n",
    "    print('I have added', num_sugar_spoons, 'spoons of sugar')"
   ]
  },
  {
   "cell_type": "markdown",
   "id": "c20ac6df",
   "metadata": {},
   "source": [
    "Pretty easy, right?"
   ]
  },
  {
   "cell_type": "markdown",
   "id": "7eaa0a78",
   "metadata": {},
   "source": [
    "### for loops\n",
    "\n",
    "`For` loops have a very similar structure. Let's crack some eggs:"
   ]
  },
  {
   "cell_type": "code",
   "execution_count": 2,
   "id": "3261d420",
   "metadata": {},
   "outputs": [
    {
     "name": "stdout",
     "output_type": "stream",
     "text": [
      "I cracked an egg!\n",
      "I cracked an egg!\n",
      "I cracked an egg!\n"
     ]
    }
   ],
   "source": [
    "eggs = ['egg', 'egg', 'egg']\n",
    "\n",
    "for egg in eggs:\n",
    "    print('I cracked an egg!')"
   ]
  },
  {
   "cell_type": "markdown",
   "id": "bc5056d5",
   "metadata": {},
   "source": [
    "Alright, I admit this was a pretty silly example. But hopefully you get the idea: I started with a finite number of items (in this case a list that contains three instances of the string 'egg'), then I had Python do something _for_ each item in the list. Let's do a few more, slightly (but not very) more interesting ones:"
   ]
  },
  {
   "cell_type": "code",
   "execution_count": 4,
   "id": "81643512",
   "metadata": {},
   "outputs": [
    {
     "name": "stdout",
     "output_type": "stream",
     "text": [
      "I added eggs\n",
      "I added flour\n",
      "I added sugar\n",
      "I added cinnamon\n",
      "I added salt\n"
     ]
    }
   ],
   "source": [
    "ingredients = ['eggs', 'flour', 'sugar', 'cinnamon', 'salt']\n",
    "\n",
    "for item in ingredients:\n",
    "    print('I added', item)"
   ]
  },
  {
   "cell_type": "code",
   "execution_count": 6,
   "id": "b6517a7b",
   "metadata": {},
   "outputs": [
    {
     "name": "stdout",
     "output_type": "stream",
     "text": [
      "There are 4 letters in EGGS\n",
      "There are 5 letters in FLOUR\n",
      "There are 5 letters in SUGAR\n",
      "There are 8 letters in CINNAMON\n",
      "There are 4 letters in SALT\n"
     ]
    }
   ],
   "source": [
    "words = ['eggs', 'flour', 'sugar', 'cinnamon', 'salt']\n",
    "\n",
    "for word in words:\n",
    "    print('There are', len(word), 'letters in', word.upper())"
   ]
  },
  {
   "cell_type": "markdown",
   "id": "42d04957",
   "metadata": {},
   "source": [
    "As these (admittedly silly) examples illustrate, we can use `for` loops to step through a series of items, and do the same thing with each one. In the first example, we just printed the same string each time. In the second one, we took each item from the list, and printed it as the final word in a sentence. In the third example, we took each word, counted the number of letters in it, and then printed the answer in a sentence in which we also converted each word to all upper case letters. These were just very, very simple examples, but I want to underscore how extremely powerfull these loops are. _Anything_ you could do to one item in a list, you can get Python to do to _every_ item in the list. If you have a lot of actions to perform on a lot of items, this allows you to do things you would probaby never be able to do manually."
   ]
  },
  {
   "cell_type": "markdown",
   "id": "036f7232",
   "metadata": {},
   "source": [
    "### Loop syntax\n",
    "\n",
    "A final thing about loops for now: if you look at both the `for` and `while` loops above, you may notice some similarities in the structure. First, there is a statement of the conditions (`while num_sugar_spoons < sweet_enough`, or `for word in words`), followed by a colon (`:`). Then, the next line or lines are indented. This syntax is _crucial_ for telling Python that you want it run a loop. It is customary in most programming languages to use indentation to show what things are \"inside\" the loop, and what things are \"outside\". In Python, the indentation is _mandatory_. Without the proper indentation, Python will not run the loop.\n",
    "\n",
    "Another thing to mention: when you define `for` loops, you also declare new variable. As an example, when we said `for word in words:`, we declared a new variable, `word`. Like all variables in Python, we could have called it anything we liked. Writing `for x in words:`, `for item in words:`, or `for flibbertigibbet in words:`, would all work the same. But the same advice that applies to other variables also applies here: don't get too cute. Give the variable a name that makes sense to you.\n",
    "\n",
    "Finally, be aware that this new variable that you declare at the beginning of your loop will inherit its type from the item in the list that it represents. This has an impact on what you can do with it in the loop. For example, suppose we have a list like this:"
   ]
  },
  {
   "cell_type": "code",
   "execution_count": 7,
   "id": "962c5140",
   "metadata": {},
   "outputs": [
    {
     "name": "stdout",
     "output_type": "stream",
     "text": [
      "apples\n",
      " pears\n"
     ]
    },
    {
     "ename": "TypeError",
     "evalue": "unsupported operand type(s) for +: 'int' and 'str'",
     "output_type": "error",
     "traceback": [
      "\u001b[0;31m---------------------------------------------------------------------------\u001b[0m",
      "\u001b[0;31mTypeError\u001b[0m                                 Traceback (most recent call last)",
      "Cell \u001b[0;32mIn[7], line 4\u001b[0m\n\u001b[1;32m      1\u001b[0m random_stuff \u001b[39m=\u001b[39m [\u001b[39m'\u001b[39m\u001b[39mapple\u001b[39m\u001b[39m'\u001b[39m, \u001b[39m'\u001b[39m\u001b[39m pear\u001b[39m\u001b[39m'\u001b[39m, \u001b[39m42\u001b[39m]\n\u001b[1;32m      3\u001b[0m \u001b[39mfor\u001b[39;00m thing \u001b[39min\u001b[39;00m random_stuff:\n\u001b[0;32m----> 4\u001b[0m     new_thing \u001b[39m=\u001b[39m thing \u001b[39m+\u001b[39;49m \u001b[39m'\u001b[39;49m\u001b[39ms\u001b[39;49m\u001b[39m'\u001b[39;49m\n\u001b[1;32m      5\u001b[0m     \u001b[39mprint\u001b[39m(new_thing)\n",
      "\u001b[0;31mTypeError\u001b[0m: unsupported operand type(s) for +: 'int' and 'str'"
     ]
    }
   ],
   "source": [
    "random_stuff = ['apple', ' pear', 42]\n",
    "\n",
    "for thing in random_stuff:\n",
    "    new_thing = thing + 's'\n",
    "    print(new_thing)"
   ]
  },
  {
   "cell_type": "markdown",
   "id": "41034571",
   "metadata": {},
   "source": [
    "For the first two item in the list, Python has no problem adding a an \"s\" to the end of them, because they are strngs, and so is \"s\", and Python understands what it means to add a string to a string. But the final item in the list is an integer, and Python has no way to add a string to an integer, and so it complains when it gets to that point in the loop."
   ]
  },
  {
   "cell_type": "markdown",
   "id": "702f34c7",
   "metadata": {},
   "source": [
    "(if)=\n",
    "\n",
    "##  Conditional statements\n",
    "\n",
    "Together with variables and loops, conditional statements are probably the third most important programming concept for you to learn. Once you master variables, loops, and conditionals, there's not much you can't do. Like loops, conditionals are also all around us in everyday life. Unlike loops, they don't seem to be as difficult for most people to grasp. This semester, I teach at 8:00 AM on Wednesdays. Yikes! That means, that _if_ it is a Wednesday, I need to leave the house earlier. Otherwise, I can leave at the normal time. It's not hard to imagine this idea re-written as code:"
   ]
  },
  {
   "cell_type": "code",
   "execution_count": 8,
   "id": "bfb684e7",
   "metadata": {},
   "outputs": [
    {
     "name": "stdout",
     "output_type": "stream",
     "text": [
      "Leave early!\n"
     ]
    }
   ],
   "source": [
    "day = 'Wednesday'\n",
    "\n",
    "if day == 'Wednesday':\n",
    "    print('Leave early!')"
   ]
  },
  {
   "cell_type": "markdown",
   "id": "9ea4a39b",
   "metadata": {},
   "source": [
    "Ok, since I started by defining `day` as \"Wednesday\", it was pretty clear what was going to happen. But still, did you notice the use of `==` to make the comparison between `day` and the string `Wednesday`? \n",
    "\n",
    "To make this example ever-so-slightly more realistic, we could define a list variable that encompasses the whole week, and places the `if` statement inside a `for` loop, to do a daily check, to tell Python what to do if it is Wednesday, and an `else` statement, to tell Python what to do if it is not Wednesday."
   ]
  },
  {
   "cell_type": "code",
   "execution_count": 17,
   "id": "4151bee8",
   "metadata": {},
   "outputs": [
    {
     "name": "stdout",
     "output_type": "stream",
     "text": [
      "Today is Monday. You can leave at the normal time today.\n",
      "Today is Tuesday. You can leave at the normal time today.\n",
      "Today is Wednesday. You need to leave early!\n",
      "Today is Thursday. You can leave at the normal time today.\n",
      "Today is Friday. You can leave at the normal time today.\n",
      "Today is Saturday. You can leave at the normal time today.\n",
      "Today is Sunday. You can leave at the normal time today.\n"
     ]
    }
   ],
   "source": [
    "week = ['Monday', 'Tuesday', 'Wednesday', 'Thursday', 'Friday', 'Saturday', 'Sunday']\n",
    "\n",
    "for day in week:\n",
    "    if day == 'Wednesday':\n",
    "        print('Today is', day + '.', 'You need to leave early!')\n",
    "    else:\n",
    "        print('Today is', day + '.', 'You can leave at the normal time today.')"
   ]
  },
  {
   "cell_type": "markdown",
   "id": "a874d100",
   "metadata": {},
   "source": [
    "Then again, it's not just Wednesdays I need to be aware of. If it is Saturday or Sunday, then I don't want to leave at all; it's the weekend. So we can add another `if` statement and an `or` statment to create a more complicated set of choices for Python to navigate."
   ]
  },
  {
   "cell_type": "code",
   "execution_count": 19,
   "id": "509ae446",
   "metadata": {},
   "outputs": [
    {
     "name": "stdout",
     "output_type": "stream",
     "text": [
      "Today is Monday. You can leave at the normal time today.\n",
      "Today is Tuesday. You can leave at the normal time today.\n",
      "Today is Wednesday. You need to leave early!\n",
      "Today is Wednesday. You can leave at the normal time today.\n",
      "Today is Thursday. You can leave at the normal time today.\n",
      "Today is Friday. You can leave at the normal time today.\n",
      "Today is Saturday. You can sleep late!\n",
      "Today is Sunday. You can sleep late!\n"
     ]
    }
   ],
   "source": [
    "week = ['Monday', 'Tuesday', 'Wednesday', 'Thursday', 'Friday', 'Saturday', 'Sunday']\n",
    "\n",
    "for day in week:\n",
    "    if day == 'Wednesday':\n",
    "        print('Today is', day + '.', 'You need to leave early!')\n",
    "    if day == 'Saturday' or day == 'Sunday':\n",
    "            print('Today is', day + '.', 'You can sleep late!')\n",
    "    else:\n",
    "        print('Today is', day + '.', 'You can leave at the normal time today.')"
   ]
  },
  {
   "cell_type": "markdown",
   "id": "ee283bec",
   "metadata": {},
   "source": [
    "(functions)=\n",
    "\n",
    "## Functions"
   ]
  },
  {
   "cell_type": "markdown",
   "id": "d574b516",
   "metadata": {},
   "source": [
    "(listcomprehensions)=\n",
    "\n",
    "## List comprehensions: A different kind of loop"
   ]
  },
  {
   "cell_type": "markdown",
   "id": "a3436a15",
   "metadata": {},
   "source": [
    "(nesting)=\n",
    "\n",
    "## Nesting"
   ]
  },
  {
   "cell_type": "markdown",
   "id": "82bbfb35",
   "metadata": {},
   "source": [
    "(abstraction)=\n",
    "\n",
    "## Abstraction and generalization"
   ]
  },
  {
   "cell_type": "code",
   "execution_count": null,
   "id": "765fc630",
   "metadata": {},
   "outputs": [],
   "source": []
  }
 ],
 "metadata": {
  "kernelspec": {
   "display_name": "Python 3 (ipykernel)",
   "language": "python",
   "name": "python3"
  },
  "language_info": {
   "codemirror_mode": {
    "name": "ipython",
    "version": 3
   },
   "file_extension": ".py",
   "mimetype": "text/x-python",
   "name": "python",
   "nbconvert_exporter": "python",
   "pygments_lexer": "ipython3",
   "version": "3.11.3"
  }
 },
 "nbformat": 4,
 "nbformat_minor": 5
}
