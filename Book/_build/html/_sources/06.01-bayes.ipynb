{
 "cells": [
  {
   "attachments": {},
   "cell_type": "markdown",
   "id": "imperial-facing",
   "metadata": {},
   "source": [
    "(bayes)=\n",
    "# Bayesian Statistics"
   ]
  },
  {
   "attachments": {},
   "cell_type": "markdown",
   "id": "4f7dec85",
   "metadata": {},
   "source": [
    "> *In our reasonings concerning matter of fact, there are all imaginable degrees of assurance, from the highest certainty to the lowest species of moral evidence. A wise man, therefore, proportions his belief to the evidence.* \n",
    "-- [David Hume](http://en.wikiquote.org/wiki/David_Hume)."
   ]
  },
  {
   "attachments": {},
   "cell_type": "markdown",
   "id": "e7d85f99",
   "metadata": {},
   "source": [
    "The ideas I've presented to you in this book describe inferential statistics from the frequentist perspective. I'm not alone in doing this. In fact, almost every textbook given to undergraduate psychology students presents the opinions of the frequentist statistician as *the* theory of inferential statistics, the one true way to do things. I have taught this way for practical reasons. The frequentist view of statistics dominated the academic field of statistics for most of the 20th century, and this dominance is even more extreme among applied scientists. It was and is current practice among psychologists to use frequentist methods, although this is changing. Because frequentist methods are ubiquitous in scientific papers, every student of statistics needs to understand those methods, otherwise they will be unable to make sense of what those papers are saying! Unfortunately -- in my opinion at least -- the current practice in psychology is often misguided, and the reliance on frequentist methods is partly to blame. In this chapter I explain why I think this, and provide an introduction to Bayesian statistics, an approach that I think is generally superior to the orthodox approach.\n",
    "\n",
    "This chapter comes in two parts. First I talk about [what Bayesian statistics are all about](basicbayes), covering the basic mathematical rules for how it works as well as an explanation for [why I think the Bayesian approach is so useful](whybayes). Afterwards, I provide a brief overview of how you can do Bayesian versions of [chi-square tests](bayescontingency), [$t$-tests](ttestbf), [regression](bayesregression)) and [ANOVA](bayesanova)."
   ]
  },
  {
   "attachments": {},
   "cell_type": "markdown",
   "id": "cd46bb5a",
   "metadata": {},
   "source": [
    "(basicbayes)=\n",
    "## Probabilistic reasoning by rational agents\n",
    "\n",
    "From a Bayesian perspective, statistical inference is all about *belief revision*. I start out with a set of candidate hypotheses $h$ about the world. I don't know which of these hypotheses is true, but do I have some beliefs about which hypotheses are plausible and which are not. When I observe the data $d$, I have to revise those beliefs. If the data are consistent with a hypothesis, my belief in that hypothesis is strengthened. If the data inconsistent with the hypothesis, my belief in that hypothesis is weakened. That's it! At the end of this section I'll give a precise description of how Bayesian reasoning works, but first I want to work through a simple example in order to introduce the key ideas. Consider the following reasoning problem:\n",
    "\n",
    "> *I'm carrying an umbrella. Do you think it will rain?*\n",
    "\n",
    "In this problem, I have presented you with a single piece of data ($d =$ I'm carrying the umbrella), and I'm asking you to tell me your beliefs about whether it's raining. You have two possible **_hypotheses_**, $h$: either it rains today or it does not. How should you solve this problem? "
   ]
  },
  {
   "attachments": {},
   "cell_type": "markdown",
   "id": "c40bf9e0",
   "metadata": {},
   "source": [
    "(priors)=\n",
    "### Priors: what you believed before\n",
    "\n",
    "The first thing you need to do ignore what I told you about the umbrella, and write down your pre-existing beliefs about rain. This is important: if you want to be honest about how your beliefs have been revised in the light of new evidence, then you *must* say something about what you believed before those data appeared! So, what might you believe about whether it will rain today? You probably know that I live in Australia, and that much of Australia is hot and dry. And in fact you're right: the city of Adelaide where I live has a Mediterranean climate, very similar to southern California, southern Europe or northern Africa. I'm writing this in January, and so you can assume it's the middle of summer. In fact, you might have decided to take a quick look on Wikipedia and discovered that Adelaide gets an average of 4.4 days of rain across the 31 days of January. Without knowing anything else, you might conclude that the probability of January rain in Adelaide is about 15\\%, and the probability of a dry day is 85\\%. If this is really what you believe about Adelaide rainfall (and now that I've told it to you, I'm betting that this really *is* what you believe) then what I have written here is your **_prior distribution_**, written $P(h)$:\n",
    "\n",
    "[^adelaide]: http://en.wikipedia.org/wiki/Climate_of_Adelaide"
   ]
  },
  {
   "attachments": {},
   "cell_type": "markdown",
   "id": "ec6dbb75",
   "metadata": {},
   "source": [
    "| Hypothesis | Degree of Belief |\n",
    "|------------|------------------|\n",
    "| Rainy day  | 0.15             |\n",
    "| Dry day    | 0.85             |"
   ]
  },
  {
   "attachments": {},
   "cell_type": "markdown",
   "id": "ecbfb8f9",
   "metadata": {},
   "source": [
    "### Likelihoods: theories about the data"
   ]
  },
  {
   "attachments": {},
   "cell_type": "markdown",
   "id": "3f350d58",
   "metadata": {},
   "source": [
    "### The joint probability of data and hypothesis"
   ]
  },
  {
   "attachments": {},
   "cell_type": "markdown",
   "id": "06e2d7e9",
   "metadata": {},
   "source": [
    "### Updating beliefs using Bayes' rule"
   ]
  },
  {
   "attachments": {},
   "cell_type": "markdown",
   "id": "4e55f10a",
   "metadata": {},
   "source": [
    "(bayesianhypothesistests)=\n",
    "## Bayesian hypothesis tests"
   ]
  },
  {
   "attachments": {},
   "cell_type": "markdown",
   "id": "d997c010",
   "metadata": {},
   "source": [
    "### The Bayes factor"
   ]
  },
  {
   "attachments": {},
   "cell_type": "markdown",
   "id": "7d934836",
   "metadata": {},
   "source": [
    "### Interpreting Bayes factors"
   ]
  },
  {
   "attachments": {},
   "cell_type": "markdown",
   "id": "06b02e71",
   "metadata": {},
   "source": [
    "(whybayes)=\n",
    "## Why be a Bayesian?"
   ]
  },
  {
   "attachments": {},
   "cell_type": "markdown",
   "id": "6170c12d",
   "metadata": {},
   "source": [
    "### Statistics that mean what you think they mean"
   ]
  },
  {
   "attachments": {},
   "cell_type": "markdown",
   "id": "9ce4a648",
   "metadata": {},
   "source": [
    "## Evidentiary standards you can believe"
   ]
  },
  {
   "attachments": {},
   "cell_type": "markdown",
   "id": "fe43f6aa",
   "metadata": {},
   "source": [
    "### Is it really this bad?"
   ]
  },
  {
   "attachments": {},
   "cell_type": "markdown",
   "id": "93c3616d",
   "metadata": {},
   "source": [
    "(bayescontingency)=\n",
    "## Bayesian analysis of contingency tables"
   ]
  },
  {
   "attachments": {},
   "cell_type": "markdown",
   "id": "98b14380",
   "metadata": {},
   "source": [
    "### The orthodox text"
   ]
  },
  {
   "attachments": {},
   "cell_type": "markdown",
   "id": "176b3d85",
   "metadata": {},
   "source": [
    "### The Bayesian test"
   ]
  },
  {
   "attachments": {},
   "cell_type": "markdown",
   "id": "36fc4cc7",
   "metadata": {},
   "source": [
    "### Writing up the results"
   ]
  },
  {
   "attachments": {},
   "cell_type": "markdown",
   "id": "36db1a47",
   "metadata": {},
   "source": [
    "### Other sampling plans"
   ]
  },
  {
   "attachments": {},
   "cell_type": "markdown",
   "id": "713ef507",
   "metadata": {},
   "source": [
    "(ttestbf)=\n",
    "## Bayesian $t$-tests"
   ]
  },
  {
   "attachments": {},
   "cell_type": "markdown",
   "id": "06e30ebb",
   "metadata": {},
   "source": [
    "### Independent samples $t$-test"
   ]
  },
  {
   "attachments": {},
   "cell_type": "markdown",
   "id": "b3b2f313",
   "metadata": {},
   "source": [
    "### Paired samples $t$-test"
   ]
  },
  {
   "attachments": {},
   "cell_type": "markdown",
   "id": "5025fdeb",
   "metadata": {},
   "source": [
    "(bayesregression)=\n",
    "## Bayesian regression"
   ]
  },
  {
   "attachments": {},
   "cell_type": "markdown",
   "id": "ec1dca42",
   "metadata": {},
   "source": [
    "### A quick refresher"
   ]
  },
  {
   "attachments": {},
   "cell_type": "markdown",
   "id": "8dc9bbe2",
   "metadata": {},
   "source": [
    "### The Bayesian version"
   ]
  },
  {
   "attachments": {},
   "cell_type": "markdown",
   "id": "9a8b91de",
   "metadata": {},
   "source": [
    "### Finding the best model"
   ]
  },
  {
   "attachments": {},
   "cell_type": "markdown",
   "id": "5fe83094",
   "metadata": {},
   "source": [
    "### Extracting Bayes factors for all included terms"
   ]
  },
  {
   "attachments": {},
   "cell_type": "markdown",
   "id": "099e79e8",
   "metadata": {},
   "source": [
    "(bayesanova)=\n",
    "## Bayesian ANOVA"
   ]
  },
  {
   "attachments": {},
   "cell_type": "markdown",
   "id": "a0a93bb9",
   "metadata": {},
   "source": [
    "### A quick refresher"
   ]
  },
  {
   "attachments": {},
   "cell_type": "markdown",
   "id": "43ca2015",
   "metadata": {},
   "source": [
    "### The Bayesian version"
   ]
  },
  {
   "attachments": {},
   "cell_type": "markdown",
   "id": "5dffe7b0",
   "metadata": {},
   "source": [
    "### Constructing Bayesian Type II tests"
   ]
  },
  {
   "attachments": {},
   "cell_type": "markdown",
   "id": "c826eaac",
   "metadata": {},
   "source": [
    "## Summary"
   ]
  },
  {
   "attachments": {},
   "cell_type": "markdown",
   "id": "78e73888",
   "metadata": {},
   "source": []
  }
 ],
 "metadata": {
  "kernelspec": {
   "display_name": "Python 3 (ipykernel)",
   "language": "python",
   "name": "python3"
  },
  "language_info": {
   "codemirror_mode": {
    "name": "ipython",
    "version": 3
   },
   "file_extension": ".py",
   "mimetype": "text/x-python",
   "name": "python",
   "nbconvert_exporter": "python",
   "pygments_lexer": "ipython3",
   "version": "3.10.5"
  }
 },
 "nbformat": 4,
 "nbformat_minor": 5
}
