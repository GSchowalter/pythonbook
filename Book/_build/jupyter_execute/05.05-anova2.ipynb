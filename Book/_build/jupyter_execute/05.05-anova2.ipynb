{
 "cells": [
  {
   "attachments": {},
   "cell_type": "markdown",
   "id": "insured-cedar",
   "metadata": {},
   "source": [
    "(anova2)=\n",
    "# Factorial ANOVA"
   ]
  },
  {
   "attachments": {},
   "cell_type": "markdown",
   "id": "d9a282ab",
   "metadata": {},
   "source": [
    "Over the course of the last few chapters you can probably detect a general trend. We started out looking at tools that you can use to compare two groups to one another, most notably the [$t$-test](ttest). Then, we introduced [analysis of variance](anova) (ANOVA) as a method for comparing more than two groups. The chapter on [regression](regression) covered a somewhat different topic, but in doing so it introduced a powerful new idea: building statistical models that have *multiple* predictor variables used to explain a single outcome variable. For instance, a regression model could be used to predict the number of errors a student makes in a reading comprehension test based on the number of hours they studied for the test, and their score on a standardised IQ test. The goal in this chapter is to import this idea into the ANOVA framework. For instance, suppose we were interested in using the reading comprehension test to measure student achievements in three different schools, and we suspect that girls and boys are developing at different rates (and so would be expected to have different performance on average). Each student is classified in two different ways: on the basis of their gender, and on the basis of their school. What we'd like to do is analyse the reading comprehension scores in terms of *both* of these grouping variables. The tool for doing so is generically referred to as **_factorial ANOVA_**. However, since we have two grouping variables, we sometimes refer to the analysis as a two-way ANOVA, in contrast to the one-way ANOVAs that we [ran earlier](anova)."
   ]
  },
  {
   "attachments": {},
   "cell_type": "markdown",
   "id": "19203557",
   "metadata": {},
   "source": [
    "(factorialanovasimple)=\n",
    "## Factorial ANOVA 1: balanced designs, no interactions\n",
    "\n",
    "When we discussed [analysis of variance](anova), we assumed a fairly simple experimental design: each person falls into one of several groups, and we want to know whether these groups have different means on some outcome variable. In this section, I'll discuss a broader class of experimental designs, known as **_factorial designs_**, in we have more than one grouping variable. I gave one example of how this kind of design might arise above. Another example appears in the chapter on [ANOVA](anova), in which we were looking at the effect of different drugs on the `mood_gain` experienced by each person. In that chapter we did find a significant effect of drug, but at the end of the chapter we also ran an analysis to see if there was an effect of therapy. We didn't find one, but there's something a bit worrying about trying to run two *separate* analyses trying to predict the same outcome. Maybe there actually *is* an effect of therapy on mood gain, but we couldn't find it because it was being \"hidden\" by the effect of drug? In other words, we're going to want to run a *single* analysis that includes *both* `drug` and `therapy` as predictors. For this analysis each person is cross-classified by the drug they were given (a factor with 3 levels) and what therapy they received (a factor with 2 levels). We refer to this as a $3 \\times 2$ factorial design. If we cross-tabulate `drug` by `therapy` using the `crosstab()` in `pandas`, we get the following table:"
   ]
  },
  {
   "cell_type": "code",
   "execution_count": 1,
   "id": "b38e94ae",
   "metadata": {},
   "outputs": [
    {
     "data": {
      "text/html": [
       "<div>\n",
       "<style scoped>\n",
       "    .dataframe tbody tr th:only-of-type {\n",
       "        vertical-align: middle;\n",
       "    }\n",
       "\n",
       "    .dataframe tbody tr th {\n",
       "        vertical-align: top;\n",
       "    }\n",
       "\n",
       "    .dataframe thead th {\n",
       "        text-align: right;\n",
       "    }\n",
       "</style>\n",
       "<table border=\"1\" class=\"dataframe\">\n",
       "  <thead>\n",
       "    <tr style=\"text-align: right;\">\n",
       "      <th>therapy</th>\n",
       "      <th>CBT</th>\n",
       "      <th>no.therapy</th>\n",
       "    </tr>\n",
       "    <tr>\n",
       "      <th>drug</th>\n",
       "      <th></th>\n",
       "      <th></th>\n",
       "    </tr>\n",
       "  </thead>\n",
       "  <tbody>\n",
       "    <tr>\n",
       "      <th>anxifree</th>\n",
       "      <td>3</td>\n",
       "      <td>3</td>\n",
       "    </tr>\n",
       "    <tr>\n",
       "      <th>joyzepam</th>\n",
       "      <td>3</td>\n",
       "      <td>3</td>\n",
       "    </tr>\n",
       "    <tr>\n",
       "      <th>placebo</th>\n",
       "      <td>3</td>\n",
       "      <td>3</td>\n",
       "    </tr>\n",
       "  </tbody>\n",
       "</table>\n",
       "</div>"
      ],
      "text/plain": [
       "therapy   CBT  no.therapy\n",
       "drug                     \n",
       "anxifree    3           3\n",
       "joyzepam    3           3\n",
       "placebo     3           3"
      ]
     },
     "execution_count": 1,
     "metadata": {},
     "output_type": "execute_result"
    }
   ],
   "source": [
    "import pandas as pd\n",
    "\n",
    "df = pd.read_csv(\"https://raw.githubusercontent.com/ethanweed/pythonbook/main/Data/clintrial.csv\")\n",
    "\n",
    "pd.crosstab(index=df[\"drug\"], columns=df[\"therapy\"],margins=False)"
   ]
  },
  {
   "attachments": {},
   "cell_type": "markdown",
   "id": "2aee2f64",
   "metadata": {},
   "source": [
    "As you can see, not only do we have participants corresponding to all possible combinations of the two factors, indicating that our design is **_completely crossed_**, it turns out that there are an equal number of people in each group. In other words, we have a **_balanced_** design. In this section I'll talk about how to analyse data from balanced designs, since this is the simplest case. The story for unbalanced designs is quite tedious, so we'll put it to one side for the moment."
   ]
  },
  {
   "attachments": {},
   "cell_type": "markdown",
   "id": "cbf44bf3",
   "metadata": {},
   "source": [
    "(factanovahyp)=\n",
    "### What hypotheses are we testing?\n",
    "\n",
    "Like one-way ANOVA, factorial ANOVA is a tool for testing certain types of hypotheses about population means. So a sensible place to start would be to be explicit about what our hypotheses actually are. However, before we can even get to that point, it's really useful to have some clean and simple notation to describe the population means. Because of the fact that observations are cross-classified in terms of two different factors, there are quite a lot of different means that one might be interested. To see this, let's start by thinking about all the different sample means that we can calculate for this kind of design. Firstly, there's the obvious idea that we might be interested in this table of group means:"
   ]
  },
  {
   "cell_type": "code",
   "execution_count": 2,
   "id": "1b4a176a",
   "metadata": {},
   "outputs": [
    {
     "data": {
      "text/html": [
       "<div>\n",
       "<style scoped>\n",
       "    .dataframe tbody tr th:only-of-type {\n",
       "        vertical-align: middle;\n",
       "    }\n",
       "\n",
       "    .dataframe tbody tr th {\n",
       "        vertical-align: top;\n",
       "    }\n",
       "\n",
       "    .dataframe thead th {\n",
       "        text-align: right;\n",
       "    }\n",
       "</style>\n",
       "<table border=\"1\" class=\"dataframe\">\n",
       "  <thead>\n",
       "    <tr style=\"text-align: right;\">\n",
       "      <th></th>\n",
       "      <th>therapy</th>\n",
       "      <th>drug</th>\n",
       "      <th>mood_gain</th>\n",
       "    </tr>\n",
       "  </thead>\n",
       "  <tbody>\n",
       "    <tr>\n",
       "      <th>0</th>\n",
       "      <td>CBT</td>\n",
       "      <td>anxifree</td>\n",
       "      <td>1.03</td>\n",
       "    </tr>\n",
       "    <tr>\n",
       "      <th>1</th>\n",
       "      <td>CBT</td>\n",
       "      <td>joyzepam</td>\n",
       "      <td>1.50</td>\n",
       "    </tr>\n",
       "    <tr>\n",
       "      <th>2</th>\n",
       "      <td>CBT</td>\n",
       "      <td>placebo</td>\n",
       "      <td>0.60</td>\n",
       "    </tr>\n",
       "    <tr>\n",
       "      <th>3</th>\n",
       "      <td>no.therapy</td>\n",
       "      <td>anxifree</td>\n",
       "      <td>0.40</td>\n",
       "    </tr>\n",
       "    <tr>\n",
       "      <th>4</th>\n",
       "      <td>no.therapy</td>\n",
       "      <td>joyzepam</td>\n",
       "      <td>1.47</td>\n",
       "    </tr>\n",
       "    <tr>\n",
       "      <th>5</th>\n",
       "      <td>no.therapy</td>\n",
       "      <td>placebo</td>\n",
       "      <td>0.30</td>\n",
       "    </tr>\n",
       "  </tbody>\n",
       "</table>\n",
       "</div>"
      ],
      "text/plain": [
       "      therapy      drug  mood_gain\n",
       "0         CBT  anxifree       1.03\n",
       "1         CBT  joyzepam       1.50\n",
       "2         CBT   placebo       0.60\n",
       "3  no.therapy  anxifree       0.40\n",
       "4  no.therapy  joyzepam       1.47\n",
       "5  no.therapy   placebo       0.30"
      ]
     },
     "execution_count": 2,
     "metadata": {},
     "output_type": "execute_result"
    }
   ],
   "source": [
    "pd.DataFrame(round(df.groupby(by=['therapy', 'drug'])['mood_gain'].mean(),2)).reset_index()\n"
   ]
  },
  {
   "attachments": {},
   "cell_type": "markdown",
   "id": "baf64f4f",
   "metadata": {},
   "source": [
    "Now, this output shows a cross-tabulation of the group means for all possible combinations of the two factors (e.g., people who received the placebo and no therapy, people who received the placebo while getting CBT, etc). However, we can also construct tables that ignore one of the two factors. That gives us output that looks like this:"
   ]
  },
  {
   "cell_type": "code",
   "execution_count": 3,
   "id": "8653859e",
   "metadata": {},
   "outputs": [
    {
     "data": {
      "text/html": [
       "<div>\n",
       "<style scoped>\n",
       "    .dataframe tbody tr th:only-of-type {\n",
       "        vertical-align: middle;\n",
       "    }\n",
       "\n",
       "    .dataframe tbody tr th {\n",
       "        vertical-align: top;\n",
       "    }\n",
       "\n",
       "    .dataframe thead th {\n",
       "        text-align: right;\n",
       "    }\n",
       "</style>\n",
       "<table border=\"1\" class=\"dataframe\">\n",
       "  <thead>\n",
       "    <tr style=\"text-align: right;\">\n",
       "      <th></th>\n",
       "      <th>therapy</th>\n",
       "      <th>mood_gain</th>\n",
       "    </tr>\n",
       "  </thead>\n",
       "  <tbody>\n",
       "    <tr>\n",
       "      <th>0</th>\n",
       "      <td>CBT</td>\n",
       "      <td>1.04</td>\n",
       "    </tr>\n",
       "    <tr>\n",
       "      <th>1</th>\n",
       "      <td>no.therapy</td>\n",
       "      <td>0.72</td>\n",
       "    </tr>\n",
       "  </tbody>\n",
       "</table>\n",
       "</div>"
      ],
      "text/plain": [
       "      therapy  mood_gain\n",
       "0         CBT       1.04\n",
       "1  no.therapy       0.72"
      ]
     },
     "execution_count": 3,
     "metadata": {},
     "output_type": "execute_result"
    }
   ],
   "source": [
    "pd.DataFrame(round(df.groupby(['therapy'])['mood_gain'].mean(),2)).reset_index()"
   ]
  },
  {
   "cell_type": "code",
   "execution_count": 4,
   "id": "821fd280",
   "metadata": {},
   "outputs": [
    {
     "data": {
      "text/html": [
       "<div>\n",
       "<style scoped>\n",
       "    .dataframe tbody tr th:only-of-type {\n",
       "        vertical-align: middle;\n",
       "    }\n",
       "\n",
       "    .dataframe tbody tr th {\n",
       "        vertical-align: top;\n",
       "    }\n",
       "\n",
       "    .dataframe thead th {\n",
       "        text-align: right;\n",
       "    }\n",
       "</style>\n",
       "<table border=\"1\" class=\"dataframe\">\n",
       "  <thead>\n",
       "    <tr style=\"text-align: right;\">\n",
       "      <th></th>\n",
       "      <th>drug</th>\n",
       "      <th>mood_gain</th>\n",
       "    </tr>\n",
       "  </thead>\n",
       "  <tbody>\n",
       "    <tr>\n",
       "      <th>0</th>\n",
       "      <td>anxifree</td>\n",
       "      <td>0.72</td>\n",
       "    </tr>\n",
       "    <tr>\n",
       "      <th>1</th>\n",
       "      <td>joyzepam</td>\n",
       "      <td>1.48</td>\n",
       "    </tr>\n",
       "    <tr>\n",
       "      <th>2</th>\n",
       "      <td>placebo</td>\n",
       "      <td>0.45</td>\n",
       "    </tr>\n",
       "  </tbody>\n",
       "</table>\n",
       "</div>"
      ],
      "text/plain": [
       "       drug  mood_gain\n",
       "0  anxifree       0.72\n",
       "1  joyzepam       1.48\n",
       "2   placebo       0.45"
      ]
     },
     "execution_count": 4,
     "metadata": {},
     "output_type": "execute_result"
    }
   ],
   "source": [
    "pd.DataFrame(round(df.groupby(['drug'])['mood_gain'].mean(),2)).reset_index()"
   ]
  },
  {
   "attachments": {},
   "cell_type": "markdown",
   "id": "a8db1851",
   "metadata": {},
   "source": [
    "But of course, if we can ignore one factor we can certainly ignore both. That is, we might also be interested in calculating the average  mood gain across all 18 participants, regardless of what drug or psychological therapy they were given:"
   ]
  },
  {
   "cell_type": "code",
   "execution_count": 5,
   "id": "b3a84461",
   "metadata": {},
   "outputs": [
    {
     "data": {
      "text/plain": [
       "0.88"
      ]
     },
     "execution_count": 5,
     "metadata": {},
     "output_type": "execute_result"
    }
   ],
   "source": [
    "round(df['mood_gain'].mean(),2)"
   ]
  },
  {
   "attachments": {},
   "cell_type": "markdown",
   "id": "ee5175b3",
   "metadata": {},
   "source": [
    "At this point we have 12 different sample means to keep track of! It is helpful to organise all these numbers into a single table, which would look like this:\n",
    "\n",
    "|         |no therapy |CBT  |total |\n",
    "|:--------|:----------|:----|:-----|\n",
    "|placebo  |0.30       |0.60 |0.45  |\n",
    "|anxifree |0.40       |1.03 |0.72  |\n",
    "|joyzepam |1.47       |1.50 |1.48  |\n",
    "|total    |0.72       |1.04 |0.88  |"
   ]
  },
  {
   "attachments": {},
   "cell_type": "markdown",
   "id": "2fec1291",
   "metadata": {},
   "source": [
    "Now, each of these different means is of course a sample statistic: it's a quantity that pertains to the specific observations that we've made during our study. What we want to make inferences about are the corresponding population parameters: that is, the true means as they exist within some broader population. Those population means can also be organised into a similar table, but we'll need a little mathematical notation to do so. As usual, I'll use the symbol $\\mu$ to denote a population mean. However, because there are lots of different means, I'll need to use subscripts to distinguish between them. \n",
    "\n",
    "Here's how the notation works. Our table is defined in terms of two factors: each row corresponds to a different level of Factor A (in this case `drug`), and each column corresponds to a different level of Factor B (in this case `therapy`). If we let $R$ denote the number of rows in the table, and $C$ denote the number of columns, we can refer to this as an $R \\times C$ factorial ANOVA. In this case $R=3$ and $C=2$. We'll use lowercase letters to refer to specific rows and columns, so $\\mu_{rc}$ refers to the population mean associated with the $r$th level of Factor A (i.e. row number $r$) and the $c$th level of Factor B (column number $c$).[^notesubscript] So the population means are now written like this:\n",
    "\n",
    "[^notesubscript]: The nice thing about the subscript notation is that generalises nicely: if our experiment had involved a third factor, then we could just add a third subscript. In principle, the notation extends to as many factors as you might care to include, but in this book we'll rarely consider analyses involving more than two factors, and never more than three. "
   ]
  },
  {
   "attachments": {},
   "cell_type": "markdown",
   "id": "0f3fbcf3",
   "metadata": {},
   "source": [
    "|         |no therapy |CBT        |total |\n",
    "|:--------|:----------|:----------|:-----|\n",
    "|placebo  |$\\mu_{11}$ |$\\mu_{12}$ |      |\n",
    "|anxifree |$\\mu_{21}$ |$\\mu_{22}$ |      |\n",
    "|joyzepam |$\\mu_{31}$ |$\\mu_{32}$ |      |\n",
    "|total    |           |           |      |"
   ]
  },
  {
   "attachments": {},
   "cell_type": "markdown",
   "id": "7eaf7b58",
   "metadata": {},
   "source": [
    "Okay, what about the remaining entries? For instance, how should we describe the average mood gain across the entire (hypothetical) population of people who might be given Joyzepam in an experiment like this, regardless of whether they were in CBT? We use the \"dot\" notation to express this. In the case of Joyzepam, notice that we're talking about the mean associated with the third row in the table. That is, we're averaging across two cell means (i.e., $\\mu_{31}$ and $\\mu_{32}$). The result of this averaging is referred to as a **_marginal mean_**, and would be denoted $\\mu_{3.}$ in this case. The marginal mean for CBT corresponds to the population mean associated with the second column in the table, so we use the notation $\\mu_{.2}$ to describe it. The grand mean is denoted $\\mu_{..}$ because it is the mean obtained by averaging (marginalising[^notemarginalising]) over both. So our full table of population means can be written down like this:\n",
    "\n",
    "[^notemarginalising]: Technically, marginalising isn't quite identical to a regular mean: it's a weighted average, where you take into account the frequency of the different events that you're averaging over. However, in a balanced design, all of our cell frequencies are equal by definition, so the two are equivalent. We'll discuss unbalanced designs later, and when we do so you'll see that all of our calculations become a real headache. But let's ignore this for now."
   ]
  },
  {
   "attachments": {},
   "cell_type": "markdown",
   "id": "8b8e1412",
   "metadata": {},
   "source": [
    "|         |no therapy |CBT        |total      |\n",
    "|:--------|:----------|:----------|:----------|\n",
    "|placebo  |$\\mu_{11}$ |$\\mu_{12}$ |$\\mu_{1.}$ |\n",
    "|anxifree |$\\mu_{21}$ |$\\mu_{22}$ |$\\mu_{2.}$ |\n",
    "|joyzepam |$\\mu_{31}$ |$\\mu_{32}$ |$\\mu_{3.}$ |\n",
    "|total    |$\\mu_{.1}$ |$\\mu_{.2}$ |$\\mu_{..}$ |"
   ]
  },
  {
   "attachments": {},
   "cell_type": "markdown",
   "id": "fad9faf3",
   "metadata": {},
   "source": [
    "Now that we have this notation, it is straightforward to formulate and express some hypotheses. Let's suppose that the goal is to find out two things: firstly, does the choice of drug have any effect on mood, and secondly, does CBT have any effect on mood? These aren't the only hypotheses that we could formulate of course, and we'll see a really important example of a different kind of hypothesis in the section on [interactions](interactions), but these are the two simplest hypotheses to test, and so we'll start there. Consider the first test. If drug has no effect, then we would expect all of the row means to be identical, right? So that's our null hypothesis. On the other hand, if the drug does matter then we should expect these row means to be different. Formally, we write down our null and alternative hypotheses in terms of the *equality of marginal means*:"
   ]
  },
  {
   "attachments": {},
   "cell_type": "markdown",
   "id": "4d946da2",
   "metadata": {},
   "source": [
    "|                              |                                                             |\n",
    "|:-----------------------------|:------------------------------------------------------------|\n",
    "|Null hypothesis $H_0$:        |row means are the same i.e. $\\mu_{1.} = \\mu_{2.} = \\mu_{3.}$ |\n",
    "|Alternative hypothesis $H_1$: |at least one row mean is different.                          |"
   ]
  },
  {
   "attachments": {},
   "cell_type": "markdown",
   "id": "3fb68110",
   "metadata": {},
   "source": [
    "It's worth noting that these are *exactly* the same statistical hypotheses that we formed when we ran a one-way ANOVA on these data [way back when](anova). Back then I used the notation $\\mu_P$ to refer to the mean mood gain for the placebo group, with $\\mu_A$ and $\\mu_J$ corresponding to the group means for the two drugs, and the null hypothesis was $\\mu_P = \\mu_A = \\mu_J$. So we're actually talking about the same hypothesis: it's just that the more complicated ANOVA requires more careful notation due to the presence of multiple grouping variables, so we're now referring to this hypothesis as $\\mu_{1.} = \\mu_{2.} = \\mu_{3.}$. However, as we'll see shortly, although the hypothesis is identical, the test of that hypothesis is subtly different due to the fact that we're now acknowledging the existence of the second grouping variable.\n",
    "\n",
    "Speaking of the other grouping variable, you won't be surprised to discover that our second hypothesis test is formulated the same way. However, since we're talking about the psychological therapy rather than drugs, our null hypothesis now corresponds to the equality of the column means:\n"
   ]
  },
  {
   "attachments": {},
   "cell_type": "markdown",
   "id": "6a4d1435",
   "metadata": {},
   "source": [
    "|                              |                                                          |\n",
    "|:-----------------------------|:---------------------------------------------------------|\n",
    "|Null hypothesis $H_0$:        |column means are the same, i.e., $\\mu_{.1} = \\mu_{.2}$    |\n",
    "|Alternative hypothesis $H_1$: |column means are different, i.e., $\\mu_{.1} \\neq \\mu_{.2}$|"
   ]
  },
  {
   "attachments": {},
   "cell_type": "markdown",
   "id": "472ed7cd",
   "metadata": {},
   "source": [
    "### Running the analysis in Python\n",
    "\n",
    "If the data you're trying to analyse correspond to a balanced factorial design, then running your analysis of variance is easy. To see how easy it is, let's start by reproducing the original analysis from [earlier](anova). In case you've forgotten, for that analysis we were using only a single factor (i.e., `drug`) as our between-subjects variable to predict our outcome (dependent) variable (i.e., `mood_gain`), and so this was what we did:"
   ]
  },
  {
   "cell_type": "code",
   "execution_count": 6,
   "id": "4d667428",
   "metadata": {},
   "outputs": [
    {
     "data": {
      "text/html": [
       "<div>\n",
       "<style scoped>\n",
       "    .dataframe tbody tr th:only-of-type {\n",
       "        vertical-align: middle;\n",
       "    }\n",
       "\n",
       "    .dataframe tbody tr th {\n",
       "        vertical-align: top;\n",
       "    }\n",
       "\n",
       "    .dataframe thead th {\n",
       "        text-align: right;\n",
       "    }\n",
       "</style>\n",
       "<table border=\"1\" class=\"dataframe\">\n",
       "  <thead>\n",
       "    <tr style=\"text-align: right;\">\n",
       "      <th></th>\n",
       "      <th>Source</th>\n",
       "      <th>SS</th>\n",
       "      <th>DF</th>\n",
       "      <th>MS</th>\n",
       "      <th>F</th>\n",
       "      <th>p-unc</th>\n",
       "      <th>np2</th>\n",
       "    </tr>\n",
       "  </thead>\n",
       "  <tbody>\n",
       "    <tr>\n",
       "      <th>0</th>\n",
       "      <td>drug</td>\n",
       "      <td>3.45</td>\n",
       "      <td>2</td>\n",
       "      <td>1.73</td>\n",
       "      <td>18.61</td>\n",
       "      <td>0.0</td>\n",
       "      <td>0.71</td>\n",
       "    </tr>\n",
       "    <tr>\n",
       "      <th>1</th>\n",
       "      <td>Within</td>\n",
       "      <td>1.39</td>\n",
       "      <td>15</td>\n",
       "      <td>0.09</td>\n",
       "      <td>NaN</td>\n",
       "      <td>NaN</td>\n",
       "      <td>NaN</td>\n",
       "    </tr>\n",
       "  </tbody>\n",
       "</table>\n",
       "</div>"
      ],
      "text/plain": [
       "   Source    SS  DF    MS      F  p-unc   np2\n",
       "0    drug  3.45   2  1.73  18.61    0.0  0.71\n",
       "1  Within  1.39  15  0.09    NaN    NaN   NaN"
      ]
     },
     "execution_count": 6,
     "metadata": {},
     "output_type": "execute_result"
    }
   ],
   "source": [
    "import pingouin as pg\n",
    "\n",
    "model1 = pg.anova(dv='mood_gain', between='drug', data=df, detailed=True)\n",
    "round(model1, 2)"
   ]
  },
  {
   "attachments": {},
   "cell_type": "markdown",
   "id": "709da32e",
   "metadata": {},
   "source": [
    "Note that this time around I've used the name `model1` as the label for my `aov` object, since I'm planning on creating quite a few other models too. To start with, suppose I'm also curious to find out if `therapy` has a relationship to `mood_gain`. In light of what we've seen from our discussion of [multiple regression](regression), you probably won't be surprised that all we have to do is extend the formula: in other words, if we specify `dv=mood.gain, between=['drug', 'therapy']` as our model, we'll probably get what we're after:"
   ]
  },
  {
   "cell_type": "code",
   "execution_count": 7,
   "id": "c10f48ee",
   "metadata": {},
   "outputs": [
    {
     "data": {
      "text/html": [
       "<div>\n",
       "<style scoped>\n",
       "    .dataframe tbody tr th:only-of-type {\n",
       "        vertical-align: middle;\n",
       "    }\n",
       "\n",
       "    .dataframe tbody tr th {\n",
       "        vertical-align: top;\n",
       "    }\n",
       "\n",
       "    .dataframe thead th {\n",
       "        text-align: right;\n",
       "    }\n",
       "</style>\n",
       "<table border=\"1\" class=\"dataframe\">\n",
       "  <thead>\n",
       "    <tr style=\"text-align: right;\">\n",
       "      <th></th>\n",
       "      <th>Source</th>\n",
       "      <th>SS</th>\n",
       "      <th>DF</th>\n",
       "      <th>MS</th>\n",
       "      <th>F</th>\n",
       "      <th>p-unc</th>\n",
       "      <th>np2</th>\n",
       "    </tr>\n",
       "  </thead>\n",
       "  <tbody>\n",
       "    <tr>\n",
       "      <th>0</th>\n",
       "      <td>drug</td>\n",
       "      <td>3.4533</td>\n",
       "      <td>2</td>\n",
       "      <td>1.7267</td>\n",
       "      <td>31.7143</td>\n",
       "      <td>0.0000</td>\n",
       "      <td>0.8409</td>\n",
       "    </tr>\n",
       "    <tr>\n",
       "      <th>1</th>\n",
       "      <td>therapy</td>\n",
       "      <td>0.4672</td>\n",
       "      <td>1</td>\n",
       "      <td>0.4672</td>\n",
       "      <td>8.5816</td>\n",
       "      <td>0.0126</td>\n",
       "      <td>0.4170</td>\n",
       "    </tr>\n",
       "    <tr>\n",
       "      <th>2</th>\n",
       "      <td>drug * therapy</td>\n",
       "      <td>0.2711</td>\n",
       "      <td>2</td>\n",
       "      <td>0.1356</td>\n",
       "      <td>2.4898</td>\n",
       "      <td>0.1246</td>\n",
       "      <td>0.2933</td>\n",
       "    </tr>\n",
       "    <tr>\n",
       "      <th>3</th>\n",
       "      <td>Residual</td>\n",
       "      <td>0.6533</td>\n",
       "      <td>12</td>\n",
       "      <td>0.0544</td>\n",
       "      <td>NaN</td>\n",
       "      <td>NaN</td>\n",
       "      <td>NaN</td>\n",
       "    </tr>\n",
       "  </tbody>\n",
       "</table>\n",
       "</div>"
      ],
      "text/plain": [
       "           Source      SS  DF      MS        F   p-unc     np2\n",
       "0            drug  3.4533   2  1.7267  31.7143  0.0000  0.8409\n",
       "1         therapy  0.4672   1  0.4672   8.5816  0.0126  0.4170\n",
       "2  drug * therapy  0.2711   2  0.1356   2.4898  0.1246  0.2933\n",
       "3        Residual  0.6533  12  0.0544      NaN     NaN     NaN"
      ]
     },
     "execution_count": 7,
     "metadata": {},
     "output_type": "execute_result"
    }
   ],
   "source": [
    "model2 = pg.anova(dv='mood_gain', between=['drug', 'therapy'], data=df, detailed=True)\n",
    "round(model2, 4)"
   ]
  },
  {
   "attachments": {},
   "cell_type": "markdown",
   "id": "085e641f",
   "metadata": {},
   "source": [
    "Most of this output is pretty simple to read too: the first row of the table reports a between-group sum of squares (SS) value associated with the `drug` factor, along with a corresponding between-group $df$ value. It also calculates a mean square value (MS), and $F$-statistic, an (uncorrected) $p$-value, and an estimate of the effect size (`np2`, that is, partial eta-squared). There is also a row corresponding to the `therapy` factor, and a row corresponding to the residuals (i.e., the within groups variation). \n",
    "\n",
    "Now, the third row is a little trickier, so let's just save that one for [later](interactions), shall we? (Spoiler: this is the interaction of `drug` and `therapy`, but we'll get there soon).\n",
    "\n",
    "Not only are all of the individual quantities pretty familiar, the relationships between these different quantities has remained unchanged: just like we saw with the original one-way ANOVA, note that the mean square value is calculated by dividing SS by the corresponding $df$. That is, it's still true that\n",
    "\n",
    "$$\n",
    "\\mbox{MS} = \\frac{\\mbox{SS}}{df}\n",
    "$$\n",
    "\n"
   ]
  },
  {
   "attachments": {},
   "cell_type": "markdown",
   "id": "4badab0d",
   "metadata": {},
   "source": [
    "regardless of whether we're talking about `drug`, `therapy` or the residuals. To see this, let's not worry about how the sums of squares values are calculated: instead, let's take it on faith that Python has calculated the SS values correctly, and try to verify that all the rest of the numbers make sense. First, note that for the `drug` factor, we divide $3.45$ by $2$, and end up with a mean square value of $1.73$. For the `therapy` factor, there's only 1 degree of freedom, so our calculations are even simpler: dividing $0.47$ (the SS value) by 1 gives us an answer of $0.47$ (the MS value). \n",
    "\n",
    "Turning to the $F$ statistics and the $p$ values, notice that we have two of each: one corresponding to the `drug` factor and the other corresponding to the `therapy` factor. Regardless of which one we're talking about, the $F$ statistic is calculated by dividing the mean square value associated with the factor by the mean square value associated with the residuals. If we use \"A\" as shorthand notation to refer to the first factor (factor A; in this case `drug`) and \"R\" as shorthand notation to refer to the residuals, then the $F$ statistic associated with factor A is denoted $F_A$, and is calculated as follows:\n",
    "\n",
    "$$\n",
    "F_{A} = \\frac{\\mbox{MS}_{A}}{\\mbox{MS}_{R}}\n",
    "$$\n",
    "\n",
    "Note that this use of \"R\" to refer to residuals is a bit awkward, since we also used the letter R to refer to the number of rows in the table, but I'm only going to use \"R\" to mean residuals in the context of SS$_R$ and MS$_R$, so hopefully this shouldn't be confusing. Anyway, to apply this formula to the  `drugs` factor, we take the mean square of $1.73$ and divide it by the residual mean square value of $0.07$, which gives us an $F$-statistic of $26.15$. The corresponding calculation for the `therapy` variable would be to divide $0.47$ by $0.07$ which gives $7.08$ as the $F$-statistic. Not surprisingly, of course, these are the same values that R has reported in the ANOVA table above.\n",
    "\n",
    "The last part of the ANOVA table is the calculation of the $p$ values. Once again, there is nothing new here: for each of our two factors, what we're trying to do is test the null hypothesis that there is no relationship between the factor and the outcome variable (I'll be a bit more precise about this later on). To that end, we've (apparently) followed a similar strategy that we did in the one way ANOVA, and have calculated an $F$-statistic for each of these hypotheses. To convert these to $p$ values, all we need to do is note that the  that the sampling distribution for the $F$ *statistic* under the null hypothesis (that the factor in question is irrelevant) is an $F$ *distribution*: and that two degrees of freedom values are those corresponding to the factor, and those corresponding to the residuals. For the `drug` factor we're talking about an $F$ distribution with 2 and 14 degrees of freedom (I'll discuss degrees of freedom in more detail later). In contrast, for the `therapy` factor sampling distribution is $F$ with 1 and 14 degrees of freedom."
   ]
  },
  {
   "attachments": {},
   "cell_type": "markdown",
   "id": "c324cf91",
   "metadata": {},
   "source": [
    "At this point, I hope you can see that the ANOVA table for this more complicated analysis corresponding to `model2` should be read in much the same way as the ANOVA table for the simpler analysis for `model1`. In short, it's telling us that the factorial ANOVA for our $3 \\times 2$ design found a significant effect of drug ($F_{2,12} = 31.71, p < .001$) as well as a significant effect of therapy ($F_{1,12} = 8.58, p = .01$). Or, to use the more technically correct terminology, we would say that there are two **_main effects_** of drug and therapy. Why are these \"main\" effects? Well, because there could also be an *interaction* between the effect of `drug` and the effect of `therapy`. We'll explore the concept of [interactions](interactions) below."
   ]
  },
  {
   "attachments": {},
   "cell_type": "markdown",
   "id": "89c02ba5",
   "metadata": {},
   "source": [
    "In the previous section I had two goals: firstly, to show you that the Python commands needed to do factorial ANOVA are pretty much the same ones that we used for a one way ANOVA. The only difference is that we add to the number of predictors in the `between` argument of `pingouin`'s `anova()` function. Secondly, I wanted to show you what the ANOVA table looks like in this case, so that you can see from the outset that the basic logic and structure behind factorial ANOVA is the same as that which underpins one way ANOVA. Try to hold onto that feeling. It's genuinely true, insofar as factorial ANOVA is built in more or less the same way as the simpler one-way ANOVA model. It's just that this feeling of familiarity starts to evaporate once you start digging into the details. Traditionally, this comforting sensation is replaced by an urge to murder the the authors of statistics textbooks.\n",
    "\n",
    "Okay, let's start looking at some of those details. The explanation that I gave in the last section illustrates the fact that the hypothesis tests for the main effects (of drug and therapy in this case) are $F$-tests, but what it doesn't do is show you how the sum of squares (SS) values are calculated. Nor does it tell you explicitly how to calculate degrees of freedom ($df$ values) though that's a simple thing by comparison. Let's assume for now that we have only two predictor variables, Factor A and Factor B. If we use $Y$ to refer to the outcome variable, then we would use $Y_{rci}$ to refer to the outcome associated with the $i$-th member of group $rc$ (i.e., level/row $r$ for Factor A and level/column $c$ for Factor B). Thus, if we use $\\bar{Y}$ to refer to a sample mean, we can use the same notation as before to refer to group means, marginal means and grand means: that is, $\\bar{Y}_{rc}$ is the sample mean associated with the $r$th level of Factor A and the $c$th level of Factor B, $\\bar{Y}_{r.}$ would be the marginal mean for the $r$th level of Factor A, $\\bar{Y}_{.c}$ would be the marginal mean for the $c$th level of Factor B, and $\\bar{Y}_{..}$ is the grand mean. In other words, our sample means can be organised into the same table as the population means. For our clinical trial data, that table looks like this:"
   ]
  },
  {
   "attachments": {},
   "cell_type": "markdown",
   "id": "d76b792a",
   "metadata": {},
   "source": [
    "|         |no therapy     |CBT            |total          |\n",
    "|:--------|:--------------|:--------------|:--------------|\n",
    "|placebo  |$\\bar{Y}_{11}$ |$\\bar{Y}_{12}$ |$\\bar{Y}_{1.}$ |\n",
    "|anxifree |$\\bar{Y}_{21}$ |$\\bar{Y}_{22}$ |$\\bar{Y}_{2.}$ |\n",
    "|joyzepam |$\\bar{Y}_{31}$ |$\\bar{Y}_{32}$ |$\\bar{Y}_{3.}$ |\n",
    "|total    |$\\bar{Y}_{.1}$ |$\\bar{Y}_{.2}$ |$\\bar{Y}_{..}$ |"
   ]
  },
  {
   "attachments": {},
   "cell_type": "markdown",
   "id": "417af7c0",
   "metadata": {},
   "source": [
    "And if we look at the sample means that I showed earlier, we have $\\bar{Y}_{11} = 0.30$, $\\bar{Y}_{12} = 0.60$ etc. In our clinical trial example, the `drugs` factor has 3 levels and the `therapy` factor has 2 levels, and so what we're trying to run is a $3 \\times 2$ factorial ANOVA. However, we'll be a little more general and say that Factor A (the row factor) has $R$ levels and Factor B (the column factor) has $C$ levels, and so what we're runnning here is an $R \\times C$ factorial ANOVA.\n",
    "\n",
    "Now that we've got our notation straight, we can compute the sum of squares values for each of the two factors in a relatively familiar way. For Factor A, our between group sum of squares is calculated by assessing the extent to which the (row) marginal means $\\bar{Y}_{1.}$, $\\bar{Y}_{2.}$ etc, are different from the grand mean $\\bar{Y}_{..}$. We do this in the same way that we did for one-way ANOVA: calculate the sum of squared difference between the $\\bar{Y}_{i.}$ values and the $\\bar{Y}_{..}$ values. Specifically, if there are $N$ people in each group, then we calculate this:\n",
    "\n",
    "$$\n",
    "\\mbox{SS}_{A} = (N \\times C)  \\sum_{r=1}^R  \\left( \\bar{Y}_{r.} - \\bar{Y}_{..} \\right)^2\n",
    "$$"
   ]
  },
  {
   "attachments": {},
   "cell_type": "markdown",
   "id": "3ce726e7",
   "metadata": {},
   "source": [
    "As with one-way ANOVA, the most interesting [^translation] part of this formula is the $\\left( \\bar{Y}_{r.} - \\bar{Y}_{..} \\right)^2$ bit, which corresponds to the squared deviation associated with level $r$. All that this formula does is calculate this squared deviation for all $R$ levels of the factor, add them up, and then multiply the result by $N \\times C$. The reason for this last part is that there are multiple cells in our design that have level $r$ on Factor A: in fact, there are $C$ of them, one corresponding to each possible level of Factor B! For instance, in our toy example, there are *two* different cells in the design corresponding to the `anxifree` drug: one for people with `no.therapy`, and one for the `CBT` group. Not only that, within each of these cells there are $N$ observations. So, if we want to convert our SS value into a quantity that calculates the between-groups sum of squares on a \"per observation\" basis, we have to multiply by by $N \\times C$. The formula for factor B is of course the same thing, just with some subscripts shuffled around:\n",
    "\n",
    "$$\n",
    "\\mbox{SS}_{B} = (N \\times R) \\sum_{c=1}^C \\left( \\bar{Y}_{.c} - \\bar{Y}_{..} \\right)^2\n",
    "$$\n",
    "\n",
    "[^translation]: English translation: \"least tedious\"."
   ]
  },
  {
   "attachments": {},
   "cell_type": "markdown",
   "id": "7ddfb08f",
   "metadata": {},
   "source": [
    "Now that we have these formulas, we can check them against the `pingouin` output from the earlier section. First, notice that we calculated all the marginal means (i.e., row marginal means $\\bar{Y}_{r.}$ and column marginal means $\\bar{Y}_{.c}$) earlier using `.mean()`, and we also calculated the grand mean. Let's repeat those calculations, but this time we'll save the results to variables so that we can use them in subsequent calculations:"
   ]
  },
  {
   "cell_type": "code",
   "execution_count": 8,
   "id": "7694d6c2",
   "metadata": {},
   "outputs": [],
   "source": [
    "drug_means = df.groupby(['drug'])['mood_gain'].mean()\n",
    "therapy_means = df.groupby(['therapy'])['mood_gain'].mean()\n",
    "grand_mean = df['mood_gain'].mean()"
   ]
  },
  {
   "attachments": {},
   "cell_type": "markdown",
   "id": "d15dc88c",
   "metadata": {},
   "source": [
    "Okay, now let’s calculate the sum of squares associated with the main effect of drug. There are a total of $N=3$ people in each group, and $C=2$ different types of therapy. Or, to put it another way, there are $3 \\times 2 = 6$ people who received any particular drug. So our calculations are:"
   ]
  },
  {
   "cell_type": "code",
   "execution_count": 9,
   "id": "a76c801d",
   "metadata": {},
   "outputs": [
    {
     "data": {
      "text/plain": [
       "3.4533"
      ]
     },
     "execution_count": 9,
     "metadata": {},
     "output_type": "execute_result"
    }
   ],
   "source": [
    "SS_drug = (3*2) * sum((drug_means - grand_mean)**2)\n",
    "round(SS_drug,4)"
   ]
  },
  {
   "attachments": {},
   "cell_type": "markdown",
   "id": "cbec528b",
   "metadata": {},
   "source": [
    "Not surprisingly, this is the same number that you get when you look up the SS value for the drugs factor in the ANOVA table that I presented earlier. We can repeat the same kind of calculation for the effect of therapy. Again there are $N=3$ people in each group, but since there are $R=3$ different drugs, this time around we note that there are $3 \\times 3 = 9$ people who received CBT, and an additional 9 people who received the placebo. So our calculation is now:"
   ]
  },
  {
   "cell_type": "code",
   "execution_count": 10,
   "id": "03d9109b",
   "metadata": {},
   "outputs": [
    {
     "data": {
      "text/plain": [
       "0.4672"
      ]
     },
     "execution_count": 10,
     "metadata": {},
     "output_type": "execute_result"
    }
   ],
   "source": [
    "SS_therapy = (3*3) * sum((therapy_means - grand_mean)**2)\n",
    "round(SS_therapy,4)"
   ]
  },
  {
   "attachments": {},
   "cell_type": "markdown",
   "id": "dd389570",
   "metadata": {},
   "source": [
    "and we are, once again, unsurprised to see that our calculations are identical to the ANOVA output.\n",
    "\n",
    "So that's how you calculate the SS values for the two main effects. These SS values are analogous to the between-group sum of squares values that we calculated when doing [one-way ANOVA](anova). However, it's not a good idea to think of them as between-groups SS values anymore, just because we have two different grouping variables and it's easy to get confused. In order to construct an $F$ test, however, we also need to calculate the within-groups sum of squares. In keeping with the terminology that we used in the [regression chapter](regression)) and the terminology that R uses when printing out the ANOVA table, I'll start referring to the within-groups SS value as the *residual* sum of squares SS$_R$. \n",
    "\n",
    "The easiest way to think about the residual SS values in this context, I think, is to think of it as the leftover variation in the outcome variable after you take into account the differences in the marginal means (i.e., after you remove SS$_A$ and SS$_B$). What I mean by that is we can start by calculating the total sum of squares, which I'll label SS$_T$. The formula for this is pretty much the same as it was for one-way ANOVA: we take the difference between each observation $Y_{rci}$ and the grand mean $\\bar{Y}_{..}$, square the differences, and add them all up\n",
    "\n",
    "$$\n",
    "\\mbox{SS}_T = \\sum_{r=1}^R \\sum_{c=1}^C \\sum_{i=1}^N \\left( Y_{rci} - \\bar{Y}_{..}\\right)^2\n",
    "$$\n",
    "\n",
    "The \"triple summation\" here looks more complicated than it is. In the first two summations, we're summing across all levels of Factor A (i.e., over all possible rows $r$ in our table), across all levels of Factor B (i.e., all possible columns $c$). Each $rc$ combination corresponds to a single group, and each group contains $N$ people: so we have to sum across all those people (i.e., all $i$ values) too. In other words, all we're doing here is summing across all observations in the data set (i.e., all possible $rci$ combinations). \n",
    "\n",
    "At this point, we know the total variability of the outcome variable SS$_T$, and we know how much of that variability can be attributed to Factor A (SS$_A$) and how much of it can be attributed to Factor B (SS$_B$). The residual sum of squares is thus defined to be the variability in $Y$ that *can't* be attributed to either of our two factors. In other words:\n",
    "\n",
    "$$\n",
    "\\mbox{SS}_R = \\mbox{SS}_T - (\\mbox{SS}_A + \\mbox{SS}_B)\n",
    "$$\n",
    "\n",
    "Of course, there is a formula that you can use to calculate the residual SS directly, but I think that it makes more conceptual sense to think of it like this. The whole point of calling it a residual is that it's the leftover variation, and the formula above makes that clear. I should also note that, in keeping with the terminology used in the regression chapter, it is commonplace to refer to $\\mbox{SS}_A + \\mbox{SS}_B$ as the variance attributable to the \"ANOVA model\", denoted SS$_M$, and so we often say that the total sum of squares is equal to the model sum of squares plus the residual sum of squares. Later on in this chapter we'll see that this isn't just a surface similarity: ANOVA and regression are actually the same thing under the hood. \n",
    "\n",
    "In any case, it's probably worth taking a moment to check that we can calculate SS$_R$ using this formula, and verify that we do obtain the same answer that `pingouin` produces in its ANOVA table. The calculations are pretty straightforward. First we calculate the total sum of squares:"
   ]
  },
  {
   "cell_type": "code",
   "execution_count": 11,
   "id": "47f120a1",
   "metadata": {},
   "outputs": [
    {
     "data": {
      "text/plain": [
       "4.845"
      ]
     },
     "execution_count": 11,
     "metadata": {},
     "output_type": "execute_result"
    }
   ],
   "source": [
    "SS_tot = sum((df['mood_gain'] - grand_mean)**2)\n",
    "round(SS_tot,4)"
   ]
  },
  {
   "attachments": {},
   "cell_type": "markdown",
   "id": "e84ff2b3",
   "metadata": {},
   "source": [
    "and then we use it to calculate the residual sum of squares:"
   ]
  },
  {
   "cell_type": "code",
   "execution_count": 12,
   "id": "74129b90",
   "metadata": {},
   "outputs": [
    {
     "data": {
      "text/plain": [
       "0.9244"
      ]
     },
     "execution_count": 12,
     "metadata": {},
     "output_type": "execute_result"
    }
   ],
   "source": [
    "SS_res = SS_tot - (SS_drug + SS_therapy)\n",
    "round(SS_res,4)"
   ]
  },
  {
   "attachments": {},
   "cell_type": "markdown",
   "id": "a385c1b7",
   "metadata": {},
   "source": [
    "Yet again, we get the same answer. "
   ]
  },
  {
   "attachments": {},
   "cell_type": "markdown",
   "id": "b16684a6",
   "metadata": {},
   "source": [
    "### What are our degrees of freedom?\n",
    "\n",
    "The degrees of freedom are calculated in much the same way as for one-way ANOVA. For any given factor, the degrees of freedom is equal to the number of levels minus 1 (i.e., $R-1$ for the row variable, Factor A, and $C-1$ for the column variable, Factor B). So, for the `drugs` factor we obtain $df = 2$, and for the `therapy` factor we obtain $df=1$. Later on on, when we discuss the interpretation of [ANOVA as a regression model](anovalm)), I'll give a clearer statement of how we arrive at this number, but for the moment we can use the simple definition of degrees of freedom, namely that the degrees of freedom equals the number of quantities that are observed, minus the number of constraints. So, for the `drugs` factor, we observe 3 separate group means, but these are constrained by 1 grand mean; and therefore the degrees of freedom is 2. For the residuals, the logic is similar, but not quite the same. The total number of observations in our experiment is 18. The constraints correspond to the 1 grand mean, the 2 additional group means that the `drug` factor introduces, and the 1 additional group mean that the the `therapy` factor introduces, and so our degrees of freedom is 14. As a formula, this is $N-1 -(R-1)-(C-1)$, which simplifies to $N-R-C+1$."
   ]
  },
  {
   "attachments": {},
   "cell_type": "markdown",
   "id": "f2345149",
   "metadata": {},
   "source": [
    "### Factorial ANOVA versus one-way ANOVAs\n",
    "\n",
    "Now that we've seen *how* a factorial ANOVA works, it's worth taking a moment to compare it to the results of the one way analyses, because this will give us a really good sense of *why* it's a good idea to run the factorial ANOVA. In the [chapter on 1-way ANOVA](anova), I ran a one-way ANOVA that looked to see if there are any differences between drugs, and a second one-way ANOVA to see if there were any differences between therapies. As we saw in [previously](factanovahyp), the null and alternative hypotheses tested by the one-way ANOVAs are in fact identical to the hypotheses tested by the factorial ANOVA. Looking even more carefully at the ANOVA tables, we can see that the sum of squares associated with the factors are identical in the two different analyses (3.45 for `drug` and 0.92 for `therapy`), as are the degrees of freedom (2 for `drug`, 1 for `therapy`). But they don't give the same answers! Most notably, when we ran the [one-way ANOVA for `therapy`](anovaandt) we didn't find a significant effect (the $p$-value was 0.21). However, when we look at the main effect of `therapy` within the context of the two-way ANOVA, we do get a significant effect ($p=.019$). The two analyses are clearly not the same.\n",
    "\n",
    "Why does that happen? The answer lies in understanding how the *residuals* are calculated. Recall that the whole idea behind an $F$-test is to compare the variability that can be attributed to a particular factor with the variability that cannot be accounted for (the residuals). If you run a one-way ANOVA for `therapy`, and therefore ignore the effect of `drug`, the ANOVA will end up dumping all of the drug-induced variability into the residuals! This has the effect of making the data look more noisy than they really are, and the effect of `therapy` which is correctly found to be significant in the two-way ANOVA now becomes non-significant. If we ignore something that actually matters (e.g., `drug`) when trying to assess the contribution of something else (e.g., `therapy`) then our analysis will be distorted. Of course, it's perfectly okay to ignore variables that are genuinely irrelevant to the phenomenon of interest: if we had recorded the colour of the walls, and that turned out to be non-significant in a three-way ANOVA (i.e. `pg.anova(dv='mood_gain', between=['drug', 'therapy', 'wall_color']`), it would be perfectly okay to disregard it and just report the simpler two-way ANOVA that doesn't include this irrelevant factor. What you shouldn't do is drop variables that actually make a difference! "
   ]
  },
  {
   "attachments": {},
   "cell_type": "markdown",
   "id": "8a676948",
   "metadata": {},
   "source": [
    "### What kinds of outcomes does this analysis capture?\n",
    "\n",
    "The ANOVA model that we've been talking about so far covers a range of different patterns that we might observe in our data. For instance, in a two-way ANOVA design, there are four possibilities: (a) only Factor A matters, (b) only Factor B matters, (c) both A and B matter, and (d) neither A nor B matters. An example of each of these four possibilities is plotted in {numref}`fig-anovas-sans-interaction`. \n"
   ]
  },
  {
   "cell_type": "code",
   "execution_count": 13,
   "id": "867640fb",
   "metadata": {
    "tags": [
     "hide-input"
    ]
   },
   "outputs": [],
   "source": [
    "import seaborn as sns\n",
    "from matplotlib import pyplot as plt\n",
    "\n",
    "levels = ['Level 1', 'Level 1', 'Level 2', 'Level 2']\n",
    "factors = ['Factor B, Level 1', 'Factor B, Level 2', 'Factor B, Level 1', 'Factor B, Level 2']\n",
    "panel1 = [1,1.2,2,2.2]\n",
    "panel2 = [1.2, 1.9, 1.2, 1.9]\n",
    "panel3 = [0.6, 1.4, 1.5, 2.4]\n",
    "panel4 = [1.5, 1.6, 1.5, 1.6]\n",
    "\n",
    "d = pd.DataFrame({'Factor': factors,\n",
    "                   'Factor A': levels,\n",
    "                   'Panel 1': panel1,\n",
    "                   'Panel 2': panel2,\n",
    "                   'Panel 3': panel3,\n",
    "                   'Panel 4': panel4})\n",
    "\n",
    "fig, axes = plt.subplots(2,2)\n",
    "\n",
    "\n",
    "p1 = sns.pointplot(data = d, x = 'Factor A', y = 'Panel 1', hue= 'Factor', errorbar=('ci', False), ax=axes[0,0])\n",
    "p2 = sns.pointplot(data = d, x = 'Factor A', y = 'Panel 2', hue= 'Factor', errorbar=('ci', False), ax=axes[0,1])\n",
    "p3 = sns.pointplot(data = d, x = 'Factor A', y = 'Panel 3', hue= 'Factor', errorbar=('ci', False), ax=axes[1,0])\n",
    "p4 = sns.pointplot(data = d, x = 'Factor A', y = 'Panel 4', hue= 'Factor', errorbar=('ci', False), ax=axes[1,1])\n",
    "\n",
    "ps = [p1, p2, p3, p4]\n",
    "panelID = ['A', 'B', 'C', 'D']\n",
    "titles = ['Only Factor A has an effect', 'Only Factor B has an effect', \n",
    "          'Both A and B have an effect', 'Neither A nor B has an effect']\n",
    "\n",
    "for n, p in enumerate(ps):\n",
    "    p.set_ylim(0,3)\n",
    "    p.set_ylabel('')\n",
    "    p.set_xlabel('')\n",
    "    p.get_legend().remove()\n",
    "    p.text(0.1, 1, titles[n], horizontalalignment='left', verticalalignment='top', transform=p.transAxes)\n",
    "    p.text(0, 1.1, panelID[n], horizontalalignment='left', verticalalignment='top', transform=p.transAxes)\n",
    "    sns.despine()\n",
    "\n",
    "p1.set_xticklabels('')\n",
    "p2.set_xticklabels('')\n",
    "\n",
    "p3.set_xlabel('Factor A')\n",
    "p4.set_xlabel('Factor A')\n",
    "\n",
    "handles, labels = p1.get_legend_handles_labels()\n",
    "fig.legend(handles, ['Factor B, Level 1', 'Factor B, Level 2'], loc='upper center', ncol=2)\n",
    "\n",
    "\n",
    "# Plot figure in book, with caption\n",
    "from myst_nb import glue\n",
    "plt.close(fig)\n",
    "glue(\"anovas-sans-interaction-fig\", fig, display=False)"
   ]
  },
  {
   "attachments": {},
   "cell_type": "markdown",
   "id": "1486c14a",
   "metadata": {},
   "source": [
    " ```{glue:figure} anovas-sans-interaction-fig\n",
    ":figwidth: 600px\n",
    ":name: fig-anovas-sans-interaction\n",
    "\n",
    "The four different outcomes for a 2 x 2 ANOVA when no interactions are present. In Panel A we see a main effect of Factor A, and no effect of Factor B. Panel B shows a main effect of Factor B but no effect of Factor A. Panel C shows main effects of both Factor A and Factor B. Finally, Panel D shows no effect of either factor.\n",
    "\n",
    "```\n"
   ]
  }
 ],
 "metadata": {
  "celltoolbar": "Tags",
  "kernelspec": {
   "display_name": "Python 3 (ipykernel)",
   "language": "python",
   "name": "python3"
  },
  "language_info": {
   "codemirror_mode": {
    "name": "ipython",
    "version": 3
   },
   "file_extension": ".py",
   "mimetype": "text/x-python",
   "name": "python",
   "nbconvert_exporter": "python",
   "pygments_lexer": "ipython3",
   "version": "3.11.3"
  }
 },
 "nbformat": 4,
 "nbformat_minor": 5
}