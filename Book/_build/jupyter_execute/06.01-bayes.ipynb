{
 "cells": [
  {
   "attachments": {},
   "cell_type": "markdown",
   "id": "imperial-facing",
   "metadata": {},
   "source": [
    "(bayes)=\n",
    "# Bayesian Statistics"
   ]
  },
  {
   "attachments": {},
   "cell_type": "markdown",
   "id": "4f7dec85",
   "metadata": {},
   "source": [
    "> *In our reasonings concerning matter of fact, there are all imaginable degrees of assurance, from the highest certainty to the lowest species of moral evidence. A wise man, therefore, proportions his belief to the evidence.* \n",
    "-- [David Hume](http://en.wikiquote.org/wiki/David_Hume)."
   ]
  },
  {
   "attachments": {},
   "cell_type": "markdown",
   "id": "e7d85f99",
   "metadata": {},
   "source": [
    "The ideas I've presented to you in this book describe inferential statistics from the frequentist perspective. I'm not alone in doing this. In fact, almost every textbook given to undergraduate psychology students presents the opinions of the frequentist statistician as *the* theory of inferential statistics, the one true way to do things. I have taught this way for practical reasons. The frequentist view of statistics dominated the academic field of statistics for most of the 20th century, and this dominance is even more extreme among applied scientists. It was and is current practice among psychologists to use frequentist methods, although this is changing. Because frequentist methods are ubiquitous in scientific papers, every student of statistics needs to understand those methods, otherwise they will be unable to make sense of what those papers are saying! Unfortunately -- in my opinion at least -- the current practice in psychology is often misguided, and the reliance on frequentist methods is partly to blame. In this chapter I explain why I think this, and provide an introduction to Bayesian statistics, an approach that I think is generally superior to the orthodox approach.\n",
    "\n",
    "This chapter comes in two parts. [First](basicbayes) I talk about what Bayesian statistics are all about, covering the basic mathematical rules for how it works as well as an explanation for [why I think the Bayesian approach is so useful](whybayes). Afterwards, I provide a brief overview of how you can do Bayesian versions of [chi-square tests](bayescontingency), [$t$-tests](ttestbf), [regression](bayesregression)) and [ANOVA](bayesanova)."
   ]
  },
  {
   "attachments": {},
   "cell_type": "markdown",
   "id": "cd46bb5a",
   "metadata": {},
   "source": [
    "(basicbayes)=\n",
    "## Probabilistic reasoning by rational agents"
   ]
  },
  {
   "attachments": {},
   "cell_type": "markdown",
   "id": "ecbfb8f9",
   "metadata": {},
   "source": [
    "### Likelihoods: theories about the data"
   ]
  },
  {
   "attachments": {},
   "cell_type": "markdown",
   "id": "3f350d58",
   "metadata": {},
   "source": [
    "### The joint probability of data and hypothesis"
   ]
  },
  {
   "attachments": {},
   "cell_type": "markdown",
   "id": "06e2d7e9",
   "metadata": {},
   "source": [
    "### Updating beliefs using Bayes' rule"
   ]
  },
  {
   "attachments": {},
   "cell_type": "markdown",
   "id": "4e55f10a",
   "metadata": {},
   "source": [
    "(bayesianhypothesistests)=\n",
    "## Bayesian hypothesis tests"
   ]
  },
  {
   "attachments": {},
   "cell_type": "markdown",
   "id": "d997c010",
   "metadata": {},
   "source": [
    "### The Bayes factor"
   ]
  },
  {
   "attachments": {},
   "cell_type": "markdown",
   "id": "7d934836",
   "metadata": {},
   "source": [
    "### Interpreting Bayes factors"
   ]
  },
  {
   "attachments": {},
   "cell_type": "markdown",
   "id": "06b02e71",
   "metadata": {},
   "source": [
    "(whybayes)=\n",
    "## Why be a Bayesian?"
   ]
  },
  {
   "attachments": {},
   "cell_type": "markdown",
   "id": "6170c12d",
   "metadata": {},
   "source": [
    "### Statistics that mean what you think they mean"
   ]
  },
  {
   "attachments": {},
   "cell_type": "markdown",
   "id": "9ce4a648",
   "metadata": {},
   "source": [
    "## Evidentiary standards you can believe"
   ]
  },
  {
   "attachments": {},
   "cell_type": "markdown",
   "id": "fe43f6aa",
   "metadata": {},
   "source": [
    "### Is it really this bad?"
   ]
  },
  {
   "attachments": {},
   "cell_type": "markdown",
   "id": "93c3616d",
   "metadata": {},
   "source": [
    "(bayescontingency)=\n",
    "## Bayesian analysis of contingency tables"
   ]
  },
  {
   "attachments": {},
   "cell_type": "markdown",
   "id": "98b14380",
   "metadata": {},
   "source": [
    "### The orthodox text"
   ]
  },
  {
   "attachments": {},
   "cell_type": "markdown",
   "id": "176b3d85",
   "metadata": {},
   "source": [
    "### The Bayesian test"
   ]
  },
  {
   "attachments": {},
   "cell_type": "markdown",
   "id": "36fc4cc7",
   "metadata": {},
   "source": [
    "### Writing up the results"
   ]
  },
  {
   "attachments": {},
   "cell_type": "markdown",
   "id": "36db1a47",
   "metadata": {},
   "source": [
    "### Other sampling plans"
   ]
  },
  {
   "attachments": {},
   "cell_type": "markdown",
   "id": "713ef507",
   "metadata": {},
   "source": [
    "(ttestbf)=\n",
    "## Bayesian $t$-tests"
   ]
  },
  {
   "attachments": {},
   "cell_type": "markdown",
   "id": "06e30ebb",
   "metadata": {},
   "source": [
    "### Independent samples $t$-test"
   ]
  },
  {
   "attachments": {},
   "cell_type": "markdown",
   "id": "b3b2f313",
   "metadata": {},
   "source": [
    "### Paired samples $t$-test"
   ]
  },
  {
   "attachments": {},
   "cell_type": "markdown",
   "id": "5025fdeb",
   "metadata": {},
   "source": [
    "(bayesregression)=\n",
    "## Bayesian regression"
   ]
  },
  {
   "attachments": {},
   "cell_type": "markdown",
   "id": "ec1dca42",
   "metadata": {},
   "source": [
    "### A quick refresher"
   ]
  },
  {
   "attachments": {},
   "cell_type": "markdown",
   "id": "8dc9bbe2",
   "metadata": {},
   "source": [
    "### The Bayesian version"
   ]
  },
  {
   "attachments": {},
   "cell_type": "markdown",
   "id": "9a8b91de",
   "metadata": {},
   "source": [
    "### Finding the best model"
   ]
  },
  {
   "attachments": {},
   "cell_type": "markdown",
   "id": "5fe83094",
   "metadata": {},
   "source": [
    "### Extracting Bayes factors for all included terms"
   ]
  },
  {
   "attachments": {},
   "cell_type": "markdown",
   "id": "099e79e8",
   "metadata": {},
   "source": [
    "(bayesanova)=\n",
    "## Bayesian ANOVA"
   ]
  },
  {
   "attachments": {},
   "cell_type": "markdown",
   "id": "a0a93bb9",
   "metadata": {},
   "source": [
    "### A quick refresher"
   ]
  },
  {
   "attachments": {},
   "cell_type": "markdown",
   "id": "43ca2015",
   "metadata": {},
   "source": [
    "### The Bayesian version"
   ]
  },
  {
   "attachments": {},
   "cell_type": "markdown",
   "id": "5dffe7b0",
   "metadata": {},
   "source": [
    "### Constructing Bayesian Type II tests"
   ]
  },
  {
   "attachments": {},
   "cell_type": "markdown",
   "id": "c826eaac",
   "metadata": {},
   "source": [
    "## Summary"
   ]
  },
  {
   "attachments": {},
   "cell_type": "markdown",
   "id": "78e73888",
   "metadata": {},
   "source": []
  }
 ],
 "metadata": {
  "kernelspec": {
   "display_name": "Python 3 (ipykernel)",
   "language": "python",
   "name": "python3"
  },
  "language_info": {
   "codemirror_mode": {
    "name": "ipython",
    "version": 3
   },
   "file_extension": ".py",
   "mimetype": "text/x-python",
   "name": "python",
   "nbconvert_exporter": "python",
   "pygments_lexer": "ipython3",
   "version": "3.11.3"
  }
 },
 "nbformat": 4,
 "nbformat_minor": 5
}