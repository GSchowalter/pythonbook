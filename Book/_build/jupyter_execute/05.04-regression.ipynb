{
 "cells": [
  {
   "attachments": {},
   "cell_type": "markdown",
   "id": "constant-nation",
   "metadata": {},
   "source": [
    "(regression)=\n",
    "# Linear regression"
   ]
  },
  {
   "attachments": {},
   "cell_type": "markdown",
   "id": "34ea410f",
   "metadata": {},
   "source": [
    "\n",
    "\n",
    "The goal in this chapter is to introduce **_linear regression_**. Stripped to its bare essentials, linear regression models are basically a slightly fancier version of the [Pearson correlation](correl), though as we'll see, regression models are much more powerful tools."
   ]
  },
  {
   "attachments": {},
   "cell_type": "markdown",
   "id": "e7971302",
   "metadata": {},
   "source": [
    "Since the basic ideas in regression are closely tied to correlation, we'll return to the `parenthood.csv` file that we were using to illustrate how correlations work. Recall that, in this data set, we were trying to find out why Dan is so very grumpy all the time, and our working hypothesis was that I'm not getting enough sleep. "
   ]
  },
  {
   "cell_type": "code",
   "execution_count": 1,
   "id": "56714750",
   "metadata": {},
   "outputs": [
    {
     "data": {
      "text/html": [
       "<div>\n",
       "<style scoped>\n",
       "    .dataframe tbody tr th:only-of-type {\n",
       "        vertical-align: middle;\n",
       "    }\n",
       "\n",
       "    .dataframe tbody tr th {\n",
       "        vertical-align: top;\n",
       "    }\n",
       "\n",
       "    .dataframe thead th {\n",
       "        text-align: right;\n",
       "    }\n",
       "</style>\n",
       "<table border=\"1\" class=\"dataframe\">\n",
       "  <thead>\n",
       "    <tr style=\"text-align: right;\">\n",
       "      <th></th>\n",
       "      <th>dan_sleep</th>\n",
       "      <th>baby_sleep</th>\n",
       "      <th>dan_grump</th>\n",
       "      <th>day</th>\n",
       "    </tr>\n",
       "  </thead>\n",
       "  <tbody>\n",
       "    <tr>\n",
       "      <th>0</th>\n",
       "      <td>7.59</td>\n",
       "      <td>10.18</td>\n",
       "      <td>56</td>\n",
       "      <td>1</td>\n",
       "    </tr>\n",
       "    <tr>\n",
       "      <th>1</th>\n",
       "      <td>7.91</td>\n",
       "      <td>11.66</td>\n",
       "      <td>60</td>\n",
       "      <td>2</td>\n",
       "    </tr>\n",
       "    <tr>\n",
       "      <th>2</th>\n",
       "      <td>5.14</td>\n",
       "      <td>7.92</td>\n",
       "      <td>82</td>\n",
       "      <td>3</td>\n",
       "    </tr>\n",
       "    <tr>\n",
       "      <th>3</th>\n",
       "      <td>7.71</td>\n",
       "      <td>9.61</td>\n",
       "      <td>55</td>\n",
       "      <td>4</td>\n",
       "    </tr>\n",
       "    <tr>\n",
       "      <th>4</th>\n",
       "      <td>6.68</td>\n",
       "      <td>9.75</td>\n",
       "      <td>67</td>\n",
       "      <td>5</td>\n",
       "    </tr>\n",
       "  </tbody>\n",
       "</table>\n",
       "</div>"
      ],
      "text/plain": [
       "   dan_sleep  baby_sleep  dan_grump  day\n",
       "0       7.59       10.18         56    1\n",
       "1       7.91       11.66         60    2\n",
       "2       5.14        7.92         82    3\n",
       "3       7.71        9.61         55    4\n",
       "4       6.68        9.75         67    5"
      ]
     },
     "execution_count": 1,
     "metadata": {},
     "output_type": "execute_result"
    }
   ],
   "source": [
    "import pandas as pd\n",
    "\n",
    "file = 'https://raw.githubusercontent.com/ethanweed/pythonbook/main/Data/parenthood.csv'\n",
    "df = pd.read_csv(file)\n",
    "\n",
    "df.head()"
   ]
  },
  {
   "attachments": {},
   "cell_type": "markdown",
   "id": "d75e9ab0",
   "metadata": {},
   "source": [
    "We drew some scatterplots to help us examine the relationship between the amount of sleep I get, and my grumpiness the following day. "
   ]
  },
  {
   "cell_type": "code",
   "execution_count": 2,
   "id": "b8cd9bbd",
   "metadata": {
    "tags": [
     "hide-input"
    ]
   },
   "outputs": [],
   "source": [
    "from myst_nb import glue\n",
    "from matplotlib import pyplot as plt\n",
    "import seaborn as sns\n",
    "\n",
    "fig = plt.figure()\n",
    "\n",
    "ax = sns.scatterplot(data = df,\n",
    "                x = 'dan_sleep', \n",
    "                y = 'dan_grump')\n",
    "ax.set(title = 'Grumpiness and sleep', ylabel = 'My grumpiness (0-100)', xlabel='My sleep (hours)')\n",
    "sns.despine()\n",
    "\n",
    "plt.close()\n",
    "\n",
    "glue(\"sleepycorrelation-fig\", fig, display=False)"
   ]
  },
  {
   "attachments": {},
   "cell_type": "markdown",
   "id": "eea7dea4",
   "metadata": {},
   "source": [
    " ```{glue:figure} sleepycorrelation-fig\n",
    ":figwidth: 600px\n",
    ":name: fig-sleepycorrelation\n",
    "\n",
    "Scatterplot showing grumpiness as a function of hours slept.\n",
    "\n",
    "```\n"
   ]
  },
  {
   "attachments": {},
   "cell_type": "markdown",
   "id": "75808a56",
   "metadata": {},
   "source": [
    "The actual scatterplot that we draw is the one shown in {numref}`fig-sleepycorrelation`, and as we saw previously this corresponds to a correlation of $r=-.90$, but what we find ourselves secretly imagining is something that looks closer to the left panel in {numref}`fig-sleep_regressions_1`. That is, we mentally draw a straight line through the middle of the data. In statistics, this line that we're drawing is called a **_regression line_**. Notice that -- since we're not idiots -- the regression line goes through the middle of the data. We don't find ourselves imagining anything like the rather silly plot shown in the right panel in {numref}`fig-sleep_regressions_1`. "
   ]
  },
  {
   "cell_type": "code",
   "execution_count": 3,
   "id": "74508823",
   "metadata": {
    "tags": [
     "hide-input"
    ]
   },
   "outputs": [],
   "source": [
    "import numpy as np \n",
    "import matplotlib.pyplot as plt\n",
    "import statsmodels.formula.api as smf\n",
    "\n",
    "# find the regression coefficients to allow manually plotting the line\n",
    "model = smf.ols(formula=\"dan_grump ~ dan_sleep\", data=df).fit()\n",
    "intercept = model.params.Intercept\n",
    "slope = model.params.dan_sleep\n",
    "\n",
    "\n",
    "fig, axes = plt.subplots(1, 2, figsize=(10, 5), sharey=True)\n",
    "\n",
    "x = np.linspace(4,10)\n",
    "\n",
    "\n",
    "sns.scatterplot(data = df, x = 'dan_sleep', y = 'dan_grump', ax = axes[0])\n",
    "fig.axes[0].set_title(\"The best-fitting regression line\")\n",
    "fig.axes[0].set_xlabel(\"My sleep (hours)\")\n",
    "fig.axes[0].set_ylabel(\"My grumpiness (0-10)\")\n",
    "fig.axes[0].plot(x,slope*x+intercept)\n",
    "\n",
    "sns.scatterplot(data = df, x = 'dan_sleep', y = 'dan_grump', ax = axes[1])\n",
    "fig.axes[1].set_title(\"Not the best-fitting regression line!\")\n",
    "fig.axes[1].set_xlabel(\"My sleep (hours)\")\n",
    "fig.axes[1].set_ylabel(\"My grumpiness (0-10)\")\n",
    "fig.axes[1].plot(x,-3*x+80)\n",
    "\n",
    "sns.despine()\n",
    "\n",
    "plt.close()\n",
    "\n",
    "glue(\"sleep_regressions_1-fig\", fig, display=False)"
   ]
  },
  {
   "attachments": {},
   "cell_type": "markdown",
   "id": "2ee1dcd1",
   "metadata": {},
   "source": [
    " ```{glue:figure} sleep_regressions_1-fig\n",
    ":figwidth: 600px\n",
    ":name: fig-sleep_regressions_1\n",
    "\n",
    "The panel to the left shows the sleep-grumpiness scatterplot from {numref}`fig-sleepycorrelation` with the best fitting regression line drawn over the top. Not surprisingly, the line goes through the middle of the data. In contrast, the panel to the right shows the same data, but with a very poor choice of regression line drawn over the top.\n",
    "\n",
    "```\n"
   ]
  },
  {
   "attachments": {},
   "cell_type": "markdown",
   "id": "69a143d7",
   "metadata": {},
   "source": [
    "This is not highly surprising: the line that I've drawn in panel to the right doesn't \"fit\" the data very well, so it doesn't make a lot of sense to propose it as a way of summarising the data, right? This is a very simple observation to make, but it turns out to be very powerful when we start trying to wrap just a little bit of maths around it. To do so, let's start with a refresher of some high school maths. The formula for a straight line is usually written like this:\n",
    "\n",
    "$$\n",
    "y = mx + c\n",
    "$$ \n",
    "\n",
    "\n",
    "Or, at least, that's what it was when I went to high school all those years ago.[^americanhighschool] The two *variables* are $x$ and $y$, and we have two *coefficients*, $m$ and $c$. The coefficient $m$ represents the *slope* of the line, and the coefficient $c$ represents the *$y$-intercept* of the line. Digging further back into our decaying memories of high school (sorry, for some of us high school was a long time ago), we remember that the intercept is interpreted as \"the value of $y$ that you get when $x=0$\". Similarly, a slope of $m$ means that if you increase the $x$-value by 1 unit, then the $y$-value goes up by $m$ units; a negative slope means that the $y$-value would go down rather than up. Ah yes, it's all coming back to me now. \n",
    "\n",
    "Now that we've remembered that, it should come as no surprise to discover that we use the exact same formula to describe a regression line. If $Y$ is the outcome variable (the DV) and $X$ is the predictor variable (the IV), then the formula that describes our regression is written like this:\n",
    "\n",
    "$$\n",
    "\\hat{Y_i} = b_1 X_i + b_0\n",
    "$$\n",
    "\n",
    "Hm. Looks like the same formula, but there's some extra frilly bits in this version. Let's make sure we understand them. Firstly, notice that I've written $X_i$ and $Y_i$ rather than just plain old $X$ and $Y$. This is because we want to remember that we're dealing with actual data. In this equation, $X_i$ is the value of predictor variable for the $i$th observation (i.e., the number of hours of sleep that I got on day $i$ of my little study), and $Y_i$ is the corresponding value of the outcome variable (i.e., my grumpiness on that day). And although I haven't said so explicitly in the equation, what we're assuming is that this formula works for all observations in the data set (i.e., for all $i$). Secondly, notice that I wrote $\\hat{Y}_i$ and not $Y_i$. This is because we want to make the distinction between the *actual data* $Y_i$, and the *estimate* $\\hat{Y}_i$ (i.e., the prediction that our regression line is making). Thirdly, I changed the letters used to describe the coefficients from $m$ and $c$ to $b_1$ and $b_0$. That's just the way that statisticians like to refer to the coefficients in a regression model. I've no idea why they chose $b$, but that's what they did. In any case $b_0$ always refers to the intercept term, and $b_1$ refers to the slope.\n",
    "\n",
    "\n",
    "Excellent, excellent. Next, I can't help but notice that -- regardless of whether we're talking about the good regression line or the bad one -- the data don't fall perfectly on the line. Or, to say it another way, the data $Y_i$ are not identical to the predictions of the regression model $\\hat{Y_i}$. Since statisticians love to attach letters, names and numbers to everything, let's refer to the difference between the model prediction and that actual data point as a *residual*, and we'll refer to it as $\\epsilon_i$.[^noteepsilon] Written using mathematics, the residuals are defined as:\n",
    "\n",
    "$$\n",
    "\\epsilon_i = Y_i - \\hat{Y}_i\n",
    "$$\n",
    "\n",
    "which in turn means that we can write down the complete linear regression model as:\n",
    "\n",
    "$$\n",
    "Y_i = b_1 X_i + b_0 + \\epsilon_i\n",
    "$$\n",
    "\n",
    "[^noteepsilon]: The $\\epsilon$ symbol is the Greek letter epsilon. It's traditional to use $\\epsilon_i$ or $e_i$ to denote a residual.\n",
    "\n",
    "[^americanhighschool]: Translator's note: and when _I_ went to high school in the United States ca. [1990](https://en.wikipedia.org/wiki/1990) [CE](https://en.wikipedia.org/wiki/Common_Era)  we learned this as $y=ax+b$. Why? Who decides whether it is $a$ or $m$? $c$ or $b$? I truly have no idea, but either way, it represents the same idea."
   ]
  },
  {
   "attachments": {},
   "cell_type": "markdown",
   "id": "c247ec1d",
   "metadata": {},
   "source": [
    "(regressionestimation)=\n",
    "## Estimating a linear regression model\n",
    "\n",
    "\n",
    "Okay, now let's redraw our pictures, but this time I'll add some lines to show the size of the residual for all observations. When the regression line is good, our residuals (the lengths of the solid black lines) all look pretty small, as shown in the left panel of {numref}`fig-sleep_regressions_2`, but when the regression line is a bad one, the residuals are a lot larger, as you can see from looking at the right panel of {numref}`fig-sleep_regressions_2`. Hm. Maybe what we \"want\" in a regression model is *small* residuals. Yes, that does seem to make sense. In fact, I think I'll go so far as to say that the \"best fitting\" regression line is the one that has the smallest residuals. Or, better yet, since statisticians seem to like to take squares of everything why not say that ...\n",
    "\n",
    "> The estimated regression coefficients, $\\hat{b}_0$ and $\\hat{b}_1$ are those that minimise the sum of the squared residuals, which we could either write as $\\sum_i (Y_i - \\hat{Y}_i)^2$ or as $\\sum_i {\\epsilon_i}^2$.\n",
    "\n",
    "Yes, yes that sounds even better. And since I've indented it like that, it probably means that this is the right answer. And since this is the right answer, it's probably worth making a note of the fact that our regression coefficients are *estimates* (we're trying to guess the parameters that describe a population!), which is why I've added the little hats, so that we get $\\hat{b}_0$ and $\\hat{b}_1$ rather than $b_0$ and $b_1$. Finally, I should also note that -- since there's actually more than one way to estimate a regression model -- the more technical name for this estimation process is **_ordinary least squares (OLS) regression_**.  \n",
    "\n",
    "At this point, we now have a concrete definition for what counts as our \"best\" choice of regression coefficients, $\\hat{b}_0$ and $\\hat{b}_1$. The natural question to ask next is,  if our optimal regression coefficients are those that minimise the sum squared residuals, how do we *find* these wonderful numbers? The actual answer to this question is complicated, and it doesn't help you understand the logic of regression.[^notekungfu] As a result, this time I'm going to let you off the hook. Instead of showing you how to do it the long and tedious way first, and then \"revealing\" the wonderful shortcut that Python provides you with, let's cut straight to the chase... and use Python to do all the heavy lifting. \n",
    "\n",
    "\n",
    "[^notekungfu]: Or at least, I'm assuming that it doesn't help most people. But on the off chance that someone reading this is a proper kung fu master of linear algebra (and to be fair, I always have a few of these people in my intro stats class), it *will* help *you* to know that the solution to the estimation problem turns out to be $\\hat{b} = (X^TX)^{-1} X^T y$, where $\\hat{b}$ is a vector containing the estimated regression coefficients,  $X$ is the \"design matrix\" that contains the predictor variables (plus an additional column containing all ones; strictly $X$ is a matrix of the regressors, but I haven't discussed the distinction yet), and $y$ is a vector containing the outcome variable. For everyone else, this isn't exactly helpful, and can be downright scary. However, since quite a few things in linear regression can be written in linear algebra terms, you'll see a bunch of footnotes like this one in this chapter. If you can follow the maths in them, great. If not, ignore it."
   ]
  },
  {
   "cell_type": "code",
   "execution_count": 4,
   "id": "ffd9dca1",
   "metadata": {
    "tags": [
     "hide-input"
    ]
   },
   "outputs": [],
   "source": [
    "import numpy, scipy, matplotlib\n",
    "import matplotlib.pyplot as plt\n",
    "from scipy.optimize import curve_fit\n",
    "\n",
    "xData = df['dan_sleep']\n",
    "yData = numpy.array(df['dan_grump'])\n",
    "\n",
    "# (the solution to this figure stolen shamelessly from this stack-overflow answer by James Phillips:\n",
    "# https://stackoverflow.com/questions/53779773/python-linear-regression-best-fit-line-with-residuals)\n",
    "\n",
    "# fit linear regression model and save parameters\n",
    "def func(x, a, b):\n",
    "    return a * x + b\n",
    "\n",
    "initialParameters = numpy.array([1.0, 1.0])\n",
    "\n",
    "fittedParameters, pcov = curve_fit(func, xData, yData, initialParameters)\n",
    "\n",
    "modelPredictions = func(xData, *fittedParameters) \n",
    "\n",
    "data = pd.DataFrame({'x': xData,\n",
    "                     'y': yData})\n",
    "\n",
    "# plot data points\n",
    "fig, axes = plt.subplots(1, 2, figsize=(15, 5), sharey=True)\n",
    "sns.scatterplot(data = data, x = 'x', y = 'y', ax = axes[0])\n",
    "fig.axes[0].set_title(\"The best-fitting regression line!\")\n",
    "fig.axes[0].set_xlabel(\"My sleep (hours)\")\n",
    "fig.axes[0].set_ylabel(\"My grumpiness (0-10)\")\n",
    "\n",
    "# add regression line\n",
    "xModel = numpy.linspace(min(xData), max(xData))\n",
    "yModel = func(xModel, *fittedParameters)\n",
    "\n",
    "axes[0].plot(xModel, yModel)\n",
    "\n",
    "# add drop lines\n",
    "for i in range(len(xData)):\n",
    "    lineXdata = (xData[i], xData[i]) # same X\n",
    "    lineYdata = (yData[i], modelPredictions[i]) # different Y\n",
    "    axes[0].plot(lineXdata, lineYdata)\n",
    "\n",
    "    \n",
    "#####\n",
    "\n",
    "# create poor-fitting model\n",
    "badParameters = np.array([-3, 80])\n",
    "badPredictions = func(xData, *badParameters) \n",
    "\n",
    "bad_xModel = numpy.linspace(min(xData), max(xData))\n",
    "bad_yModel = func(bad_xModel, *badParameters)\n",
    "\n",
    "# plot data with poor-fitting model\n",
    "sns.scatterplot(data = data, x = 'x', y = 'y', ax = axes[1])\n",
    "fig.axes[1].set_title(\"Not the best-fitting regression line!\")\n",
    "fig.axes[1].set_xlabel(\"My sleep (hours)\")\n",
    "fig.axes[1].set_ylabel(\"My grumpiness (0-10)\")\n",
    "fig.axes[1].plot(bad_xModel, bad_yModel)  \n",
    "\n",
    "# add drop lines\n",
    "for i in range(len(xData)):\n",
    "    lineXdata = (xData[i], xData[i]) \n",
    "    lineYdata = (yData[i], badPredictions[i]) \n",
    "    axes[1].plot(lineXdata, lineYdata)\n",
    "  \n",
    "    \n",
    "sns.despine()\n",
    "\n",
    "plt.close()\n",
    "glue(\"sleep_regressions_2-fig\", fig, display=False)\n"
   ]
  },
  {
   "attachments": {},
   "cell_type": "markdown",
   "id": "72ceba5b",
   "metadata": {},
   "source": [
    " ```{glue:figure} sleep_regressions_2-fig\n",
    ":figwidth: 600px\n",
    ":name: fig-sleep_regressions_2\n",
    "\n",
    "A depiction of the residuals associated with the best fitting regression line (left panel), and the residuals associated with a poor regression line (right panel). The residuals are much smaller for the good regression line. Again, this is no surprise given that the good line is the one that goes right through the middle of the data.\n",
    "\n",
    "```"
   ]
  },
  {
   "attachments": {},
   "cell_type": "markdown",
   "id": "17e9c720",
   "metadata": {},
   "source": [
    "(pingouinregression)=\n",
    "## Linear Regression with Python\n",
    "\n",
    "As always, there are several different ways we could go about calculating a linear regression in Python, but we'll stick with `pingouin`[^drink], which for my money is one of the simplest and easiest packages to use. The `pingouin` command for linear regression is, well, `linear_regression`, so that couldn't be much more straightforward. After that, we just need to tell `pinguoin` which variable we want to use as a predictor variable (independent variable), and which one we want to use as the outcome variable (dependent variable). `pingouin` wants the predictor variable first, so, since we want to model my grumpiness as a function of my sleep, we write:\n",
    "\n",
    "[^drink]: You saw that coming, didn't you? If not, then I bet you haven't read the sections on [t-tests](ttest) or [ANOVA](ANOVA) yet, have you? I'm such a shill for `pingouin`. "
   ]
  },
  {
   "cell_type": "code",
   "execution_count": 5,
   "id": "solved-yesterday",
   "metadata": {},
   "outputs": [],
   "source": [
    "import pingouin as pg\n",
    "\n",
    "mod1 = pg.linear_regression(df['dan_sleep'], df['dan_grump'])"
   ]
  },
  {
   "cell_type": "code",
   "execution_count": 6,
   "id": "lined-recommendation",
   "metadata": {},
   "outputs": [
    {
     "data": {
      "text/html": [
       "<div>\n",
       "<style scoped>\n",
       "    .dataframe tbody tr th:only-of-type {\n",
       "        vertical-align: middle;\n",
       "    }\n",
       "\n",
       "    .dataframe tbody tr th {\n",
       "        vertical-align: top;\n",
       "    }\n",
       "\n",
       "    .dataframe thead th {\n",
       "        text-align: right;\n",
       "    }\n",
       "</style>\n",
       "<table border=\"1\" class=\"dataframe\">\n",
       "  <thead>\n",
       "    <tr style=\"text-align: right;\">\n",
       "      <th></th>\n",
       "      <th>names</th>\n",
       "      <th>coef</th>\n",
       "      <th>se</th>\n",
       "      <th>T</th>\n",
       "      <th>pval</th>\n",
       "      <th>r2</th>\n",
       "      <th>adj_r2</th>\n",
       "      <th>CI[2.5%]</th>\n",
       "      <th>CI[97.5%]</th>\n",
       "    </tr>\n",
       "  </thead>\n",
       "  <tbody>\n",
       "    <tr>\n",
       "      <th>0</th>\n",
       "      <td>Intercept</td>\n",
       "      <td>125.96</td>\n",
       "      <td>3.02</td>\n",
       "      <td>41.76</td>\n",
       "      <td>0.0</td>\n",
       "      <td>0.82</td>\n",
       "      <td>0.81</td>\n",
       "      <td>119.97</td>\n",
       "      <td>131.94</td>\n",
       "    </tr>\n",
       "    <tr>\n",
       "      <th>1</th>\n",
       "      <td>dan_sleep</td>\n",
       "      <td>-8.94</td>\n",
       "      <td>0.43</td>\n",
       "      <td>-20.85</td>\n",
       "      <td>0.0</td>\n",
       "      <td>0.82</td>\n",
       "      <td>0.81</td>\n",
       "      <td>-9.79</td>\n",
       "      <td>-8.09</td>\n",
       "    </tr>\n",
       "  </tbody>\n",
       "</table>\n",
       "</div>"
      ],
      "text/plain": [
       "       names    coef    se      T  pval    r2  adj_r2  CI[2.5%]  CI[97.5%]\n",
       "0  Intercept  125.96  3.02  41.76   0.0  0.82    0.81    119.97     131.94\n",
       "1  dan_sleep   -8.94  0.43 -20.85   0.0  0.82    0.81     -9.79      -8.09"
      ]
     },
     "execution_count": 6,
     "metadata": {},
     "output_type": "execute_result"
    }
   ],
   "source": [
    "# Display results, rounded to two decimal places.\n",
    "mod1.round(2)"
   ]
  },
  {
   "attachments": {},
   "cell_type": "markdown",
   "id": "09bbc1ca",
   "metadata": {},
   "source": [
    "As is its way, `pingouin` gives us a nice simple table, with a lot of information. Most importantly for now, we can see that `pingouin` has caclulated the intercept $\\hat{b}_0 = 125.96$ and the slope $\\hat{b}_1 = -8.94$. In other words, the best-fitting regression line that I plotted in {numref}`fig-sleep_regressions_1` has this formula: \n",
    "\n",
    "$$\n",
    "\\hat{Y}_i = -8.94 \\ X_i + 125.96\n",
    "$$ "
   ]
  },
  {
   "attachments": {},
   "cell_type": "markdown",
   "id": "7fdd35c3",
   "metadata": {},
   "source": [
    "### Warning!!!\n",
    "\n",
    "Remember, it's critical that you put the variables in the right order. If you reverse the predictor and outcome variables, `pinguoin` will happily calculate a result for you, but it will not be the one you are looking for. If instead, we had written `pg.linear_regression(df['dan_grump'], df['dan_sleep'])`, we would get the following:"
   ]
  },
  {
   "cell_type": "code",
   "execution_count": 7,
   "id": "f27c3f32",
   "metadata": {},
   "outputs": [
    {
     "data": {
      "text/html": [
       "<div>\n",
       "<style scoped>\n",
       "    .dataframe tbody tr th:only-of-type {\n",
       "        vertical-align: middle;\n",
       "    }\n",
       "\n",
       "    .dataframe tbody tr th {\n",
       "        vertical-align: top;\n",
       "    }\n",
       "\n",
       "    .dataframe thead th {\n",
       "        text-align: right;\n",
       "    }\n",
       "</style>\n",
       "<table border=\"1\" class=\"dataframe\">\n",
       "  <thead>\n",
       "    <tr style=\"text-align: right;\">\n",
       "      <th></th>\n",
       "      <th>names</th>\n",
       "      <th>coef</th>\n",
       "      <th>se</th>\n",
       "      <th>T</th>\n",
       "      <th>pval</th>\n",
       "      <th>r2</th>\n",
       "      <th>adj_r2</th>\n",
       "      <th>CI[2.5%]</th>\n",
       "      <th>CI[97.5%]</th>\n",
       "    </tr>\n",
       "  </thead>\n",
       "  <tbody>\n",
       "    <tr>\n",
       "      <th>0</th>\n",
       "      <td>Intercept</td>\n",
       "      <td>12.78</td>\n",
       "      <td>0.28</td>\n",
       "      <td>45.27</td>\n",
       "      <td>0.0</td>\n",
       "      <td>0.82</td>\n",
       "      <td>0.81</td>\n",
       "      <td>12.22</td>\n",
       "      <td>13.34</td>\n",
       "    </tr>\n",
       "    <tr>\n",
       "      <th>1</th>\n",
       "      <td>dan_grump</td>\n",
       "      <td>-0.09</td>\n",
       "      <td>0.00</td>\n",
       "      <td>-20.85</td>\n",
       "      <td>0.0</td>\n",
       "      <td>0.82</td>\n",
       "      <td>0.81</td>\n",
       "      <td>-0.10</td>\n",
       "      <td>-0.08</td>\n",
       "    </tr>\n",
       "  </tbody>\n",
       "</table>\n",
       "</div>"
      ],
      "text/plain": [
       "       names   coef    se      T  pval    r2  adj_r2  CI[2.5%]  CI[97.5%]\n",
       "0  Intercept  12.78  0.28  45.27   0.0  0.82    0.81     12.22      13.34\n",
       "1  dan_grump  -0.09  0.00 -20.85   0.0  0.82    0.81     -0.10      -0.08"
      ]
     },
     "execution_count": 7,
     "metadata": {},
     "output_type": "execute_result"
    }
   ],
   "source": [
    "modx = pg.linear_regression(df['dan_grump'], df['dan_sleep'])\n",
    "modx.round(2)"
   ]
  },
  {
   "attachments": {},
   "cell_type": "markdown",
   "id": "ccc72aef",
   "metadata": {},
   "source": [
    "The output looks valid enough on the face of it, and it is even statistically significant. But in this model, we just predicted my son's sleepiness as a function of my grumpiness, which is madness! Reversing the direction of causality would make a great scifi movie[^noteNolan], but it's no good in statistics. So remember, predictor first, outcome second[^noteformula]\n",
    "\n",
    "[^noteNolan]: Christopher Nolan, have your people call my people if you're interested, we'll do lunch!\n",
    "[^noteformula]: This is extra confusing if you happen to have come from the world of R, where this sort of model is usually defined with a formula, in which the outcome measure comes first, followed by the predictor(s), or even if you have used `statsmodels`, which also preserves the R-style formula notation."
   ]
  },
  {
   "attachments": {},
   "cell_type": "markdown",
   "id": "31c60fc0",
   "metadata": {},
   "source": [
    "### Interpreting the estimated model\n",
    "\n",
    "The most important thing to be able to understand is how to interpret these coefficients. Let's start with $\\hat{b}_1$, the slope. If we remember the definition of the slope, a regression coefficient of $\\hat{b}_1 = -8.94$ means that if I increase $X_i$ by 1, then I'm decreasing $Y_i$ by 8.94. That is, each additional hour of sleep that I gain will improve my mood, reducing my grumpiness by 8.94 grumpiness points. What about the intercept? Well, since $\\hat{b}_0$ corresponds to \"the expected value of $Y_i$ when $X_i$ equals 0\", it's pretty straightforward. It implies that if I get zero hours of sleep ($X_i =0$) then my grumpiness will go off the scale, to an insane value of ($Y_i = 125.96$). Best to be avoided, I think.\n"
   ]
  },
  {
   "attachments": {},
   "cell_type": "markdown",
   "id": "ef122d96",
   "metadata": {},
   "source": [
    "(multipleregression)=\n",
    "## Multiple linear regression\n",
    "\n",
    "The simple linear regression model that we've discussed up to this point assumes that there's a single predictor variable that you're interested in, in this case `dan_sleep`. In fact, up to this point, *every* statistical tool that we've talked about has assumed that your analysis uses one predictor variable and one outcome variable. However, in many (perhaps most) research projects you actually have multiple predictors that you want to examine. If so, it would be nice to be able to extend the linear regression framework to be able to include multiple predictors. Perhaps some kind of **_multiple regression_** model would be in order?\n",
    "\n",
    "Multiple regression is conceptually very simple. All we do is add more terms to our regression equation. Let's suppose that we've got two variables that we're interested in; perhaps we want to use both `dan_sleep` and `baby_sleep` to predict the `dan_grump` variable. As before, we let $Y_i$ refer to my grumpiness on the $i$-th day. But now we have two $X$ variables: the first corresponding to the amount of sleep I got and the second corresponding to the amount of sleep my son got. So we'll let $X_{i1}$ refer to the hours I slept on the $i$-th day, and $X_{i2}$ refers to the hours that the baby slept on that day. If so, then we can write our regression model like this:\n",
    "\n",
    "$$\n",
    "Y_i = b_2 X_{i2} + b_1 X_{i1} + b_0 + \\epsilon_i\n",
    "$$"
   ]
  },
  {
   "attachments": {},
   "cell_type": "markdown",
   "id": "8d98bead",
   "metadata": {},
   "source": [
    "As before, $\\epsilon_i$ is the residual associated with the $i$-th observation, $\\epsilon_i = {Y}_i - \\hat{Y}_i$. In this model, we now have three coefficients that need to be estimated: $b_0$ is the intercept, $b_1$ is the coefficient associated with my sleep, and $b_2$ is the coefficient associated with my son's sleep. However, although the number of coefficients that need to be estimated has changed, the basic idea of how the estimation works is unchanged: our estimated coefficients $\\hat{b}_0$, $\\hat{b}_1$ and $\\hat{b}_2$ are those that minimise the sum squared residuals. "
   ]
  },
  {
   "attachments": {},
   "cell_type": "markdown",
   "id": "ad3ad281",
   "metadata": {},
   "source": [
    "(pingouinmultiplelinearregression)=\n",
    "## Multiple Linear Regression in Python\n",
    "\n",
    "Doing mulitiple linear regression in `pingouin` is just as easy as adding some more predictor variables, like this:"
   ]
  },
  {
   "cell_type": "code",
   "execution_count": 8,
   "id": "f9c9eddf",
   "metadata": {},
   "outputs": [],
   "source": [
    " mod2 = pg.linear_regression(df[['dan_sleep', 'baby_sleep']], df['dan_grump'])"
   ]
  },
  {
   "attachments": {},
   "cell_type": "markdown",
   "id": "8a117839",
   "metadata": {},
   "source": [
    "Still, there is one thing to watch out for. If you look carefully at the command above, you will notice that not only have we added a new predictor (`baby_sleep`), we have also added some extra brackets. While before our predictor variable was `['dan_sleep']`, now we have `[['dan_sleep', 'baby_sleep']]`. Why the extra set of `[]`?\n",
    "\n",
    "This is because we are using the brackets in two different ways. When we wrote `['dan_sleep']`, the square brackets meant \"select the column in the `pandas` dataframe with the header 'dan_sleep'\". But now we are giving `pingouin` a _list_ of columns to select, and `list` objects are _also_ defined by square brackets in Python. To keep things clear, another way to achieve the same result would be to define the list of predictor variables outside the call to `pingouin`:"
   ]
  },
  {
   "cell_type": "code",
   "execution_count": 9,
   "id": "49eff9c6",
   "metadata": {},
   "outputs": [],
   "source": [
    "predictors = ['dan_sleep', 'baby_sleep']\n",
    "outcome = 'dan_grump'\n",
    "\n",
    "mod2 = pg.linear_regression(df[predictors], df[outcome])"
   ]
  },
  {
   "attachments": {},
   "cell_type": "markdown",
   "id": "fa7a4ce3",
   "metadata": {},
   "source": [
    "You could even do all the work outside of `pinguoin`, like this:"
   ]
  },
  {
   "cell_type": "code",
   "execution_count": 10,
   "id": "b3dddf41",
   "metadata": {},
   "outputs": [],
   "source": [
    "predictors = df[['dan_sleep', 'baby_sleep']]\n",
    "outcome = df['dan_grump']\n",
    "\n",
    "mod2 = pg.linear_regression(predictors, outcome)"
   ]
  },
  {
   "attachments": {},
   "cell_type": "markdown",
   "id": "d6650a32",
   "metadata": {},
   "source": [
    "All three of these will give the same result, so it's up to you choose what makes most sense to you. But now it's time to take a look at the results:"
   ]
  },
  {
   "cell_type": "code",
   "execution_count": 11,
   "id": "3acaa6b8",
   "metadata": {},
   "outputs": [
    {
     "data": {
      "text/html": [
       "<div>\n",
       "<style scoped>\n",
       "    .dataframe tbody tr th:only-of-type {\n",
       "        vertical-align: middle;\n",
       "    }\n",
       "\n",
       "    .dataframe tbody tr th {\n",
       "        vertical-align: top;\n",
       "    }\n",
       "\n",
       "    .dataframe thead th {\n",
       "        text-align: right;\n",
       "    }\n",
       "</style>\n",
       "<table border=\"1\" class=\"dataframe\">\n",
       "  <thead>\n",
       "    <tr style=\"text-align: right;\">\n",
       "      <th></th>\n",
       "      <th>names</th>\n",
       "      <th>coef</th>\n",
       "      <th>se</th>\n",
       "      <th>T</th>\n",
       "      <th>pval</th>\n",
       "      <th>r2</th>\n",
       "      <th>adj_r2</th>\n",
       "      <th>CI[2.5%]</th>\n",
       "      <th>CI[97.5%]</th>\n",
       "    </tr>\n",
       "  </thead>\n",
       "  <tbody>\n",
       "    <tr>\n",
       "      <th>0</th>\n",
       "      <td>Intercept</td>\n",
       "      <td>125.97</td>\n",
       "      <td>3.04</td>\n",
       "      <td>41.42</td>\n",
       "      <td>0.00</td>\n",
       "      <td>0.82</td>\n",
       "      <td>0.81</td>\n",
       "      <td>119.93</td>\n",
       "      <td>132.00</td>\n",
       "    </tr>\n",
       "    <tr>\n",
       "      <th>1</th>\n",
       "      <td>dan_sleep</td>\n",
       "      <td>-8.95</td>\n",
       "      <td>0.55</td>\n",
       "      <td>-16.17</td>\n",
       "      <td>0.00</td>\n",
       "      <td>0.82</td>\n",
       "      <td>0.81</td>\n",
       "      <td>-10.05</td>\n",
       "      <td>-7.85</td>\n",
       "    </tr>\n",
       "    <tr>\n",
       "      <th>2</th>\n",
       "      <td>baby_sleep</td>\n",
       "      <td>0.01</td>\n",
       "      <td>0.27</td>\n",
       "      <td>0.04</td>\n",
       "      <td>0.97</td>\n",
       "      <td>0.82</td>\n",
       "      <td>0.81</td>\n",
       "      <td>-0.53</td>\n",
       "      <td>0.55</td>\n",
       "    </tr>\n",
       "  </tbody>\n",
       "</table>\n",
       "</div>"
      ],
      "text/plain": [
       "        names    coef    se      T  pval    r2  adj_r2  CI[2.5%]  CI[97.5%]\n",
       "0   Intercept  125.97  3.04  41.42  0.00  0.82    0.81    119.93     132.00\n",
       "1   dan_sleep   -8.95  0.55 -16.17  0.00  0.82    0.81    -10.05      -7.85\n",
       "2  baby_sleep    0.01  0.27   0.04  0.97  0.82    0.81     -0.53       0.55"
      ]
     },
     "execution_count": 11,
     "metadata": {},
     "output_type": "execute_result"
    }
   ],
   "source": [
    "mod2.round(2)"
   ]
  },
  {
   "attachments": {},
   "cell_type": "markdown",
   "id": "5d1e86a2",
   "metadata": {},
   "source": [
    "The coefficient associated with dan_sleep is quite large, suggesting that every hour of sleep I lose makes me a lot grumpier. However, the coefficient for baby_sleep is very small, suggesting that it doesn’t really matter how much sleep my son gets, not really. What matters as far as my grumpiness goes is how much sleep _I_ get. Although conceptually similar, multiple linear regressions are much harder to visualize than a simple linear regression with only one predictor. To get a sense of what this multiple regression model with two predictors looks like, {numref}`fig-sleep_regressions_3d` shows a 3D plot that plots all three variables, along with the regression model itself."
   ]
  },
  {
   "cell_type": "code",
   "execution_count": 12,
   "id": "4757a6d2",
   "metadata": {
    "tags": [
     "hide-input"
    ]
   },
   "outputs": [],
   "source": [
    "import matplotlib.pyplot as plt\n",
    "import pandas as pd\n",
    "import seaborn as sns\n",
    "from mpl_toolkits.mplot3d import Axes3D\n",
    "\n",
    "# style the plot\n",
    "sns.set_style(\"whitegrid\")\n",
    "\n",
    "# construct 3d plot space\n",
    "fig = plt.figure(figsize=(25, 10)) \n",
    "ax = fig.add_subplot(111, projection = '3d')\n",
    "\n",
    "# define axes\n",
    "x = df['dan_sleep']\n",
    "y = df['baby_sleep']\n",
    "z = df['dan_grump']\n",
    "\n",
    "# set axis labels\n",
    "ax.set_xlabel(\"dan_sleep\")\n",
    "ax.set_ylabel(\"baby_sleep\")\n",
    "ax.set_zlabel(\"dan_grump\")\n",
    "\n",
    "\n",
    "# get intercept and regression coefficients from the lmm model\n",
    "coefs = list(mod2['coef'][1:])\n",
    "intercept = mod2['coef'][0]\n",
    "\n",
    "# create a 3d plane representation of the lmm predictions\n",
    "xs = np.tile(np.arange(12), (12,1))\n",
    "ys = np.tile(np.arange(12), (12,1)).T\n",
    "zs = xs*coefs[0]+ys*coefs[1]+intercept\n",
    "ax.plot_surface(xs,ys,zs, alpha=0.5)\n",
    "\n",
    "# plot the data and plane\n",
    "ax.plot_surface(xs,ys,zs, alpha=0.01)\n",
    "ax.scatter(x, y, z, color = 'blue')\n",
    "\n",
    "# adjust the viewing angle\n",
    "ax.view_init(11,97)\n",
    "\n",
    "\n",
    "\n",
    "# plot the figure in the book with the caption (and no duplicate figure)\n",
    "plt.close()\n",
    "glue(\"sleep_regressions_3d-fig\", fig, display=False)\n"
   ]
  },
  {
   "attachments": {},
   "cell_type": "markdown",
   "id": "db5e9ad1",
   "metadata": {},
   "source": [
    " ```{glue:figure} sleep_regressions_3d-fig\n",
    ":figwidth: 600px\n",
    ":name: fig-sleep_regressions_3d\n",
    "\n",
    "A 3D visualisation of a multiple regression model. There are two predictors in the model, `dan_sleep` and `baby_sleep`; the outcome variable is `dan.grump`. Together, these three variables form a 3D space: each observation (blue dots) is a point in this space. In much the same way that a simple linear regression model forms a line in 2D space, this multiple regression model forms a plane in 3D space. When we estimate the regression coefficients, what we're trying to do is find a plane that is as close to all the blue dots as possible.\n",
    "\n",
    "```"
   ]
  },
  {
   "attachments": {},
   "cell_type": "markdown",
   "id": "67bddbf7",
   "metadata": {},
   "source": [
    "### Formula for the general case\n",
    "\n",
    "The equation that I gave above shows you what a multiple regression model looks like when you include two predictors. Not surprisingly, then, if you want more than two predictors, all you have to do is add more $X$ terms and more $b$ coefficients. In other words, if you have $K$ predictor variables in the model then the regression equation looks like this:\n",
    "\n",
    "$$\n",
    "Y_i = \\left( \\sum_{k=1}^K b_{k} X_{ik} \\right) + b_0 + \\epsilon_i\n",
    "$$"
   ]
  },
  {
   "attachments": {},
   "cell_type": "markdown",
   "id": "3689e030",
   "metadata": {},
   "source": [
    "(r2)=\n",
    "## Quantifying the fit of the regression model\n",
    "\n",
    "So we now know how to estimate the coefficients of a linear regression model. The problem is, we don't yet know if this regression model is any good. For example, our multiple linear regression model `mod2` *claims* that every hour of sleep will improve my mood by quite a lot, but it might just be rubbish. Remember, the regression model only produces a prediction $\\hat{Y}_i$ about what my mood is like: my actual mood is $Y_i$. If these two are very close, then the regression model has done a good job. If they are very different, then it has done a bad job. "
   ]
  },
  {
   "attachments": {},
   "cell_type": "markdown",
   "id": "c4d35773",
   "metadata": {},
   "source": [
    "### The $R^2$ value\n",
    "\n",
    "Once again, let's wrap a little bit of mathematics around this. First, we've got the sum of the squared residuals:\n",
    "\n",
    "$$\n",
    "\\mbox{SS}_{res} = \\sum_i (Y_i - \\hat{Y}_i)^2\n",
    "$$"
   ]
  },
  {
   "attachments": {},
   "cell_type": "markdown",
   "id": "f19b18b6",
   "metadata": {},
   "source": [
    "which we would hope to be pretty small. Specifically, what we'd like is for it to be very small in comparison to the total variability in the outcome variable, \n",
    "\n",
    "$$\n",
    "\\mbox{SS}_{tot} = \\sum_i (Y_i - \\bar{Y})^2\n",
    "$$"
   ]
  },
  {
   "attachments": {},
   "cell_type": "markdown",
   "id": "2ad3aed6",
   "metadata": {},
   "source": [
    "While we're here, let's calculate these values in Python. Just to make my Python commands look a bit more similar to the mathematical equations, I'll create variables `X` and `Y`:"
   ]
  },
  {
   "cell_type": "code",
   "execution_count": 13,
   "id": "4d5fe885",
   "metadata": {},
   "outputs": [],
   "source": [
    "X = df['dan_sleep'] # the predictor\n",
    "Y = df['dan_grump'] # the outcome"
   ]
  },
  {
   "attachments": {},
   "cell_type": "markdown",
   "id": "c6aa9b62",
   "metadata": {},
   "source": [
    "First, lets just examine the output for the simple model that uses only a single predictor:"
   ]
  },
  {
   "cell_type": "code",
   "execution_count": 14,
   "id": "3c11290e",
   "metadata": {},
   "outputs": [
    {
     "data": {
      "text/html": [
       "<div>\n",
       "<style scoped>\n",
       "    .dataframe tbody tr th:only-of-type {\n",
       "        vertical-align: middle;\n",
       "    }\n",
       "\n",
       "    .dataframe tbody tr th {\n",
       "        vertical-align: top;\n",
       "    }\n",
       "\n",
       "    .dataframe thead th {\n",
       "        text-align: right;\n",
       "    }\n",
       "</style>\n",
       "<table border=\"1\" class=\"dataframe\">\n",
       "  <thead>\n",
       "    <tr style=\"text-align: right;\">\n",
       "      <th></th>\n",
       "      <th>names</th>\n",
       "      <th>coef</th>\n",
       "      <th>se</th>\n",
       "      <th>T</th>\n",
       "      <th>pval</th>\n",
       "      <th>r2</th>\n",
       "      <th>adj_r2</th>\n",
       "      <th>CI[2.5%]</th>\n",
       "      <th>CI[97.5%]</th>\n",
       "    </tr>\n",
       "  </thead>\n",
       "  <tbody>\n",
       "    <tr>\n",
       "      <th>0</th>\n",
       "      <td>Intercept</td>\n",
       "      <td>125.96</td>\n",
       "      <td>3.02</td>\n",
       "      <td>41.76</td>\n",
       "      <td>0.0</td>\n",
       "      <td>0.82</td>\n",
       "      <td>0.81</td>\n",
       "      <td>119.97</td>\n",
       "      <td>131.94</td>\n",
       "    </tr>\n",
       "    <tr>\n",
       "      <th>1</th>\n",
       "      <td>dan_sleep</td>\n",
       "      <td>-8.94</td>\n",
       "      <td>0.43</td>\n",
       "      <td>-20.85</td>\n",
       "      <td>0.0</td>\n",
       "      <td>0.82</td>\n",
       "      <td>0.81</td>\n",
       "      <td>-9.79</td>\n",
       "      <td>-8.09</td>\n",
       "    </tr>\n",
       "  </tbody>\n",
       "</table>\n",
       "</div>"
      ],
      "text/plain": [
       "       names    coef    se      T  pval    r2  adj_r2  CI[2.5%]  CI[97.5%]\n",
       "0  Intercept  125.96  3.02  41.76   0.0  0.82    0.81    119.97     131.94\n",
       "1  dan_sleep   -8.94  0.43 -20.85   0.0  0.82    0.81     -9.79      -8.09"
      ]
     },
     "execution_count": 14,
     "metadata": {},
     "output_type": "execute_result"
    }
   ],
   "source": [
    "mod1 = pg.linear_regression(X, Y)\n",
    "mod1.round(2)"
   ]
  },
  {
   "attachments": {},
   "cell_type": "markdown",
   "id": "fe76ae05",
   "metadata": {},
   "source": [
    "In this output, we can see that Python has calculated an intercept of 125.96 and a regression coefficient ($beta$) of -8.94. So for every hour of sleep I get, the model estimates that this will correspond to a decrease in grumpiness of about 9 on my incredibly scientific grumpiness scale. We can use this information to calculate $\\hat{Y}$, that is, the values that the model _predicts_ for the outcome measure, as opposed to $Y$, which are the actual data we observed. So, for each value of the predictor variable X, we multiply that value by the regression coefficient -8.84, and add the intercept 125.97:"
   ]
  },
  {
   "cell_type": "code",
   "execution_count": 15,
   "id": "6f66d0de",
   "metadata": {},
   "outputs": [],
   "source": [
    "\n",
    "Y_pred = -8.94 * X + 125.97"
   ]
  },
  {
   "attachments": {},
   "cell_type": "markdown",
   "id": "654af8d9",
   "metadata": {},
   "source": [
    "Okay, now that we've got a variable which stores the regression model predictions for how grumpy I will be on any given day, let's calculate our sum of squared residuals. We would do that using the following command:"
   ]
  },
  {
   "cell_type": "code",
   "execution_count": 16,
   "id": "bcce8ffe",
   "metadata": {},
   "outputs": [
    {
     "data": {
      "text/plain": [
       "1838.7224883200004"
      ]
     },
     "execution_count": 16,
     "metadata": {},
     "output_type": "execute_result"
    }
   ],
   "source": [
    "SS_resid = sum( (Y - Y_pred)**2 )\n",
    "SS_resid"
   ]
  },
  {
   "attachments": {},
   "cell_type": "markdown",
   "id": "1f8403ba",
   "metadata": {},
   "source": [
    "Wonderful. A big number that doesn't mean very much. Still, let's forge boldly onwards anyway, and calculate the total sum of squares as well. That's also pretty simple:"
   ]
  },
  {
   "cell_type": "code",
   "execution_count": 17,
   "id": "738f942e",
   "metadata": {},
   "outputs": [
    {
     "data": {
      "text/plain": [
       "9998.590000000002"
      ]
     },
     "execution_count": 17,
     "metadata": {},
     "output_type": "execute_result"
    }
   ],
   "source": [
    "import numpy as np\n",
    "SS_tot = sum( (Y - np.mean(Y))**2 )\n",
    "SS_tot"
   ]
  },
  {
   "attachments": {},
   "cell_type": "markdown",
   "id": "a4671c01",
   "metadata": {},
   "source": [
    "\n",
    "Hm. Well, it's a much bigger number than the last one, so this does suggest that our regression model was making good predictions. But it's not very interpretable. \n",
    "\n",
    "Perhaps we can fix this. What we'd like to do is to convert these two fairly meaningless numbers into one number. A nice, interpretable number, which for no particular reason we'll call $R^2$. What we would like is for the value of $R^2$ to be equal to 1 if the regression model makes no errors in predicting the data. In other words, if it turns out that the residual errors are zero, that is, if $\\mbox{SS}_{res} = 0$, then we expect $R^2 = 1$. Similarly, if the model is completely useless, we would like $R^2$ to be equal to 0. What do I mean by \"useless\"? Tempting as it is demand that the regression model move out of the house, cut its hair and get a real job, I'm probably going to have to pick a more practical definition: in this case, all I mean is that the residual sum of squares is no smaller than the total sum of squares, $\\mbox{SS}_{res} = \\mbox{SS}_{tot}$. Wait, why don't we do exactly that? In fact, the formula that provides us with our $R^2$ value is pretty simple to write down,\n",
    "\n",
    "$$\n",
    "R^2 = 1 - \\frac{\\mbox{SS}_{res}}{\\mbox{SS}_{tot}}\n",
    "$$"
   ]
  },
  {
   "attachments": {},
   "cell_type": "markdown",
   "id": "cc472da0",
   "metadata": {},
   "source": [
    "and equally simple to calculate in Python:"
   ]
  },
  {
   "cell_type": "code",
   "execution_count": 18,
   "id": "a0ddbf1a",
   "metadata": {},
   "outputs": [
    {
     "data": {
      "text/plain": [
       "0.816101821524835"
      ]
     },
     "execution_count": 18,
     "metadata": {},
     "output_type": "execute_result"
    }
   ],
   "source": [
    "R2 = 1- (SS_resid / SS_tot)\n",
    "R2"
   ]
  },
  {
   "attachments": {},
   "cell_type": "markdown",
   "id": "f83a76ce",
   "metadata": {},
   "source": [
    "The $R^2$ value, sometimes called the **_coefficient of determination_**[^notenever] has a simple interpretation: it is the *proportion* of the variance in the outcome variable that can be accounted for by the predictor. So in this case, the fact that we have obtained $R^2 = .816$ means that the predictor (`my_sleep`) explains 81.6\\% of the variance in the outcome (`my_grump`). \n",
    "\n",
    "Naturally, you don't actually need to type in all these commands yourself if you want to obtain the $R^2$ value for your regression model. And as you have probably already noticed, `pingouin` calculates $R^2$  for us without even being asked to. But there's another property of $R^2$ that I want to point out. \n",
    "\n",
    "[^notenever]: And by \"sometimes\" I mean \"almost never\". In practice everyone just calls it \"$R$-squared\"."
   ]
  },
  {
   "attachments": {},
   "cell_type": "markdown",
   "id": "12c7087b",
   "metadata": {},
   "source": [
    "### The relationship between regression and correlation\n",
    "\n",
    "At this point we can revisit my earlier claim that regression, in this very simple form that I've discussed so far, is basically the same thing as a correlation. Previously, we used the symbol $r$ to denote a Pearson correlation. Might there be some relationship between the value of the correlation coefficient $r$ and the $R^2$ value from linear regression? Of course there is: the squared correlation $r^2$ is identical to the $R^2$ value for a linear regression with only a single predictor. To illustrate this, here's the squared correlation:"
   ]
  },
  {
   "cell_type": "code",
   "execution_count": 19,
   "id": "ce50df54",
   "metadata": {},
   "outputs": [
    {
     "data": {
      "text/plain": [
       "0.8161027191478786"
      ]
     },
     "execution_count": 19,
     "metadata": {},
     "output_type": "execute_result"
    }
   ],
   "source": [
    "r = X.corr(Y)  # calculate the correlation\n",
    "r**2    # print the squared correlation"
   ]
  },
  {
   "attachments": {},
   "cell_type": "markdown",
   "id": "2805acd4",
   "metadata": {},
   "source": [
    "\n",
    "Yep, same number. In other words, running a Pearson correlation is more or less equivalent to running a linear regression model that uses only one predictor variable.\n",
    "\n",
    "### The adjusted $R^2$ value\n",
    "\n",
    "One final thing to point out before moving on. It's quite common for people to report a slightly different measure of model performance, known as \"adjusted $R^2$\". The motivation behind calculating the adjusted $R^2$ value is the observation that adding more predictors into the model will *always* cause the $R^2$ value to increase (or at least not decrease). The adjusted $R^2$ value introduces a slight change to the calculation, as follows. For a regression model with $K$ predictors, fit to a data set containing $N$ observations, the adjusted $R^2$ is:\n",
    "\n",
    "$$\n",
    "\\mbox{adj. } R^2 = 1 - \\left(\\frac{\\mbox{SS}_{res}}{\\mbox{SS}_{tot}} \\times \\frac{N-1}{N-K-1} \\right)\n",
    "$$"
   ]
  },
  {
   "attachments": {},
   "cell_type": "markdown",
   "id": "b1291af5",
   "metadata": {},
   "source": [
    "This adjustment is an attempt to take the degrees of freedom into account. The big advantage of the adjusted $R^2$ value is that when you add more predictors to the model, the adjusted $R^2$ value will only increase if the new variables improve the model performance more than you'd expect by chance. The big disadvantage is that the adjusted $R^2$ value *can't* be interpreted in the elegant way that $R^2$ can. $R^2$ has a simple interpretation as the proportion of variance in the outcome variable that is explained by the regression model; to my knowledge, no equivalent interpretation exists for adjusted $R^2$. \n",
    "\n",
    "An obvious question then, is whether you should report $R^2$ or adjusted $R^2$. This is probably a matter of personal preference. If you care more about interpretability, then $R^2$ is better. If you care more about correcting for bias, then adjusted $R^2$ is probably better. Speaking just for myself, I prefer $R^2$: my feeling is that it's more important to be able to interpret your measure of model performance. Besides, as we'll soon see in the upcoming section on hypothesis tests for regression models, which I am going to link to even though it is [literally the next section in this book](regressiontests), if you're worried that the improvement in $R^2$ that you get by adding a predictor is just due to chance and not because it's a better model, well, we've got hypothesis tests for that. "
   ]
  },
  {
   "attachments": {},
   "cell_type": "markdown",
   "id": "fd5caab6",
   "metadata": {},
   "source": [
    "(regressiontests)=\n",
    "## Hypothesis tests for regression models\n",
    "\n",
    "So far we've talked about what a regression model is, how the coefficients of a regression model are estimated, and how we quantify the performance of the model (the last of these, incidentally, is basically our measure of effect size). The next thing we need to talk about is hypothesis tests. There are two different (but related) kinds of hypothesis tests that we need to talk about: those in which we test whether the regression model as a whole is performing significantly better than a null model; and those in which we test whether a particular regression coefficient is significantly different from zero. \n",
    "\n",
    "At this point, you're probably groaning internally, thinking that I'm going to introduce a whole new collection of tests. You're probably sick of hypothesis tests by now, and don't want to learn any new ones. Me too. I'm so sick of hypothesis tests that I'm going to shamelessly reuse the $F$-test from the [chapter on ANOVAs](anova) and the $t$-test from [the chapter on t-tests](ttest). In fact, all I'm going to do in this section is show you how those tests are imported wholesale into the regression framework.  "
   ]
  },
  {
   "attachments": {},
   "cell_type": "markdown",
   "id": "6c435d23",
   "metadata": {},
   "source": [
    "### Testing the model as a whole\n",
    "\n",
    "Okay, suppose you've estimated your regression model. The first hypothesis test you might want to try is one in which the null hypothesis that there is *no relationship* between the predictors and the outcome, and the alternative hypothesis is that *the data are distributed in exactly the way that the regression model predicts*. Formally, our \"null model\" corresponds to the fairly trivial \"regression\" model in which we include 0 predictors, and only include the intercept term $b_0$\n",
    "\n",
    "$$\n",
    "H_0: Y_i = b_0 + \\epsilon_i\n",
    "$$"
   ]
  },
  {
   "attachments": {},
   "cell_type": "markdown",
   "id": "5c500ec4",
   "metadata": {},
   "source": [
    "If our regression model has $K$ predictors, the \"alternative model\" is described using the usual formula for a multiple regression model:\n",
    "\n",
    "$$\n",
    "H_1: Y_i = \\left( \\sum_{k=1}^K b_{k} X_{ik} \\right) + b_0 + \\epsilon_i\n",
    "$$"
   ]
  },
  {
   "attachments": {},
   "cell_type": "markdown",
   "id": "53f575d7",
   "metadata": {},
   "source": [
    "How can we test these two hypotheses against each other? The trick is to understand that just like we did with ANOVA, it's possible to divide up the total variance $\\mbox{SS}_{tot}$ into the sum of the residual variance $\\mbox{SS}_{res}$ and the regression model variance $\\mbox{SS}_{mod}$. I'll skip over the technicalities, since we covered most of them in the [ANOVA chapter](anova), and just note that:\n",
    "\n",
    "$$\n",
    "\\mbox{SS}_{mod} = \\mbox{SS}_{tot} - \\mbox{SS}_{res}\n",
    "$$"
   ]
  },
  {
   "attachments": {},
   "cell_type": "markdown",
   "id": "e1306fd7",
   "metadata": {},
   "source": [
    "And, just like we did with the ANOVA, we can convert the sums of squares into mean squares by dividing by the degrees of freedom. \n",
    "\n",
    "$$\n",
    "\\begin{array}{rcl}\n",
    "\\mbox{MS}_{mod} &=& \\displaystyle\\frac{\\mbox{SS}_{mod} }{df_{mod}} \\\\ \\\\\n",
    "\\mbox{MS}_{res} &=& \\displaystyle\\frac{\\mbox{SS}_{res} }{df_{res} }\n",
    "\\end{array}\n",
    "$$"
   ]
  },
  {
   "attachments": {},
   "cell_type": "markdown",
   "id": "db91e296",
   "metadata": {},
   "source": [
    "So, how many degrees of freedom do we have? As you might expect, the $df$ associated with the model is closely tied to the number of predictors that we've included. In fact, it turns out that $df_{mod} = K$. For the residuals, the total degrees of freedom is $df_{res} = N -K - 1$. \n",
    "\n",
    "Now that we've got our mean square values, you're probably going to be entirely unsurprised (possibly even bored) to discover that we can calculate an $F$-statistic like this:\n",
    "\n",
    "$$\n",
    "F =  \\frac{\\mbox{MS}_{mod}}{\\mbox{MS}_{res}}\n",
    "$$"
   ]
  },
  {
   "attachments": {},
   "cell_type": "markdown",
   "id": "63692822",
   "metadata": {},
   "source": [
    "and the degrees of freedom associated with this are $K$ and $N-K-1$. This $F$ statistic has exactly the same interpretation as the one we introduced [when learning about ANOVAs](anova). Large $F$ values indicate that the null hypothesis is performing poorly in comparison to the alternative hypothesis."
   ]
  },
  {
   "attachments": {},
   "cell_type": "markdown",
   "id": "9e9a64e9",
   "metadata": {},
   "source": [
    "\"Ok, this is fine\", I hear you say, \"but now show me the easy way! Show me how easy it is to get an $F$ statistic from `pingouin`! `pingouin` makes everything so much easier! Surely `pingouin` does this for me as well?\"\n",
    "\n",
    "Yeah. About that... actually, as of the time of writing (Tuesday the 17th of May, 2022), `pingouin` does _not_ automatically calculate the $F$ statistic for the model for you. This seems like kind of a strange omission to me, since it is pretty normal to report overall $F$ and $p$ values for a model, and `pingouin` seems to be all about making the normal things easy. So, I can only assume this will get added at some point, but for now, sadly, we are left to ourselves on this one. \n",
    "\n",
    "I should mention that there are other statistics packages for Python that will do this for you. [statsmodels](https://www.statsmodels.org/stable/regression.html) comes to mind, for instance. But this is opening a whole new can of worms that I'd rather avoid for now, so instead I provide you with code to calculate the $F$ statistic and $p$-value for the model \"manually\" below:"
   ]
  },
  {
   "cell_type": "code",
   "execution_count": 20,
   "id": "eb455782",
   "metadata": {},
   "outputs": [
    {
     "name": "stdout",
     "output_type": "stream",
     "text": [
      "F= 215.2382865368443 p= 2.1457300163209325e-36\n"
     ]
    }
   ],
   "source": [
    "import numpy as np\n",
    "from scipy import stats as st\n",
    "\n",
    "# your predictor and outcome variables (aka, \"the data\")\n",
    "predictors = df[['dan_sleep', 'baby_sleep']]\n",
    "outcome = df['dan_grump']\n",
    "\n",
    "# model the data, and store the model information in a variable called \"mod\"\n",
    "mod = pg.linear_regression(predictors, outcome)\n",
    "\n",
    "\n",
    "# call the outcome data \"Y\", just for the sake of generalizability\n",
    "Y = outcome\n",
    "\n",
    "# get the model residuals from the model object\n",
    "res = mod.residuals_\n",
    "\n",
    "# calculate the residual, the model, and the total sums of squares\n",
    "SS_res = np.sum(np.square(res))\n",
    "SS_tot = sum( (Y - np.mean(Y))**2 )\n",
    "SS_mod = SS_tot - SS_res\n",
    "\n",
    "# get the degrees of freedom for the model and the residuals\n",
    "df_mod = mod.df_model_\n",
    "df_res = mod.df_resid_\n",
    "\n",
    "# caluculate the mean squares for the model and the residuals\n",
    "MS_mod = SS_mod / df_mod\n",
    "MS_res = SS_res / df_res\n",
    "\n",
    "# calculate the F-statistic\n",
    "F = MS_mod / MS_res\n",
    "\n",
    "# estimate the p-value\n",
    "p = st.f.sf(F, df_mod, df_res)\n",
    "\n",
    "# display the results\n",
    "print(\"F=\",F, \"p=\", p)\n"
   ]
  },
  {
   "attachments": {},
   "cell_type": "markdown",
   "id": "e29bbba8",
   "metadata": {},
   "source": [
    "(ftestfunction)=\n",
    "### An F-test function\n",
    "\n",
    "A more compact way to do this would be to take everything I have done above and put it inside a [function](functions). I've done this below, not least so that I will be able to copy/paste from it myself at some later date. Here is a function called `regression_f` that takes as its arguments a list of predictors, and an outcome variable, and spits out the $F$ and $p$ values."
   ]
  },
  {
   "cell_type": "code",
   "execution_count": 21,
   "id": "387b7ea4",
   "metadata": {},
   "outputs": [],
   "source": [
    "def regression_f(predictors, outcome):\n",
    "    mod = pg.linear_regression(predictors, outcome)\n",
    "    Y = outcome\n",
    "    res = mod.residuals_\n",
    "    SS_res = np.sum(np.square(res))\n",
    "    SS_tot = sum( (Y - np.mean(Y))**2 )\n",
    "    SS_mod = SS_tot - SS_res\n",
    "    df_mod = mod.df_model_\n",
    "    df_res = mod.df_resid_\n",
    "    MS_mod = SS_mod / df_mod\n",
    "    MS_res = SS_res / df_res\n",
    "    F = MS_mod / MS_res\n",
    "    p = st.f.sf(F, df_mod, df_res)\n",
    "    return(F, p)"
   ]
  },
  {
   "attachments": {},
   "cell_type": "markdown",
   "id": "9120a43b",
   "metadata": {},
   "source": [
    "Once we have run the function, all we need to do is plug in our values, and `regression_f` does the rest:"
   ]
  },
  {
   "cell_type": "code",
   "execution_count": 22,
   "id": "50ffea08",
   "metadata": {},
   "outputs": [
    {
     "data": {
      "text/plain": [
       "(215.2382865368443, 2.1457300163209325e-36)"
      ]
     },
     "execution_count": 22,
     "metadata": {},
     "output_type": "execute_result"
    }
   ],
   "source": [
    "predictors = df[['dan_sleep', 'baby_sleep']]\n",
    "outcome = df['dan_grump']\n",
    "\n",
    "regression_f(predictors, outcome)"
   ]
  },
  {
   "attachments": {},
   "cell_type": "markdown",
   "id": "6c23c6a4",
   "metadata": {},
   "source": [
    "### Tests for individual coefficients\n",
    "\n",
    "The $F$-test that we've just introduced is useful for checking that the model as a whole is performing better than chance. This is important: if your regression model doesn't produce a significant result for the $F$-test then you probably don't have a very good regression model (or, quite possibly, you don't have very good data). However, while failing this test is a pretty strong indicator that the model has problems, *passing* the test (i.e., rejecting the null) doesn't imply that the model is good! Why is that, you might be wondering? The answer to that can be found by looking at the coefficients for the multiple linear regression model we calculated earlier:"
   ]
  },
  {
   "cell_type": "code",
   "execution_count": 23,
   "id": "5fc70431",
   "metadata": {},
   "outputs": [
    {
     "data": {
      "text/html": [
       "<div>\n",
       "<style scoped>\n",
       "    .dataframe tbody tr th:only-of-type {\n",
       "        vertical-align: middle;\n",
       "    }\n",
       "\n",
       "    .dataframe tbody tr th {\n",
       "        vertical-align: top;\n",
       "    }\n",
       "\n",
       "    .dataframe thead th {\n",
       "        text-align: right;\n",
       "    }\n",
       "</style>\n",
       "<table border=\"1\" class=\"dataframe\">\n",
       "  <thead>\n",
       "    <tr style=\"text-align: right;\">\n",
       "      <th></th>\n",
       "      <th>names</th>\n",
       "      <th>coef</th>\n",
       "      <th>se</th>\n",
       "      <th>T</th>\n",
       "      <th>pval</th>\n",
       "      <th>r2</th>\n",
       "      <th>adj_r2</th>\n",
       "      <th>CI[2.5%]</th>\n",
       "      <th>CI[97.5%]</th>\n",
       "    </tr>\n",
       "  </thead>\n",
       "  <tbody>\n",
       "    <tr>\n",
       "      <th>0</th>\n",
       "      <td>Intercept</td>\n",
       "      <td>125.97</td>\n",
       "      <td>3.04</td>\n",
       "      <td>41.42</td>\n",
       "      <td>0.00</td>\n",
       "      <td>0.82</td>\n",
       "      <td>0.81</td>\n",
       "      <td>119.93</td>\n",
       "      <td>132.00</td>\n",
       "    </tr>\n",
       "    <tr>\n",
       "      <th>1</th>\n",
       "      <td>dan_sleep</td>\n",
       "      <td>-8.95</td>\n",
       "      <td>0.55</td>\n",
       "      <td>-16.17</td>\n",
       "      <td>0.00</td>\n",
       "      <td>0.82</td>\n",
       "      <td>0.81</td>\n",
       "      <td>-10.05</td>\n",
       "      <td>-7.85</td>\n",
       "    </tr>\n",
       "    <tr>\n",
       "      <th>2</th>\n",
       "      <td>baby_sleep</td>\n",
       "      <td>0.01</td>\n",
       "      <td>0.27</td>\n",
       "      <td>0.04</td>\n",
       "      <td>0.97</td>\n",
       "      <td>0.82</td>\n",
       "      <td>0.81</td>\n",
       "      <td>-0.53</td>\n",
       "      <td>0.55</td>\n",
       "    </tr>\n",
       "  </tbody>\n",
       "</table>\n",
       "</div>"
      ],
      "text/plain": [
       "        names    coef    se      T  pval    r2  adj_r2  CI[2.5%]  CI[97.5%]\n",
       "0   Intercept  125.97  3.04  41.42  0.00  0.82    0.81    119.93     132.00\n",
       "1   dan_sleep   -8.95  0.55 -16.17  0.00  0.82    0.81    -10.05      -7.85\n",
       "2  baby_sleep    0.01  0.27   0.04  0.97  0.82    0.81     -0.53       0.55"
      ]
     },
     "execution_count": 23,
     "metadata": {},
     "output_type": "execute_result"
    }
   ],
   "source": [
    "predictors = df[['dan_sleep', 'baby_sleep']]\n",
    "outcome = df['dan_grump']\n",
    "\n",
    "mod2 = pg.linear_regression(predictors, outcome)\n",
    "mod2.round(2)"
   ]
  },
  {
   "attachments": {},
   "cell_type": "markdown",
   "id": "67c75cc1",
   "metadata": {},
   "source": [
    "\n",
    "I can't help but notice that the estimated regression coefficient for the `baby_sleep` variable is tiny (0.01), relative to the value that we get for `dan_sleep` (-8.95). Given that these two variables are absolutely on the same scale (they're both measured in \"hours slept\"), I find this suspicious. In fact, I'm beginning to suspect that it's really only the amount of sleep that *I* get that matters in order to predict my grumpiness.\n",
    "\n",
    "Once again, we can reuse a hypothesis test that we discussed earlier, this time the $t$-test. The test that we're interested has a null hypothesis that the true regression coefficient is zero ($b = 0$), which is to be tested against the alternative hypothesis that it isn't ($b \\neq 0$). That is:\n",
    "\n",
    "$$\n",
    "\\begin{array}{rl}\n",
    "H_0: & b = 0 \\\\\n",
    "H_1: & b \\neq 0 \n",
    "\\end{array}\n",
    "$$"
   ]
  },
  {
   "attachments": {},
   "cell_type": "markdown",
   "id": "59650808",
   "metadata": {},
   "source": [
    "How can we test this? Well, if the [central limit theorem](clt) is kind to us, we might be able to guess that the sampling distribution of $\\hat{b}$, the estimated regression coefficient, is a normal distribution with mean centred on $b$. What that would mean is that if the null hypothesis were true, then the sampling distribution of $\\hat{b}$ has mean zero and unknown standard deviation. Assuming that we can come up with a good estimate for the [standard error](clt) of the regression coefficient, $\\mbox{SE}({\\hat{b}})$, then we're in luck. That's *exactly* the situation for which we introduced the one-sample $t$ way back in [the chapter on t-tests](ttest). So let's define a $t$-statistic like this,\n",
    "\n",
    "$$\n",
    "t = \\frac{\\hat{b}}{\\mbox{SE}({\\hat{b})}}\n",
    "$$"
   ]
  },
  {
   "attachments": {},
   "cell_type": "markdown",
   "id": "829f64ab",
   "metadata": {},
   "source": [
    "I'll skip over the reasons why, but our degrees of freedom in this case are $df = N- K- 1$. Irritatingly, the estimate of the standard error of the regression coefficient, $\\mbox{SE}({\\hat{b}})$, is not as easy to calculate as the standard error of the mean that we used for the simpler $t$-tests [earlier](ttest). In fact, the formula is somewhat ugly, and not terribly helpful to look at. For our purposes it's sufficient to point out that the standard error of the  estimated regression coefficient depends on both the predictor and outcome variables, and is somewhat sensitive to violations of the homogeneity of variance assumption (discussed shortly). \n",
    "\n",
    "In any case, this $t$-statistic can be interpreted in the same way as the $t$-statistics that we discussed [earlier](ttest). Assuming that you have a two-sided alternative (i.e., you don't really care if $b >0$ or $b < 0$), then it's the extreme values of $t$ (i.e., a lot less than zero or a lot greater than zero) that suggest that you should reject the null hypothesis. "
   ]
  },
  {
   "attachments": {},
   "cell_type": "markdown",
   "id": "3c306575",
   "metadata": {},
   "source": [
    "Now we are in a position to understand all the values in the multiple regression table provided by `pingouin`:"
   ]
  },
  {
   "cell_type": "code",
   "execution_count": 24,
   "id": "782d33f1",
   "metadata": {},
   "outputs": [
    {
     "data": {
      "text/html": [
       "<div>\n",
       "<style scoped>\n",
       "    .dataframe tbody tr th:only-of-type {\n",
       "        vertical-align: middle;\n",
       "    }\n",
       "\n",
       "    .dataframe tbody tr th {\n",
       "        vertical-align: top;\n",
       "    }\n",
       "\n",
       "    .dataframe thead th {\n",
       "        text-align: right;\n",
       "    }\n",
       "</style>\n",
       "<table border=\"1\" class=\"dataframe\">\n",
       "  <thead>\n",
       "    <tr style=\"text-align: right;\">\n",
       "      <th></th>\n",
       "      <th>names</th>\n",
       "      <th>coef</th>\n",
       "      <th>se</th>\n",
       "      <th>T</th>\n",
       "      <th>pval</th>\n",
       "      <th>r2</th>\n",
       "      <th>adj_r2</th>\n",
       "      <th>CI[2.5%]</th>\n",
       "      <th>CI[97.5%]</th>\n",
       "    </tr>\n",
       "  </thead>\n",
       "  <tbody>\n",
       "    <tr>\n",
       "      <th>0</th>\n",
       "      <td>Intercept</td>\n",
       "      <td>125.97</td>\n",
       "      <td>3.04</td>\n",
       "      <td>41.42</td>\n",
       "      <td>0.00</td>\n",
       "      <td>0.82</td>\n",
       "      <td>0.81</td>\n",
       "      <td>119.93</td>\n",
       "      <td>132.00</td>\n",
       "    </tr>\n",
       "    <tr>\n",
       "      <th>1</th>\n",
       "      <td>dan_sleep</td>\n",
       "      <td>-8.95</td>\n",
       "      <td>0.55</td>\n",
       "      <td>-16.17</td>\n",
       "      <td>0.00</td>\n",
       "      <td>0.82</td>\n",
       "      <td>0.81</td>\n",
       "      <td>-10.05</td>\n",
       "      <td>-7.85</td>\n",
       "    </tr>\n",
       "    <tr>\n",
       "      <th>2</th>\n",
       "      <td>baby_sleep</td>\n",
       "      <td>0.01</td>\n",
       "      <td>0.27</td>\n",
       "      <td>0.04</td>\n",
       "      <td>0.97</td>\n",
       "      <td>0.82</td>\n",
       "      <td>0.81</td>\n",
       "      <td>-0.53</td>\n",
       "      <td>0.55</td>\n",
       "    </tr>\n",
       "  </tbody>\n",
       "</table>\n",
       "</div>"
      ],
      "text/plain": [
       "        names    coef    se      T  pval    r2  adj_r2  CI[2.5%]  CI[97.5%]\n",
       "0   Intercept  125.97  3.04  41.42  0.00  0.82    0.81    119.93     132.00\n",
       "1   dan_sleep   -8.95  0.55 -16.17  0.00  0.82    0.81    -10.05      -7.85\n",
       "2  baby_sleep    0.01  0.27   0.04  0.97  0.82    0.81     -0.53       0.55"
      ]
     },
     "execution_count": 24,
     "metadata": {},
     "output_type": "execute_result"
    }
   ],
   "source": [
    "mod2.round(2)"
   ]
  },
  {
   "attachments": {},
   "cell_type": "markdown",
   "id": "21e8af68",
   "metadata": {},
   "source": [
    "Each row in this table refers to one of the coefficients in the regression model. The first row is the intercept term, and the later ones look at each of the predictors. The columns give you all of the relevant information. The `coef` column is the actual estimate of $b$ (e.g., 125.96 for the intercept, -8.9 for the `dan_sleep` predictor, and 0.01 for the `baby_sleep` predictor). The `se` column is the standard error estimate $\\hat\\sigma_b$. The `T` column gives you the $t$-statistic, and it's worth noticing that in this table $t= \\hat{b}/\\mbox{SE}({\\hat{b}})$ every time. The `pval` column gives you the actual $p$ value for each of these tests.[^notecorrection] The `r2`and àdj_r2` columns give the $R^2$ value and the adjusted $R^2$ for the model, and the last two columns give us the upper and lower [confidence interval](ci) bounds for each estimate.\n",
    "\n",
    "[^notecorrection]: Note that, although `pingouin` has done multiple tests here, it hasn't done a Bonferroni correction or anything. These are standard one-sample $t$-tests with a two-sided alternative. If you want to make corrections for multiple tests, you need to do that yourself."
   ]
  },
  {
   "attachments": {},
   "cell_type": "markdown",
   "id": "ac9e50c0",
   "metadata": {},
   "source": [
    "If we add our [F-test results](ftestfunction) to the mix:"
   ]
  },
  {
   "cell_type": "code",
   "execution_count": 25,
   "id": "1e7e0a09",
   "metadata": {},
   "outputs": [
    {
     "name": "stdout",
     "output_type": "stream",
     "text": [
      "F: 215.24 p: 2.1457300163209325e-36\n"
     ]
    }
   ],
   "source": [
    "f = regression_f(predictors, outcome)\n",
    "print(\"F:\", f[0].round(2), \"p:\", f[1])"
   ]
  },
  {
   "attachments": {},
   "cell_type": "markdown",
   "id": "50523e3b",
   "metadata": {},
   "source": [
    "we have everything we need to evaluate our model. In this case, the model performs significantly better than you'd expect by chance ($F(2,97) = 215.2$, $p<.001$), which isn't all that surprising: the $R^2 = .812$ value indicate that the regression model accounts for 81.2\\% of the variability in the outcome measure. However, when we look back up at the $t$-tests for each of the individual coefficients, we have pretty strong evidence that the `baby_sleep` variable has no significant effect; all the work is being done by the `dan_sleep` variable. Taken together, these results suggest that `mod2` is actually the wrong model for the data: you'd probably be better off dropping the `baby_sleep` predictor entirely. In other words, the `mod1` model that we started with is the better model. "
   ]
  },
  {
   "attachments": {},
   "cell_type": "markdown",
   "id": "cc471f67",
   "metadata": {},
   "source": [
    "(corrhyp)=\n",
    "## Testing the significance of a correlation\n",
    "\n",
    "\n",
    "### Hypothesis tests for a single correlation\n",
    "\n",
    "I don't want to spend too much time on this, but it's worth very briefly returning to the point I made earlier, that Pearson correlations are basically the same thing as linear regressions with only a single predictor added to the model. What this means is that the hypothesis tests that I just described in a regression context can also be applied to correlation coefficients. To see this, let's just revist our `mod1` model:"
   ]
  },
  {
   "cell_type": "code",
   "execution_count": 26,
   "id": "dbac25b8",
   "metadata": {},
   "outputs": [
    {
     "data": {
      "text/html": [
       "<div>\n",
       "<style scoped>\n",
       "    .dataframe tbody tr th:only-of-type {\n",
       "        vertical-align: middle;\n",
       "    }\n",
       "\n",
       "    .dataframe tbody tr th {\n",
       "        vertical-align: top;\n",
       "    }\n",
       "\n",
       "    .dataframe thead th {\n",
       "        text-align: right;\n",
       "    }\n",
       "</style>\n",
       "<table border=\"1\" class=\"dataframe\">\n",
       "  <thead>\n",
       "    <tr style=\"text-align: right;\">\n",
       "      <th></th>\n",
       "      <th>names</th>\n",
       "      <th>coef</th>\n",
       "      <th>se</th>\n",
       "      <th>T</th>\n",
       "      <th>pval</th>\n",
       "      <th>r2</th>\n",
       "      <th>adj_r2</th>\n",
       "      <th>CI[2.5%]</th>\n",
       "      <th>CI[97.5%]</th>\n",
       "    </tr>\n",
       "  </thead>\n",
       "  <tbody>\n",
       "    <tr>\n",
       "      <th>0</th>\n",
       "      <td>Intercept</td>\n",
       "      <td>125.96</td>\n",
       "      <td>3.02</td>\n",
       "      <td>41.76</td>\n",
       "      <td>0.0</td>\n",
       "      <td>0.82</td>\n",
       "      <td>0.81</td>\n",
       "      <td>119.97</td>\n",
       "      <td>131.94</td>\n",
       "    </tr>\n",
       "    <tr>\n",
       "      <th>1</th>\n",
       "      <td>dan_sleep</td>\n",
       "      <td>-8.94</td>\n",
       "      <td>0.43</td>\n",
       "      <td>-20.85</td>\n",
       "      <td>0.0</td>\n",
       "      <td>0.82</td>\n",
       "      <td>0.81</td>\n",
       "      <td>-9.79</td>\n",
       "      <td>-8.09</td>\n",
       "    </tr>\n",
       "  </tbody>\n",
       "</table>\n",
       "</div>"
      ],
      "text/plain": [
       "       names    coef    se      T  pval    r2  adj_r2  CI[2.5%]  CI[97.5%]\n",
       "0  Intercept  125.96  3.02  41.76   0.0  0.82    0.81    119.97     131.94\n",
       "1  dan_sleep   -8.94  0.43 -20.85   0.0  0.82    0.81     -9.79      -8.09"
      ]
     },
     "execution_count": 26,
     "metadata": {},
     "output_type": "execute_result"
    }
   ],
   "source": [
    "X = df['dan_sleep'] # the predictor\n",
    "Y = df['dan_grump'] # the outcome\n",
    "mod1 = pg.linear_regression(X, Y)\n",
    "mod1.round(2)"
   ]
  },
  {
   "attachments": {},
   "cell_type": "markdown",
   "id": "e0987de1",
   "metadata": {},
   "source": [
    "The important thing to note here is the $t$ test associated with the predictor, in which we get a result of $t(98) = -20.85$, $p<.001$. Now let's compare this to the output of the `corr` function from `pinguoin`, which runs a hypothesis test to see if the observed correlation between two variables is significantly different from 0. "
   ]
  },
  {
   "cell_type": "code",
   "execution_count": 27,
   "id": "77497fa4",
   "metadata": {},
   "outputs": [
    {
     "data": {
      "text/html": [
       "<div>\n",
       "<style scoped>\n",
       "    .dataframe tbody tr th:only-of-type {\n",
       "        vertical-align: middle;\n",
       "    }\n",
       "\n",
       "    .dataframe tbody tr th {\n",
       "        vertical-align: top;\n",
       "    }\n",
       "\n",
       "    .dataframe thead th {\n",
       "        text-align: right;\n",
       "    }\n",
       "</style>\n",
       "<table border=\"1\" class=\"dataframe\">\n",
       "  <thead>\n",
       "    <tr style=\"text-align: right;\">\n",
       "      <th></th>\n",
       "      <th>n</th>\n",
       "      <th>r</th>\n",
       "      <th>CI95%</th>\n",
       "      <th>p-val</th>\n",
       "      <th>BF10</th>\n",
       "      <th>power</th>\n",
       "    </tr>\n",
       "  </thead>\n",
       "  <tbody>\n",
       "    <tr>\n",
       "      <th>pearson</th>\n",
       "      <td>100</td>\n",
       "      <td>-0.903384</td>\n",
       "      <td>[-0.93, -0.86]</td>\n",
       "      <td>8.176426e-38</td>\n",
       "      <td>2.591e+34</td>\n",
       "      <td>1.0</td>\n",
       "    </tr>\n",
       "  </tbody>\n",
       "</table>\n",
       "</div>"
      ],
      "text/plain": [
       "           n         r           CI95%         p-val       BF10  power\n",
       "pearson  100 -0.903384  [-0.93, -0.86]  8.176426e-38  2.591e+34    1.0"
      ]
     },
     "execution_count": 27,
     "metadata": {},
     "output_type": "execute_result"
    }
   ],
   "source": [
    "pg.corr(X,Y)"
   ]
  },
  {
   "attachments": {},
   "cell_type": "markdown",
   "id": "466ae212",
   "metadata": {},
   "source": [
    "Now, just like the $F$-test from earlier, `pingouin` unfortunately doesn't calculate a $t$-statistic for us automatically when running a correlation. But the formula for the $t$-statistic of a Pearson correlation is just\n",
    "\n",
    "\n",
    "$$\n",
    "t = r\\sqrt{\\frac{n-2}{1-r^2}}\n",
    "$$\n",
    "\n",
    "so, with the output from `pg.corr(X,Y)` above, it's not too difficult to find $t$:"
   ]
  },
  {
   "cell_type": "code",
   "execution_count": 28,
   "id": "d4567e48",
   "metadata": {},
   "outputs": [
    {
     "data": {
      "text/plain": [
       "-20.85439996017091"
      ]
     },
     "execution_count": 28,
     "metadata": {},
     "output_type": "execute_result"
    }
   ],
   "source": [
    "from math import sqrt\n",
    "\n",
    "t = -0.903384*sqrt((100-2) / (1-(-0.903384)**2))\n",
    "t"
   ]
  },
  {
   "attachments": {},
   "cell_type": "markdown",
   "id": "cd2e26bc",
   "metadata": {},
   "source": [
    "Look familiar? -20.85 was the same $t$-value that we got when we ran the regression model. That's because the test for the significance of a correlation is identical to the $t$ test that we run on a coefficient in a regression model. "
   ]
  },
  {
   "attachments": {},
   "cell_type": "markdown",
   "id": "319fae53",
   "metadata": {},
   "source": [
    "(corrhyp2)=\n",
    "### Hypothesis tests for all pairwise correlations\n",
    "\n",
    "Okay, one more digression before I return to regression properly. In the previous section I talked about you can run a hypothesis test on a single correlation. But we aren't restricted to computing a single correlation: you can compute *all* pairwise correlations among the variables in your data set. This leads people to the natural question: can we also run hypothesis tests on all of the pairwise correlations in our data using `pg.corr`?\n",
    "\n",
    "The answer is no, and there's a very good reason for this. Testing a single correlation is fine: if you've got some reason to be asking \"is A related to B?\", then you should absolutely run a test to see if there's a significant correlation. But if you've got variables A, B, C, D and E and you're thinking about testing the correlations among all possible pairs of these, a statistician would want to ask: what's your hypothesis? If you're in the position of wanting to test all possible pairs of variables, then you're pretty clearly on a fishing expedition, hunting around in search of significant effects when you don't actually have a clear research hypothesis in mind. This is *dangerous*, and perhaps the authors of the `corr` function didn't want to endorse this sort of behavior. `corr` does have the nice feature that you can call it as an attribute of your dataframe, so for our parenthood data, if we want to see all the parwise correlations in the data, you can simply write"
   ]
  },
  {
   "cell_type": "code",
   "execution_count": 29,
   "id": "03a9c5b8",
   "metadata": {},
   "outputs": [
    {
     "data": {
      "text/html": [
       "<div>\n",
       "<style scoped>\n",
       "    .dataframe tbody tr th:only-of-type {\n",
       "        vertical-align: middle;\n",
       "    }\n",
       "\n",
       "    .dataframe tbody tr th {\n",
       "        vertical-align: top;\n",
       "    }\n",
       "\n",
       "    .dataframe thead th {\n",
       "        text-align: right;\n",
       "    }\n",
       "</style>\n",
       "<table border=\"1\" class=\"dataframe\">\n",
       "  <thead>\n",
       "    <tr style=\"text-align: right;\">\n",
       "      <th></th>\n",
       "      <th>dan_sleep</th>\n",
       "      <th>baby_sleep</th>\n",
       "      <th>dan_grump</th>\n",
       "      <th>day</th>\n",
       "    </tr>\n",
       "  </thead>\n",
       "  <tbody>\n",
       "    <tr>\n",
       "      <th>dan_sleep</th>\n",
       "      <td>1.000000</td>\n",
       "      <td>0.627949</td>\n",
       "      <td>-0.903384</td>\n",
       "      <td>-0.098408</td>\n",
       "    </tr>\n",
       "    <tr>\n",
       "      <th>baby_sleep</th>\n",
       "      <td>0.627949</td>\n",
       "      <td>1.000000</td>\n",
       "      <td>-0.565964</td>\n",
       "      <td>-0.010434</td>\n",
       "    </tr>\n",
       "    <tr>\n",
       "      <th>dan_grump</th>\n",
       "      <td>-0.903384</td>\n",
       "      <td>-0.565964</td>\n",
       "      <td>1.000000</td>\n",
       "      <td>0.076479</td>\n",
       "    </tr>\n",
       "    <tr>\n",
       "      <th>day</th>\n",
       "      <td>-0.098408</td>\n",
       "      <td>-0.010434</td>\n",
       "      <td>0.076479</td>\n",
       "      <td>1.000000</td>\n",
       "    </tr>\n",
       "  </tbody>\n",
       "</table>\n",
       "</div>"
      ],
      "text/plain": [
       "            dan_sleep  baby_sleep  dan_grump       day\n",
       "dan_sleep    1.000000    0.627949  -0.903384 -0.098408\n",
       "baby_sleep   0.627949    1.000000  -0.565964 -0.010434\n",
       "dan_grump   -0.903384   -0.565964   1.000000  0.076479\n",
       "day         -0.098408   -0.010434   0.076479  1.000000"
      ]
     },
     "execution_count": 29,
     "metadata": {},
     "output_type": "execute_result"
    }
   ],
   "source": [
    "df.corr()"
   ]
  },
  {
   "attachments": {},
   "cell_type": "markdown",
   "id": "06550355",
   "metadata": {},
   "source": [
    "and you get a nice correlation matrix, but no p-values.\n",
    "\n",
    "On the other hand... a somewhat less hardline view might be to argue we've encountered this situation before, back when we talked about *post hoc tests* in ANOVA. When running post hoc tests, we didn't have any specific comparisons in mind, so what we did was apply a correction (e.g., Bonferroni, Holm, etc) in order to avoid the possibility of an inflated Type I error rate. From this perspective, it's okay to run hypothesis tests on all your pairwise correlations, but you must treat them as post hoc analyses, and if so you need to apply a correction for multiple comparisons. `rcorr`, also from `pingouin`, lets you do this. You can use the `padjust` argument to specify what kind of correction you would like to apply; here I have chosen a Bonferroni correction:"
   ]
  },
  {
   "cell_type": "code",
   "execution_count": 30,
   "id": "c1d4b47d",
   "metadata": {},
   "outputs": [
    {
     "data": {
      "text/html": [
       "<div>\n",
       "<style scoped>\n",
       "    .dataframe tbody tr th:only-of-type {\n",
       "        vertical-align: middle;\n",
       "    }\n",
       "\n",
       "    .dataframe tbody tr th {\n",
       "        vertical-align: top;\n",
       "    }\n",
       "\n",
       "    .dataframe thead th {\n",
       "        text-align: right;\n",
       "    }\n",
       "</style>\n",
       "<table border=\"1\" class=\"dataframe\">\n",
       "  <thead>\n",
       "    <tr style=\"text-align: right;\">\n",
       "      <th></th>\n",
       "      <th>dan_sleep</th>\n",
       "      <th>baby_sleep</th>\n",
       "      <th>dan_grump</th>\n",
       "      <th>day</th>\n",
       "    </tr>\n",
       "  </thead>\n",
       "  <tbody>\n",
       "    <tr>\n",
       "      <th>dan_sleep</th>\n",
       "      <td>-</td>\n",
       "      <td>***</td>\n",
       "      <td>***</td>\n",
       "      <td></td>\n",
       "    </tr>\n",
       "    <tr>\n",
       "      <th>baby_sleep</th>\n",
       "      <td>0.628</td>\n",
       "      <td>-</td>\n",
       "      <td>***</td>\n",
       "      <td></td>\n",
       "    </tr>\n",
       "    <tr>\n",
       "      <th>dan_grump</th>\n",
       "      <td>-0.903</td>\n",
       "      <td>-0.566</td>\n",
       "      <td>-</td>\n",
       "      <td></td>\n",
       "    </tr>\n",
       "    <tr>\n",
       "      <th>day</th>\n",
       "      <td>-0.098</td>\n",
       "      <td>-0.01</td>\n",
       "      <td>0.076</td>\n",
       "      <td>-</td>\n",
       "    </tr>\n",
       "  </tbody>\n",
       "</table>\n",
       "</div>"
      ],
      "text/plain": [
       "           dan_sleep baby_sleep dan_grump day\n",
       "dan_sleep          -        ***       ***    \n",
       "baby_sleep     0.628          -       ***    \n",
       "dan_grump     -0.903     -0.566         -    \n",
       "day           -0.098      -0.01     0.076   -"
      ]
     },
     "execution_count": 30,
     "metadata": {},
     "output_type": "execute_result"
    }
   ],
   "source": [
    "df.rcorr(padjust = 'bonf')"
   ]
  },
  {
   "attachments": {},
   "cell_type": "markdown",
   "id": "7e7bcec5",
   "metadata": {},
   "source": [
    "The little stars indicate the \"significance level\": one star for $p<0.05$, two stars for $p<0.01$, and three stars for $p<0.001$.\n",
    "\n",
    "So there you have it. If you really desperately want to do pairwise hypothesis tests on your correlations, the `rcorr` function will let you do it. But please, **please** be careful. I can't count the number of times I've had a student panicking in my office because they've run these pairwise correlation tests, and they get one or two significant results that don't make any sense. For some reason, the moment people see those little significance stars appear, they feel compelled to throw away all common sense and assume that the results must correspond to something real that requires an explanation. In most such cases, my experience has been that the right answer is \"it's a Type I error\". Remember when we talked about the [family-wise error rate](fwer)? The more tests you do on the same data, the greater your chances of finding statistically significant results just by, uh, chance."
   ]
  },
  {
   "attachments": {},
   "cell_type": "markdown",
   "id": "1329623c",
   "metadata": {},
   "source": [
    "(regressioncoefs)=\n",
    "### Calculating standardised regression coefficients\n",
    "\n",
    "One more thing that you might want to do is to calculate \"standardised\" regression coefficients, often denoted $\\beta$. The rationale behind standardised coefficients goes like this. In a lot of situations, your variables are on fundamentally different scales. Suppose, for example, my regression model aims to predict people's IQ scores, using their educational attainment (number of years of education) and their income as predictors. Obviously, educational attainment and income are not on the same scales: the number of years of schooling can only vary by 10s of years, whereas income would vary by 10,000s of dollars (or more). The units of measurement have a big influence on the regression coefficients: the $b$ coefficients only make sense when interpreted in light of the units, both of the predictor variables and the outcome variable. This makes it very difficult to compare the coefficients of different predictors. Yet there are situations where you really do want to make comparisons between different coefficients. Specifically, you might want some kind of standard measure of which predictors have the strongest relationship to the outcome. This is what **_standardised coefficients_** aim to do. "
   ]
  },
  {
   "attachments": {},
   "cell_type": "markdown",
   "id": "ccd35c64",
   "metadata": {},
   "source": [
    "The basic idea is quite simple: the standardised coefficients are the coefficients that you would have obtained if you'd converted all the variables to [standard scores](zscores) $z$-scores before running the regression.[^noteregressors]  The idea here is that, by converting all the predictors to $z$-scores, they all go into the regression on the same scale, thereby removing the problem of having variables on different scales. Regardless of what the original variables were, a $\\beta$ value of 1 means that an increase in the predictor of 1 standard deviation will produce a corresponding 1 standard deviation increase in the outcome variable. Therefore, if variable A has a larger absolute value of $\\beta$ than variable B, it is deemed to have a stronger relationship with the outcome. Or at least that's the idea: it's worth being a little cautious here, since this does rely very heavily on the assumption that \"a 1 standard deviation change\" is fundamentally the same kind of thing for all variables. It's not always obvious that this is true. \n",
    "\n",
    "[^noteregressors]: Strictly, you standardise all the *regressors*: that is, every \"thing\" that has a regression coefficient associated with it in the model. For the regression models that I've talked about so far, each predictor variable maps onto exactly one regressor, and vice versa. However, that's not actually true in general: we'll see some examples of this when we learn about [factorial ANOVA](anova2). But for now, we don't need to care too much about this distinction."
   ]
  },
  {
   "attachments": {},
   "cell_type": "markdown",
   "id": "229e5c52",
   "metadata": {},
   "source": [
    "Still, let's give it a try on the `parenthood` data.\n",
    "\n"
   ]
  },
  {
   "cell_type": "code",
   "execution_count": 31,
   "id": "82d6568e",
   "metadata": {},
   "outputs": [
    {
     "data": {
      "text/html": [
       "<div>\n",
       "<style scoped>\n",
       "    .dataframe tbody tr th:only-of-type {\n",
       "        vertical-align: middle;\n",
       "    }\n",
       "\n",
       "    .dataframe tbody tr th {\n",
       "        vertical-align: top;\n",
       "    }\n",
       "\n",
       "    .dataframe thead th {\n",
       "        text-align: right;\n",
       "    }\n",
       "</style>\n",
       "<table border=\"1\" class=\"dataframe\">\n",
       "  <thead>\n",
       "    <tr style=\"text-align: right;\">\n",
       "      <th></th>\n",
       "      <th>names</th>\n",
       "      <th>coef</th>\n",
       "      <th>se</th>\n",
       "      <th>T</th>\n",
       "      <th>pval</th>\n",
       "      <th>r2</th>\n",
       "      <th>adj_r2</th>\n",
       "      <th>CI[2.5%]</th>\n",
       "      <th>CI[97.5%]</th>\n",
       "    </tr>\n",
       "  </thead>\n",
       "  <tbody>\n",
       "    <tr>\n",
       "      <th>0</th>\n",
       "      <td>Intercept</td>\n",
       "      <td>-0.0000</td>\n",
       "      <td>0.0435</td>\n",
       "      <td>-0.0000</td>\n",
       "      <td>1.0000</td>\n",
       "      <td>0.8161</td>\n",
       "      <td>0.8123</td>\n",
       "      <td>-0.0864</td>\n",
       "      <td>0.0864</td>\n",
       "    </tr>\n",
       "    <tr>\n",
       "      <th>1</th>\n",
       "      <td>dan_sleep_standard</td>\n",
       "      <td>-0.9047</td>\n",
       "      <td>0.0559</td>\n",
       "      <td>-16.1715</td>\n",
       "      <td>0.0000</td>\n",
       "      <td>0.8161</td>\n",
       "      <td>0.8123</td>\n",
       "      <td>-1.0158</td>\n",
       "      <td>-0.7937</td>\n",
       "    </tr>\n",
       "    <tr>\n",
       "      <th>2</th>\n",
       "      <td>baby_sleep_standard</td>\n",
       "      <td>0.0022</td>\n",
       "      <td>0.0559</td>\n",
       "      <td>0.0388</td>\n",
       "      <td>0.9691</td>\n",
       "      <td>0.8161</td>\n",
       "      <td>0.8123</td>\n",
       "      <td>-0.1089</td>\n",
       "      <td>0.1132</td>\n",
       "    </tr>\n",
       "  </tbody>\n",
       "</table>\n",
       "</div>"
      ],
      "text/plain": [
       "                 names    coef      se        T    pval      r2  adj_r2  \\\n",
       "0            Intercept -0.0000  0.0435  -0.0000  1.0000  0.8161  0.8123   \n",
       "1   dan_sleep_standard -0.9047  0.0559 -16.1715  0.0000  0.8161  0.8123   \n",
       "2  baby_sleep_standard  0.0022  0.0559   0.0388  0.9691  0.8161  0.8123   \n",
       "\n",
       "   CI[2.5%]  CI[97.5%]  \n",
       "0   -0.0864     0.0864  \n",
       "1   -1.0158    -0.7937  \n",
       "2   -0.1089     0.1132  "
      ]
     },
     "execution_count": 31,
     "metadata": {},
     "output_type": "execute_result"
    }
   ],
   "source": [
    "from scipy import stats\n",
    "import pingouin as pg\n",
    "\n",
    "df['dan_sleep_standard'] = stats.zscore(df['dan_sleep'])\n",
    "df['baby_sleep_standard'] = stats.zscore(df['baby_sleep'])\n",
    "df['dan_grump'] = stats.zscore(df['dan_grump'])\n",
    "\n",
    "\n",
    "predictors = df[['dan_sleep_standard', 'baby_sleep_standard']]\n",
    "outcome = df['dan_grump']\n",
    "\n",
    "mod3 = pg.linear_regression(predictors, outcome)\n",
    "mod3.round(4)\n"
   ]
  },
  {
   "attachments": {},
   "cell_type": "markdown",
   "id": "63cc2cde",
   "metadata": {},
   "source": [
    "This clearly shows that the `dan_sleep` variable has a much stronger effect than the `baby_sleep` variable. However, this is a perfect example of a situation where it would probably make sense to use the original coefficients $b$ rather than the standardised coefficients $\\beta$. After all, my sleep and the baby's sleep are *already* on the same scale: number of hours slept. Why complicate matters by converting these to $z$-scores?"
   ]
  },
  {
   "attachments": {},
   "cell_type": "markdown",
   "id": "ab779f4e",
   "metadata": {},
   "source": [
    "(regressionassumptions)=\n",
    "\n",
    "## Assumptions of regression\n",
    "\n",
    "The linear regression model that I've been discussing relies on several assumptions. In the section on [regression diagnostics](regressiondiagnostics) we'll talk a lot more about how to check that these assumptions are being met, but first, let's have a look at each of them.\n",
    "\n",
    "\n",
    "- *Normality*. Like half the models in statistics, standard linear regression relies on an assumption of normality. Specifically, it assumes that the *residuals* are normally distributed. It's actually okay if the predictors $X$ and the outcome $Y$ are non-normal, so long as the residuals $\\epsilon$ are normal. See [](regressionnormality).\n",
    "- *Linearity*. A pretty fundamental assumption of the linear regression model is that relationship between $X$ and $Y$ actually be linear! Regardless of whether it's a simple regression or a multiple regression, we assume that the relatiships involved are linear. See [](regressionlinearity).\n",
    "- *Homogeneity of variance*. Strictly speaking, the regression model assumes that each residual $\\epsilon_i$ is generated from a normal distribution with mean 0, and (more importantly for the current purposes) with a standard deviation $\\sigma$ that is the same for every single residual. In practice, it's impossible to test the assumption that every residual is identically distributed. Instead, what we care about is that the standard deviation of the residual is the same for all values of $\\hat{Y}$, and (if we're being especially paranoid) all values of every predictor $X$ in the model. See [](regressionhomogeneity).\n",
    "- *Uncorrelated predictors*. The idea here is that, is a multiple regression model, you don't want your predictors to be too strongly correlated with each other. This isn't  \"technically\" an assumption of the regression model, but in practice it's required. Predictors that are too strongly correlated with each other (referred to as \"collinearity\") can cause problems when evaluating the model. See [](regressioncollinearity)\n",
    "- *Residuals are independent of each other*. This is really just a \"catch all\" assumption, to the effect that \"there's nothing else funny going on in the residuals\". If there is something weird (e.g., the residuals all depend heavily on some other unmeasured variable) going on, it might screw things up.\n",
    "- *No \"bad\" outliers*. Again, not actually a technical assumption of the model (or rather, it's sort of implied by all the others), but there is an implicit assumption that your regression model isn't being too strongly influenced by one or two anomalous data points; since this raises questions about the adequacy of the model, and the trustworthiness of the data in some cases. See [](regressionoutliers).\n",
    "\n"
   ]
  },
  {
   "attachments": {},
   "cell_type": "markdown",
   "id": "00528a88",
   "metadata": {},
   "source": [
    "(regressiondiagnostics)=\n",
    "## Model checking\n",
    "\n",
    "The main focus of this section is **_regression diagnostics_**, a term that refers to the art of checking that the assumptions of your regression model have been met, figuring out how to fix the model if the assumptions are violated, and generally to check that nothing \"funny\" is going on. I refer to this as the \"art\" of model checking with good reason: it's not easy, and while there are a lot of fairly standardised tools that you can use to diagnose and maybe even cure the problems that ail your model (if there are any, that is!), you really do need to exercise a certain amount of judgment when doing this. It's easy to get lost in all the details of checking this thing or that thing, and it's quite exhausting to try to remember what all the different things are. This has the very nasty side effect that a lot of people get frustrated when trying to learn *all* the tools, so instead they decide not to do *any* model checking. This is a bit of a worry! \n",
    "\n",
    "In this section, I describe several different things you can do to check that your regression model is doing what it's supposed to. It doesn't cover the full range of things you could do, but it's still much more detailed than what I see a lot of people doing in practice; and I don't usually cover all of this in my intro stats class myself. However, I do think it's important that you get a sense of what tools are at your disposal, so I'll try to introduce a bunch of them here. \n",
    "\n",
    "\n",
    "### Three kinds of residuals\n",
    "\n",
    "The majority of regression diagnostics revolve around looking at the residuals, and by now you've probably formed a sufficiently pessimistic theory of statistics to be able to guess that -- precisely *because* of the fact that we care a lot about the residuals -- there are several different kinds of  residual that we might consider. In particular, the following three kinds of residual are referred to in this section: \"ordinary residuals\", \"standardised residuals\", and \"Studentised residuals\". There is a fourth kind that you'll see referred to in some of the figures, and that's the \"Pearson residual\": however, for the models that we're talking about in this chapter, the Pearson residual is identical to the ordinary residual. \n",
    "\n",
    "The first and simplest kind of residuals that we care about are **_ordinary residuals_**. These are the actual, raw residuals that I've been talking about throughout this chapter. The ordinary residual is just the difference between the fitted value $\\hat{Y}_i$ and the observed value $Y_i$. I've been using the notation $\\epsilon_i$ to refer to the $i$-th ordinary residual, and by gum I'm going to stick to it. With this in mind, we have the very simple equation\n",
    "\n",
    "$$\n",
    "\\epsilon_i = Y_i - \\hat{Y}_i\n",
    "$$"
   ]
  },
  {
   "attachments": {},
   "cell_type": "markdown",
   "id": "42eb1e52",
   "metadata": {},
   "source": [
    "This is of course what we saw earlier, and unless I specifically refer to some other kind of residual, this is the one I'm talking about. So there's nothing new here: I just wanted to repeat myself. In any case, if you have run your regression model using `pingouin`, you can access the residuals from your model (in our case, our `mod2`)like this:"
   ]
  },
  {
   "cell_type": "code",
   "execution_count": 32,
   "id": "3742285c",
   "metadata": {},
   "outputs": [],
   "source": [
    "res = mod2.residuals_"
   ]
  },
  {
   "attachments": {},
   "cell_type": "markdown",
   "id": "7a19efa9",
   "metadata": {},
   "source": [
    "One drawback to using ordinary residuals is that they're always on a different scale, depending on what the outcome variable is and how good the regression model is. That is, unless you've decided to run a regression model without an intercept term, the ordinary residuals will have mean 0; but the variance is different for every regression. In a lot of contexts, especially where you're only interested in the *pattern* of the residuals and not their actual values, it's convenient to estimate the **_standardised residuals_**, which are normalised in such a way as to have standard deviation 1. The way we calculate these is to divide the ordinary residual by an estimate of the (population) standard deviation of these residuals. For technical reasons, mumble mumble, the formula for this is:\n",
    "\n",
    "$$\n",
    "\\epsilon_{i}^\\prime = \\frac{\\epsilon_i}{\\hat{\\sigma} \\sqrt{1-h_i}}\n",
    "$$"
   ]
  },
  {
   "attachments": {},
   "cell_type": "markdown",
   "id": "efea5e30",
   "metadata": {},
   "source": [
    "where $\\hat\\sigma$ in this context is the estimated population standard deviation of the ordinary residuals, and $h_i$ is the \"hat value\" of the $i$th observation. I haven't explained hat values to you yet (but have no fear,[^notehope] it's coming shortly), so this won't make a lot of sense. For now, it's enough to interpret the standardised residuals as if we'd converted the ordinary residuals to $z$-scores. In fact, that is more or less the truth, it's just that we're being a bit fancier. Now, unfortunately, `pingouin` does not provide standardized residuals, so if we want to inspect these, the best option is probably `statsmodels`:\n",
    "\n",
    "[^notehope]: Or have no hope, as the case may be."
   ]
  },
  {
   "cell_type": "code",
   "execution_count": 33,
   "id": "930915eb",
   "metadata": {},
   "outputs": [],
   "source": [
    "import statsmodels.api as sm\n",
    "\n",
    "predictors = df[['dan_sleep', 'baby_sleep']]\n",
    "outcome = df['dan_grump']\n",
    "\n",
    "## fit regression model\n",
    "predictors = sm.add_constant(predictors)\n",
    "mod = sm.OLS(outcome, predictors)\n",
    "est = mod.fit()\n",
    "\n",
    "#obtain standardized residuals\n",
    "influence = est.get_influence()\n",
    "res_standard = influence.resid_studentized_internal\n"
   ]
  },
  {
   "attachments": {},
   "cell_type": "markdown",
   "id": "d8724979",
   "metadata": {},
   "source": [
    "\n",
    "The third kind of residuals are **_Studentised residuals_** (also called \"jackknifed residuals\") and they're even fancier than standardised residuals. Again, the idea is to take the ordinary residual and divide it by some quantity in order to estimate some standardised notion of the residual, but the formula for doing the calculations this time is subtly different:\n",
    "\n",
    "$$\n",
    "\\epsilon_{i}^* = \\frac{\\epsilon_i}{\\hat{\\sigma}_{(-i)} \\sqrt{1-h_i}}\n",
    "$$"
   ]
  },
  {
   "attachments": {},
   "cell_type": "markdown",
   "id": "cb00bfc5",
   "metadata": {},
   "source": [
    "Notice that our estimate of the standard deviation here is written $\\hat{\\sigma}_{(-i)}$. What this corresponds to is the estimate of the residual standard deviation that you *would have obtained*, if you just deleted the $i$th observation from the data set. This sounds like the sort of thing that would be a nightmare to calculate, since it seems to be saying that you have to run $N$ new regression models (even a modern computer might grumble a bit at that, especially if you've got a large data set). Fortunately, some terribly clever person has shown that this standard deviation estimate is actually given by the following equation:\n",
    "\n",
    "$$\n",
    "\\hat\\sigma_{(-i)} = \\hat{\\sigma} \\ \\sqrt{\\frac{N-K-1 - {\\epsilon_{i}^\\prime}^2}{N-K-2}}\n",
    "$$\n",
    "\n",
    "Isn't that a pip?\n",
    "\n",
    "If you ever need to calculate studentised residuals yourself, this is also possible using `statsmodels`. Since we have already used `statmodels` to estimate our model above, when we calculated the standardized residuals, we can just re-use our model estimate `est` from before, and the first column of the resulting dataframe gives us our studentized residuals:"
   ]
  },
  {
   "cell_type": "code",
   "execution_count": 34,
   "id": "e1e357d9",
   "metadata": {},
   "outputs": [
    {
     "data": {
      "text/html": [
       "<div>\n",
       "<style scoped>\n",
       "    .dataframe tbody tr th:only-of-type {\n",
       "        vertical-align: middle;\n",
       "    }\n",
       "\n",
       "    .dataframe tbody tr th {\n",
       "        vertical-align: top;\n",
       "    }\n",
       "\n",
       "    .dataframe thead th {\n",
       "        text-align: right;\n",
       "    }\n",
       "</style>\n",
       "<table border=\"1\" class=\"dataframe\">\n",
       "  <thead>\n",
       "    <tr style=\"text-align: right;\">\n",
       "      <th></th>\n",
       "      <th>student_resid</th>\n",
       "      <th>unadj_p</th>\n",
       "      <th>bonf(p)</th>\n",
       "    </tr>\n",
       "  </thead>\n",
       "  <tbody>\n",
       "    <tr>\n",
       "      <th>0</th>\n",
       "      <td>-0.494821</td>\n",
       "      <td>0.621857</td>\n",
       "      <td>1.0</td>\n",
       "    </tr>\n",
       "    <tr>\n",
       "      <th>1</th>\n",
       "      <td>1.105570</td>\n",
       "      <td>0.271676</td>\n",
       "      <td>1.0</td>\n",
       "    </tr>\n",
       "    <tr>\n",
       "      <th>2</th>\n",
       "      <td>0.461729</td>\n",
       "      <td>0.645321</td>\n",
       "      <td>1.0</td>\n",
       "    </tr>\n",
       "    <tr>\n",
       "      <th>3</th>\n",
       "      <td>-0.475346</td>\n",
       "      <td>0.635620</td>\n",
       "      <td>1.0</td>\n",
       "    </tr>\n",
       "    <tr>\n",
       "      <th>4</th>\n",
       "      <td>0.166721</td>\n",
       "      <td>0.867940</td>\n",
       "      <td>1.0</td>\n",
       "    </tr>\n",
       "  </tbody>\n",
       "</table>\n",
       "</div>"
      ],
      "text/plain": [
       "   student_resid   unadj_p  bonf(p)\n",
       "0      -0.494821  0.621857      1.0\n",
       "1       1.105570  0.271676      1.0\n",
       "2       0.461729  0.645321      1.0\n",
       "3      -0.475346  0.635620      1.0\n",
       "4       0.166721  0.867940      1.0"
      ]
     },
     "execution_count": 34,
     "metadata": {},
     "output_type": "execute_result"
    }
   ],
   "source": [
    "stud_res = est.outlier_test()\n",
    "stud_res.head()"
   ]
  },
  {
   "attachments": {},
   "cell_type": "markdown",
   "id": "fde761fe",
   "metadata": {},
   "source": [
    "Before moving on, I should point out that you don't often need to manually extract these residuals yourself, even though they are at the heart of almost all regression diagnostics. Most of the time the various functions that run the diagnostics will take care of these calculations for you."
   ]
  },
  {
   "attachments": {},
   "cell_type": "markdown",
   "id": "183d7642",
   "metadata": {},
   "source": [
    "(regressionoutliers)=\n",
    "\n",
    "### Three kinds of anomalous data\n",
    "One danger that you can run into with linear regression models is that your analysis might be disproportionately sensitive to a smallish number of \"unusual\" or \"anomalous\" observations. In the context of linear regression, there are three conceptually distinct ways in which an observation might be called \"anomalous\". All three are interesting, but they have rather different implications for your analysis.\n",
    "\n",
    "The first kind of unusual observation is an **_outlier_**. The definition of an outlier (in this context) is an observation that is very different from what the regression model predicts. An example is shown in {numref}`fig-outlier`. In practice, we operationalise this concept by saying that an outlier is an observation that has a very large Studentised residual, $\\epsilon_i^*$. Outliers are interesting: a big outlier *might* correspond to junk data -- e.g., the variables might have been entered incorrectly, or some other defect may be detectable. Note that you shouldn't throw an observation away just because it's an outlier. But the fact that it's an outlier is often a cue to look more closely at that case, and try to find out why it's so different."
   ]
  },
  {
   "cell_type": "code",
   "execution_count": 35,
   "id": "dcc141dc",
   "metadata": {
    "tags": [
     "hide-input"
    ]
   },
   "outputs": [],
   "source": [
    "import numpy as np\n",
    "import matplotlib.pyplot as plt\n",
    "from scipy.optimize import curve_fit\n",
    "import pandas as pd\n",
    "import seaborn as sns\n",
    "\n",
    "\n",
    "df = pd.DataFrame(\n",
    "    {'x': [1, 1.3, 1.8, 1.9, 2.4, 2.3, 2.4, 2.6, 2.8, 3.6, 4],\n",
    "     'y': [1.5, 1.4, 1.9, 1.7, 2.3, 2.1, 2.6, 2.8, 2.4, 2.6, 2.8],\n",
    "     'y2': [1.5, 1.4, 1.9, 1.7, 4, 2.1, 2.6, 2.8, 2.4, 2.6, 2.8]\n",
    "    })\n",
    "\n",
    "\n",
    "\n",
    "# fit linear regression model and save parameters\n",
    "def func(x, a, b):\n",
    "    return a * x + b\n",
    "\n",
    "initialParameters = np.array([1.0, 1.0])\n",
    "\n",
    "fittedParameters, pcov = curve_fit(func, df['x'], df['y'], initialParameters)\n",
    "\n",
    "modelPredictions = func(df['x'], *fittedParameters) \n",
    "\n",
    "xModel = np.linspace(min(df['x']), max(df['x']))\n",
    "yModel = func(xModel, *fittedParameters)\n",
    "\n",
    "\n",
    "# plot data\n",
    "fig = plt.figure() \n",
    "ax = fig.add_subplot()\n",
    "\n",
    "\n",
    "sns.scatterplot(data = df, x='x', y='y')\n",
    "\n",
    "# add regression line\n",
    "ax.plot(xModel, yModel)\n",
    "\n",
    "\n",
    "initialParameters = np.array([1.0, 1.0])\n",
    "\n",
    "fittedParameters, pcov = curve_fit(func, df['x'], df['y2'], initialParameters)\n",
    "\n",
    "modelPredictions = func(df['x'], *fittedParameters) \n",
    "\n",
    "xModel = np.linspace(min(df['x']), max(df['x']))\n",
    "yModel = func(xModel, *fittedParameters)\n",
    "\n",
    "ax.plot(xModel, yModel)\n",
    "ax.plot(2.4, 4, 'ro')\n",
    "ax.plot([2.4, 2.4], [2.4 ,4], linestyle='dashed')\n",
    "ax.grid(False)\n",
    "\n",
    "sns.despine()\n",
    "plt.close()\n",
    "glue(\"outlier-fig\", fig, display=False)"
   ]
  },
  {
   "attachments": {},
   "cell_type": "markdown",
   "id": "358631a1",
   "metadata": {},
   "source": [
    " ```{glue:figure} outlier-fig\n",
    ":figwidth: 600px\n",
    ":name: fig-outlier\n",
    "\n",
    "An illustration of outliers. The orange line plots the regression line estimated when the anomalous (red) data point is included, and the dotted line shows the residual for the outlier. The blue line shows the regression line that would have been estimated without the anomalous observation included. The outlier has an unusual value on the outcome (y axis location) but not the predictor (x axis location), and lies a long way from the regression line.\n",
    "\n",
    "```"
   ]
  },
  {
   "attachments": {},
   "cell_type": "markdown",
   "id": "c72b4d9e",
   "metadata": {},
   "source": [
    "The second way in which an observation can be unusual is if it has high **_leverage_**: this happens when the observation is very different from all the other observations. This doesn't necessarily have to correspond to a large residual: if the observation happens to be unusual on all variables in precisely the same way, it can actually lie very close to the regression line. An example of this is shown in panel A of {numref}`fig-leverage-influence`. The leverage of an observation is operationalised in terms of its *hat value*, usually written $h_i$. The formula for the hat value is rather complicated[^notehatmatrix] but its interpretation is not: $h_i$ is a measure of the extent to which the $i$-th observation is \"in control\" of where the regression line ends up going. We won't bother extracting the hat values here, but if you want to do this, you can use the `get_influence` method from the `statsmodels.api` package to inspect the relative influence of data points. For now, it is enough to get an intuitive, visual idea of what leverage can mean.\n",
    "\n",
    "[^notehatmatrix]: Again, for the linear algebra fanatics: the \"hat matrix\" is defined to be that matrix $H$ that converts the vector of observed values $y$ into a vector of fitted values $\\hat{y}$, such that $\\hat{y} = H y$. The name comes from the fact that this is the matrix that \"puts a hat on $y$\". The  hat *value* of the $i$-th observation is the $i$-th diagonal element of this matrix (so technically I should be writing it as $h_{ii}$ rather than $h_{i}$). Oh, and in case you care, here's how it's calculated: $H = X(X^TX)^{-1} X^T$. Pretty, isn't it?"
   ]
  },
  {
   "cell_type": "code",
   "execution_count": 36,
   "id": "ee9dcdf5",
   "metadata": {
    "tags": [
     "hide-input"
    ]
   },
   "outputs": [],
   "source": [
    "import numpy as np\n",
    "import matplotlib.pyplot as plt\n",
    "from scipy.optimize import curve_fit\n",
    "import pandas as pd\n",
    "import seaborn as sns\n",
    "import string\n",
    "\n",
    "fig, axes = plt.subplots(1, 2, figsize=(10, 5), sharey=True)\n",
    "\n",
    "df = pd.DataFrame(\n",
    "    {'x': [1, 1.3, 1.8, 1.9, 2.4, 2.3, 2.4, 2.6, 2.8, 3.6, 4, 8],\n",
    "     'y': [1.5, 1.4, 1.9, 1.7, 2.3, 2.1, 2.6, 2.8, 2.4, 2.6, 2.8, 7.8],\n",
    "     'y2': [1.5, 1.4, 1.9, 1.7, 4, 2.1, 2.6, 2.8, 2.4, 2.6, 2.8, 7.4]\n",
    "    })\n",
    "\n",
    "\n",
    "\n",
    "# fit linear regression model and save parameters\n",
    "def func(x, a, b):\n",
    "    return a * x + b\n",
    "\n",
    "initialParameters = np.array([1.0, 1.0])\n",
    "\n",
    "fittedParameters, pcov = curve_fit(func, df['x'], df['y'], initialParameters)\n",
    "\n",
    "modelPredictions = func(df['x'], *fittedParameters) \n",
    "\n",
    "xModel = np.linspace(min(df['x']), max(df['x']))\n",
    "yModel = func(xModel, *fittedParameters)\n",
    "\n",
    "\n",
    "\n",
    "sns.scatterplot(data = df, x='x', y='y', ax = axes[0])\n",
    "\n",
    "# add regression line\n",
    "axes[0].plot(xModel, yModel)\n",
    "\n",
    "\n",
    "initialParameters = np.array([1.0, 1.0])\n",
    "\n",
    "fittedParameters, pcov = curve_fit(func, df['x'], df['y2'], initialParameters)\n",
    "\n",
    "modelPredictions = func(df['x'], *fittedParameters) \n",
    "\n",
    "xModel = np.linspace(min(df['x']), max(df['x']))\n",
    "yModel = func(xModel, *fittedParameters)\n",
    "\n",
    "axes[0].plot(xModel, yModel)\n",
    "axes[0].plot(8, 7.4, 'ro')\n",
    "axes[0].plot([8, 8], [7.4 ,7.6], linestyle='dashed')\n",
    "axes[0].grid(False)\n",
    "\n",
    "# Plot 2\n",
    "\n",
    "df = pd.DataFrame(\n",
    "    {'x': [1, 1.3, 1.8, 1.9, 2.4, 2.3, 2.4, 2.6, 2.8, 3.6, 4, 8],\n",
    "     'y': [1.5, 1.4, 1.9, 1.7, 2.3, 2.1, 2.6, 2.8, 2.4, 2.6, 2.8, 7.8],\n",
    "     'y2': [1.5, 1.4, 1.9, 1.7, 4, 2.1, 2.6, 2.8, 2.4, 2.6, 2.8, 5]\n",
    "    })\n",
    "\n",
    "\n",
    "\n",
    "# fit linear regression model and save parameters\n",
    "def func(x, a, b):\n",
    "    return a * x + b\n",
    "\n",
    "initialParameters = np.array([1.0, 1.0])\n",
    "\n",
    "fittedParameters, pcov = curve_fit(func, df['x'], df['y'], initialParameters)\n",
    "\n",
    "modelPredictions = func(df['x'], *fittedParameters) \n",
    "\n",
    "xModel = np.linspace(min(df['x']), max(df['x']))\n",
    "yModel = func(xModel, *fittedParameters)\n",
    "\n",
    "\n",
    "\n",
    "\n",
    "sns.scatterplot(data = df, x='x', y='y', ax = axes[1])\n",
    "\n",
    "# add regression line\n",
    "axes[1].plot(xModel, yModel)\n",
    "\n",
    "\n",
    "initialParameters = np.array([1.0, 1.0])\n",
    "\n",
    "fittedParameters, pcov = curve_fit(func, df['x'], df['y2'], initialParameters)\n",
    "\n",
    "modelPredictions = func(df['x'], *fittedParameters) \n",
    "\n",
    "xModel = np.linspace(min(df['x']), max(df['x']))\n",
    "yModel = func(xModel, *fittedParameters)\n",
    "\n",
    "axes[1].plot(xModel, yModel)\n",
    "axes[1].plot(8, 5, 'ro')\n",
    "axes[1].plot([8, 8], [5 ,7.3], linestyle='dashed')\n",
    "axes[1].grid(False)\n",
    "\n",
    "\n",
    "for n, ax in enumerate(axes):   \n",
    "    ax.text(-0.1, 1.1, string.ascii_uppercase[n], transform=ax.transAxes, \n",
    "            size=20)\n",
    "\n",
    "\n",
    "sns.despine()\n",
    "plt.close()\n",
    "glue(\"leverage-influence-fig\", fig, display=False)"
   ]
  },
  {
   "attachments": {},
   "cell_type": "markdown",
   "id": "c279c3e6",
   "metadata": {},
   "source": [
    " ```{glue:figure} leverage-influence-fig\n",
    ":figwidth: 600px\n",
    ":name: fig-leverage-influence\n",
    "\n",
    "Outliers showing high leverage points (panel A) and high influence points (panel B).\n",
    "\n",
    "```"
   ]
  },
  {
   "attachments": {},
   "cell_type": "markdown",
   "id": "f6587dc5",
   "metadata": {},
   "source": [
    "In general, if an observation lies far away from the other ones in terms of the predictor variables, it will have a large hat value (as a rough guide, high leverage is when the hat value is more than 2-3 times the average; and note that the sum of the hat values is constrained to be equal to $K+1$). High leverage points are also worth looking at in more detail, but they're much less likely to be a cause for concern unless they are also outliers.\n",
    "\n",
    "This brings us to our third measure of unusualness, the **_influence_** of an observation. A high influence observation is an outlier that has high leverage. That is, it is an observation that is very different to all the other ones in some respect, and also lies a long way from the regression line. This is illustrated in {numref}`fig-leverage-influence`, panel B. Notice the contrast to panel A, and to {numref}`fig-outlier`: outliers don't move the regression line much, and neither do high leverage points. But something that is an outlier and has high leverage... that has a big effect on the regression line."
   ]
  },
  {
   "attachments": {},
   "cell_type": "markdown",
   "id": "7c53757c",
   "metadata": {},
   "source": [
    "That's why we call these points high influence; and it's why they're the biggest worry. We operationalise influence in terms of a measure known as **_Cook's distance_**, \n",
    "\n",
    "$$\n",
    "D_i = \\frac{{\\epsilon_i^*}^2 }{K+1} \\times \\frac{h_i}{1-h_i}\n",
    "$$ \n",
    "\n",
    "Notice that this is a multiplication of something that measures the outlier-ness of the observation (the bit on the \n",
    "left), and something that measures the leverage of the observation (the bit on the right). In other words, in order to have a large Cook's distance, an observation must be a fairly substantial outlier *and* have high leverage."
   ]
  },
  {
   "attachments": {},
   "cell_type": "markdown",
   "id": "4b132160",
   "metadata": {},
   "source": [
    "Again, if you want to quantify Cook's distance, this can be done using using `statsmodels.api`. I won't go through this in detail, but if you are interested, you can click to show the code, and see how I got the Cook's distance values from `statmodels`."
   ]
  },
  {
   "cell_type": "code",
   "execution_count": 37,
   "id": "fbb75951",
   "metadata": {
    "tags": [
     "hide-input"
    ]
   },
   "outputs": [],
   "source": [
    "import seaborn as sns\n",
    "import statsmodels.api as sm\n",
    "\n",
    "# Define a figure with two panels\n",
    "fig, axes = plt.subplots(1, 2, figsize=(8, 5))\n",
    "\n",
    "# Define our made-up data\n",
    "df = pd.DataFrame(\n",
    "    {'x': [1, 1.3, 1.8, 1.9, 2.4, 2.3, 2.4, 2.6, 2.8, 3.6, 4, 8],\n",
    "     'y': [1.5, 1.4, 1.9, 1.7, 2.3, 2.1, 2.6, 2.8, 2.4, 2.6, 2.8, 7.8],\n",
    "     'y2': [1.5, 1.4, 1.9, 1.7, 4, 2.1, 2.6, 2.8, 2.4, 2.6, 2.8, 5]\n",
    "    })\n",
    "\n",
    "# Get Cook's distance\n",
    "\n",
    "# model the data using statsmodels.api OLS (ordinary least squares)\n",
    "model = sm.OLS(df['y2'], df['x'])\n",
    "results = model.fit()\n",
    "\n",
    "# extract cook's distance\n",
    "influence = results.get_influence()\n",
    "cooks = influence.cooks_distance\n",
    "\n",
    "# for plotting, make a dataframe with the x data, and the corresponding cook's distances\n",
    "df_cooks = pd.DataFrame(\n",
    "    {'x': df['x'],\n",
    "     'y': cooks[0]\n",
    "    })\n",
    "\n",
    "# Panel A\n",
    "\n",
    "# plot Cook's distance against the x data points\n",
    "sns.scatterplot(data = df_cooks, x = 'x', y = 'y', ax = axes[0])\n",
    "axes[0].axhline(y=1, color='gray', linestyle='--')\n",
    "axes[0].axhline(y= 4/len(df['x']), color='gray', linestyle='--')\n",
    "\n",
    "\n",
    "\n",
    "# Panel B (same as before)\n",
    "\n",
    "df = pd.DataFrame(\n",
    "    {'x': [1, 1.3, 1.8, 1.9, 2.4, 2.3, 2.4, 2.6, 2.8, 3.6, 4, 8],\n",
    "     'y': [1.5, 1.4, 1.9, 1.7, 2.3, 2.1, 2.6, 2.8, 2.4, 2.6, 2.8, 7.8],\n",
    "     'y2': [1.5, 1.4, 1.9, 1.7, 4, 2.1, 2.6, 2.8, 2.4, 2.6, 2.8, 5]\n",
    "    })\n",
    "\n",
    "\n",
    "\n",
    "# fit linear regression model and save parameters\n",
    "def func(x, a, b):\n",
    "    return a * x + b\n",
    "\n",
    "\n",
    "# first regression line\n",
    "initialParameters = np.array([1.0, 1.0])\n",
    "\n",
    "fittedParameters, pcov = curve_fit(func, df['x'], df['y'], initialParameters)\n",
    "\n",
    "modelPredictions = func(df['x'], *fittedParameters) \n",
    "\n",
    "xModel = np.linspace(min(df['x']), max(df['x']))\n",
    "yModel = func(xModel, *fittedParameters)\n",
    "\n",
    "\n",
    "# plot data points\n",
    "sns.scatterplot(data = df, x='x', y='y', ax = axes[1])\n",
    "\n",
    "# plot first regression line\n",
    "axes[1].plot(xModel, yModel)\n",
    "\n",
    "\n",
    "# second regression line\n",
    "\n",
    "initialParameters = np.array([1.0, 1.0])\n",
    "\n",
    "fittedParameters, pcov = curve_fit(func, df['x'], df['y2'], initialParameters)\n",
    "\n",
    "modelPredictions = func(df['x'], *fittedParameters) \n",
    "\n",
    "xModel = np.linspace(min(df['x']), max(df['x']))\n",
    "yModel = func(xModel, *fittedParameters)\n",
    "\n",
    "axes[1].plot(xModel, yModel)\n",
    "\n",
    "# add red point to show \"outlier\"\n",
    "axes[1].plot(8, 5, 'ro')\n",
    "\n",
    "# add dashed line to show change in residual\n",
    "axes[1].plot([8, 8], [5 ,7.3], linestyle='dashed')\n",
    "axes[1].grid(False)\n",
    "\n",
    "# add letter labels\n",
    "for n, ax in enumerate(axes):   \n",
    "    ax.text(-0.1, 1.1, string.ascii_uppercase[n], transform=ax.transAxes, \n",
    "            size=20)\n",
    "\n",
    "# prettify\n",
    "sns.despine()\n",
    "for ax in axes:\n",
    "    ax.grid(False)\n",
    "plt.close()\n",
    "glue(\"cooks-fig\", fig, display=False)"
   ]
  },
  {
   "attachments": {},
   "cell_type": "markdown",
   "id": "e2664025",
   "metadata": {},
   "source": [
    " ```{glue:figure} cooks-fig\n",
    ":figwidth: 600px\n",
    ":name: fig-cooks\n",
    "\n",
    "A visualization of Cook's distance as a means for identifying the influence of each data point. Panel B is the same as panel B in {numref}`fig-leverage-influence` above. The red dot show the effect on the entire regression line that sinking the final point from 7.4 to 5 has. Panel A shows Cook's distance for the data set in which the data point at x = 8 is 5 (the orange line). The dashed lines show two possible cutoff points for a \"large\" Cook's distance: either 1 or 4/N, in which N is the number of data points.\n",
    "\n",
    "```"
   ]
  },
  {
   "attachments": {},
   "cell_type": "markdown",
   "id": "5c0c4ecb",
   "metadata": {},
   "source": [
    "As a rough guide, Cook's distance greater than 1 is often considered large (that's what I typically use as a quick and dirty rule), though a quick scan of the internet and a few papers suggests that $4/N$ has also been suggested as a possible rule of thumb. As the visualization in {numref}`fig-cooks` illustrates, the red data point at x = 8 has a large Cook's distance."
   ]
  },
  {
   "attachments": {},
   "cell_type": "markdown",
   "id": "e0ecd657",
   "metadata": {},
   "source": [
    "An obvious question to ask next is, if you do have large values of Cook's distance, what should you do? As always, there's no hard and fast rules. Probably the first thing to do is to try running the regression with that point excluded and see what happens to the model performance and to the regression coefficients. If they really are substantially different, it's time to start digging into your data set and your notes that you no doubt were scribbling as your ran your study; try to figure out *why* the point is so different. If you start to become convinced that this one data point is badly distorting your results, you might consider excluding it, but that's less than ideal unless you have a solid explanation for why this particular case is qualitatively different from the others and therefore deserves to be handled separately.[^noterobust] To give an example, let's delete the observation from day 64, the observation with the largest Cook's distance for the `mod2` model, where we predicted my grumpiness on the basis of my sleep, and my baby's sleep.\n",
    "\n",
    "[^noterobust]: An alternative is to run a \"robust regression\"; I might discuss robust regression in a later version of this book, but I don't promise."
   ]
  },
  {
   "attachments": {},
   "cell_type": "markdown",
   "id": "95401e5b",
   "metadata": {},
   "source": [
    "First, let's get back to the original sleep data, and remind ourselves of what our model coefficients looked like:"
   ]
  },
  {
   "cell_type": "code",
   "execution_count": 38,
   "id": "cef42308",
   "metadata": {},
   "outputs": [
    {
     "data": {
      "text/html": [
       "<div>\n",
       "<style scoped>\n",
       "    .dataframe tbody tr th:only-of-type {\n",
       "        vertical-align: middle;\n",
       "    }\n",
       "\n",
       "    .dataframe tbody tr th {\n",
       "        vertical-align: top;\n",
       "    }\n",
       "\n",
       "    .dataframe thead th {\n",
       "        text-align: right;\n",
       "    }\n",
       "</style>\n",
       "<table border=\"1\" class=\"dataframe\">\n",
       "  <thead>\n",
       "    <tr style=\"text-align: right;\">\n",
       "      <th></th>\n",
       "      <th>names</th>\n",
       "      <th>coef</th>\n",
       "      <th>se</th>\n",
       "      <th>T</th>\n",
       "      <th>pval</th>\n",
       "      <th>r2</th>\n",
       "      <th>adj_r2</th>\n",
       "      <th>CI[2.5%]</th>\n",
       "      <th>CI[97.5%]</th>\n",
       "    </tr>\n",
       "  </thead>\n",
       "  <tbody>\n",
       "    <tr>\n",
       "      <th>0</th>\n",
       "      <td>Intercept</td>\n",
       "      <td>125.97</td>\n",
       "      <td>3.04</td>\n",
       "      <td>41.42</td>\n",
       "      <td>0.00</td>\n",
       "      <td>0.82</td>\n",
       "      <td>0.81</td>\n",
       "      <td>119.93</td>\n",
       "      <td>132.00</td>\n",
       "    </tr>\n",
       "    <tr>\n",
       "      <th>1</th>\n",
       "      <td>dan_sleep</td>\n",
       "      <td>-8.95</td>\n",
       "      <td>0.55</td>\n",
       "      <td>-16.17</td>\n",
       "      <td>0.00</td>\n",
       "      <td>0.82</td>\n",
       "      <td>0.81</td>\n",
       "      <td>-10.05</td>\n",
       "      <td>-7.85</td>\n",
       "    </tr>\n",
       "    <tr>\n",
       "      <th>2</th>\n",
       "      <td>baby_sleep</td>\n",
       "      <td>0.01</td>\n",
       "      <td>0.27</td>\n",
       "      <td>0.04</td>\n",
       "      <td>0.97</td>\n",
       "      <td>0.82</td>\n",
       "      <td>0.81</td>\n",
       "      <td>-0.53</td>\n",
       "      <td>0.55</td>\n",
       "    </tr>\n",
       "  </tbody>\n",
       "</table>\n",
       "</div>"
      ],
      "text/plain": [
       "        names    coef    se      T  pval    r2  adj_r2  CI[2.5%]  CI[97.5%]\n",
       "0   Intercept  125.97  3.04  41.42  0.00  0.82    0.81    119.93     132.00\n",
       "1   dan_sleep   -8.95  0.55 -16.17  0.00  0.82    0.81    -10.05      -7.85\n",
       "2  baby_sleep    0.01  0.27   0.04  0.97  0.82    0.81     -0.53       0.55"
      ]
     },
     "execution_count": 38,
     "metadata": {},
     "output_type": "execute_result"
    }
   ],
   "source": [
    "import pandas as pd\n",
    "import pingouin as pg\n",
    "\n",
    "file = 'https://raw.githubusercontent.com/ethanweed/pythonbook/main/Data/parenthood.csv'\n",
    "df = pd.read_csv(file)\n",
    "\n",
    "predictors = df[['dan_sleep', 'baby_sleep']]\n",
    "outcome = df['dan_grump']\n",
    "\n",
    "mod2 = pg.linear_regression(predictors, outcome)\n",
    "mod2.round(2)"
   ]
  },
  {
   "attachments": {},
   "cell_type": "markdown",
   "id": "84576f7f",
   "metadata": {},
   "source": [
    "Then, we can remove the data from day 64, using the `drop()` method from `pandas`. Remember, as always, it's Python, and Python is zero-indexed, so it starts counting the days at 0 and not 1, and that means that day 64 is on row 63!"
   ]
  },
  {
   "cell_type": "code",
   "execution_count": 39,
   "id": "41f92756",
   "metadata": {},
   "outputs": [],
   "source": [
    "df_2 = df.drop(63)"
   ]
  },
  {
   "cell_type": "code",
   "execution_count": 40,
   "id": "d0b77749",
   "metadata": {},
   "outputs": [
    {
     "data": {
      "text/html": [
       "<div>\n",
       "<style scoped>\n",
       "    .dataframe tbody tr th:only-of-type {\n",
       "        vertical-align: middle;\n",
       "    }\n",
       "\n",
       "    .dataframe tbody tr th {\n",
       "        vertical-align: top;\n",
       "    }\n",
       "\n",
       "    .dataframe thead th {\n",
       "        text-align: right;\n",
       "    }\n",
       "</style>\n",
       "<table border=\"1\" class=\"dataframe\">\n",
       "  <thead>\n",
       "    <tr style=\"text-align: right;\">\n",
       "      <th></th>\n",
       "      <th>names</th>\n",
       "      <th>coef</th>\n",
       "      <th>se</th>\n",
       "      <th>T</th>\n",
       "      <th>pval</th>\n",
       "      <th>r2</th>\n",
       "      <th>adj_r2</th>\n",
       "      <th>CI[2.5%]</th>\n",
       "      <th>CI[97.5%]</th>\n",
       "    </tr>\n",
       "  </thead>\n",
       "  <tbody>\n",
       "    <tr>\n",
       "      <th>0</th>\n",
       "      <td>Intercept</td>\n",
       "      <td>126.36</td>\n",
       "      <td>3.00</td>\n",
       "      <td>42.19</td>\n",
       "      <td>0.00</td>\n",
       "      <td>0.82</td>\n",
       "      <td>0.82</td>\n",
       "      <td>120.41</td>\n",
       "      <td>132.30</td>\n",
       "    </tr>\n",
       "    <tr>\n",
       "      <th>1</th>\n",
       "      <td>dan_sleep</td>\n",
       "      <td>-8.83</td>\n",
       "      <td>0.55</td>\n",
       "      <td>-16.13</td>\n",
       "      <td>0.00</td>\n",
       "      <td>0.82</td>\n",
       "      <td>0.82</td>\n",
       "      <td>-9.91</td>\n",
       "      <td>-7.74</td>\n",
       "    </tr>\n",
       "    <tr>\n",
       "      <th>2</th>\n",
       "      <td>baby_sleep</td>\n",
       "      <td>-0.13</td>\n",
       "      <td>0.28</td>\n",
       "      <td>-0.48</td>\n",
       "      <td>0.63</td>\n",
       "      <td>0.82</td>\n",
       "      <td>0.82</td>\n",
       "      <td>-0.68</td>\n",
       "      <td>0.41</td>\n",
       "    </tr>\n",
       "  </tbody>\n",
       "</table>\n",
       "</div>"
      ],
      "text/plain": [
       "        names    coef    se      T  pval    r2  adj_r2  CI[2.5%]  CI[97.5%]\n",
       "0   Intercept  126.36  3.00  42.19  0.00  0.82    0.82    120.41     132.30\n",
       "1   dan_sleep   -8.83  0.55 -16.13  0.00  0.82    0.82     -9.91      -7.74\n",
       "2  baby_sleep   -0.13  0.28  -0.48  0.63  0.82    0.82     -0.68       0.41"
      ]
     },
     "execution_count": 40,
     "metadata": {},
     "output_type": "execute_result"
    }
   ],
   "source": [
    "predictors = df_2[['dan_sleep', 'baby_sleep']]\n",
    "outcome = df_2['dan_grump']\n",
    "\n",
    "mod2 = pg.linear_regression(predictors, outcome)\n",
    "mod2.round(2)"
   ]
  },
  {
   "attachments": {},
   "cell_type": "markdown",
   "id": "d8025450",
   "metadata": {},
   "source": [
    "As you can see, those regression coefficients have barely changed in comparison to the values we got earlier. In other words, we really don't have any problem as far as anomalous data are concerned."
   ]
  },
  {
   "attachments": {},
   "cell_type": "markdown",
   "id": "5e354965",
   "metadata": {},
   "source": [
    "(regressionnormality)=\n",
    "### Checking the normality of the residuals\n",
    "\n",
    "Like many of the statistical tools we've discussed in this book, regression models rely on a normality assumption. In this case, we assume that the residuals are normally distributed. The tools for testing this aren't fundamentally different to those that we discussed [earlier](shapiro). First, I firmly believe that it never hurts to draw a good old-fashioned histogram:"
   ]
  },
  {
   "cell_type": "code",
   "execution_count": 41,
   "id": "09e7adf8",
   "metadata": {
    "tags": [
     "hide-input"
    ]
   },
   "outputs": [],
   "source": [
    "import pandas as pd\n",
    "import pingouin as pg\n",
    "import seaborn as sns\n",
    "\n",
    "res = mod2.residuals_\n",
    "res = pd.DataFrame(res, columns = ['Residuals'])\n",
    "\n",
    "fig = plt.figure()\n",
    "\n",
    "ax = sns.histplot(data = res, x = 'Residuals')\n",
    "ax.grid(False)\n",
    "sns.despine()\n",
    "plt.close()\n",
    "glue(\"res-hist-fig\", fig, display=False)"
   ]
  },
  {
   "attachments": {},
   "cell_type": "markdown",
   "id": "2b6d8383",
   "metadata": {},
   "source": [
    " ```{glue:figure} res-hist-fig\n",
    ":figwidth: 600px\n",
    ":name: fig-res-hist\n",
    "\n",
    "A histogram of the (ordinary) residuals in the `mod2` model. These residuals look very close to being normally distributed, much moreso than is typically seen with real data. This shouldn’t surprise you... they aren’t real data, and they aren’t real residuals!\n",
    "\n",
    "```"
   ]
  },
  {
   "attachments": {},
   "cell_type": "markdown",
   "id": "2f56983c",
   "metadata": {},
   "source": [
    "The resulting plot is shown in {numref}`fig-res-hist`, and as you can see the plot looks pretty damn close to normal, almost unnaturally so. I could also run a Shapiro-Wilk test to check, using the `normality` function from `pingouin`:"
   ]
  },
  {
   "cell_type": "code",
   "execution_count": 42,
   "id": "b566420f",
   "metadata": {},
   "outputs": [
    {
     "data": {
      "text/html": [
       "<div>\n",
       "<style scoped>\n",
       "    .dataframe tbody tr th:only-of-type {\n",
       "        vertical-align: middle;\n",
       "    }\n",
       "\n",
       "    .dataframe tbody tr th {\n",
       "        vertical-align: top;\n",
       "    }\n",
       "\n",
       "    .dataframe thead th {\n",
       "        text-align: right;\n",
       "    }\n",
       "</style>\n",
       "<table border=\"1\" class=\"dataframe\">\n",
       "  <thead>\n",
       "    <tr style=\"text-align: right;\">\n",
       "      <th></th>\n",
       "      <th>W</th>\n",
       "      <th>pval</th>\n",
       "      <th>normal</th>\n",
       "    </tr>\n",
       "  </thead>\n",
       "  <tbody>\n",
       "    <tr>\n",
       "      <th>Residuals</th>\n",
       "      <td>0.99</td>\n",
       "      <td>0.82</td>\n",
       "      <td>True</td>\n",
       "    </tr>\n",
       "  </tbody>\n",
       "</table>\n",
       "</div>"
      ],
      "text/plain": [
       "              W  pval  normal\n",
       "Residuals  0.99  0.82    True"
      ]
     },
     "execution_count": 42,
     "metadata": {},
     "output_type": "execute_result"
    }
   ],
   "source": [
    "sw = pg.normality(res, method = 'shapiro')\n",
    "sw.round(2)"
   ]
  },
  {
   "attachments": {},
   "cell_type": "markdown",
   "id": "a9593ad0",
   "metadata": {},
   "source": [
    "The W value of .99, at this sample size, is non-significant ($p$ = .82), again suggesting that the normality assumption isn’t in any danger here. As a third measure, we might also want to draw a QQ-plot. This can be most easily done using the `qqplot` function from `statsmodels.api`:"
   ]
  },
  {
   "cell_type": "code",
   "execution_count": 43,
   "id": "a75c505c",
   "metadata": {},
   "outputs": [
    {
     "data": {
      "image/png": "[encoded data removed]",
      "text/plain": [
       "<Figure size 640x480 with 1 Axes>"
      ]
     },
     "metadata": {},
     "output_type": "display_data"
    }
   ],
   "source": [
    "import statsmodels.api as sm\n",
    "\n",
    "\n",
    "sm.qqplot(res['Residuals'], line = 's')\n",
    "sns.despine()\n"
   ]
  },
  {
   "attachments": {},
   "cell_type": "markdown",
   "id": "f94bc8ba",
   "metadata": {},
   "source": [
    " ```{glue:figure} qq-fig\n",
    ":figwidth: 600px\n",
    ":name: fig-qq\n",
    "\n",
    "A Q-Q (quantile-quantile) plot, the theoretical quantiles according to the model, against the quantiles of the standardised residuals.\n",
    "\n",
    "```"
   ]
  },
  {
   "attachments": {},
   "cell_type": "markdown",
   "id": "2077e62d",
   "metadata": {},
   "source": [
    "If our residuals were _perfectly_ normally distributed, then they would lie right on the red line. These residuals veer off a little at the ends, but again, pretty damn close, so the Q-Q plot further confirms our conviction based on the histogram and the Shapiro-Wilk test, that it is appropriate to model these data with a linear regression.\n",
    "\n",
    "A little note: Q-Q plots are often created by plotting the quantiles of the _standardized_ residuals against the theoretical quantiles. Since using Q-Q plots for assessing normality is basically a matter of squinting at the plot at getting a _feeling_, based on your great experience of squinting at plots, for whether the data _seem_ normal enough, it probably doesn't matter so much which way you do it. Below you can see a side-by-side comparison of a Q-Q plot of the ordinary (left) and standardized (right) residuals. Honestly, they look about the same to me, and you can get the ordinary residuals straight from `pingouin`, without needing to invoke `statsmodels`."
   ]
  },
  {
   "cell_type": "code",
   "execution_count": 44,
   "id": "20d8719d",
   "metadata": {
    "tags": [
     "hide-input"
    ]
   },
   "outputs": [
    {
     "data": {
      "image/png": "[encoded data removed]",
      "text/plain": [
       "<Figure size 1500x500 with 2 Axes>"
      ]
     },
     "metadata": {},
     "output_type": "display_data"
    }
   ],
   "source": [
    "# Define a figure with two panels\n",
    "import matplotlib.pyplot as plt\n",
    "\n",
    "fig, axes = plt.subplots(1, 2, figsize=(15, 5))\n",
    "\n",
    "res_standard = pd.DataFrame(res_standard, columns = ['Standardized_Residuals'])\n",
    "\n",
    "sm.qqplot(res['Residuals'], line = 's', ax = axes[0])\n",
    "sm.qqplot(res_standard['Standardized_Residuals'], line = 's', ax = axes[1])\n",
    "\n",
    "axes[0].set_title('Ordinary residuals')\n",
    "axes[1].set_title('Standardized residuals')\n",
    "\n",
    "for ax in axes:\n",
    "    ax.grid(False)\n",
    "\n",
    "sns.despine()"
   ]
  },
  {
   "attachments": {},
   "cell_type": "markdown",
   "id": "49829d8d",
   "metadata": {},
   "source": [
    "(regressionlinearity)=\n",
    "### Checking the linearity of the relationship\n",
    "\n",
    "The third thing we might want to test is the linearity of the relationships between the predictors and\n",
    "the outcomes. There’s a few different things that you might want to do in order to check this. Firstly, it\n",
    "never hurts to just plot the relationship between the fitted values Yˆi and the observed values Yi for the\n",
    "outcome variable, as illustrated in {numref}`fig-fitted_v_observed`."
   ]
  },
  {
   "cell_type": "code",
   "execution_count": 45,
   "id": "55be1b48",
   "metadata": {
    "tags": [
     "hide-input"
    ]
   },
   "outputs": [],
   "source": [
    "predictors = df_2[['dan_sleep', 'baby_sleep']]\n",
    "outcome = df_2['dan_grump']\n",
    "\n",
    "mod2 = pg.linear_regression(predictors, outcome, as_dataframe = False)\n",
    "\n",
    "df_res_pred = pd.DataFrame(\n",
    "    {'observed': outcome,\n",
    "     'fitted': mod2['pred']\n",
    "    })\n",
    "\n",
    "fig = plt.figure()\n",
    "\n",
    "ax=sns.scatterplot(data = df_res_pred, x = 'fitted', y = 'observed')\n",
    "ax.grid(False)\n",
    "sns.despine()\n",
    "plt.close()\n",
    "glue(\"fitted_v_observed-fig\", fig, display=False)"
   ]
  },
  {
   "attachments": {},
   "cell_type": "markdown",
   "id": "cd7ce4ef",
   "metadata": {},
   "source": [
    " ```{glue:figure} fitted_v_observed-fig\n",
    ":figwidth: 600px\n",
    ":name: fig-fitted_v_observed\n",
    "\n",
    "Plot of the fitted values against the observed values of the outcome variable. A straight line is what we’re hoping to see here. This looks pretty good, suggesting that there’s nothing grossly wrong, but there could be hidden subtle issues.\n",
    "\n",
    "```\n"
   ]
  },
  {
   "attachments": {},
   "cell_type": "markdown",
   "id": "ab1b5312",
   "metadata": {},
   "source": [
    "\n",
    "One of the reasons I like to draw these plots is that they give you a kind of “big picture view”. If this plot looks approximately linear, then we’re probably not doing too badly (though that’s not to say that there aren’t problems). However, if you can see big departures from linearity here, then it strongly suggests that you need to make some changes.\n",
    "\n",
    "In any case, in order to get a more detailed picture it’s often more informative to look at the relationship between the fitted values and the residuals themselves. Let's take a look. Here, we use the `regplot` function from `seaborn`, and rather than a straight line through all the points, we can ask Python to compute a \"locally-weighed linear linear\" regression, by setting the argument `lowess` to `True`. This gives us a sort of moving window, as Python fits a series of little regressions as it moves through the data. If the relationship in our data is truly linear, then we should see a straight, perfectly horizontal line. There’s some hint of curvature here, but it’s not clear whether or not we be concerned. "
   ]
  },
  {
   "cell_type": "code",
   "execution_count": 46,
   "id": "e2586aee",
   "metadata": {},
   "outputs": [
    {
     "data": {
      "image/png": "[encoded data removed]",
      "text/plain": [
       "<Figure size 640x480 with 1 Axes>"
      ]
     },
     "metadata": {},
     "output_type": "display_data"
    }
   ],
   "source": [
    "df_res_pred['residuals'] = res['Residuals']\n",
    "\n",
    "fig = plt.figure()\n",
    "\n",
    "ax=sns.regplot(data = df_res_pred, x = 'fitted', y = 'residuals', lowess=True)\n",
    "#ax=sns.scatterplot(data = df_res_pred, x = 'fitted', y = 'residuals')\n",
    "ax.grid(False)\n",
    "sns.despine()\n",
    "#plt.close()\n",
    "#glue(\"fitted_v_observed-fig\", fig, display=False)"
   ]
  }
 ],
 "metadata": {
  "celltoolbar": "Tags",
  "kernelspec": {
   "display_name": "Python 3 (ipykernel)",
   "language": "python",
   "name": "python3"
  },
  "language_info": {
   "codemirror_mode": {
    "name": "ipython",
    "version": 3
   },
   "file_extension": ".py",
   "mimetype": "text/x-python",
   "name": "python",
   "nbconvert_exporter": "python",
   "pygments_lexer": "ipython3",
   "version": "3.11.3"
  }
 },
 "nbformat": 4,
 "nbformat_minor": 5
}